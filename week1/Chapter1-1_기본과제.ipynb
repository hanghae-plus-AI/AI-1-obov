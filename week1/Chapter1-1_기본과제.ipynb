{
  "cells": [
    {
      "cell_type": "markdown",
      "metadata": {
        "colab_type": "text",
        "id": "view-in-github"
      },
      "source": [
        "<a href=\"https://colab.research.google.com/github/obov/mnist/blob/main/1_3_MNIST.ipynb\" target=\"_parent\"><img src=\"https://colab.research.google.com/assets/colab-badge.svg\" alt=\"Open In Colab\"/></a>\n"
      ]
    },
    {
      "cell_type": "markdown",
      "metadata": {
        "id": "OPJenlrhihrh"
      },
      "source": [
        "# Chapter 1 - 1 기본과제\n"
      ]
    },
    {
      "cell_type": "code",
      "execution_count": 1,
      "metadata": {
        "id": "6lXVfXoDtoQh"
      },
      "outputs": [],
      "source": [
        "import torch\n",
        "import torchvision\n",
        "import torchvision.transforms as transforms"
      ]
    },
    {
      "cell_type": "code",
      "execution_count": 2,
      "metadata": {
        "colab": {
          "base_uri": "https://localhost:8080/"
        },
        "id": "KAYlqPaRt6ti",
        "outputId": "67e51d96-85b4-4129-efc8-7938006afdd4"
      },
      "outputs": [],
      "source": [
        "transform = transforms.ToTensor()\n",
        "\n",
        "trainset = torchvision.datasets.MNIST(\n",
        "    root=\"./data\", train=True, download=True, transform=transform\n",
        ")"
      ]
    },
    {
      "cell_type": "code",
      "execution_count": 3,
      "metadata": {
        "colab": {
          "base_uri": "https://localhost:8080/",
          "height": 481
        },
        "id": "Zsp3sHmojyhT",
        "outputId": "3511bb75-e677-4fb8-894b-69e22c80f4bc"
      },
      "outputs": [
        {
          "name": "stdout",
          "output_type": "stream",
          "text": [
            "60000\n",
            "torch.Size([1, 28, 28]) 5\n"
          ]
        },
        {
          "data": {
            "text/plain": [
              "<matplotlib.image.AxesImage at 0x12f91f4d0>"
            ]
          },
          "execution_count": 3,
          "metadata": {},
          "output_type": "execute_result"
        },
        {
          "data": {
            "image/png": "[encoded data removed]",
            "text/plain": [
              "<Figure size 640x480 with 1 Axes>"
            ]
          },
          "metadata": {},
          "output_type": "display_data"
        }
      ],
      "source": [
        "from matplotlib import pyplot as plt\n",
        "\n",
        "\n",
        "print(len(trainset))\n",
        "print(trainset[0][0].shape, trainset[0][1])\n",
        "plt.imshow(trainset[0][0][0], cmap=\"gray\")"
      ]
    },
    {
      "cell_type": "code",
      "execution_count": 4,
      "metadata": {
        "id": "UxKu3kA2i5WH"
      },
      "outputs": [],
      "source": [
        "from torch.utils.data import Subset\n",
        "\n",
        "\n",
        "batch_size = 256\n",
        "# 0부터 47999까지는 훈련용, 48000부터 59999까지는 검증용으로 설정\n",
        "train_indices = list(range(48000))\n",
        "val_indices = list(range(48000, 60000))\n",
        "\n",
        "train_dataset = Subset(trainset, train_indices)\n",
        "val_dataset = Subset(trainset, val_indices)\n",
        "\n",
        "train_loader = torch.utils.data.DataLoader(\n",
        "    train_dataset, batch_size=batch_size, shuffle=True\n",
        ")\n",
        "val_loader = torch.utils.data.DataLoader(\n",
        "    val_dataset, batch_size=batch_size, shuffle=False\n",
        ")"
      ]
    },
    {
      "cell_type": "code",
      "execution_count": 5,
      "metadata": {
        "colab": {
          "base_uri": "https://localhost:8080/"
        },
        "id": "_Hd7XxyAvVNz",
        "outputId": "185acb61-2ed7-4110-b325-c0e016ca60b0"
      },
      "outputs": [
        {
          "name": "stdout",
          "output_type": "stream",
          "text": [
            "torch.Size([256, 1, 28, 28]) torch.Size([256])\n"
          ]
        }
      ],
      "source": [
        "dataiter = iter(train_loader)\n",
        "images, labels = next(dataiter)\n",
        "print(images.shape, labels.shape)"
      ]
    },
    {
      "cell_type": "code",
      "execution_count": 6,
      "metadata": {
        "id": "OLOA-ZGTuVVG"
      },
      "outputs": [],
      "source": [
        "from torch import nn\n",
        "\n",
        "output_dim = 10\n",
        "\n",
        "\n",
        "class Model(nn.Module):\n",
        "    def __init__(self, input_dim, n_dim):\n",
        "        super().__init__()\n",
        "\n",
        "        self.layer1 = nn.Linear(input_dim, n_dim)\n",
        "        self.layer2 = nn.Linear(n_dim, n_dim)\n",
        "        self.layer3 = nn.Linear(n_dim, output_dim)\n",
        "\n",
        "        self.act = nn.ReLU()\n",
        "\n",
        "    def forward(self, x):\n",
        "        x = torch.flatten(x, start_dim=1)\n",
        "        x = self.act(self.layer1(x))\n",
        "        x = self.act(self.layer2(x))\n",
        "        x = self.layer3(x)  # 마지막 레이어에서는 활성화 함수 필요 없음\n",
        "\n",
        "        return x\n",
        "\n",
        "\n",
        "model = Model(28 * 28 * 1, 1024)"
      ]
    },
    {
      "cell_type": "code",
      "execution_count": 7,
      "metadata": {
        "id": "ypS0TcOlvBhZ"
      },
      "outputs": [],
      "source": [
        "from torch.optim import SGD\n",
        "\n",
        "if torch.backends.mps.is_available():\n",
        "    device = torch.device(\"mps\")\n",
        "    model = model.to(device)\n",
        "else:\n",
        "    device = torch.device(\"cpu\")\n",
        "    model = model.to(device)\n",
        "    print(\"MPS를 사용할 수 없습니다. CPU로 실행됩니다.\")\n",
        "\n",
        "lr = 0.001\n",
        "\n",
        "optimizer = SGD(model.parameters(), lr=lr)"
      ]
    },
    {
      "cell_type": "code",
      "execution_count": 8,
      "metadata": {
        "colab": {
          "base_uri": "https://localhost:8080/"
        },
        "id": "TryX1hewvNiB",
        "outputId": "4e4a9282-d49a-40ff-c26c-d00fb7c0af79"
      },
      "outputs": [
        {
          "name": "stdout",
          "output_type": "stream",
          "text": [
            "Epoch   0 | Training Loss: 432.3624 | Accuracy : 14.51%\n",
            "Epoch   0 | Validation Loss: 107.7676 | Accuracy : 14.06%\n",
            "Epoch   1 | Training Loss: 429.9098 | Accuracy : 19.95%\n",
            "Epoch   1 | Validation Loss: 107.1410 | Accuracy : 20.06%\n",
            "Epoch   2 | Training Loss: 427.4341 | Accuracy : 26.68%\n",
            "Epoch   2 | Validation Loss: 106.5011 | Accuracy : 27.20%\n",
            "Epoch   3 | Training Loss: 424.8787 | Accuracy : 35.19%\n",
            "Epoch   3 | Validation Loss: 105.8350 | Accuracy : 36.28%\n",
            "Epoch   4 | Training Loss: 422.1937 | Accuracy : 46.05%\n",
            "Epoch   4 | Validation Loss: 105.1298 | Accuracy : 47.69%\n",
            "Epoch   5 | Training Loss: 419.3332 | Accuracy : 53.13%\n",
            "Epoch   5 | Validation Loss: 104.3730 | Accuracy : 55.12%\n",
            "Epoch   6 | Training Loss: 416.2477 | Accuracy : 57.59%\n",
            "Epoch   6 | Validation Loss: 103.5510 | Accuracy : 59.88%\n",
            "Epoch   7 | Training Loss: 412.8713 | Accuracy : 60.62%\n",
            "Epoch   7 | Validation Loss: 102.6497 | Accuracy : 62.95%\n",
            "Epoch   8 | Training Loss: 409.1515 | Accuracy : 62.79%\n",
            "Epoch   8 | Validation Loss: 101.6549 | Accuracy : 65.24%\n",
            "Epoch   9 | Training Loss: 405.0499 | Accuracy : 64.61%\n",
            "Epoch   9 | Validation Loss: 100.5513 | Accuracy : 66.97%\n",
            "Epoch  10 | Training Loss: 400.4795 | Accuracy : 66.14%\n",
            "Epoch  10 | Validation Loss: 99.3222 | Accuracy : 68.17%\n",
            "Epoch  11 | Training Loss: 395.3706 | Accuracy : 67.31%\n",
            "Epoch  11 | Validation Loss: 97.9497 | Accuracy : 69.23%\n",
            "Epoch  12 | Training Loss: 389.6746 | Accuracy : 68.46%\n",
            "Epoch  12 | Validation Loss: 96.4162 | Accuracy : 70.28%\n",
            "Epoch  13 | Training Loss: 383.2811 | Accuracy : 69.43%\n",
            "Epoch  13 | Validation Loss: 94.7033 | Accuracy : 71.16%\n",
            "Epoch  14 | Training Loss: 376.1913 | Accuracy : 70.38%\n",
            "Epoch  14 | Validation Loss: 92.7967 | Accuracy : 71.90%\n",
            "Epoch  15 | Training Loss: 368.2777 | Accuracy : 71.03%\n",
            "Epoch  15 | Validation Loss: 90.6835 | Accuracy : 72.65%\n",
            "Epoch  16 | Training Loss: 359.5463 | Accuracy : 71.67%\n",
            "Epoch  16 | Validation Loss: 88.3560 | Accuracy : 73.34%\n",
            "Epoch  17 | Training Loss: 349.9859 | Accuracy : 72.18%\n",
            "Epoch  17 | Validation Loss: 85.8127 | Accuracy : 73.87%\n",
            "Epoch  18 | Training Loss: 339.5905 | Accuracy : 72.62%\n",
            "Epoch  18 | Validation Loss: 83.0595 | Accuracy : 74.42%\n",
            "Epoch  19 | Training Loss: 328.3693 | Accuracy : 73.05%\n",
            "Epoch  19 | Validation Loss: 80.1129 | Accuracy : 74.85%\n",
            "Epoch  20 | Training Loss: 316.4751 | Accuracy : 73.52%\n",
            "Epoch  20 | Validation Loss: 77.0031 | Accuracy : 75.22%\n",
            "Epoch  21 | Training Loss: 304.0088 | Accuracy : 74.04%\n",
            "Epoch  21 | Validation Loss: 73.7719 | Accuracy : 75.65%\n",
            "Epoch  22 | Training Loss: 291.1679 | Accuracy : 74.56%\n",
            "Epoch  22 | Validation Loss: 70.4671 | Accuracy : 76.09%\n",
            "Epoch  23 | Training Loss: 278.1830 | Accuracy : 75.12%\n",
            "Epoch  23 | Validation Loss: 67.1498 | Accuracy : 76.70%\n",
            "Epoch  24 | Training Loss: 265.2511 | Accuracy : 75.82%\n",
            "Epoch  24 | Validation Loss: 63.8765 | Accuracy : 77.50%\n",
            "Epoch  25 | Training Loss: 252.6545 | Accuracy : 76.44%\n",
            "Epoch  25 | Validation Loss: 60.7009 | Accuracy : 78.29%\n",
            "Epoch  26 | Training Loss: 240.4931 | Accuracy : 77.14%\n",
            "Epoch  26 | Validation Loss: 57.6668 | Accuracy : 78.92%\n",
            "Epoch  27 | Training Loss: 228.9900 | Accuracy : 77.82%\n",
            "Epoch  27 | Validation Loss: 54.8058 | Accuracy : 79.64%\n",
            "Epoch  28 | Training Loss: 218.1829 | Accuracy : 78.41%\n",
            "Epoch  28 | Validation Loss: 52.1324 | Accuracy : 80.26%\n",
            "Epoch  29 | Training Loss: 208.1672 | Accuracy : 78.98%\n",
            "Epoch  29 | Validation Loss: 49.6584 | Accuracy : 80.94%\n",
            "Epoch  30 | Training Loss: 198.9369 | Accuracy : 79.46%\n",
            "Epoch  30 | Validation Loss: 47.3825 | Accuracy : 81.44%\n",
            "Epoch  31 | Training Loss: 190.3795 | Accuracy : 80.00%\n",
            "Epoch  31 | Validation Loss: 45.2898 | Accuracy : 81.83%\n",
            "Epoch  32 | Training Loss: 182.5468 | Accuracy : 80.37%\n",
            "Epoch  32 | Validation Loss: 43.3788 | Accuracy : 82.11%\n",
            "Epoch  33 | Training Loss: 175.4429 | Accuracy : 80.75%\n",
            "Epoch  33 | Validation Loss: 41.6319 | Accuracy : 82.47%\n",
            "Epoch  34 | Training Loss: 168.8259 | Accuracy : 81.20%\n",
            "Epoch  34 | Validation Loss: 40.0326 | Accuracy : 82.83%\n",
            "Epoch  35 | Training Loss: 162.8587 | Accuracy : 81.47%\n",
            "Epoch  35 | Validation Loss: 38.5678 | Accuracy : 83.13%\n",
            "Epoch  36 | Training Loss: 157.3717 | Accuracy : 81.92%\n",
            "Epoch  36 | Validation Loss: 37.2239 | Accuracy : 83.43%\n",
            "Epoch  37 | Training Loss: 152.3372 | Accuracy : 82.27%\n",
            "Epoch  37 | Validation Loss: 35.9930 | Accuracy : 83.69%\n",
            "Epoch  38 | Training Loss: 147.7267 | Accuracy : 82.56%\n",
            "Epoch  38 | Validation Loss: 34.8632 | Accuracy : 84.11%\n",
            "Epoch  39 | Training Loss: 143.4305 | Accuracy : 82.81%\n",
            "Epoch  39 | Validation Loss: 33.8219 | Accuracy : 84.33%\n",
            "Epoch  40 | Training Loss: 139.5139 | Accuracy : 83.15%\n",
            "Epoch  40 | Validation Loss: 32.8619 | Accuracy : 84.60%\n",
            "Epoch  41 | Training Loss: 135.8819 | Accuracy : 83.39%\n",
            "Epoch  41 | Validation Loss: 31.9727 | Accuracy : 84.89%\n",
            "Epoch  42 | Training Loss: 132.4867 | Accuracy : 83.68%\n",
            "Epoch  42 | Validation Loss: 31.1494 | Accuracy : 85.15%\n",
            "Epoch  43 | Training Loss: 129.3372 | Accuracy : 83.87%\n",
            "Epoch  43 | Validation Loss: 30.3858 | Accuracy : 85.30%\n",
            "Epoch  44 | Training Loss: 126.3873 | Accuracy : 84.09%\n",
            "Epoch  44 | Validation Loss: 29.6777 | Accuracy : 85.49%\n",
            "Epoch  45 | Training Loss: 123.6371 | Accuracy : 84.37%\n",
            "Epoch  45 | Validation Loss: 29.0136 | Accuracy : 85.84%\n",
            "Epoch  46 | Training Loss: 121.0357 | Accuracy : 84.55%\n",
            "Epoch  46 | Validation Loss: 28.3945 | Accuracy : 85.96%\n",
            "Epoch  47 | Training Loss: 118.7058 | Accuracy : 84.71%\n",
            "Epoch  47 | Validation Loss: 27.8154 | Accuracy : 86.14%\n",
            "Epoch  48 | Training Loss: 116.4236 | Accuracy : 84.90%\n",
            "Epoch  48 | Validation Loss: 27.2705 | Accuracy : 86.29%\n",
            "Epoch  49 | Training Loss: 114.3356 | Accuracy : 85.08%\n",
            "Epoch  49 | Validation Loss: 26.7581 | Accuracy : 86.44%\n",
            "Epoch  50 | Training Loss: 112.2913 | Accuracy : 85.21%\n",
            "Epoch  50 | Validation Loss: 26.2779 | Accuracy : 86.51%\n",
            "Epoch  51 | Training Loss: 110.4377 | Accuracy : 85.40%\n",
            "Epoch  51 | Validation Loss: 25.8263 | Accuracy : 86.58%\n",
            "Epoch  52 | Training Loss: 108.7013 | Accuracy : 85.54%\n",
            "Epoch  52 | Validation Loss: 25.3990 | Accuracy : 86.74%\n",
            "Epoch  53 | Training Loss: 106.9390 | Accuracy : 85.73%\n",
            "Epoch  53 | Validation Loss: 24.9933 | Accuracy : 86.86%\n",
            "Epoch  54 | Training Loss: 105.3797 | Accuracy : 85.90%\n",
            "Epoch  54 | Validation Loss: 24.6129 | Accuracy : 86.99%\n",
            "Epoch  55 | Training Loss: 103.8274 | Accuracy : 86.05%\n",
            "Epoch  55 | Validation Loss: 24.2470 | Accuracy : 87.16%\n",
            "Epoch  56 | Training Loss: 102.4233 | Accuracy : 86.18%\n",
            "Epoch  56 | Validation Loss: 23.9058 | Accuracy : 87.30%\n",
            "Epoch  57 | Training Loss: 100.9665 | Accuracy : 86.31%\n",
            "Epoch  57 | Validation Loss: 23.5780 | Accuracy : 87.47%\n",
            "Epoch  58 | Training Loss: 99.7473 | Accuracy : 86.50%\n",
            "Epoch  58 | Validation Loss: 23.2665 | Accuracy : 87.63%\n",
            "Epoch  59 | Training Loss: 98.5748 | Accuracy : 86.61%\n",
            "Epoch  59 | Validation Loss: 22.9707 | Accuracy : 87.72%\n",
            "Epoch  60 | Training Loss: 97.2646 | Accuracy : 86.74%\n",
            "Epoch  60 | Validation Loss: 22.6857 | Accuracy : 87.86%\n",
            "Epoch  61 | Training Loss: 96.1584 | Accuracy : 86.82%\n",
            "Epoch  61 | Validation Loss: 22.4179 | Accuracy : 87.90%\n",
            "Epoch  62 | Training Loss: 95.1170 | Accuracy : 86.96%\n",
            "Epoch  62 | Validation Loss: 22.1590 | Accuracy : 88.02%\n",
            "Epoch  63 | Training Loss: 94.0608 | Accuracy : 87.06%\n",
            "Epoch  63 | Validation Loss: 21.9161 | Accuracy : 88.09%\n",
            "Epoch  64 | Training Loss: 93.0049 | Accuracy : 87.17%\n",
            "Epoch  64 | Validation Loss: 21.6780 | Accuracy : 88.23%\n",
            "Epoch  65 | Training Loss: 92.0368 | Accuracy : 87.25%\n",
            "Epoch  65 | Validation Loss: 21.4501 | Accuracy : 88.31%\n",
            "Epoch  66 | Training Loss: 91.1501 | Accuracy : 87.36%\n",
            "Epoch  66 | Validation Loss: 21.2330 | Accuracy : 88.40%\n",
            "Epoch  67 | Training Loss: 90.3011 | Accuracy : 87.46%\n",
            "Epoch  67 | Validation Loss: 21.0250 | Accuracy : 88.50%\n",
            "Epoch  68 | Training Loss: 89.4135 | Accuracy : 87.53%\n",
            "Epoch  68 | Validation Loss: 20.8267 | Accuracy : 88.53%\n",
            "Epoch  69 | Training Loss: 88.6127 | Accuracy : 87.57%\n",
            "Epoch  69 | Validation Loss: 20.6346 | Accuracy : 88.60%\n",
            "Epoch  70 | Training Loss: 87.7812 | Accuracy : 87.63%\n",
            "Epoch  70 | Validation Loss: 20.4488 | Accuracy : 88.67%\n",
            "Epoch  71 | Training Loss: 87.0495 | Accuracy : 87.74%\n",
            "Epoch  71 | Validation Loss: 20.2710 | Accuracy : 88.76%\n",
            "Epoch  72 | Training Loss: 86.2892 | Accuracy : 87.81%\n",
            "Epoch  72 | Validation Loss: 20.0990 | Accuracy : 88.85%\n",
            "Epoch  73 | Training Loss: 85.5892 | Accuracy : 87.85%\n",
            "Epoch  73 | Validation Loss: 19.9346 | Accuracy : 88.99%\n",
            "Epoch  74 | Training Loss: 84.9005 | Accuracy : 87.91%\n",
            "Epoch  74 | Validation Loss: 19.7749 | Accuracy : 88.99%\n",
            "Epoch  75 | Training Loss: 84.2952 | Accuracy : 87.99%\n",
            "Epoch  75 | Validation Loss: 19.6188 | Accuracy : 89.13%\n",
            "Epoch  76 | Training Loss: 83.5535 | Accuracy : 88.04%\n",
            "Epoch  76 | Validation Loss: 19.4725 | Accuracy : 89.23%\n",
            "Epoch  77 | Training Loss: 82.9863 | Accuracy : 88.08%\n",
            "Epoch  77 | Validation Loss: 19.3314 | Accuracy : 89.27%\n",
            "Epoch  78 | Training Loss: 82.4111 | Accuracy : 88.15%\n",
            "Epoch  78 | Validation Loss: 19.1896 | Accuracy : 89.32%\n",
            "Epoch  79 | Training Loss: 81.7927 | Accuracy : 88.17%\n",
            "Epoch  79 | Validation Loss: 19.0574 | Accuracy : 89.35%\n",
            "Epoch  80 | Training Loss: 81.2380 | Accuracy : 88.25%\n",
            "Epoch  80 | Validation Loss: 18.9264 | Accuracy : 89.40%\n",
            "Epoch  81 | Training Loss: 80.7660 | Accuracy : 88.32%\n",
            "Epoch  81 | Validation Loss: 18.8028 | Accuracy : 89.45%\n",
            "Epoch  82 | Training Loss: 80.1907 | Accuracy : 88.35%\n",
            "Epoch  82 | Validation Loss: 18.6817 | Accuracy : 89.49%\n",
            "Epoch  83 | Training Loss: 79.6663 | Accuracy : 88.41%\n",
            "Epoch  83 | Validation Loss: 18.5638 | Accuracy : 89.48%\n",
            "Epoch  84 | Training Loss: 79.2171 | Accuracy : 88.50%\n",
            "Epoch  84 | Validation Loss: 18.4473 | Accuracy : 89.54%\n",
            "Epoch  85 | Training Loss: 78.6983 | Accuracy : 88.55%\n",
            "Epoch  85 | Validation Loss: 18.3366 | Accuracy : 89.53%\n",
            "Epoch  86 | Training Loss: 78.2642 | Accuracy : 88.61%\n",
            "Epoch  86 | Validation Loss: 18.2305 | Accuracy : 89.55%\n",
            "Epoch  87 | Training Loss: 77.7662 | Accuracy : 88.68%\n",
            "Epoch  87 | Validation Loss: 18.1250 | Accuracy : 89.59%\n",
            "Epoch  88 | Training Loss: 77.3646 | Accuracy : 88.68%\n",
            "Epoch  88 | Validation Loss: 18.0252 | Accuracy : 89.61%\n",
            "Epoch  89 | Training Loss: 76.8681 | Accuracy : 88.73%\n",
            "Epoch  89 | Validation Loss: 17.9247 | Accuracy : 89.62%\n",
            "Epoch  90 | Training Loss: 76.4391 | Accuracy : 88.81%\n",
            "Epoch  90 | Validation Loss: 17.8299 | Accuracy : 89.69%\n",
            "Epoch  91 | Training Loss: 76.0198 | Accuracy : 88.85%\n",
            "Epoch  91 | Validation Loss: 17.7340 | Accuracy : 89.74%\n",
            "Epoch  92 | Training Loss: 75.6511 | Accuracy : 88.89%\n",
            "Epoch  92 | Validation Loss: 17.6435 | Accuracy : 89.77%\n",
            "Epoch  93 | Training Loss: 75.2625 | Accuracy : 88.93%\n",
            "Epoch  93 | Validation Loss: 17.5558 | Accuracy : 89.78%\n",
            "Epoch  94 | Training Loss: 74.9017 | Accuracy : 88.97%\n",
            "Epoch  94 | Validation Loss: 17.4697 | Accuracy : 89.82%\n",
            "Epoch  95 | Training Loss: 74.5501 | Accuracy : 89.01%\n",
            "Epoch  95 | Validation Loss: 17.3874 | Accuracy : 89.81%\n",
            "Epoch  96 | Training Loss: 74.1677 | Accuracy : 89.05%\n",
            "Epoch  96 | Validation Loss: 17.3026 | Accuracy : 89.88%\n",
            "Epoch  97 | Training Loss: 73.7857 | Accuracy : 89.10%\n",
            "Epoch  97 | Validation Loss: 17.2226 | Accuracy : 89.96%\n",
            "Epoch  98 | Training Loss: 73.4541 | Accuracy : 89.14%\n",
            "Epoch  98 | Validation Loss: 17.1444 | Accuracy : 89.99%\n",
            "Epoch  99 | Training Loss: 73.1067 | Accuracy : 89.18%\n",
            "Epoch  99 | Validation Loss: 17.0692 | Accuracy : 90.00%\n"
          ]
        }
      ],
      "source": [
        "n_epochs = 100\n",
        "\n",
        "import matplotlib.pyplot as plt\n",
        "\n",
        "CEL = nn.CrossEntropyLoss()\n",
        "train_accuracies = []\n",
        "val_accuracies = []\n",
        "\n",
        "\n",
        "def accuracy(model, dataloader):\n",
        "    cnt = 0\n",
        "    acc = 0\n",
        "\n",
        "    for data in dataloader:\n",
        "        inputs, labels = data\n",
        "        inputs, labels = inputs.to(\"mps\"), labels.to(\"mps\")\n",
        "\n",
        "        preds = model(inputs)\n",
        "        preds = torch.argmax(preds, dim=-1)\n",
        "\n",
        "        cnt += labels.shape[0]\n",
        "        acc += (labels == preds).sum().item()\n",
        "\n",
        "    return acc / cnt\n",
        "\n",
        "\n",
        "for epoch in range(n_epochs):\n",
        "    model.train()  # 훈련 모드로 전환\n",
        "    total_loss = 0.0\n",
        "\n",
        "    # 훈련 루프\n",
        "    for data in train_loader:\n",
        "        model.zero_grad()\n",
        "        inputs, labels = data\n",
        "        inputs, labels = inputs.to(\"mps\"), labels.to(\"mps\")\n",
        "\n",
        "        preds = model(inputs)\n",
        "        # loss = (preds[:, 0] - labels).pow(2).mean()\n",
        "        # 손실 계산\n",
        "        loss = CEL(preds, labels)\n",
        "        loss.backward()\n",
        "        optimizer.step()\n",
        "\n",
        "        total_loss += loss.item()\n",
        "    train_accuracy = accuracy(model, train_loader)\n",
        "    train_accuracies.append(train_accuracy)\n",
        "    print(\n",
        "        f\"Epoch {epoch:3d} | Training Loss: {total_loss:.4f} | Accuracy : {train_accuracy:.2%}\"\n",
        "    )\n",
        "\n",
        "    # 검증 루프\n",
        "    model.eval()  # 검증 모드로 전환\n",
        "    val_loss = 0.0\n",
        "    with torch.no_grad():  # 검증할 때는 no_grad()를 사용하여 파라미터 업데이트를 하지 않음\n",
        "        for data in val_loader:\n",
        "            inputs, labels = data\n",
        "            inputs, labels = inputs.to(\"mps\"), labels.to(\"mps\")\n",
        "\n",
        "            preds = model(inputs)\n",
        "            # loss = (preds[:, 0] - labels).pow(2).mean()\n",
        "            # 손실 계산\n",
        "            loss = CEL(preds, labels)\n",
        "\n",
        "            val_loss += loss.item()\n",
        "    val_accuracy = accuracy(model, val_loader)\n",
        "    val_accuracies.append(val_accuracy)\n",
        "    print(\n",
        "        f\"Epoch {epoch:3d} | Validation Loss: {val_loss:.4f} | Accuracy : {val_accuracy:.2%}\"\n",
        "    )"
      ]
    },
    {
      "cell_type": "code",
      "execution_count": 9,
      "metadata": {
        "colab": {
          "base_uri": "https://localhost:8080/"
        },
        "id": "Zct0ssSKwjt1",
        "outputId": "4a8d7062-1a43-4522-895e-cfebb9c02cdb"
      },
      "outputs": [
        {
          "name": "stdout",
          "output_type": "stream",
          "text": [
            "tensor([[ 1.6788, -3.7077,  0.3761,  4.4006, -5.5267,  3.9641, -2.2460, -0.4662,\n",
            "          1.4256, -1.2418]], device='mps:0', grad_fn=<LinearBackward0>)\n",
            "5\n"
          ]
        }
      ],
      "source": [
        "idx = 0\n",
        "\n",
        "x = trainset[idx][0][None]  # (1, 1, 28, 28)\n",
        "x = x.to(\"mps\")\n",
        "\n",
        "print(model(x))\n",
        "print(trainset[idx][1])"
      ]
    },
    {
      "cell_type": "code",
      "execution_count": 10,
      "metadata": {
        "id": "d6M4SpWQoML9"
      },
      "outputs": [
        {
          "data": {
            "image/png": "[encoded data removed]",
            "text/plain": [
              "<Figure size 640x480 with 1 Axes>"
            ]
          },
          "metadata": {},
          "output_type": "display_data"
        }
      ],
      "source": [
        "import numpy as np\n",
        "\n",
        "\n",
        "def plot_acc(train_accs, test_accs, label1=\"train\", label2=\"validate\"):\n",
        "    x = np.arange(len(train_accs))\n",
        "\n",
        "    plt.plot(x, train_accs, label=label1)\n",
        "    plt.plot(x, test_accs, label=label2)\n",
        "    plt.legend()\n",
        "    plt.show()\n",
        "\n",
        "\n",
        "plot_acc(train_accuracies, val_accuracies)"
      ]
    }
  ],
  "metadata": {
    "accelerator": "GPU",
    "colab": {
      "gpuType": "T4",
      "include_colab_link": true,
      "provenance": []
    },
    "kernelspec": {
      "display_name": "Python 3",
      "name": "python3"
    },
    "language_info": {
      "codemirror_mode": {
        "name": "ipython",
        "version": 3
      },
      "file_extension": ".py",
      "mimetype": "text/x-python",
      "name": "python",
      "nbconvert_exporter": "python",
      "pygments_lexer": "ipython3",
      "version": "3.12.4"
    }
  },
  "nbformat": 4,
  "nbformat_minor": 0
}
