{
  "cells": [
    {
      "cell_type": "markdown",
      "metadata": {
        "colab_type": "text",
        "id": "view-in-github"
      },
      "source": [
        "<a href=\"https://colab.research.google.com/github/obov/mnist/blob/main/1_3_MNIST.ipynb\" target=\"_parent\"><img src=\"https://colab.research.google.com/assets/colab-badge.svg\" alt=\"Open In Colab\"/></a>\n"
      ]
    },
    {
      "cell_type": "markdown",
      "metadata": {
        "id": "OPJenlrhihrh"
      },
      "source": [
        "# Chapter 1 - 1 기본과제\n",
        "\n",
        "![](./images/기본_plot.png)\n"
      ]
    },
    {
      "cell_type": "code",
      "execution_count": 1,
      "metadata": {
        "id": "6lXVfXoDtoQh"
      },
      "outputs": [],
      "source": [
        "import torch\n",
        "import torchvision\n",
        "import torchvision.transforms as transforms"
      ]
    },
    {
      "cell_type": "code",
      "execution_count": 2,
      "metadata": {
        "colab": {
          "base_uri": "https://localhost:8080/"
        },
        "id": "KAYlqPaRt6ti",
        "outputId": "67e51d96-85b4-4129-efc8-7938006afdd4"
      },
      "outputs": [
        {
          "name": "stdout",
          "output_type": "stream",
          "text": [
            "Downloading http://yann.lecun.com/exdb/mnist/train-images-idx3-ubyte.gz\n",
            "Failed to download (trying next):\n",
            "HTTP Error 403: Forbidden\n",
            "\n",
            "Downloading https://ossci-datasets.s3.amazonaws.com/mnist/train-images-idx3-ubyte.gz\n",
            "Downloading https://ossci-datasets.s3.amazonaws.com/mnist/train-images-idx3-ubyte.gz to ./data/MNIST/raw/train-images-idx3-ubyte.gz\n"
          ]
        },
        {
          "name": "stderr",
          "output_type": "stream",
          "text": [
            "100.0%\n"
          ]
        },
        {
          "name": "stdout",
          "output_type": "stream",
          "text": [
            "Extracting ./data/MNIST/raw/train-images-idx3-ubyte.gz to ./data/MNIST/raw\n",
            "\n",
            "Downloading http://yann.lecun.com/exdb/mnist/train-labels-idx1-ubyte.gz\n",
            "Failed to download (trying next):\n",
            "HTTP Error 403: Forbidden\n",
            "\n",
            "Downloading https://ossci-datasets.s3.amazonaws.com/mnist/train-labels-idx1-ubyte.gz\n",
            "Downloading https://ossci-datasets.s3.amazonaws.com/mnist/train-labels-idx1-ubyte.gz to ./data/MNIST/raw/train-labels-idx1-ubyte.gz\n"
          ]
        },
        {
          "name": "stderr",
          "output_type": "stream",
          "text": [
            "100.0%\n"
          ]
        },
        {
          "name": "stdout",
          "output_type": "stream",
          "text": [
            "Extracting ./data/MNIST/raw/train-labels-idx1-ubyte.gz to ./data/MNIST/raw\n",
            "\n",
            "Downloading http://yann.lecun.com/exdb/mnist/t10k-images-idx3-ubyte.gz\n",
            "Failed to download (trying next):\n",
            "HTTP Error 403: Forbidden\n",
            "\n",
            "Downloading https://ossci-datasets.s3.amazonaws.com/mnist/t10k-images-idx3-ubyte.gz\n",
            "Downloading https://ossci-datasets.s3.amazonaws.com/mnist/t10k-images-idx3-ubyte.gz to ./data/MNIST/raw/t10k-images-idx3-ubyte.gz\n"
          ]
        },
        {
          "name": "stderr",
          "output_type": "stream",
          "text": [
            "100.0%\n"
          ]
        },
        {
          "name": "stdout",
          "output_type": "stream",
          "text": [
            "Extracting ./data/MNIST/raw/t10k-images-idx3-ubyte.gz to ./data/MNIST/raw\n",
            "\n",
            "Downloading http://yann.lecun.com/exdb/mnist/t10k-labels-idx1-ubyte.gz\n",
            "Failed to download (trying next):\n",
            "HTTP Error 403: Forbidden\n",
            "\n",
            "Downloading https://ossci-datasets.s3.amazonaws.com/mnist/t10k-labels-idx1-ubyte.gz\n",
            "Downloading https://ossci-datasets.s3.amazonaws.com/mnist/t10k-labels-idx1-ubyte.gz to ./data/MNIST/raw/t10k-labels-idx1-ubyte.gz\n"
          ]
        },
        {
          "name": "stderr",
          "output_type": "stream",
          "text": [
            "100.0%"
          ]
        },
        {
          "name": "stdout",
          "output_type": "stream",
          "text": [
            "Extracting ./data/MNIST/raw/t10k-labels-idx1-ubyte.gz to ./data/MNIST/raw\n",
            "\n"
          ]
        },
        {
          "name": "stderr",
          "output_type": "stream",
          "text": [
            "\n"
          ]
        }
      ],
      "source": [
        "transform = transforms.ToTensor()\n",
        "\n",
        "trainset = torchvision.datasets.MNIST(\n",
        "    root=\"./data\", train=True, download=True, transform=transform\n",
        ")"
      ]
    },
    {
      "cell_type": "code",
      "execution_count": 3,
      "metadata": {
        "colab": {
          "base_uri": "https://localhost:8080/",
          "height": 481
        },
        "id": "Zsp3sHmojyhT",
        "outputId": "3511bb75-e677-4fb8-894b-69e22c80f4bc"
      },
      "outputs": [
        {
          "name": "stdout",
          "output_type": "stream",
          "text": [
            "60000\n",
            "torch.Size([1, 28, 28]) 5\n"
          ]
        },
        {
          "data": {
            "text/plain": [
              "<matplotlib.image.AxesImage at 0x137c73680>"
            ]
          },
          "execution_count": 3,
          "metadata": {},
          "output_type": "execute_result"
        },
        {
          "data": {
            "image/png": "[encoded data removed]",
            "text/plain": [
              "<Figure size 640x480 with 1 Axes>"
            ]
          },
          "metadata": {},
          "output_type": "display_data"
        }
      ],
      "source": [
        "from matplotlib import pyplot as plt\n",
        "\n",
        "\n",
        "print(len(trainset))\n",
        "print(trainset[0][0].shape, trainset[0][1])\n",
        "plt.imshow(trainset[0][0][0], cmap=\"gray\")"
      ]
    },
    {
      "cell_type": "code",
      "execution_count": 4,
      "metadata": {
        "id": "UxKu3kA2i5WH"
      },
      "outputs": [],
      "source": [
        "from torch.utils.data import Subset\n",
        "\n",
        "\n",
        "batch_size = 256\n",
        "# 0부터 47999까지는 훈련용, 48000부터 59999까지는 검증용으로 설정\n",
        "train_indices = list(range(48000))\n",
        "val_indices = list(range(48000, 60000))\n",
        "\n",
        "train_dataset = Subset(trainset, train_indices)\n",
        "val_dataset = Subset(trainset, val_indices)\n",
        "\n",
        "train_loader = torch.utils.data.DataLoader(\n",
        "    train_dataset, batch_size=batch_size, shuffle=True\n",
        ")\n",
        "val_loader = torch.utils.data.DataLoader(\n",
        "    val_dataset, batch_size=batch_size, shuffle=False\n",
        ")"
      ]
    },
    {
      "cell_type": "code",
      "execution_count": 5,
      "metadata": {
        "colab": {
          "base_uri": "https://localhost:8080/"
        },
        "id": "_Hd7XxyAvVNz",
        "outputId": "185acb61-2ed7-4110-b325-c0e016ca60b0"
      },
      "outputs": [
        {
          "name": "stdout",
          "output_type": "stream",
          "text": [
            "torch.Size([256, 1, 28, 28]) torch.Size([256])\n"
          ]
        }
      ],
      "source": [
        "dataiter = iter(train_loader)\n",
        "images, labels = next(dataiter)\n",
        "print(images.shape, labels.shape)"
      ]
    },
    {
      "cell_type": "code",
      "execution_count": 6,
      "metadata": {
        "id": "OLOA-ZGTuVVG"
      },
      "outputs": [],
      "source": [
        "from torch import nn\n",
        "\n",
        "output_dim = 10\n",
        "\n",
        "\n",
        "class Model(nn.Module):\n",
        "    def __init__(self, input_dim, n_dim):\n",
        "        super().__init__()\n",
        "\n",
        "        self.layer1 = nn.Linear(input_dim, n_dim)\n",
        "        self.layer2 = nn.Linear(n_dim, n_dim)\n",
        "        self.layer3 = nn.Linear(n_dim, output_dim)\n",
        "\n",
        "        self.act = nn.ReLU()\n",
        "\n",
        "    def forward(self, x):\n",
        "        x = torch.flatten(x, start_dim=1)\n",
        "        x = self.act(self.layer1(x))\n",
        "        x = self.act(self.layer2(x))\n",
        "        x = self.layer3(x)  # 마지막 레이어에서는 활성화 함수 필요 없음\n",
        "\n",
        "        return x\n",
        "\n",
        "\n",
        "model = Model(28 * 28 * 1, 1024)"
      ]
    },
    {
      "cell_type": "code",
      "execution_count": 7,
      "metadata": {
        "id": "ypS0TcOlvBhZ"
      },
      "outputs": [],
      "source": [
        "from torch.optim import SGD\n",
        "\n",
        "if torch.backends.mps.is_available():\n",
        "    device = torch.device(\"mps\")\n",
        "    model = model.to(device)\n",
        "else:\n",
        "    device = torch.device(\"cpu\")\n",
        "    model = model.to(device)\n",
        "    print(\"MPS를 사용할 수 없습니다. CPU로 실행됩니다.\")\n",
        "\n",
        "lr = 0.001\n",
        "\n",
        "optimizer = SGD(model.parameters(), lr=lr)"
      ]
    },
    {
      "cell_type": "code",
      "execution_count": 8,
      "metadata": {
        "colab": {
          "base_uri": "https://localhost:8080/"
        },
        "id": "TryX1hewvNiB",
        "outputId": "4e4a9282-d49a-40ff-c26c-d00fb7c0af79"
      },
      "outputs": [
        {
          "name": "stdout",
          "output_type": "stream",
          "text": [
            "Epoch   0 | Training Loss: 431.4776 | Accuracy : 20.45%\n",
            "Epoch   0 | Validation Loss: 107.5611 | Accuracy : 20.13%\n",
            "Epoch   1 | Training Loss: 429.0634 | Accuracy : 33.00%\n",
            "Epoch   1 | Validation Loss: 106.9434 | Accuracy : 33.13%\n",
            "Epoch   2 | Training Loss: 426.6100 | Accuracy : 41.95%\n",
            "Epoch   2 | Validation Loss: 106.3074 | Accuracy : 42.88%\n",
            "Epoch   3 | Training Loss: 424.0640 | Accuracy : 47.53%\n",
            "Epoch   3 | Validation Loss: 105.6409 | Accuracy : 49.24%\n",
            "Epoch   4 | Training Loss: 421.3558 | Accuracy : 51.46%\n",
            "Epoch   4 | Validation Loss: 104.9308 | Accuracy : 53.47%\n",
            "Epoch   5 | Training Loss: 418.4653 | Accuracy : 54.51%\n",
            "Epoch   5 | Validation Loss: 104.1650 | Accuracy : 56.31%\n",
            "Epoch   6 | Training Loss: 415.3178 | Accuracy : 56.73%\n",
            "Epoch   6 | Validation Loss: 103.3300 | Accuracy : 58.46%\n",
            "Epoch   7 | Training Loss: 411.8704 | Accuracy : 58.73%\n",
            "Epoch   7 | Validation Loss: 102.4123 | Accuracy : 60.46%\n",
            "Epoch   8 | Training Loss: 408.0912 | Accuracy : 60.60%\n",
            "Epoch   8 | Validation Loss: 101.3977 | Accuracy : 62.19%\n",
            "Epoch   9 | Training Loss: 403.8898 | Accuracy : 62.33%\n",
            "Epoch   9 | Validation Loss: 100.2703 | Accuracy : 63.70%\n",
            "Epoch  10 | Training Loss: 399.2188 | Accuracy : 63.98%\n",
            "Epoch  10 | Validation Loss: 99.0136 | Accuracy : 65.24%\n",
            "Epoch  11 | Training Loss: 393.9625 | Accuracy : 65.28%\n",
            "Epoch  11 | Validation Loss: 97.6096 | Accuracy : 66.90%\n",
            "Epoch  12 | Training Loss: 388.1314 | Accuracy : 66.49%\n",
            "Epoch  12 | Validation Loss: 96.0427 | Accuracy : 68.18%\n",
            "Epoch  13 | Training Loss: 381.6136 | Accuracy : 67.71%\n",
            "Epoch  13 | Validation Loss: 94.2960 | Accuracy : 69.57%\n",
            "Epoch  14 | Training Loss: 374.3681 | Accuracy : 68.68%\n",
            "Epoch  14 | Validation Loss: 92.3542 | Accuracy : 70.59%\n",
            "Epoch  15 | Training Loss: 366.3054 | Accuracy : 69.59%\n",
            "Epoch  15 | Validation Loss: 90.2056 | Accuracy : 71.46%\n",
            "Epoch  16 | Training Loss: 357.4213 | Accuracy : 70.41%\n",
            "Epoch  16 | Validation Loss: 87.8427 | Accuracy : 72.28%\n",
            "Epoch  17 | Training Loss: 347.6844 | Accuracy : 71.03%\n",
            "Epoch  17 | Validation Loss: 85.2666 | Accuracy : 72.84%\n",
            "Epoch  18 | Training Loss: 337.1449 | Accuracy : 71.57%\n",
            "Epoch  18 | Validation Loss: 82.4884 | Accuracy : 73.43%\n",
            "Epoch  19 | Training Loss: 325.8018 | Accuracy : 72.15%\n",
            "Epoch  19 | Validation Loss: 79.5279 | Accuracy : 74.02%\n",
            "Epoch  20 | Training Loss: 313.8674 | Accuracy : 72.68%\n",
            "Epoch  20 | Validation Loss: 76.4172 | Accuracy : 74.55%\n",
            "Epoch  21 | Training Loss: 301.4344 | Accuracy : 73.20%\n",
            "Epoch  21 | Validation Loss: 73.2007 | Accuracy : 75.19%\n",
            "Epoch  22 | Training Loss: 288.6558 | Accuracy : 73.95%\n",
            "Epoch  22 | Validation Loss: 69.9298 | Accuracy : 75.86%\n",
            "Epoch  23 | Training Loss: 275.8222 | Accuracy : 74.75%\n",
            "Epoch  23 | Validation Loss: 66.6625 | Accuracy : 76.77%\n",
            "Epoch  24 | Training Loss: 263.1525 | Accuracy : 75.66%\n",
            "Epoch  24 | Validation Loss: 63.4535 | Accuracy : 77.58%\n",
            "Epoch  25 | Training Loss: 250.8093 | Accuracy : 76.40%\n",
            "Epoch  25 | Validation Loss: 60.3501 | Accuracy : 78.50%\n",
            "Epoch  26 | Training Loss: 238.9295 | Accuracy : 77.16%\n",
            "Epoch  26 | Validation Loss: 57.3891 | Accuracy : 79.21%\n",
            "Epoch  27 | Training Loss: 227.7291 | Accuracy : 77.90%\n",
            "Epoch  27 | Validation Loss: 54.6041 | Accuracy : 79.93%\n",
            "Epoch  28 | Training Loss: 217.2195 | Accuracy : 78.65%\n",
            "Epoch  28 | Validation Loss: 52.0027 | Accuracy : 80.52%\n",
            "Epoch  29 | Training Loss: 207.4687 | Accuracy : 79.28%\n",
            "Epoch  29 | Validation Loss: 49.5907 | Accuracy : 81.03%\n",
            "Epoch  30 | Training Loss: 198.4215 | Accuracy : 79.83%\n",
            "Epoch  30 | Validation Loss: 47.3666 | Accuracy : 81.62%\n",
            "Epoch  31 | Training Loss: 190.1050 | Accuracy : 80.35%\n",
            "Epoch  31 | Validation Loss: 45.3220 | Accuracy : 82.04%\n",
            "Epoch  32 | Training Loss: 182.4502 | Accuracy : 80.69%\n",
            "Epoch  32 | Validation Loss: 43.4487 | Accuracy : 82.36%\n",
            "Epoch  33 | Training Loss: 175.4064 | Accuracy : 81.13%\n",
            "Epoch  33 | Validation Loss: 41.7289 | Accuracy : 82.77%\n",
            "Epoch  34 | Training Loss: 169.0107 | Accuracy : 81.40%\n",
            "Epoch  34 | Validation Loss: 40.1496 | Accuracy : 83.10%\n",
            "Epoch  35 | Training Loss: 163.0646 | Accuracy : 81.84%\n",
            "Epoch  35 | Validation Loss: 38.7002 | Accuracy : 83.59%\n",
            "Epoch  36 | Training Loss: 157.6330 | Accuracy : 82.23%\n",
            "Epoch  36 | Validation Loss: 37.3711 | Accuracy : 83.87%\n",
            "Epoch  37 | Training Loss: 152.7042 | Accuracy : 82.54%\n",
            "Epoch  37 | Validation Loss: 36.1459 | Accuracy : 84.08%\n",
            "Epoch  38 | Training Loss: 148.0470 | Accuracy : 82.82%\n",
            "Epoch  38 | Validation Loss: 35.0161 | Accuracy : 84.46%\n",
            "Epoch  39 | Training Loss: 143.7627 | Accuracy : 83.08%\n",
            "Epoch  39 | Validation Loss: 33.9733 | Accuracy : 84.71%\n",
            "Epoch  40 | Training Loss: 139.8657 | Accuracy : 83.39%\n",
            "Epoch  40 | Validation Loss: 33.0111 | Accuracy : 84.92%\n",
            "Epoch  41 | Training Loss: 136.1635 | Accuracy : 83.65%\n",
            "Epoch  41 | Validation Loss: 32.1176 | Accuracy : 85.10%\n",
            "Epoch  42 | Training Loss: 132.7937 | Accuracy : 83.88%\n",
            "Epoch  42 | Validation Loss: 31.2896 | Accuracy : 85.34%\n",
            "Epoch  43 | Training Loss: 129.5705 | Accuracy : 84.12%\n",
            "Epoch  43 | Validation Loss: 30.5183 | Accuracy : 85.60%\n",
            "Epoch  44 | Training Loss: 126.7379 | Accuracy : 84.35%\n",
            "Epoch  44 | Validation Loss: 29.7978 | Accuracy : 85.69%\n",
            "Epoch  45 | Training Loss: 123.9037 | Accuracy : 84.56%\n",
            "Epoch  45 | Validation Loss: 29.1284 | Accuracy : 85.89%\n",
            "Epoch  46 | Training Loss: 121.3138 | Accuracy : 84.77%\n",
            "Epoch  46 | Validation Loss: 28.5043 | Accuracy : 85.98%\n",
            "Epoch  47 | Training Loss: 118.9517 | Accuracy : 84.89%\n",
            "Epoch  47 | Validation Loss: 27.9178 | Accuracy : 86.12%\n",
            "Epoch  48 | Training Loss: 116.6322 | Accuracy : 85.09%\n",
            "Epoch  48 | Validation Loss: 27.3657 | Accuracy : 86.33%\n",
            "Epoch  49 | Training Loss: 114.5233 | Accuracy : 85.30%\n",
            "Epoch  49 | Validation Loss: 26.8505 | Accuracy : 86.47%\n",
            "Epoch  50 | Training Loss: 112.4803 | Accuracy : 85.44%\n",
            "Epoch  50 | Validation Loss: 26.3628 | Accuracy : 86.62%\n",
            "Epoch  51 | Training Loss: 110.6085 | Accuracy : 85.57%\n",
            "Epoch  51 | Validation Loss: 25.9066 | Accuracy : 86.70%\n",
            "Epoch  52 | Training Loss: 108.8155 | Accuracy : 85.72%\n",
            "Epoch  52 | Validation Loss: 25.4761 | Accuracy : 86.94%\n",
            "Epoch  53 | Training Loss: 107.1040 | Accuracy : 85.89%\n",
            "Epoch  53 | Validation Loss: 25.0764 | Accuracy : 87.04%\n",
            "Epoch  54 | Training Loss: 105.5407 | Accuracy : 86.05%\n",
            "Epoch  54 | Validation Loss: 24.6857 | Accuracy : 87.25%\n",
            "Epoch  55 | Training Loss: 103.9827 | Accuracy : 86.16%\n",
            "Epoch  55 | Validation Loss: 24.3206 | Accuracy : 87.42%\n",
            "Epoch  56 | Training Loss: 102.5649 | Accuracy : 86.30%\n",
            "Epoch  56 | Validation Loss: 23.9749 | Accuracy : 87.43%\n",
            "Epoch  57 | Training Loss: 101.1700 | Accuracy : 86.38%\n",
            "Epoch  57 | Validation Loss: 23.6452 | Accuracy : 87.56%\n",
            "Epoch  58 | Training Loss: 99.9073 | Accuracy : 86.53%\n",
            "Epoch  58 | Validation Loss: 23.3386 | Accuracy : 87.69%\n",
            "Epoch  59 | Training Loss: 98.6196 | Accuracy : 86.64%\n",
            "Epoch  59 | Validation Loss: 23.0387 | Accuracy : 87.73%\n",
            "Epoch  60 | Training Loss: 97.4637 | Accuracy : 86.75%\n",
            "Epoch  60 | Validation Loss: 22.7553 | Accuracy : 87.88%\n",
            "Epoch  61 | Training Loss: 96.2871 | Accuracy : 86.83%\n",
            "Epoch  61 | Validation Loss: 22.4832 | Accuracy : 87.95%\n",
            "Epoch  62 | Training Loss: 95.1857 | Accuracy : 86.91%\n",
            "Epoch  62 | Validation Loss: 22.2277 | Accuracy : 88.03%\n",
            "Epoch  63 | Training Loss: 94.2383 | Accuracy : 87.04%\n",
            "Epoch  63 | Validation Loss: 21.9822 | Accuracy : 88.13%\n",
            "Epoch  64 | Training Loss: 93.2108 | Accuracy : 87.13%\n",
            "Epoch  64 | Validation Loss: 21.7493 | Accuracy : 88.21%\n",
            "Epoch  65 | Training Loss: 92.2753 | Accuracy : 87.24%\n",
            "Epoch  65 | Validation Loss: 21.5283 | Accuracy : 88.28%\n",
            "Epoch  66 | Training Loss: 91.3216 | Accuracy : 87.33%\n",
            "Epoch  66 | Validation Loss: 21.3128 | Accuracy : 88.30%\n",
            "Epoch  67 | Training Loss: 90.4085 | Accuracy : 87.45%\n",
            "Epoch  67 | Validation Loss: 21.1078 | Accuracy : 88.48%\n",
            "Epoch  68 | Training Loss: 89.6169 | Accuracy : 87.50%\n",
            "Epoch  68 | Validation Loss: 20.9031 | Accuracy : 88.46%\n",
            "Epoch  69 | Training Loss: 88.8415 | Accuracy : 87.58%\n",
            "Epoch  69 | Validation Loss: 20.7159 | Accuracy : 88.56%\n",
            "Epoch  70 | Training Loss: 88.0056 | Accuracy : 87.70%\n",
            "Epoch  70 | Validation Loss: 20.5327 | Accuracy : 88.63%\n",
            "Epoch  71 | Training Loss: 87.2578 | Accuracy : 87.74%\n",
            "Epoch  71 | Validation Loss: 20.3584 | Accuracy : 88.69%\n",
            "Epoch  72 | Training Loss: 86.5316 | Accuracy : 87.83%\n",
            "Epoch  72 | Validation Loss: 20.1900 | Accuracy : 88.70%\n",
            "Epoch  73 | Training Loss: 85.8290 | Accuracy : 87.87%\n",
            "Epoch  73 | Validation Loss: 20.0224 | Accuracy : 88.70%\n",
            "Epoch  74 | Training Loss: 85.2078 | Accuracy : 87.97%\n",
            "Epoch  74 | Validation Loss: 19.8671 | Accuracy : 88.81%\n",
            "Epoch  75 | Training Loss: 84.5397 | Accuracy : 88.05%\n",
            "Epoch  75 | Validation Loss: 19.7188 | Accuracy : 88.88%\n",
            "Epoch  76 | Training Loss: 83.9549 | Accuracy : 88.09%\n",
            "Epoch  76 | Validation Loss: 19.5723 | Accuracy : 88.88%\n",
            "Epoch  77 | Training Loss: 83.2641 | Accuracy : 88.10%\n",
            "Epoch  77 | Validation Loss: 19.4284 | Accuracy : 88.88%\n",
            "Epoch  78 | Training Loss: 82.7399 | Accuracy : 88.16%\n",
            "Epoch  78 | Validation Loss: 19.2951 | Accuracy : 88.97%\n",
            "Epoch  79 | Training Loss: 82.0879 | Accuracy : 88.25%\n",
            "Epoch  79 | Validation Loss: 19.1594 | Accuracy : 89.11%\n",
            "Epoch  80 | Training Loss: 81.5530 | Accuracy : 88.30%\n",
            "Epoch  80 | Validation Loss: 19.0336 | Accuracy : 89.10%\n",
            "Epoch  81 | Training Loss: 81.0094 | Accuracy : 88.35%\n",
            "Epoch  81 | Validation Loss: 18.9113 | Accuracy : 89.22%\n",
            "Epoch  82 | Training Loss: 80.4801 | Accuracy : 88.43%\n",
            "Epoch  82 | Validation Loss: 18.7881 | Accuracy : 89.18%\n",
            "Epoch  83 | Training Loss: 80.0223 | Accuracy : 88.46%\n",
            "Epoch  83 | Validation Loss: 18.6728 | Accuracy : 89.33%\n",
            "Epoch  84 | Training Loss: 79.4874 | Accuracy : 88.55%\n",
            "Epoch  84 | Validation Loss: 18.5620 | Accuracy : 89.39%\n",
            "Epoch  85 | Training Loss: 79.0028 | Accuracy : 88.62%\n",
            "Epoch  85 | Validation Loss: 18.4495 | Accuracy : 89.45%\n",
            "Epoch  86 | Training Loss: 78.5848 | Accuracy : 88.65%\n",
            "Epoch  86 | Validation Loss: 18.3441 | Accuracy : 89.49%\n",
            "Epoch  87 | Training Loss: 78.1448 | Accuracy : 88.73%\n",
            "Epoch  87 | Validation Loss: 18.2400 | Accuracy : 89.49%\n",
            "Epoch  88 | Training Loss: 77.6689 | Accuracy : 88.78%\n",
            "Epoch  88 | Validation Loss: 18.1404 | Accuracy : 89.55%\n",
            "Epoch  89 | Training Loss: 77.2682 | Accuracy : 88.80%\n",
            "Epoch  89 | Validation Loss: 18.0452 | Accuracy : 89.63%\n",
            "Epoch  90 | Training Loss: 76.9068 | Accuracy : 88.88%\n",
            "Epoch  90 | Validation Loss: 17.9475 | Accuracy : 89.68%\n",
            "Epoch  91 | Training Loss: 76.4256 | Accuracy : 88.93%\n",
            "Epoch  91 | Validation Loss: 17.8574 | Accuracy : 89.75%\n",
            "Epoch  92 | Training Loss: 76.0221 | Accuracy : 88.95%\n",
            "Epoch  92 | Validation Loss: 17.7669 | Accuracy : 89.78%\n",
            "Epoch  93 | Training Loss: 75.6322 | Accuracy : 89.01%\n",
            "Epoch  93 | Validation Loss: 17.6786 | Accuracy : 89.85%\n",
            "Epoch  94 | Training Loss: 75.2609 | Accuracy : 89.03%\n",
            "Epoch  94 | Validation Loss: 17.5934 | Accuracy : 89.83%\n",
            "Epoch  95 | Training Loss: 74.9200 | Accuracy : 89.05%\n",
            "Epoch  95 | Validation Loss: 17.5104 | Accuracy : 89.88%\n",
            "Epoch  96 | Training Loss: 74.5256 | Accuracy : 89.12%\n",
            "Epoch  96 | Validation Loss: 17.4258 | Accuracy : 89.96%\n",
            "Epoch  97 | Training Loss: 74.2361 | Accuracy : 89.16%\n",
            "Epoch  97 | Validation Loss: 17.3481 | Accuracy : 89.92%\n",
            "Epoch  98 | Training Loss: 73.8860 | Accuracy : 89.20%\n",
            "Epoch  98 | Validation Loss: 17.2717 | Accuracy : 89.95%\n",
            "Epoch  99 | Training Loss: 73.5256 | Accuracy : 89.26%\n",
            "Epoch  99 | Validation Loss: 17.1982 | Accuracy : 90.05%\n"
          ]
        }
      ],
      "source": [
        "n_epochs = 100\n",
        "\n",
        "import matplotlib.pyplot as plt\n",
        "\n",
        "CEL = nn.CrossEntropyLoss()\n",
        "train_accuracies = []\n",
        "val_accuracies = []\n",
        "\n",
        "\n",
        "def accuracy(model, dataloader):\n",
        "    cnt = 0\n",
        "    acc = 0\n",
        "\n",
        "    for data in dataloader:\n",
        "        inputs, labels = data\n",
        "        inputs, labels = inputs.to(\"mps\"), labels.to(\"mps\")\n",
        "\n",
        "        preds = model(inputs)\n",
        "        preds = torch.argmax(preds, dim=-1)\n",
        "\n",
        "        cnt += labels.shape[0]\n",
        "        acc += (labels == preds).sum().item()\n",
        "\n",
        "    return acc / cnt\n",
        "\n",
        "\n",
        "for epoch in range(n_epochs):\n",
        "    model.train()  # 훈련 모드로 전환\n",
        "    total_loss = 0.0\n",
        "\n",
        "    # 훈련 루프\n",
        "    for data in train_loader:\n",
        "        model.zero_grad()\n",
        "        inputs, labels = data\n",
        "        inputs, labels = inputs.to(\"mps\"), labels.to(\"mps\")\n",
        "\n",
        "        preds = model(inputs)\n",
        "        # loss = (preds[:, 0] - labels).pow(2).mean()\n",
        "        # 손실 계산\n",
        "        loss = CEL(preds, labels)\n",
        "        loss.backward()\n",
        "        optimizer.step()\n",
        "\n",
        "        total_loss += loss.item()\n",
        "    train_accuracy = accuracy(model, train_loader)\n",
        "    train_accuracies.append(train_accuracy)\n",
        "    print(\n",
        "        f\"Epoch {epoch:3d} | Training Loss: {total_loss:.4f} | Accuracy : {train_accuracy:.2%}\"\n",
        "    )\n",
        "\n",
        "    # 검증 루프\n",
        "    model.eval()  # 검증 모드로 전환\n",
        "    val_loss = 0.0\n",
        "    with torch.no_grad():  # 검증할 때는 no_grad()를 사용하여 파라미터 업데이트를 하지 않음\n",
        "        for data in val_loader:\n",
        "            inputs, labels = data\n",
        "            inputs, labels = inputs.to(\"mps\"), labels.to(\"mps\")\n",
        "\n",
        "            preds = model(inputs)\n",
        "            # loss = (preds[:, 0] - labels).pow(2).mean()\n",
        "            # 손실 계산\n",
        "            loss = CEL(preds, labels)\n",
        "\n",
        "            val_loss += loss.item()\n",
        "    val_accuracy = accuracy(model, val_loader)\n",
        "    val_accuracies.append(val_accuracy)\n",
        "    print(\n",
        "        f\"Epoch {epoch:3d} | Validation Loss: {val_loss:.4f} | Accuracy : {val_accuracy:.2%}\"\n",
        "    )"
      ]
    },
    {
      "cell_type": "code",
      "execution_count": 9,
      "metadata": {
        "colab": {
          "base_uri": "https://localhost:8080/"
        },
        "id": "Zct0ssSKwjt1",
        "outputId": "4a8d7062-1a43-4522-895e-cfebb9c02cdb"
      },
      "outputs": [
        {
          "name": "stdout",
          "output_type": "stream",
          "text": [
            "tensor([[ 1.8046, -3.6127,  0.4715,  4.5161, -4.9967,  4.1170, -2.2091, -0.0564,\n",
            "          1.5861, -0.6894]], device='mps:0', grad_fn=<LinearBackward0>)\n",
            "5\n"
          ]
        }
      ],
      "source": [
        "idx = 0\n",
        "\n",
        "x = trainset[idx][0][None]  # (1, 1, 28, 28)\n",
        "x = x.to(\"mps\")\n",
        "\n",
        "print(model(x))\n",
        "print(trainset[idx][1])"
      ]
    },
    {
      "cell_type": "code",
      "execution_count": 10,
      "metadata": {
        "id": "d6M4SpWQoML9"
      },
      "outputs": [
        {
          "data": {
            "image/png": "[encoded data removed]",
            "text/plain": [
              "<Figure size 640x480 with 1 Axes>"
            ]
          },
          "metadata": {},
          "output_type": "display_data"
        }
      ],
      "source": [
        "import numpy as np\n",
        "\n",
        "\n",
        "def plot_acc(train_accs, test_accs, label1=\"train\", label2=\"validate\"):\n",
        "    x = np.arange(len(train_accs))\n",
        "\n",
        "    plt.plot(x, train_accs, label=label1)\n",
        "    plt.plot(x, test_accs, label=label2)\n",
        "    plt.legend()\n",
        "    plt.show()\n",
        "\n",
        "\n",
        "plot_acc(train_accuracies, val_accuracies)"
      ]
    },
    {
      "cell_type": "code",
      "execution_count": 12,
      "metadata": {},
      "outputs": [],
      "source": [
        "import torch\n",
        "\n",
        "# 모델 저장\n",
        "torch.save(model.state_dict(), \"mnist_model.pth\")"
      ]
    },
    {
      "cell_type": "code",
      "execution_count": null,
      "metadata": {},
      "outputs": [],
      "source": []
    }
  ],
  "metadata": {
    "accelerator": "GPU",
    "colab": {
      "gpuType": "T4",
      "include_colab_link": true,
      "provenance": []
    },
    "kernelspec": {
      "display_name": "Python 3",
      "name": "python3"
    },
    "language_info": {
      "codemirror_mode": {
        "name": "ipython",
        "version": 3
      },
      "file_extension": ".py",
      "mimetype": "text/x-python",
      "name": "python",
      "nbconvert_exporter": "python",
      "pygments_lexer": "ipython3",
      "version": "3.12.6"
    }
  },
  "nbformat": 4,
  "nbformat_minor": 0
}
