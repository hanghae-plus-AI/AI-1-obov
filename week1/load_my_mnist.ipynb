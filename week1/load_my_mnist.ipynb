{
 "cells": [
  {
   "cell_type": "code",
   "execution_count": 3,
   "metadata": {},
   "outputs": [
    {
     "name": "stdout",
     "output_type": "stream",
     "text": [
      "Model(\n",
      "  (layer1): Linear(in_features=784, out_features=1024, bias=True)\n",
      "  (layer2): Linear(in_features=1024, out_features=1024, bias=True)\n",
      "  (layer3): Linear(in_features=1024, out_features=10, bias=True)\n",
      "  (act): ReLU()\n",
      ")\n"
     ]
    }
   ],
   "source": [
    "import torch\n",
    "import torch.nn as nn\n",
    "\n",
    "model = torch.hub.load_state_dict_from_url(\n",
    "    \"https://huggingface.co/obov/mnist/resolve/main/mnist_model.pth\"\n",
    ")\n",
    "model\n",
    "\n",
    "\n",
    "class Model(nn.Module):\n",
    "    def __init__(self, input_dim, n_dim, output_dim):\n",
    "        super().__init__()\n",
    "        self.layer1 = nn.Linear(input_dim, n_dim)\n",
    "        self.layer2 = nn.Linear(n_dim, n_dim)\n",
    "        self.layer3 = nn.Linear(n_dim, output_dim)\n",
    "        self.act = nn.ReLU()\n",
    "\n",
    "    def forward(self, x):\n",
    "        x = torch.flatten(x, start_dim=1)\n",
    "        x = self.act(self.layer1(x))\n",
    "        x = self.act(self.layer2(x))\n",
    "        x = self.layer3(x)  # 마지막 레이어에서는 활성화 함수 필요 없음\n",
    "        return x\n",
    "\n",
    "\n",
    "# 모델 초기화\n",
    "model = Model(28 * 28 * 1, 1024, 10)  # MNIST의 경우 output_dim은 10 (0~9까지의 숫자)\n",
    "\n",
    "# Hugging Face에서 가중치 다운로드 및 모델에 로드\n",
    "state_dict = torch.hub.load_state_dict_from_url(\n",
    "    \"https://huggingface.co/obov/mnist/resolve/main/mnist_model.pth\"\n",
    ")\n",
    "\n",
    "model.load_state_dict(state_dict)\n",
    "\n",
    "model.eval()\n",
    "\n",
    "print(model)"
   ]
  },
  {
   "cell_type": "code",
   "execution_count": 14,
   "metadata": {},
   "outputs": [
    {
     "name": "stdout",
     "output_type": "stream",
     "text": [
      "torch.Size([1, 784])\n"
     ]
    },
    {
     "data": {
      "text/plain": [
       "tensor([[ 1.6988, -2.0632, -0.8219,  0.5610, -1.0441,  1.8389, -1.7066, -0.2108,\n",
       "          1.0381,  0.5772]], grad_fn=<AddmmBackward0>)"
      ]
     },
     "execution_count": 14,
     "metadata": {},
     "output_type": "execute_result"
    }
   ],
   "source": [
    "sample_input = torch.randn(1, 28 * 28)\n",
    "print(sample_input.shape)\n",
    "output = model(sample_input)\n",
    "output"
   ]
  },
  {
   "cell_type": "code",
   "execution_count": 24,
   "metadata": {},
   "outputs": [
    {
     "data": {
      "text/plain": [
       "<matplotlib.image.AxesImage at 0x3305b2cc0>"
      ]
     },
     "execution_count": 24,
     "metadata": {},
     "output_type": "execute_result"
    },
    {
     "data": {
      "image/png": "[encoded data removed]",
      "text/plain": [
       "<Figure size 640x480 with 1 Axes>"
      ]
     },
     "metadata": {},
     "output_type": "display_data"
    }
   ],
   "source": [
    "import torchvision\n",
    "import torchvision.transforms as transforms\n",
    "\n",
    "transform = transforms.ToTensor()\n",
    "test_set = torchvision.datasets.MNIST(\n",
    "    root=\"./data\", train=False, download=True, transform=transform\n",
    ")\n",
    "test_set\n",
    "test_set[0][0]\n",
    "from matplotlib import pyplot as plt\n",
    "\n",
    "plt.imshow(test_set[0][0][0], cmap=\"gray\")"
   ]
  },
  {
   "cell_type": "code",
   "execution_count": 18,
   "metadata": {},
   "outputs": [
    {
     "data": {
      "text/plain": [
       "tensor([[ 0.4451, -4.4537, -0.8104,  1.8564, -1.7567, -0.5978, -5.9950,  8.5856,\n",
       "         -0.8553,  3.9663]], grad_fn=<AddmmBackward0>)"
      ]
     },
     "execution_count": 18,
     "metadata": {},
     "output_type": "execute_result"
    }
   ],
   "source": [
    "first = test_set[0][0][0].view(1, 28 * 28)\n",
    "model(first)"
   ]
  },
  {
   "cell_type": "code",
   "execution_count": 31,
   "metadata": {},
   "outputs": [
    {
     "name": "stdout",
     "output_type": "stream",
     "text": [
      "AxesImage(shape=(28, 28))\n",
      "Predicted class: 1\n"
     ]
    },
    {
     "data": {
      "image/png": "[encoded data removed]",
      "text/plain": [
       "<Figure size 640x480 with 1 Axes>"
      ]
     },
     "metadata": {},
     "output_type": "display_data"
    }
   ],
   "source": [
    "import torch.nn.functional as F\n",
    "\n",
    "\n",
    "def pred(index):\n",
    "    print(plt.imshow(test_set[index][0][0], cmap=\"gray\"))\n",
    "\n",
    "    return model(test_set[index][0][0].view(1, 28 * 28))\n",
    "\n",
    "\n",
    "prediction = pred(14)\n",
    "\n",
    "probabilities = F.softmax(prediction, dim=1)\n",
    "predicted_class = torch.argmax(probabilities, dim=1)\n",
    "print(f\"Predicted class: {predicted_class.item()}\")"
   ]
  }
 ],
 "metadata": {
  "kernelspec": {
   "display_name": "mnist-JA1dvEWo-py3.12",
   "language": "python",
   "name": "python3"
  },
  "language_info": {
   "codemirror_mode": {
    "name": "ipython",
    "version": 3
   },
   "file_extension": ".py",
   "mimetype": "text/x-python",
   "name": "python",
   "nbconvert_exporter": "python",
   "pygments_lexer": "ipython3",
   "version": "3.12.6"
  }
 },
 "nbformat": 4,
 "nbformat_minor": 2
}
