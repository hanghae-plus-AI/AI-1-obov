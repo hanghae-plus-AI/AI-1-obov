{
  "cells": [
    {
      "cell_type": "markdown",
      "metadata": {
        "id": "ymxatB5WYxlL"
      },
      "source": [
        "# Transformer 실습\n",
        "\n",
        "이번 실습에서는 감정 분석 task에 RNN 대신 Transformer를 구현하여 적용해 볼 것입니다.\n",
        "Library import나 dataloader 생성은 RNN 실습 때와 똑같기 때문에 설명은 넘어가도록 하겠습니다.\n"
      ]
    },
    {
      "cell_type": "code",
      "execution_count": 10,
      "metadata": {
        "id": "HOdhoBVA1zcu"
      },
      "outputs": [
        {
          "name": "stderr",
          "output_type": "stream",
          "text": [
            "Using cache found in /Users/obov/.cache/torch/hub/huggingface_pytorch-transformers_main\n",
            "/Users/obov/Library/Caches/pypoetry/virtualenvs/week2-1X3A57rW-py3.12/lib/python3.12/site-packages/transformers/tokenization_utils_base.py:1601: FutureWarning: `clean_up_tokenization_spaces` was not set. It will be set to `True` by default. This behavior will be depracted in transformers v4.45, and will be then set to `False` by default. For more details check this issue: https://github.com/huggingface/transformers/issues/31884\n",
            "  warnings.warn(\n"
          ]
        }
      ],
      "source": [
        "import torch\n",
        "from datasets import load_dataset\n",
        "from torch.utils.data import DataLoader\n",
        "from transformers import BertTokenizerFast\n",
        "from tokenizers import (\n",
        "    decoders,\n",
        "    models,\n",
        "    normalizers,\n",
        "    pre_tokenizers,\n",
        "    processors,\n",
        "    trainers,\n",
        "    Tokenizer,\n",
        ")\n",
        "\n",
        "\n",
        "ds = load_dataset(\"stanfordnlp/imdb\")\n",
        "tokenizer = torch.hub.load(\n",
        "    \"huggingface/pytorch-transformers\", \"tokenizer\", \"bert-base-uncased\"\n",
        ")\n",
        "\n",
        "\n",
        "def collate_fn(batch):\n",
        "    max_len = 400\n",
        "    texts, labels = [], []\n",
        "    for row in batch:\n",
        "        labels.append(row[\"label\"])\n",
        "        texts.append(row[\"text\"])\n",
        "\n",
        "    texts = torch.LongTensor(\n",
        "        tokenizer(texts, padding=True, truncation=True, max_length=max_len).input_ids\n",
        "    )\n",
        "    labels = torch.LongTensor(labels)\n",
        "\n",
        "    return texts, labels\n",
        "\n",
        "\n",
        "train_loader = DataLoader(\n",
        "    ds[\"train\"], batch_size=64, shuffle=True, collate_fn=collate_fn\n",
        ")\n",
        "test_loader = DataLoader(\n",
        "    ds[\"test\"], batch_size=64, shuffle=False, collate_fn=collate_fn\n",
        ")"
      ]
    },
    {
      "cell_type": "code",
      "execution_count": 18,
      "metadata": {},
      "outputs": [
        {
          "data": {
            "text/plain": [
              "{'text': 'I rented I AM CURIOUS-YELLOW from my video store because of all the controversy that surrounded it when it was first released in 1967. I also heard that at first it was seized by U.S. customs if it ever tried to enter this country, therefore being a fan of films considered \"controversial\" I really had to see this for myself.<br /><br />The plot is centered around a young Swedish drama student named Lena who wants to learn everything she can about life. In particular she wants to focus her attentions to making some sort of documentary on what the average Swede thought about certain political issues such as the Vietnam War and race issues in the United States. In between asking politicians and ordinary denizens of Stockholm about their opinions on politics, she has sex with her drama teacher, classmates, and married men.<br /><br />What kills me about I AM CURIOUS-YELLOW is that 40 years ago, this was considered pornographic. Really, the sex and nudity scenes are few and far between, even then it\\'s not shot like some cheaply made porno. While my countrymen mind find it shocking, in reality sex and nudity are a major staple in Swedish cinema. Even Ingmar Bergman, arguably their answer to good old boy John Ford, had sex scenes in his films.<br /><br />I do commend the filmmakers for the fact that any sex shown in the film is shown for artistic purposes rather than just to shock people and make money to be shown in pornographic theaters in America. I AM CURIOUS-YELLOW is a good film for anyone wanting to study the meat and potatoes (no pun intended) of Swedish cinema. But really, this film doesn\\'t have much of a plot.',\n",
              " 'label': 0}"
            ]
          },
          "execution_count": 18,
          "metadata": {},
          "output_type": "execute_result"
        }
      ],
      "source": [
        "ds[\"train\"][0]"
      ]
    },
    {
      "cell_type": "markdown",
      "metadata": {
        "id": "i-FshZcTZBQ2"
      },
      "source": [
        "## Self-attention\n",
        "\n",
        "이번에는 self-attention을 구현해보겠습니다.\n",
        "Self-attention은 shape이 (B, S, D)인 embedding이 들어왔을 때 attention을 적용하여 새로운 representation을 만들어내는 module입니다.\n",
        "여기서 B는 batch size, S는 sequence length, D는 embedding 차원입니다.\n",
        "구현은 다음과 같습니다.\n"
      ]
    },
    {
      "cell_type": "code",
      "execution_count": 11,
      "metadata": {
        "id": "MBlMVMZcRAxv"
      },
      "outputs": [],
      "source": [
        "from torch import nn\n",
        "from math import sqrt\n",
        "\n",
        "\n",
        "class SelfAttention(nn.Module):\n",
        "    def __init__(self, input_dim, d_model):\n",
        "        super().__init__()\n",
        "\n",
        "        self.input_dim = input_dim\n",
        "        self.d_model = d_model\n",
        "\n",
        "        self.wq = nn.Linear(input_dim, d_model)\n",
        "        self.wk = nn.Linear(input_dim, d_model)\n",
        "        self.wv = nn.Linear(input_dim, d_model)\n",
        "        self.dense = nn.Linear(d_model, d_model)\n",
        "\n",
        "        self.softmax = nn.Softmax(dim=-1)\n",
        "\n",
        "    def forward(self, x, mask):\n",
        "        q, k, v = self.wq(x), self.wk(x), self.wv(x)\n",
        "        score = torch.matmul(\n",
        "            q, k.transpose(-1, -2)\n",
        "        )  # (B, S, D) * (B, D, S) = (B, S, S)\n",
        "        score = score / sqrt(self.d_model)\n",
        "\n",
        "        if mask is not None:\n",
        "            score = score + (mask * -1e9)\n",
        "\n",
        "        score = self.softmax(score)\n",
        "        result = torch.matmul(score, v)\n",
        "        result = self.dense(result)\n",
        "\n",
        "        return result"
      ]
    },
    {
      "cell_type": "markdown",
      "metadata": {
        "id": "-S0vMp85ZRNO"
      },
      "source": [
        "대부분은 Transformer 챕터에서 배운 수식들을 그대로 구현한 것에 불과합니다.\n",
        "차이점은 `mask`의 존재여부입니다.\n",
        "이전 챕터에서 우리는 가변적인 text data들에 padding token을 붙여 하나의 matrix로 만든 방법을 배웠습니다.\n",
        "실제 attention 계산에서는 이를 무시해주기 위해 mask를 만들어 제공해주게 됩니다.\n",
        "여기서 mask의 shape은 (B, S, 1)로, 만약 `mask[i, j] = True`이면 그 변수는 padding token에 해당한다는 뜻입니다.\n",
        "이러한 값들을 무시해주는 방법은 shape이 (B, S, S)인 `score`가 있을 때(수업에서 배운 $A$와 동일) `score[i, j]`에 아주 작은 값을 더해주면 됩니다. 아주 작은 값은 예를 들어 `-1000..00 = -1e9` 같은 것이 있습니다.\n",
        "이렇게 작은 값을 더해주고 나면 softmax를 거쳤을 때 0에 가까워지기 때문에 weighted sum 과정에서 padding token에 해당하는 `v` 값들을 무시할 수 있게 됩니다.\n",
        "\n",
        "다음은 self-attention과 feed-forward layer를 구현한 모습입니다.\n"
      ]
    },
    {
      "cell_type": "code",
      "execution_count": 12,
      "metadata": {
        "id": "VZHPCn9AS5Gp"
      },
      "outputs": [],
      "source": [
        "class TransformerLayer(nn.Module):\n",
        "    def __init__(self, input_dim, d_model, dff):\n",
        "        super().__init__()\n",
        "\n",
        "        self.input_dim = input_dim\n",
        "        self.d_model = d_model\n",
        "        self.dff = dff\n",
        "\n",
        "        self.sa = SelfAttention(input_dim, d_model)\n",
        "        self.ffn = nn.Sequential(\n",
        "            nn.Linear(d_model, dff), nn.ReLU(), nn.Linear(dff, d_model)\n",
        "        )\n",
        "\n",
        "    def forward(self, x, mask):\n",
        "        x = self.sa(x, mask)\n",
        "        x = self.ffn(x)\n",
        "\n",
        "        return x"
      ]
    },
    {
      "cell_type": "markdown",
      "metadata": {
        "id": "O_xC9BQJaU4q"
      },
      "source": [
        "보시다시피 self-attention의 구현이 어렵지, Transformer layer 하나 구현하는 것은 수업 때 다룬 그림과 크게 구분되지 않는다는 점을 알 수 있습니다.\n"
      ]
    },
    {
      "cell_type": "markdown",
      "metadata": {
        "id": "J3VYrqTJagS1"
      },
      "source": [
        "## Positional encoding\n",
        "\n",
        "이번에는 positional encoding을 구현합니다. Positional encoding의 식은 다음과 같습니다:\n",
        "\n",
        "$$\n",
        "\\begin{align*} PE_{pos, 2i} &= \\sin\\left( \\frac{pos}{10000^{2i/D}} \\right), \\\\ PE_{pos, 2i+1} &= \\cos\\left( \\frac{pos}{10000^{2i/D}} \\right).\\end{align*}\n",
        "$$\n",
        "\n",
        "이를 Numpy로 구현하여 PyTorch tensor로 변환한 모습은 다음과 같습니다:\n"
      ]
    },
    {
      "cell_type": "code",
      "execution_count": 13,
      "metadata": {
        "colab": {
          "base_uri": "https://localhost:8080/"
        },
        "id": "Uf_jMQWDUR79",
        "outputId": "534712be-1522-4d32-81b7-87f50a6f1f2a"
      },
      "outputs": [
        {
          "name": "stdout",
          "output_type": "stream",
          "text": [
            "torch.Size([1, 400, 256])\n"
          ]
        }
      ],
      "source": [
        "import numpy as np\n",
        "\n",
        "\n",
        "def get_angles(pos, i, d_model):\n",
        "    angle_rates = 1 / np.power(10000, (2 * (i // 2)) / np.float32(d_model))\n",
        "    return pos * angle_rates\n",
        "\n",
        "\n",
        "def positional_encoding(position, d_model):\n",
        "    angle_rads = get_angles(\n",
        "        np.arange(position)[:, None], np.arange(d_model)[None, :], d_model\n",
        "    )\n",
        "    angle_rads[:, 0::2] = np.sin(angle_rads[:, 0::2])\n",
        "    angle_rads[:, 1::2] = np.cos(angle_rads[:, 1::2])\n",
        "    pos_encoding = angle_rads[None, ...]\n",
        "\n",
        "    return torch.FloatTensor(pos_encoding)\n",
        "\n",
        "\n",
        "max_len = 400\n",
        "print(positional_encoding(max_len, 256).shape)"
      ]
    },
    {
      "cell_type": "markdown",
      "metadata": {
        "id": "5unoDcBva3eN"
      },
      "source": [
        "Positional encoding은 `angle_rads`를 구현하는 과정에서 모두 구현이 되었습니다. 여기서 `angle_rads`의 shape은 (S, D)입니다.\n",
        "우리는 일반적으로 batch로 주어지는 shape이 (B, S, D)인 tensor를 다루기 때문에 마지막에 None을 활용하여 shape을 (1, S, D)로 바꿔주게됩니다.\n",
        "\n",
        "위에서 구현한 `TransformerLayer`와 positional encoding을 모두 합친 모습은 다음과 같습니다:\n"
      ]
    },
    {
      "cell_type": "code",
      "execution_count": 14,
      "metadata": {
        "id": "8MaiCGh8TsDH"
      },
      "outputs": [],
      "source": [
        "class TextClassifier(nn.Module):\n",
        "    def __init__(self, vocab_size, d_model, n_layers, dff):\n",
        "        super().__init__()\n",
        "\n",
        "        self.vocab_size = vocab_size\n",
        "        self.d_model = d_model\n",
        "        self.n_layers = n_layers\n",
        "        self.dff = dff\n",
        "\n",
        "        self.embedding = nn.Embedding(vocab_size, d_model)\n",
        "        self.pos_encoding = nn.parameter.Parameter(\n",
        "            positional_encoding(max_len, d_model), requires_grad=False\n",
        "        )\n",
        "        self.layers = nn.ModuleList(\n",
        "            [TransformerLayer(d_model, d_model, dff) for _ in range(n_layers)]\n",
        "        )\n",
        "        self.classification = nn.Linear(d_model, 1)\n",
        "\n",
        "    def forward(self, x):\n",
        "        mask = x == tokenizer.pad_token_id\n",
        "        mask = mask[:, None, :]\n",
        "        seq_len = x.shape[1]\n",
        "\n",
        "        x = self.embedding(x)\n",
        "        x = x * sqrt(self.d_model)\n",
        "        x = x + self.pos_encoding[:, :seq_len]\n",
        "\n",
        "        for layer in self.layers:\n",
        "            x = layer(x, mask)\n",
        "\n",
        "        x = x[:, 0]\n",
        "        x = self.classification(x)\n",
        "\n",
        "        return x\n",
        "\n",
        "\n",
        "model = TextClassifier(len(tokenizer), 32, 2, 32)"
      ]
    },
    {
      "cell_type": "markdown",
      "metadata": {
        "id": "XXpjPWHjbUK8"
      },
      "source": [
        "기존과 다른 점들은 다음과 같습니다:\n",
        "\n",
        "1. `nn.ModuleList`를 사용하여 여러 layer의 구현을 쉽게 하였습니다.\n",
        "2. Embedding, positional encoding, transformer layer를 거치고 난 후 마지막 label을 예측하기 위해 사용한 값은 `x[:, 0]`입니다. 기존의 RNN에서는 padding token을 제외한 마지막 token에 해당하는 representation을 사용한 것과 다릅니다. 이렇게 사용할 수 있는 이유는 attention 과정을 보시면 첫 번째 token에 대한 representation은 이후의 모든 token의 영향을 받습니다. 즉, 첫 번째 token 또한 전체 문장을 대변하는 의미를 가지고 있다고 할 수 있습니다. 그래서 일반적으로 Transformer를 text 분류에 사용할 때는 이와 같은 방식으로 구현됩니다.\n"
      ]
    },
    {
      "cell_type": "markdown",
      "metadata": {
        "id": "QDq05OlAb2lB"
      },
      "source": [
        "## 학습\n",
        "\n",
        "학습하는 코드는 기존 실습들과 동일하기 때문에 마지막 결과만 살펴보도록 하겠습니다.\n"
      ]
    },
    {
      "cell_type": "code",
      "execution_count": 15,
      "metadata": {
        "id": "YHVVsWBPQmnv",
        "outputId": "64b5790f-7649-4a47-95f8-bebe158aba4f"
      },
      "outputs": [],
      "source": [
        "from torch.optim import Adam\n",
        "\n",
        "lr = 0.001\n",
        "model = model.to(\"mps\")\n",
        "loss_fn = nn.BCEWithLogitsLoss()\n",
        "\n",
        "optimizer = Adam(model.parameters(), lr=lr)"
      ]
    },
    {
      "cell_type": "code",
      "execution_count": 8,
      "metadata": {
        "id": "r88BALxO1zc1"
      },
      "outputs": [],
      "source": [
        "import numpy as np\n",
        "import matplotlib.pyplot as plt\n",
        "\n",
        "\n",
        "def accuracy(model, dataloader):\n",
        "    cnt = 0\n",
        "    acc = 0\n",
        "\n",
        "    for data in dataloader:\n",
        "        inputs, labels = data\n",
        "        inputs, labels = inputs.to(\"mps\"), labels.to(\"mps\")\n",
        "\n",
        "        preds = model(inputs)\n",
        "        # preds = torch.argmax(preds, dim=-1)\n",
        "        preds = (preds > 0).long()[..., 0]\n",
        "\n",
        "        cnt += labels.shape[0]\n",
        "        acc += (labels == preds).sum().item()\n",
        "\n",
        "    return acc / cnt"
      ]
    },
    {
      "cell_type": "code",
      "execution_count": 17,
      "metadata": {
        "colab": {
          "base_uri": "https://localhost:8080/"
        },
        "id": "al_b56TYRILq",
        "outputId": "90a56264-4ef3-4def-e7b7-df4b5cd3c305"
      },
      "outputs": [
        {
          "name": "stdout",
          "output_type": "stream",
          "text": [
            "Epoch   0 | Train Loss: 244.58576238155365\n",
            "=========> Train acc: 0.754 | Test acc: 0.727\n",
            "Epoch   1 | Train Loss: 186.20750561356544\n",
            "=========> Train acc: 0.821 | Test acc: 0.780\n",
            "Epoch   2 | Train Loss: 157.1253069639206\n",
            "=========> Train acc: 0.856 | Test acc: 0.802\n",
            "Epoch   3 | Train Loss: 137.5125159919262\n",
            "=========> Train acc: 0.883 | Test acc: 0.806\n",
            "Epoch   4 | Train Loss: 116.84931971132755\n",
            "=========> Train acc: 0.901 | Test acc: 0.808\n",
            "Epoch   5 | Train Loss: 102.7043929696083\n",
            "=========> Train acc: 0.927 | Test acc: 0.809\n",
            "Epoch   6 | Train Loss: 86.06727686524391\n",
            "=========> Train acc: 0.940 | Test acc: 0.810\n",
            "Epoch   7 | Train Loss: 72.5500161908567\n",
            "=========> Train acc: 0.950 | Test acc: 0.805\n",
            "Epoch   8 | Train Loss: 60.35838043875992\n",
            "=========> Train acc: 0.963 | Test acc: 0.804\n",
            "Epoch   9 | Train Loss: 50.72369782999158\n",
            "=========> Train acc: 0.975 | Test acc: 0.805\n",
            "Epoch  10 | Train Loss: 41.77797541022301\n",
            "=========> Train acc: 0.981 | Test acc: 0.799\n",
            "Epoch  11 | Train Loss: 34.52049671392888\n",
            "=========> Train acc: 0.984 | Test acc: 0.798\n",
            "Epoch  12 | Train Loss: 27.509692097082734\n",
            "=========> Train acc: 0.983 | Test acc: 0.795\n",
            "Epoch  13 | Train Loss: 22.923240647651255\n",
            "=========> Train acc: 0.989 | Test acc: 0.799\n",
            "Epoch  14 | Train Loss: 20.015960781136528\n",
            "=========> Train acc: 0.986 | Test acc: 0.795\n",
            "Epoch  15 | Train Loss: 19.630359989590943\n",
            "=========> Train acc: 0.987 | Test acc: 0.794\n",
            "Epoch  16 | Train Loss: 17.058028346393257\n",
            "=========> Train acc: 0.979 | Test acc: 0.782\n",
            "Epoch  17 | Train Loss: 14.91047384776175\n",
            "=========> Train acc: 0.994 | Test acc: 0.795\n",
            "Epoch  18 | Train Loss: 14.574070385075174\n",
            "=========> Train acc: 0.993 | Test acc: 0.790\n",
            "Epoch  19 | Train Loss: 10.986957223911304\n",
            "=========> Train acc: 0.995 | Test acc: 0.794\n",
            "Epoch  20 | Train Loss: 11.680050501949154\n",
            "=========> Train acc: 0.979 | Test acc: 0.779\n",
            "Epoch  21 | Train Loss: 9.592113963444717\n",
            "=========> Train acc: 0.992 | Test acc: 0.790\n",
            "Epoch  22 | Train Loss: 9.63082302105613\n",
            "=========> Train acc: 0.988 | Test acc: 0.789\n",
            "Epoch  23 | Train Loss: 11.223776776227169\n",
            "=========> Train acc: 0.993 | Test acc: 0.789\n",
            "Epoch  24 | Train Loss: 8.519987081701402\n",
            "=========> Train acc: 0.996 | Test acc: 0.790\n",
            "Epoch  25 | Train Loss: 9.528968802769668\n",
            "=========> Train acc: 0.996 | Test acc: 0.789\n",
            "Epoch  26 | Train Loss: 6.806914874978247\n",
            "=========> Train acc: 0.996 | Test acc: 0.790\n",
            "Epoch  27 | Train Loss: 7.3825067298457725\n",
            "=========> Train acc: 0.993 | Test acc: 0.783\n",
            "Epoch  28 | Train Loss: 7.840944011317333\n",
            "=========> Train acc: 0.997 | Test acc: 0.789\n",
            "Epoch  29 | Train Loss: 6.299876437798957\n",
            "=========> Train acc: 0.984 | Test acc: 0.776\n",
            "Epoch  30 | Train Loss: 8.000428318424383\n",
            "=========> Train acc: 0.997 | Test acc: 0.794\n",
            "Epoch  31 | Train Loss: 5.646814039515448\n",
            "=========> Train acc: 0.994 | Test acc: 0.789\n",
            "Epoch  32 | Train Loss: 5.609287855004368\n",
            "=========> Train acc: 0.996 | Test acc: 0.796\n",
            "Epoch  33 | Train Loss: 8.892731023966917\n",
            "=========> Train acc: 0.998 | Test acc: 0.794\n",
            "Epoch  34 | Train Loss: 7.511646428683889\n",
            "=========> Train acc: 0.995 | Test acc: 0.789\n",
            "Epoch  35 | Train Loss: 6.14935588555818\n",
            "=========> Train acc: 0.998 | Test acc: 0.789\n",
            "Epoch  36 | Train Loss: 5.485797132838343\n",
            "=========> Train acc: 0.999 | Test acc: 0.794\n",
            "Epoch  37 | Train Loss: 4.613962968547639\n",
            "=========> Train acc: 0.997 | Test acc: 0.796\n",
            "Epoch  38 | Train Loss: 6.23928691920446\n",
            "=========> Train acc: 0.998 | Test acc: 0.791\n",
            "Epoch  39 | Train Loss: 5.057838614709908\n",
            "=========> Train acc: 0.999 | Test acc: 0.793\n",
            "Epoch  40 | Train Loss: 4.921249251521658\n",
            "=========> Train acc: 0.999 | Test acc: 0.793\n",
            "Epoch  41 | Train Loss: 5.128109919911367\n",
            "=========> Train acc: 0.996 | Test acc: 0.788\n",
            "Epoch  42 | Train Loss: 5.958056246323395\n",
            "=========> Train acc: 0.996 | Test acc: 0.786\n",
            "Epoch  43 | Train Loss: 4.416465739212072\n",
            "=========> Train acc: 0.998 | Test acc: 0.786\n",
            "Epoch  44 | Train Loss: 6.1622174422227545\n",
            "=========> Train acc: 0.996 | Test acc: 0.792\n",
            "Epoch  45 | Train Loss: 4.1699692900438095\n",
            "=========> Train acc: 0.998 | Test acc: 0.794\n",
            "Epoch  46 | Train Loss: 4.046345511836989\n",
            "=========> Train acc: 0.996 | Test acc: 0.792\n",
            "Epoch  47 | Train Loss: 6.309486614631169\n",
            "=========> Train acc: 0.994 | Test acc: 0.784\n",
            "Epoch  48 | Train Loss: 4.057781832707406\n",
            "=========> Train acc: 0.999 | Test acc: 0.791\n",
            "Epoch  49 | Train Loss: 2.944285204996959\n",
            "=========> Train acc: 0.998 | Test acc: 0.794\n"
          ]
        }
      ],
      "source": [
        "n_epochs = 50\n",
        "\n",
        "for epoch in range(n_epochs):\n",
        "    total_loss = 0.0\n",
        "    model.train()\n",
        "    for data in train_loader:\n",
        "        model.zero_grad()\n",
        "        inputs, labels = data\n",
        "        inputs, labels = inputs.to(\"mps\"), labels.to(\"mps\").float()\n",
        "\n",
        "        preds = model(inputs)[..., 0]\n",
        "        loss = loss_fn(preds, labels)\n",
        "        loss.backward()\n",
        "        optimizer.step()\n",
        "\n",
        "        total_loss += loss.item()\n",
        "\n",
        "    print(f\"Epoch {epoch:3d} | Train Loss: {total_loss}\")\n",
        "\n",
        "    with torch.no_grad():\n",
        "        model.eval()\n",
        "        train_acc = accuracy(model, train_loader)\n",
        "        test_acc = accuracy(model, test_loader)\n",
        "        print(f\"=========> Train acc: {train_acc:.3f} | Test acc: {test_acc:.3f}\")"
      ]
    },
    {
      "cell_type": "markdown",
      "metadata": {
        "id": "WqZays2yb8Ja"
      },
      "source": [
        "학습이 안정적으로 진행되며 RNN보다 빨리 수렴하는 것을 확인할 수 있습니다.\n",
        "하지만 test 정확도가 RNN보다 낮은 것을 보았을 때, overfitting에 취약하다는 것을 알 수 있습니다.\n"
      ]
    },
    {
      "cell_type": "code",
      "execution_count": null,
      "metadata": {
        "id": "NAXB6GgIQy1S"
      },
      "outputs": [],
      "source": []
    }
  ],
  "metadata": {
    "accelerator": "GPU",
    "colab": {
      "gpuType": "T4",
      "provenance": []
    },
    "kernelspec": {
      "display_name": "Python 3 (ipykernel)",
      "language": "python",
      "name": "python3"
    },
    "language_info": {
      "codemirror_mode": {
        "name": "ipython",
        "version": 3
      },
      "file_extension": ".py",
      "mimetype": "text/x-python",
      "name": "python",
      "nbconvert_exporter": "python",
      "pygments_lexer": "ipython3",
      "version": "3.12.6"
    }
  },
  "nbformat": 4,
  "nbformat_minor": 0
}
