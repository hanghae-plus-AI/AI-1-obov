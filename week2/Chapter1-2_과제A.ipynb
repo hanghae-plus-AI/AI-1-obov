{
  "cells": [
    {
      "cell_type": "markdown",
      "metadata": {
        "id": "ymxatB5WYxlL"
      },
      "source": [
        "# Multi-head attention(MHA) 구현\n"
      ]
    },
    {
      "cell_type": "code",
      "execution_count": 1,
      "metadata": {
        "id": "HOdhoBVA1zcu"
      },
      "outputs": [
        {
          "name": "stderr",
          "output_type": "stream",
          "text": [
            "Using cache found in /Users/obov/.cache/torch/hub/huggingface_pytorch-transformers_main\n",
            "/Users/obov/Library/Caches/pypoetry/virtualenvs/week2-1X3A57rW-py3.12/lib/python3.12/site-packages/transformers/tokenization_utils_base.py:1601: FutureWarning: `clean_up_tokenization_spaces` was not set. It will be set to `True` by default. This behavior will be depracted in transformers v4.45, and will be then set to `False` by default. For more details check this issue: https://github.com/huggingface/transformers/issues/31884\n",
            "  warnings.warn(\n"
          ]
        }
      ],
      "source": [
        "import torch\n",
        "from datasets import load_dataset\n",
        "from torch.utils.data import DataLoader\n",
        "from transformers import BertTokenizerFast\n",
        "from tokenizers import (\n",
        "    decoders,\n",
        "    models,\n",
        "    normalizers,\n",
        "    pre_tokenizers,\n",
        "    processors,\n",
        "    trainers,\n",
        "    Tokenizer,\n",
        ")\n",
        "\n",
        "\n",
        "ds = load_dataset(\"stanfordnlp/imdb\")\n",
        "tokenizer = torch.hub.load(\n",
        "    \"huggingface/pytorch-transformers\", \"tokenizer\", \"bert-base-uncased\"\n",
        ")\n",
        "\n",
        "\n",
        "def collate_fn(batch):\n",
        "    max_len = 400\n",
        "    texts, labels = [], []\n",
        "    for row in batch:\n",
        "        labels.append(row[\"label\"])\n",
        "        texts.append(row[\"text\"])\n",
        "\n",
        "    texts = torch.LongTensor(\n",
        "        tokenizer(texts, padding=True, truncation=True, max_length=max_len).input_ids\n",
        "    )\n",
        "    labels = torch.LongTensor(labels)\n",
        "\n",
        "    return texts, labels\n",
        "\n",
        "\n",
        "train_loader = DataLoader(\n",
        "    ds[\"train\"], batch_size=64, shuffle=True, collate_fn=collate_fn\n",
        ")\n",
        "test_loader = DataLoader(\n",
        "    ds[\"test\"], batch_size=64, shuffle=False, collate_fn=collate_fn\n",
        ")"
      ]
    },
    {
      "cell_type": "code",
      "execution_count": 2,
      "metadata": {},
      "outputs": [
        {
          "data": {
            "text/plain": [
              "{'text': 'I rented I AM CURIOUS-YELLOW from my video store because of all the controversy that surrounded it when it was first released in 1967. I also heard that at first it was seized by U.S. customs if it ever tried to enter this country, therefore being a fan of films considered \"controversial\" I really had to see this for myself.<br /><br />The plot is centered around a young Swedish drama student named Lena who wants to learn everything she can about life. In particular she wants to focus her attentions to making some sort of documentary on what the average Swede thought about certain political issues such as the Vietnam War and race issues in the United States. In between asking politicians and ordinary denizens of Stockholm about their opinions on politics, she has sex with her drama teacher, classmates, and married men.<br /><br />What kills me about I AM CURIOUS-YELLOW is that 40 years ago, this was considered pornographic. Really, the sex and nudity scenes are few and far between, even then it\\'s not shot like some cheaply made porno. While my countrymen mind find it shocking, in reality sex and nudity are a major staple in Swedish cinema. Even Ingmar Bergman, arguably their answer to good old boy John Ford, had sex scenes in his films.<br /><br />I do commend the filmmakers for the fact that any sex shown in the film is shown for artistic purposes rather than just to shock people and make money to be shown in pornographic theaters in America. I AM CURIOUS-YELLOW is a good film for anyone wanting to study the meat and potatoes (no pun intended) of Swedish cinema. But really, this film doesn\\'t have much of a plot.',\n",
              " 'label': 0}"
            ]
          },
          "execution_count": 2,
          "metadata": {},
          "output_type": "execute_result"
        }
      ],
      "source": [
        "ds[\"train\"][0]"
      ]
    },
    {
      "cell_type": "markdown",
      "metadata": {
        "id": "i-FshZcTZBQ2"
      },
      "source": [
        "## Self-attention\n"
      ]
    },
    {
      "cell_type": "code",
      "execution_count": 3,
      "metadata": {
        "id": "MBlMVMZcRAxv"
      },
      "outputs": [],
      "source": [
        "from torch import nn\n",
        "from math import sqrt\n",
        "\n",
        "\n",
        "class SelfAttention(nn.Module):\n",
        "    def __init__(self, input_dim, d_model):\n",
        "        super().__init__()\n",
        "\n",
        "        self.input_dim = input_dim\n",
        "        self.d_model = d_model\n",
        "\n",
        "        self.wq = nn.Linear(input_dim, d_model)\n",
        "        self.wk = nn.Linear(input_dim, d_model)\n",
        "        self.wv = nn.Linear(input_dim, d_model)\n",
        "        self.dense = nn.Linear(d_model, d_model)\n",
        "\n",
        "        self.softmax = nn.Softmax(dim=-1)\n",
        "\n",
        "    def forward(self, x, mask):\n",
        "        q, k, v = self.wq(x), self.wk(x), self.wv(x)\n",
        "        score = torch.matmul(\n",
        "            q, k.transpose(-1, -2)\n",
        "        )  # (B, S, D) * (B, D, S) = (B, S, S)\n",
        "        score = score / sqrt(self.d_model)\n",
        "\n",
        "        if mask is not None:\n",
        "            score = score + (mask * -1e9)\n",
        "\n",
        "        score = self.softmax(score)\n",
        "        result = torch.matmul(score, v)\n",
        "        result = self.dense(result)\n",
        "\n",
        "        return result"
      ]
    },
    {
      "cell_type": "markdown",
      "metadata": {},
      "source": [
        "## Multi-Head Attention\n",
        "\n",
        "ref : [4-2. Transformer(Multi-head Attention) [초등학생도 이해하는 자연어처리]](https://codingopera.tistory.com/44)\n"
      ]
    },
    {
      "cell_type": "code",
      "execution_count": 4,
      "metadata": {},
      "outputs": [],
      "source": [
        "class MultiHeadAttention(nn.Module):\n",
        "\n",
        "    def __init__(\n",
        "        self,\n",
        "        input_dim,\n",
        "        d_model,\n",
        "        n_heads,\n",
        "    ):\n",
        "        super().__init__()\n",
        "\n",
        "        self.input_dim = input_dim\n",
        "        self.d_model = d_model\n",
        "        self.n_heads = n_heads\n",
        "\n",
        "        assert (\n",
        "            d_model % n_heads == 0\n",
        "        ), f\"d_model ({d_model}) must be a multiple of n_heads ({n_heads})\"\n",
        "\n",
        "        self.d_prime = self.d_model // self.n_heads\n",
        "\n",
        "        self.wqkvs = nn.ModuleList(\n",
        "            [\n",
        "                nn.ModuleDict(\n",
        "                    {\n",
        "                        \"wq\": nn.Linear(input_dim, self.d_prime),\n",
        "                        \"wk\": nn.Linear(input_dim, self.d_prime),\n",
        "                        \"wv\": nn.Linear(input_dim, self.d_prime),\n",
        "                    }\n",
        "                )\n",
        "                for _ in range(self.n_heads)\n",
        "            ]\n",
        "        )\n",
        "\n",
        "        self.dense = nn.Linear(d_model, d_model)\n",
        "\n",
        "        self.softmax = nn.Softmax(dim=-1)\n",
        "\n",
        "    def forward(self, x, mask):\n",
        "        results = []\n",
        "        for wqkv in self.wqkvs:\n",
        "            q, k, v = wqkv[\"wq\"](x), wqkv[\"wk\"](x), wqkv[\"wv\"](x)\n",
        "            score = torch.matmul(\n",
        "                q,\n",
        "                k.transpose(-1, -2),\n",
        "            )  # (B, S, D') * (B, D', S) = (B, S, S)\n",
        "            score = score / sqrt(self.d_prime)\n",
        "\n",
        "            if mask is not None:\n",
        "                score = score + (mask * -1e9)\n",
        "\n",
        "            score = self.softmax(score)\n",
        "            result = torch.matmul(\n",
        "                score,  # (B, S, S)\n",
        "                v,  # (B, S, D')\n",
        "            )  # (B, S, D')\n",
        "            results.append(result)\n",
        "        results = torch.cat(results, dim=-1)  # (B, S, D' * n_heads)\n",
        "        output = self.dense(results)\n",
        "        return output"
      ]
    },
    {
      "cell_type": "code",
      "execution_count": 5,
      "metadata": {
        "id": "VZHPCn9AS5Gp"
      },
      "outputs": [],
      "source": [
        "class TransformerLayer(nn.Module):\n",
        "\n",
        "    def __init__(self, input_dim, d_model, dff, n_heads, dropout_prob=0.3):\n",
        "        super().__init__()\n",
        "\n",
        "        self.input_dim = input_dim\n",
        "        self.d_model = d_model\n",
        "        self.dff = dff\n",
        "\n",
        "        self.mha = MultiHeadAttention(input_dim, d_model, n_heads)\n",
        "        self.ffn = nn.Sequential(\n",
        "            nn.Linear(d_model, dff), nn.ReLU(), nn.Linear(dff, d_model)\n",
        "        )\n",
        "        self.dropout = nn.Dropout(dropout_prob)\n",
        "        self.layer_norm_mha = nn.LayerNorm(normalized_shape=d_model)\n",
        "        self.layer_norm_ffn = nn.LayerNorm(normalized_shape=d_model)\n",
        "\n",
        "    def forward(self, x, mask):\n",
        "        x1 = self.mha(x, mask)\n",
        "        x1 = self.dropout(x1)\n",
        "        x1 = self.layer_norm_mha(x + x1)\n",
        "\n",
        "        x2 = self.ffn(x1)\n",
        "        x2 = self.dropout(x2)\n",
        "        x2 = self.layer_norm_ffn(x1 + x2)\n",
        "\n",
        "        return x2"
      ]
    },
    {
      "cell_type": "code",
      "execution_count": 6,
      "metadata": {
        "colab": {
          "base_uri": "https://localhost:8080/"
        },
        "id": "Uf_jMQWDUR79",
        "outputId": "534712be-1522-4d32-81b7-87f50a6f1f2a"
      },
      "outputs": [
        {
          "name": "stdout",
          "output_type": "stream",
          "text": [
            "torch.Size([1, 400, 256])\n"
          ]
        }
      ],
      "source": [
        "import numpy as np\n",
        "\n",
        "\n",
        "def get_angles(pos, i, d_model):\n",
        "    angle_rates = 1 / np.power(10000, (2 * (i // 2)) / np.float32(d_model))\n",
        "    return pos * angle_rates\n",
        "\n",
        "\n",
        "def positional_encoding(position, d_model):\n",
        "    angle_rads = get_angles(\n",
        "        np.arange(position)[:, None], np.arange(d_model)[None, :], d_model\n",
        "    )\n",
        "    angle_rads[:, 0::2] = np.sin(angle_rads[:, 0::2])\n",
        "    angle_rads[:, 1::2] = np.cos(angle_rads[:, 1::2])\n",
        "    pos_encoding = angle_rads[None, ...]\n",
        "\n",
        "    return torch.FloatTensor(pos_encoding)\n",
        "\n",
        "\n",
        "max_len = 400\n",
        "print(positional_encoding(max_len, 256).shape)"
      ]
    },
    {
      "cell_type": "code",
      "execution_count": 7,
      "metadata": {
        "id": "8MaiCGh8TsDH"
      },
      "outputs": [],
      "source": [
        "class TextClassifier(nn.Module):\n",
        "\n",
        "    def __init__(self, vocab_size, d_model, n_layers, dff, n_heads):\n",
        "        super().__init__()\n",
        "\n",
        "        self.vocab_size = vocab_size\n",
        "        self.d_model = d_model\n",
        "        self.n_layers = n_layers\n",
        "        self.dff = dff\n",
        "\n",
        "        self.embedding = nn.Embedding(vocab_size, d_model)\n",
        "        self.pos_encoding = nn.parameter.Parameter(\n",
        "            positional_encoding(max_len, d_model), requires_grad=False\n",
        "        )\n",
        "        self.layers = nn.ModuleList(\n",
        "            [TransformerLayer(d_model, d_model, dff, n_heads) for _ in range(n_layers)]\n",
        "        )\n",
        "        self.classification = nn.Linear(d_model, 1)\n",
        "\n",
        "    def forward(self, x):\n",
        "        mask = x == tokenizer.pad_token_id\n",
        "        mask = mask[:, None, :]\n",
        "        seq_len = x.shape[1]\n",
        "\n",
        "        x = self.embedding(x)\n",
        "        x = x * sqrt(self.d_model)\n",
        "        x = x + self.pos_encoding[:, :seq_len]\n",
        "\n",
        "        for layer in self.layers:\n",
        "            x = layer(x, mask)\n",
        "\n",
        "        x = x[:, 0]\n",
        "        x = self.classification(x)\n",
        "\n",
        "        return x\n",
        "\n",
        "\n",
        "model = TextClassifier(\n",
        "    len(tokenizer),\n",
        "    n_layers=5,\n",
        "    dff=32,\n",
        "    d_model=32,\n",
        "    n_heads=4,\n",
        ")"
      ]
    },
    {
      "cell_type": "code",
      "execution_count": 8,
      "metadata": {
        "id": "YHVVsWBPQmnv",
        "outputId": "64b5790f-7649-4a47-95f8-bebe158aba4f"
      },
      "outputs": [],
      "source": [
        "from torch.optim import Adam\n",
        "\n",
        "lr = 0.001\n",
        "model = model.to(\"mps\")\n",
        "loss_fn = nn.BCEWithLogitsLoss()\n",
        "\n",
        "optimizer = Adam(model.parameters(), lr=lr)"
      ]
    },
    {
      "cell_type": "code",
      "execution_count": 9,
      "metadata": {
        "id": "r88BALxO1zc1"
      },
      "outputs": [],
      "source": [
        "import numpy as np\n",
        "import matplotlib.pyplot as plt\n",
        "\n",
        "\n",
        "def accuracy(model, dataloader):\n",
        "    cnt = 0\n",
        "    acc = 0\n",
        "\n",
        "    for data in dataloader:\n",
        "        inputs, labels = data\n",
        "        inputs, labels = inputs.to(\"mps\"), labels.to(\"mps\")\n",
        "\n",
        "        preds = model(inputs)\n",
        "        # preds = torch.argmax(preds, dim=-1)\n",
        "        preds = (preds > 0).long()[..., 0]\n",
        "\n",
        "        cnt += labels.shape[0]\n",
        "        acc += (labels == preds).sum().item()\n",
        "\n",
        "    return acc / cnt"
      ]
    },
    {
      "cell_type": "code",
      "execution_count": 10,
      "metadata": {
        "colab": {
          "base_uri": "https://localhost:8080/"
        },
        "id": "al_b56TYRILq",
        "outputId": "90a56264-4ef3-4def-e7b7-df4b5cd3c305"
      },
      "outputs": [
        {
          "name": "stdout",
          "output_type": "stream",
          "text": [
            "Epoch   0 | Train Loss: 214.78111991286278\n",
            "=========> Train acc: 0.827 | Test acc: 0.794\n",
            "Epoch   1 | Train Loss: 147.92469283938408\n",
            "=========> Train acc: 0.884 | Test acc: 0.828\n",
            "Epoch   2 | Train Loss: 118.70207646489143\n",
            "=========> Train acc: 0.911 | Test acc: 0.836\n",
            "Epoch   3 | Train Loss: 98.51892942935228\n",
            "=========> Train acc: 0.936 | Test acc: 0.836\n",
            "Epoch   4 | Train Loss: 79.79251596704125\n",
            "=========> Train acc: 0.951 | Test acc: 0.841\n",
            "Epoch   5 | Train Loss: 62.12182881683111\n",
            "=========> Train acc: 0.973 | Test acc: 0.839\n",
            "Epoch   6 | Train Loss: 46.894546557217836\n",
            "=========> Train acc: 0.979 | Test acc: 0.835\n",
            "Epoch   7 | Train Loss: 37.05629785917699\n",
            "=========> Train acc: 0.984 | Test acc: 0.831\n",
            "Epoch   8 | Train Loss: 30.979308831039816\n",
            "=========> Train acc: 0.973 | Test acc: 0.815\n",
            "Epoch   9 | Train Loss: 27.247907468117774\n",
            "=========> Train acc: 0.991 | Test acc: 0.833\n",
            "Epoch  10 | Train Loss: 23.932512262370437\n",
            "=========> Train acc: 0.991 | Test acc: 0.825\n",
            "Epoch  11 | Train Loss: 21.707260602153838\n",
            "=========> Train acc: 0.993 | Test acc: 0.833\n",
            "Epoch  12 | Train Loss: 18.88194440724328\n",
            "=========> Train acc: 0.986 | Test acc: 0.826\n",
            "Epoch  13 | Train Loss: 18.209259648807347\n",
            "=========> Train acc: 0.985 | Test acc: 0.812\n",
            "Epoch  14 | Train Loss: 16.862782891606912\n",
            "=========> Train acc: 0.994 | Test acc: 0.831\n",
            "Epoch  15 | Train Loss: 17.150204468052834\n",
            "=========> Train acc: 0.994 | Test acc: 0.833\n",
            "Epoch  16 | Train Loss: 17.33229437400587\n",
            "=========> Train acc: 0.994 | Test acc: 0.829\n",
            "Epoch  17 | Train Loss: 16.230745107401162\n",
            "=========> Train acc: 0.994 | Test acc: 0.830\n",
            "Epoch  18 | Train Loss: 14.630568507593125\n",
            "=========> Train acc: 0.995 | Test acc: 0.829\n",
            "Epoch  19 | Train Loss: 13.613751774886623\n",
            "=========> Train acc: 0.995 | Test acc: 0.830\n",
            "Epoch  20 | Train Loss: 15.708040362223983\n",
            "=========> Train acc: 0.990 | Test acc: 0.825\n",
            "Epoch  21 | Train Loss: 13.217197318328544\n",
            "=========> Train acc: 0.994 | Test acc: 0.830\n",
            "Epoch  22 | Train Loss: 13.842610074672848\n",
            "=========> Train acc: 0.994 | Test acc: 0.826\n",
            "Epoch  23 | Train Loss: 12.831911166198552\n",
            "=========> Train acc: 0.995 | Test acc: 0.824\n",
            "Epoch  24 | Train Loss: 13.672610154142603\n",
            "=========> Train acc: 0.995 | Test acc: 0.828\n",
            "Epoch  25 | Train Loss: 13.23499957821332\n",
            "=========> Train acc: 0.996 | Test acc: 0.827\n",
            "Epoch  26 | Train Loss: 10.899936711182818\n",
            "=========> Train acc: 0.995 | Test acc: 0.827\n",
            "Epoch  27 | Train Loss: 12.574457349488512\n",
            "=========> Train acc: 0.995 | Test acc: 0.829\n",
            "Epoch  28 | Train Loss: 11.611109589226544\n",
            "=========> Train acc: 0.996 | Test acc: 0.828\n",
            "Epoch  29 | Train Loss: 12.01627918658778\n",
            "=========> Train acc: 0.994 | Test acc: 0.825\n",
            "Epoch  30 | Train Loss: 13.312420133501291\n",
            "=========> Train acc: 0.996 | Test acc: 0.827\n",
            "Epoch  31 | Train Loss: 11.311232049018145\n",
            "=========> Train acc: 0.993 | Test acc: 0.825\n",
            "Epoch  32 | Train Loss: 11.411159758688882\n",
            "=========> Train acc: 0.994 | Test acc: 0.823\n",
            "Epoch  33 | Train Loss: 10.12631630548276\n",
            "=========> Train acc: 0.996 | Test acc: 0.824\n",
            "Epoch  34 | Train Loss: 11.39844856178388\n",
            "=========> Train acc: 0.994 | Test acc: 0.823\n",
            "Epoch  35 | Train Loss: 11.254682787694037\n",
            "=========> Train acc: 0.997 | Test acc: 0.827\n",
            "Epoch  36 | Train Loss: 11.804947765544057\n",
            "=========> Train acc: 0.996 | Test acc: 0.825\n",
            "Epoch  37 | Train Loss: 9.988188583869487\n",
            "=========> Train acc: 0.997 | Test acc: 0.828\n",
            "Epoch  38 | Train Loss: 10.2171305550728\n",
            "=========> Train acc: 0.996 | Test acc: 0.827\n",
            "Epoch  39 | Train Loss: 11.395222085295245\n",
            "=========> Train acc: 0.996 | Test acc: 0.827\n",
            "Epoch  40 | Train Loss: 11.495595229789615\n",
            "=========> Train acc: 0.995 | Test acc: 0.828\n",
            "Epoch  41 | Train Loss: 10.246429967693985\n",
            "=========> Train acc: 0.994 | Test acc: 0.823\n",
            "Epoch  42 | Train Loss: 10.648851755773649\n",
            "=========> Train acc: 0.995 | Test acc: 0.827\n",
            "Epoch  43 | Train Loss: 11.117880052886903\n",
            "=========> Train acc: 0.995 | Test acc: 0.828\n",
            "Epoch  44 | Train Loss: 10.536290795309469\n",
            "=========> Train acc: 0.996 | Test acc: 0.829\n",
            "Epoch  45 | Train Loss: 10.470498979906552\n",
            "=========> Train acc: 0.996 | Test acc: 0.823\n",
            "Epoch  46 | Train Loss: 9.355291837826371\n",
            "=========> Train acc: 0.996 | Test acc: 0.830\n",
            "Epoch  47 | Train Loss: 9.908788894419558\n",
            "=========> Train acc: 0.996 | Test acc: 0.825\n",
            "Epoch  48 | Train Loss: 8.97464000468608\n",
            "=========> Train acc: 0.996 | Test acc: 0.828\n",
            "Epoch  49 | Train Loss: 8.681518040481023\n",
            "=========> Train acc: 0.997 | Test acc: 0.828\n"
          ]
        }
      ],
      "source": [
        "n_epochs = 50\n",
        "\n",
        "for epoch in range(n_epochs):\n",
        "    total_loss = 0.0\n",
        "    model.train()\n",
        "    for data in train_loader:\n",
        "        model.zero_grad()\n",
        "        inputs, labels = data\n",
        "        inputs, labels = inputs.to(\"mps\"), labels.to(\"mps\").float()\n",
        "\n",
        "        preds = model(inputs)[..., 0]\n",
        "        loss = loss_fn(preds, labels)\n",
        "        loss.backward()\n",
        "        optimizer.step()\n",
        "\n",
        "        total_loss += loss.item()\n",
        "\n",
        "    print(f\"Epoch {epoch:3d} | Train Loss: {total_loss}\")\n",
        "\n",
        "    with torch.no_grad():\n",
        "        model.eval()\n",
        "        train_acc = accuracy(model, train_loader)\n",
        "        test_acc = accuracy(model, test_loader)\n",
        "        print(f\"=========> Train acc: {train_acc:.3f} | Test acc: {test_acc:.3f}\")"
      ]
    },
    {
      "cell_type": "markdown",
      "metadata": {},
      "source": [
        "- 위의 결과를 봤을 때 과연 학습이 되었나 라는 생각이 듭니다. train: 0.827 → 0.997 , test: 0.794 → 0.828 로 실질적으로 80% -> 83% 로 성능이 5%도 상승하지 못했습니다. 물론 오버 피팅도 있지만, 그보다 좀 근본적인 부분에 문제가 있을 수 도 있다고 생각합니다. 예를들어 train 데이터 셋과 test 데이터 셋에 어떤 편향 같은 게 있지 않을까 생각해봅니다.\n"
      ]
    }
  ],
  "metadata": {
    "accelerator": "GPU",
    "colab": {
      "gpuType": "T4",
      "provenance": []
    },
    "kernelspec": {
      "display_name": "Python 3 (ipykernel)",
      "language": "python",
      "name": "python3"
    },
    "language_info": {
      "codemirror_mode": {
        "name": "ipython",
        "version": 3
      },
      "file_extension": ".py",
      "mimetype": "text/x-python",
      "name": "python",
      "nbconvert_exporter": "python",
      "pygments_lexer": "ipython3",
      "version": "3.12.6"
    }
  },
  "nbformat": 4,
  "nbformat_minor": 0
}
