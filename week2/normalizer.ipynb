{
 "cells": [
  {
   "cell_type": "code",
   "execution_count": 1,
   "metadata": {},
   "outputs": [
    {
     "name": "stdout",
     "output_type": "stream",
     "text": [
      "tensor([[ 0.5851,  0.3620, -0.4604, -1.6451, -1.5661,  0.3649,  0.9562,  1.7379,\n",
      "         -0.0417, -0.2928],\n",
      "        [ 0.0932, -0.0224,  1.1108,  0.7692,  0.2050,  0.9626, -0.5022,  0.5412,\n",
      "         -2.4916, -0.6657]], grad_fn=<NativeLayerNormBackward0>)\n"
     ]
    }
   ],
   "source": [
    "import torch\n",
    "import torch.nn as nn\n",
    "\n",
    "# LayerNorm을 사용할 텐서의 차원을 입력으로 전달합니다.\n",
    "layer_norm = nn.LayerNorm(normalized_shape=10)\n",
    "\n",
    "# 예시 입력 텐서 (배치 크기 2, 길이 10의 텐서)\n",
    "x = torch.randn(2, 10)\n",
    "\n",
    "# Layer Normalization 적용\n",
    "output = layer_norm(x)\n",
    "print(output)"
   ]
  }
 ],
 "metadata": {
  "kernelspec": {
   "display_name": "week2-1X3A57rW-py3.12",
   "language": "python",
   "name": "python3"
  },
  "language_info": {
   "codemirror_mode": {
    "name": "ipython",
    "version": 3
   },
   "file_extension": ".py",
   "mimetype": "text/x-python",
   "name": "python",
   "nbconvert_exporter": "python",
   "pygments_lexer": "ipython3",
   "version": "3.12.6"
  }
 },
 "nbformat": 4,
 "nbformat_minor": 2
}
