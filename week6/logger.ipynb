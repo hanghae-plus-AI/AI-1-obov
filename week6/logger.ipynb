{
 "cells": [
  {
   "cell_type": "code",
   "execution_count": 2,
   "metadata": {},
   "outputs": [
    {
     "name": "stderr",
     "output_type": "stream",
     "text": [
      "DEBUG:root:This is a debug message.\n",
      "\u001b[34mDEBUG: This is a debug message.\u001b[0m\n",
      "INFO:root:This is an info message.\n",
      "\u001b[32mINFO: This is an info message.\u001b[0m\n",
      "WARNING:root:This is a warning message.\n",
      "\u001b[33mWARNING: This is a warning message.\u001b[0m\n",
      "ERROR:root:This is an error message.\n",
      "\u001b[31mERROR: This is an error message.\u001b[0m\n"
     ]
    }
   ],
   "source": [
    "import logging\n",
    "import colorlog\n",
    "\n",
    "# 로거 생성\n",
    "logger = logging.getLogger()\n",
    "logger.setLevel(logging.DEBUG)\n",
    "\n",
    "# 콘솔 핸들러 생성\n",
    "console_handler = logging.StreamHandler()\n",
    "console_handler.setLevel(logging.DEBUG)\n",
    "\n",
    "# Colorlog 포매터 추가\n",
    "formatter = colorlog.ColoredFormatter(\n",
    "    \"%(log_color)s%(levelname)s: %(message)s\",\n",
    "    log_colors={\n",
    "        \"DEBUG\": \"blue\",\n",
    "        \"INFO\": \"green\",\n",
    "        \"WARNING\": \"yellow\",\n",
    "        \"ERROR\": \"red\",\n",
    "    },\n",
    ")\n",
    "console_handler.setFormatter(formatter)\n",
    "\n",
    "# 핸들러를 로거에 추가\n",
    "logger.addHandler(console_handler)\n",
    "\n",
    "# 로깅 테스트\n",
    "logger.debug(\"This is a debug message.\")\n",
    "logger.info(\"This is an info message.\")\n",
    "logger.warning(\"This is a warning message.\")\n",
    "logger.error(\"This is an error message.\")"
   ]
  },
  {
   "cell_type": "code",
   "execution_count": 3,
   "metadata": {},
   "outputs": [
    {
     "name": "stderr",
     "output_type": "stream",
     "text": [
      "DEBUG:root:hi\n",
      "\u001b[34mDEBUG: hi\u001b[0m\n"
     ]
    }
   ],
   "source": [
    "logger.debug(\"hi\")"
   ]
  },
  {
   "cell_type": "code",
   "execution_count": 5,
   "metadata": {},
   "outputs": [
    {
     "name": "stderr",
     "output_type": "stream",
     "text": [
      "\u001b[34mDEBUG: This is a debug message.\u001b[0m\n",
      "\u001b[36mINFO: This is an info message.\u001b[0m\n",
      "\u001b[33mWARNING: This is a warning message.\u001b[0m\n",
      "\u001b[31mERROR: This is an error message.\u001b[0m\n"
     ]
    }
   ],
   "source": [
    "import logging\n",
    "import colorlog\n",
    "\n",
    "# 로거 생성\n",
    "logger = logging.getLogger()\n",
    "\n",
    "# 기존에 등록된 모든 핸들러 제거\n",
    "if logger.hasHandlers():\n",
    "    logger.handlers.clear()\n",
    "\n",
    "logger.setLevel(logging.DEBUG)\n",
    "\n",
    "# 콘솔 핸들러 생성\n",
    "console_handler = logging.StreamHandler()\n",
    "console_handler.setLevel(logging.DEBUG)\n",
    "\n",
    "# Colorlog 포매터 추가\n",
    "formatter = colorlog.ColoredFormatter(\n",
    "    \"%(log_color)s%(levelname)s: %(message)s\",\n",
    "    log_colors={\n",
    "        \"DEBUG\": \"blue\",\n",
    "        \"INFO\": \"cyan\",\n",
    "        \"WARNING\": \"yellow\",\n",
    "        \"ERROR\": \"red\",\n",
    "    },\n",
    ")\n",
    "console_handler.setFormatter(formatter)\n",
    "\n",
    "# 핸들러를 로거에 추가\n",
    "logger.addHandler(console_handler)\n",
    "\n",
    "# 로깅 테스트\n",
    "logger.debug(\"This is a debug message.\")\n",
    "logger.info(\"This is an info message.\")\n",
    "logger.warning(\"This is a warning message.\")\n",
    "logger.error(\"This is an error message.\")"
   ]
  },
  {
   "cell_type": "code",
   "execution_count": 17,
   "metadata": {},
   "outputs": [
    {
     "name": "stderr",
     "output_type": "stream",
     "text": [
      "10/21/2024 08:54:20 PM \u001b[34mDEBUG\u001b[0m: This is a debug message.\u001b[0m\n",
      "10/21/2024 08:54:20 PM \u001b[36mINFO\u001b[0m: This is an info message.\u001b[0m\n",
      "10/21/2024 08:54:20 PM \u001b[33mWARNING\u001b[0m: This is a warning message.\u001b[0m\n",
      "10/21/2024 08:54:20 PM \u001b[1;31mERROR\u001b[0m: This is an error message.\u001b[0m\n"
     ]
    }
   ],
   "source": [
    "import logging\n",
    "import colorlog\n",
    "\n",
    "# 로거 생성\n",
    "logger = logging.getLogger()\n",
    "\n",
    "# 기존 핸들러 삭제\n",
    "if logger.hasHandlers():\n",
    "    logger.handlers.clear()\n",
    "\n",
    "logger.setLevel(logging.DEBUG)\n",
    "\n",
    "# 콘솔 핸들러 생성\n",
    "console_handler = logging.StreamHandler()\n",
    "console_handler.setLevel(logging.DEBUG)\n",
    "\n",
    "# Colorlog 포매터 추가 (로그 레벨만 색상 적용)\n",
    "formatter = colorlog.ColoredFormatter(\n",
    "    \"%(asctime)s %(log_color)s%(levelname)s%(reset)s: %(message)s\",\n",
    "    log_colors={\n",
    "        \"DEBUG\": \"blue\",\n",
    "        \"INFO\": \"cyan\",\n",
    "        \"WARNING\": \"yellow\",\n",
    "        \"ERROR\": \"bold_red\",\n",
    "    },\n",
    "    datefmt=\"%m/%d/%Y %I:%M:%S %p\",  # 날짜 형식 지정\n",
    ")\n",
    "\n",
    "console_handler.setFormatter(formatter)\n",
    "\n",
    "# 핸들러를 로거에 추가\n",
    "logger.addHandler(console_handler)\n",
    "\n",
    "# 로깅 테스트\n",
    "logger.debug(\"This is a debug message.\")\n",
    "logger.info(\"This is an info message.\")\n",
    "logger.warning(\"This is a warning message.\")\n",
    "logger.error(\"This is an error message.\")"
   ]
  },
  {
   "cell_type": "code",
   "execution_count": null,
   "metadata": {},
   "outputs": [],
   "source": []
  }
 ],
 "metadata": {
  "kernelspec": {
   "display_name": "week6-CVmFIjue-py3.12",
   "language": "python",
   "name": "python3"
  },
  "language_info": {
   "codemirror_mode": {
    "name": "ipython",
    "version": 3
   },
   "file_extension": ".py",
   "mimetype": "text/x-python",
   "name": "python",
   "nbconvert_exporter": "python",
   "pygments_lexer": "ipython3",
   "version": "3.12.6"
  }
 },
 "nbformat": 4,
 "nbformat_minor": 2
}
