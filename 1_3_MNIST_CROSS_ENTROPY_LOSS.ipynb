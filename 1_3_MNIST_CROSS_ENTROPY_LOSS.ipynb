{
  "cells": [
    {
      "cell_type": "markdown",
      "metadata": {
        "colab_type": "text",
        "id": "view-in-github"
      },
      "source": [
        "<a href=\"https://colab.research.google.com/github/obov/mnist/blob/main/1_3_MNIST.ipynb\" target=\"_parent\"><img src=\"https://colab.research.google.com/assets/colab-badge.svg\" alt=\"Open In Colab\"/></a>"
      ]
    },
    {
      "cell_type": "markdown",
      "metadata": {
        "id": "OPJenlrhihrh"
      },
      "source": [
        "# MNIST 실습\n",
        "\n",
        "이번에는 28x28 흑백 손글씨 이미지를 보고 0~9 사이의 숫자 중 어떤 숫자를 쓴 것인지 예측하는 문제를 실습합니다.\n",
        "이번 실습에서는 GPU를 활용할 것이기 때문에, 이전 챕터에서 Colab에서 GPU를 설정하는 방법을 따라해주시길 바랍니다.\n",
        "\n",
        "GPU를 설정했으면 library들을 import합니다."
      ]
    },
    {
      "cell_type": "code",
      "execution_count": 16,
      "metadata": {
        "id": "6lXVfXoDtoQh"
      },
      "outputs": [],
      "source": [
        "import torch\n",
        "import torchvision\n",
        "import torchvision.transforms as transforms"
      ]
    },
    {
      "cell_type": "markdown",
      "metadata": {
        "id": "pF-1zQvmiult"
      },
      "source": [
        "다음은 dataset을 준비합니다. 손글씨 dataset은 MNIST라는 유명한 dataset이 있습니다. 이 dataset은 `torchvision`에서 제공하고 있으며, 다음과 같이 다운로드 받을 수 있습니다."
      ]
    },
    {
      "cell_type": "code",
      "execution_count": 17,
      "metadata": {
        "colab": {
          "base_uri": "https://localhost:8080/"
        },
        "id": "KAYlqPaRt6ti",
        "outputId": "67e51d96-85b4-4129-efc8-7938006afdd4"
      },
      "outputs": [
        {
          "name": "stdout",
          "output_type": "stream",
          "text": [
            "Downloading http://yann.lecun.com/exdb/mnist/train-images-idx3-ubyte.gz\n",
            "Failed to download (trying next):\n",
            "HTTP Error 403: Forbidden\n",
            "\n",
            "Downloading https://ossci-datasets.s3.amazonaws.com/mnist/train-images-idx3-ubyte.gz\n",
            "Downloading https://ossci-datasets.s3.amazonaws.com/mnist/train-images-idx3-ubyte.gz to ./data/MNIST/raw/train-images-idx3-ubyte.gz\n"
          ]
        },
        {
          "name": "stderr",
          "output_type": "stream",
          "text": [
            "100.0%\n"
          ]
        },
        {
          "name": "stdout",
          "output_type": "stream",
          "text": [
            "Extracting ./data/MNIST/raw/train-images-idx3-ubyte.gz to ./data/MNIST/raw\n",
            "\n",
            "Downloading http://yann.lecun.com/exdb/mnist/train-labels-idx1-ubyte.gz\n",
            "Failed to download (trying next):\n",
            "HTTP Error 403: Forbidden\n",
            "\n",
            "Downloading https://ossci-datasets.s3.amazonaws.com/mnist/train-labels-idx1-ubyte.gz\n",
            "Downloading https://ossci-datasets.s3.amazonaws.com/mnist/train-labels-idx1-ubyte.gz to ./data/MNIST/raw/train-labels-idx1-ubyte.gz\n"
          ]
        },
        {
          "name": "stderr",
          "output_type": "stream",
          "text": [
            "100.0%\n"
          ]
        },
        {
          "name": "stdout",
          "output_type": "stream",
          "text": [
            "Extracting ./data/MNIST/raw/train-labels-idx1-ubyte.gz to ./data/MNIST/raw\n",
            "\n",
            "Downloading http://yann.lecun.com/exdb/mnist/t10k-images-idx3-ubyte.gz\n",
            "Failed to download (trying next):\n",
            "HTTP Error 403: Forbidden\n",
            "\n",
            "Downloading https://ossci-datasets.s3.amazonaws.com/mnist/t10k-images-idx3-ubyte.gz\n",
            "Downloading https://ossci-datasets.s3.amazonaws.com/mnist/t10k-images-idx3-ubyte.gz to ./data/MNIST/raw/t10k-images-idx3-ubyte.gz\n"
          ]
        },
        {
          "name": "stderr",
          "output_type": "stream",
          "text": [
            "100.0%\n"
          ]
        },
        {
          "name": "stdout",
          "output_type": "stream",
          "text": [
            "Extracting ./data/MNIST/raw/t10k-images-idx3-ubyte.gz to ./data/MNIST/raw\n",
            "\n",
            "Downloading http://yann.lecun.com/exdb/mnist/t10k-labels-idx1-ubyte.gz\n",
            "Failed to download (trying next):\n",
            "HTTP Error 403: Forbidden\n",
            "\n",
            "Downloading https://ossci-datasets.s3.amazonaws.com/mnist/t10k-labels-idx1-ubyte.gz\n",
            "Downloading https://ossci-datasets.s3.amazonaws.com/mnist/t10k-labels-idx1-ubyte.gz to ./data/MNIST/raw/t10k-labels-idx1-ubyte.gz\n"
          ]
        },
        {
          "name": "stderr",
          "output_type": "stream",
          "text": [
            "100.0%"
          ]
        },
        {
          "name": "stdout",
          "output_type": "stream",
          "text": [
            "Extracting ./data/MNIST/raw/t10k-labels-idx1-ubyte.gz to ./data/MNIST/raw\n",
            "\n"
          ]
        },
        {
          "name": "stderr",
          "output_type": "stream",
          "text": [
            "\n"
          ]
        }
      ],
      "source": [
        "transform = transforms.ToTensor()\n",
        "\n",
        "trainset = torchvision.datasets.MNIST(\n",
        "    root='./data',\n",
        "    train=True,\n",
        "    download=True,\n",
        "    transform=transform\n",
        ")"
      ]
    },
    {
      "cell_type": "markdown",
      "metadata": {
        "id": "p-GqH7_ZjVMs"
      },
      "source": [
        "MNIST는 손글씨 사진과 어떤 숫자를 의미하는지에 대한 label의 pair들로 구성되어있습니다.\n",
        "이 때, 우리는 PyTorch model을 사용할 것이기 때문에 손글씨 사진들을 모두 tensor로 변환해야합니다.\n",
        "이러한 부가적인 변환들은 `torchvision.transforms`에서 제공하고 있으며, `torchvision.datasets.MNIST`에서 `transform` 인자로 받을 수 있습니다.\n",
        "우리는 단순히 사진을 tensor로 바꾸고 싶기 때문에 `transforms.ToTensor()` transformation을 넘겨줍니다.\n",
        "\n",
        "다음은 전체 data의 개수와 첫 번째 data를 출력한 결과입니다."
      ]
    },
    {
      "cell_type": "code",
      "execution_count": 18,
      "metadata": {
        "colab": {
          "base_uri": "https://localhost:8080/",
          "height": 481
        },
        "id": "Zsp3sHmojyhT",
        "outputId": "3511bb75-e677-4fb8-894b-69e22c80f4bc"
      },
      "outputs": [
        {
          "name": "stdout",
          "output_type": "stream",
          "text": [
            "60000\n",
            "torch.Size([1, 28, 28]) 5\n"
          ]
        },
        {
          "data": {
            "text/plain": [
              "<matplotlib.image.AxesImage at 0x12efa05f0>"
            ]
          },
          "execution_count": 18,
          "metadata": {},
          "output_type": "execute_result"
        },
        {
          "data": {
            "image/png": "[encoded data removed]",
            "text/plain": [
              "<Figure size 640x480 with 1 Axes>"
            ]
          },
          "metadata": {},
          "output_type": "display_data"
        }
      ],
      "source": [
        "from matplotlib import pyplot as plt\n",
        "\n",
        "\n",
        "print(len(trainset))\n",
        "print(trainset[0][0].shape, trainset[0][1])\n",
        "plt.imshow(trainset[0][0][0], cmap='gray')"
      ]
    },
    {
      "cell_type": "markdown",
      "metadata": {
        "id": "udm8wDBsi301"
      },
      "source": [
        "첫 번째 출력결과를 통해 우리는 6만장의 손글씨 data가 있는 것을 알 수 있습니다.\n",
        "그리고 두 번째 출력결과를 통해 첫 번째 data의 shape은 (1, 28, 28)이고 5라는 숫자를 쓴 사진이라는 것을 알 수 있습니다.\n",
        "마지막으로 `plt.imshow`를 통해 visualize 했을 때 5라는 숫자가 나오는 것을 알 수 있습니다.\n",
        "\n",
        "다음은 SGD를 위해 dataset을 여러 개의 batch로 나누는 과정을 PyTorch로 구현한 모습입니다."
      ]
    },
    {
      "cell_type": "code",
      "execution_count": 19,
      "metadata": {
        "id": "UxKu3kA2i5WH"
      },
      "outputs": [],
      "source": [
        "from torch.utils.data import Subset\n",
        "\n",
        "\n",
        "batch_size = 64\n",
        "# 0부터 47999까지는 훈련용, 48000부터 59999까지는 검증용으로 설정\n",
        "train_indices = list(range(48000))\n",
        "val_indices = list(range(48000, 60000))\n",
        "\n",
        "train_dataset = Subset(trainset, train_indices)\n",
        "val_dataset = Subset(trainset, val_indices)\n",
        "\n",
        "train_loader = torch.utils.data.DataLoader(\n",
        "    train_dataset, \n",
        "    batch_size=batch_size,\n",
        "    shuffle=True\n",
        ")\n",
        "val_loader = torch.utils.data.DataLoader(\n",
        "    val_dataset,\n",
        "    batch_size=batch_size, \n",
        "    shuffle=False\n",
        ")"
      ]
    },
    {
      "cell_type": "markdown",
      "metadata": {
        "id": "z4Qyrm4WlzWt"
      },
      "source": [
        "PyTorch에서는 `DataLoader`가 dataset을 인자로 받아 batch로 나눠줍니다.\n",
        "부가적으로 `batch_size`라는 인자를 통해 batch size를 받고 있으며, `shuffle`이라는 인자를 통해 data들을 섞을지 결정해줍니다.\n",
        "우리는 SGD가 완전 랜덤으로 batch를 구성해야 잘 동작하는 것을 알고 있기 때문에 `shuffle`에 `True`를 넘겨주고 있습니다.\n",
        "\n",
        "다음은 첫 번째 batch를 출력한 모습입니다."
      ]
    },
    {
      "cell_type": "code",
      "execution_count": 20,
      "metadata": {
        "colab": {
          "base_uri": "https://localhost:8080/"
        },
        "id": "_Hd7XxyAvVNz",
        "outputId": "185acb61-2ed7-4110-b325-c0e016ca60b0"
      },
      "outputs": [
        {
          "name": "stdout",
          "output_type": "stream",
          "text": [
            "torch.Size([64, 1, 28, 28]) torch.Size([64])\n"
          ]
        }
      ],
      "source": [
        "dataiter = iter(train_loader)\n",
        "images, labels = next(dataiter)\n",
        "print(images.shape, labels.shape)"
      ]
    },
    {
      "cell_type": "markdown",
      "metadata": {
        "id": "h0ZY5mDimRUK"
      },
      "source": [
        "`images`는 첫 번째 batch의 image들이고 `labels`는 첫 번째 batch의 label들입니다.\n",
        "위에서 batch size를 64로 설정했기 때문에 총 64개의 image와 label들이 있어야 합니다.\n",
        "실제 shape 출력 결과를 보면 그렇다는 것을 알 수 있습니다.\n",
        "\n",
        "다음은 (n, 1, 28, 28) shape의 image를 입력받아 0~9 사이의 정수 하나를 출력하는 3-layer MLP를 구현합니다."
      ]
    },
    {
      "cell_type": "code",
      "execution_count": 21,
      "metadata": {
        "id": "OLOA-ZGTuVVG"
      },
      "outputs": [],
      "source": [
        "from torch import nn\n",
        "\n",
        "output_dim = 10\n",
        "\n",
        "class Model(nn.Module):\n",
        "  def __init__(self, input_dim, n_dim):\n",
        "    super().__init__()\n",
        "\n",
        "    self.layer1 = nn.Linear(input_dim, n_dim)\n",
        "    self.layer2 = nn.Linear(n_dim, n_dim)\n",
        "    self.layer3 = nn.Linear(n_dim, output_dim)\n",
        "\n",
        "    self.act = nn.ReLU()\n",
        "\n",
        "  def forward(self, x):\n",
        "    x = torch.flatten(x, start_dim=1)\n",
        "    x = self.act(self.layer1(x))\n",
        "    x = self.act(self.layer2(x))\n",
        "    x = self.layer3(x) # 마지막 레이어에서는 활성화 함수 필요 없음\n",
        "\n",
        "    return x\n",
        "\n",
        "\n",
        "model = Model(28 * 28 * 1, 1024)"
      ]
    },
    {
      "cell_type": "markdown",
      "metadata": {
        "id": "tag1rNcwmnAr"
      },
      "source": [
        "이전의 2-layer MLP와 유사한 형태임을 알 수 있습니다.\n",
        "여기서 특이사항은 `forward`의 첫 번째 줄에 `torch.flatten`을 사용한다는 것입니다.\n",
        "`Linear`는 이전에도 봤다시피 (n, d) 형태의 shape을 입력받습니다.\n",
        "이미지는 (n, 1, 28, 28)이기 때문에 (n, 1 * 28 * 28)로 shape을 변환해야 선형 함수에 입력으로 주어줄 수 있게 됩니다.\n",
        "이 역할을 수행하는 것이 바로 `torch.flatten`입니다.\n",
        "우리는 첫 번째 shape인 n을 보존할 것이기 때문에 flatten할 차원은 `start_dim=1`로 넘겨주게 됩니다.\n",
        "\n",
        "다음은 gradient descent를 수행해줄 optimizer를 구현하는 모습입니다."
      ]
    },
    {
      "cell_type": "code",
      "execution_count": 22,
      "metadata": {
        "id": "ypS0TcOlvBhZ"
      },
      "outputs": [],
      "source": [
        "from torch.optim import SGD\n",
        "\n",
        "if torch.backends.mps.is_available():\n",
        "    device = torch.device(\"mps\")\n",
        "    model = model.to(device)\n",
        "else:\n",
        "    device = torch.device(\"cpu\")\n",
        "    model = model.to(device)\n",
        "    print(\"MPS를 사용할 수 없습니다. CPU로 실행됩니다.\")\n",
        "\n",
        "lr = 0.001\n",
        "\n",
        "optimizer = SGD(model.parameters(), lr=lr)"
      ]
    },
    {
      "cell_type": "markdown",
      "metadata": {
        "id": "5PooeOKMnRfZ"
      },
      "source": [
        "이전 코드와 거의 똑같습니다. 다른 점은 `model.to('cuda')` 코드를 통해 우리가 구현한 model을 GPU로 옮긴 것입니다.\n",
        "MNIST 부터는 모델과 data가 커지면서 훨씬 많은 행렬 연산이 이루어지기 때문에 GPU를 활용하는 것이 빠릅니다.\n",
        "\n",
        "다음은 model을 MNIST에 학습하는 코드입니다."
      ]
    },
    {
      "cell_type": "code",
      "execution_count": 23,
      "metadata": {
        "colab": {
          "base_uri": "https://localhost:8080/"
        },
        "id": "TryX1hewvNiB",
        "outputId": "4e4a9282-d49a-40ff-c26c-d00fb7c0af79"
      },
      "outputs": [
        {
          "name": "stdout",
          "output_type": "stream",
          "text": [
            "Epoch   0 | Training Loss: 1711.5603\n",
            "Epoch   0 | Validation Loss: 423.9959\n",
            "Epoch   1 | Training Loss: 1669.7671\n",
            "Epoch   1 | Validation Loss: 411.8422\n",
            "Epoch   2 | Training Loss: 1612.1990\n",
            "Epoch   2 | Validation Loss: 393.9694\n",
            "Epoch   3 | Training Loss: 1524.4385\n",
            "Epoch   3 | Validation Loss: 366.3619\n",
            "Epoch   4 | Training Loss: 1390.9920\n",
            "Epoch   4 | Validation Loss: 325.7697\n",
            "Epoch   5 | Training Loss: 1209.4975\n",
            "Epoch   5 | Validation Loss: 275.1008\n",
            "Epoch   6 | Training Loss: 1009.8147\n",
            "Epoch   6 | Validation Loss: 225.7611\n",
            "Epoch   7 | Training Loss: 836.7014\n",
            "Epoch   7 | Validation Loss: 186.8352\n",
            "Epoch   8 | Training Loss: 707.7516\n",
            "Epoch   8 | Validation Loss: 158.9955\n",
            "Epoch   9 | Training Loss: 615.5517\n",
            "Epoch   9 | Validation Loss: 139.1497\n",
            "Epoch  10 | Training Loss: 548.8388\n",
            "Epoch  10 | Validation Loss: 124.5575\n",
            "Epoch  11 | Training Loss: 498.8522\n",
            "Epoch  11 | Validation Loss: 113.5674\n",
            "Epoch  12 | Training Loss: 460.5467\n",
            "Epoch  12 | Validation Loss: 105.1149\n",
            "Epoch  13 | Training Loss: 430.2222\n",
            "Epoch  13 | Validation Loss: 98.3680\n",
            "Epoch  14 | Training Loss: 405.7005\n",
            "Epoch  14 | Validation Loss: 92.9963\n",
            "Epoch  15 | Training Loss: 385.6785\n",
            "Epoch  15 | Validation Loss: 88.5670\n",
            "Epoch  16 | Training Loss: 368.9461\n",
            "Epoch  16 | Validation Loss: 84.8535\n",
            "Epoch  17 | Training Loss: 354.7555\n",
            "Epoch  17 | Validation Loss: 81.6686\n",
            "Epoch  18 | Training Loss: 342.5610\n",
            "Epoch  18 | Validation Loss: 79.0559\n",
            "Epoch  19 | Training Loss: 332.0375\n",
            "Epoch  19 | Validation Loss: 76.7167\n",
            "Epoch  20 | Training Loss: 322.8274\n",
            "Epoch  20 | Validation Loss: 74.6400\n",
            "Epoch  21 | Training Loss: 314.7760\n",
            "Epoch  21 | Validation Loss: 72.9116\n",
            "Epoch  22 | Training Loss: 307.5192\n",
            "Epoch  22 | Validation Loss: 71.2725\n",
            "Epoch  23 | Training Loss: 301.0320\n",
            "Epoch  23 | Validation Loss: 69.8114\n",
            "Epoch  24 | Training Loss: 295.2069\n",
            "Epoch  24 | Validation Loss: 68.5632\n",
            "Epoch  25 | Training Loss: 289.8978\n",
            "Epoch  25 | Validation Loss: 67.4167\n",
            "Epoch  26 | Training Loss: 284.9614\n",
            "Epoch  26 | Validation Loss: 66.3359\n",
            "Epoch  27 | Training Loss: 280.4893\n",
            "Epoch  27 | Validation Loss: 65.3448\n",
            "Epoch  28 | Training Loss: 276.3939\n",
            "Epoch  28 | Validation Loss: 64.3923\n",
            "Epoch  29 | Training Loss: 272.5308\n",
            "Epoch  29 | Validation Loss: 63.5785\n",
            "Epoch  30 | Training Loss: 268.9577\n",
            "Epoch  30 | Validation Loss: 62.7801\n",
            "Epoch  31 | Training Loss: 265.5575\n",
            "Epoch  31 | Validation Loss: 62.0547\n",
            "Epoch  32 | Training Loss: 262.3551\n",
            "Epoch  32 | Validation Loss: 61.3556\n",
            "Epoch  33 | Training Loss: 259.3359\n",
            "Epoch  33 | Validation Loss: 60.7022\n",
            "Epoch  34 | Training Loss: 256.5083\n",
            "Epoch  34 | Validation Loss: 60.0918\n",
            "Epoch  35 | Training Loss: 253.7825\n",
            "Epoch  35 | Validation Loss: 59.4855\n",
            "Epoch  36 | Training Loss: 251.2266\n",
            "Epoch  36 | Validation Loss: 58.8937\n",
            "Epoch  37 | Training Loss: 248.7476\n",
            "Epoch  37 | Validation Loss: 58.3766\n",
            "Epoch  38 | Training Loss: 246.3604\n",
            "Epoch  38 | Validation Loss: 57.8555\n",
            "Epoch  39 | Training Loss: 244.0233\n",
            "Epoch  39 | Validation Loss: 57.3530\n",
            "Epoch  40 | Training Loss: 241.9334\n",
            "Epoch  40 | Validation Loss: 56.8267\n",
            "Epoch  41 | Training Loss: 239.7863\n",
            "Epoch  41 | Validation Loss: 56.3965\n",
            "Epoch  42 | Training Loss: 237.7343\n",
            "Epoch  42 | Validation Loss: 55.9375\n",
            "Epoch  43 | Training Loss: 235.7472\n",
            "Epoch  43 | Validation Loss: 55.5271\n",
            "Epoch  44 | Training Loss: 233.8372\n",
            "Epoch  44 | Validation Loss: 55.0634\n",
            "Epoch  45 | Training Loss: 231.9686\n",
            "Epoch  45 | Validation Loss: 54.6578\n",
            "Epoch  46 | Training Loss: 230.1299\n",
            "Epoch  46 | Validation Loss: 54.2558\n",
            "Epoch  47 | Training Loss: 228.3064\n",
            "Epoch  47 | Validation Loss: 53.9159\n",
            "Epoch  48 | Training Loss: 226.6308\n",
            "Epoch  48 | Validation Loss: 53.5099\n",
            "Epoch  49 | Training Loss: 224.8973\n",
            "Epoch  49 | Validation Loss: 53.1985\n",
            "Epoch  50 | Training Loss: 223.2795\n",
            "Epoch  50 | Validation Loss: 52.8441\n",
            "Epoch  51 | Training Loss: 221.6907\n",
            "Epoch  51 | Validation Loss: 52.4607\n",
            "Epoch  52 | Training Loss: 220.1516\n",
            "Epoch  52 | Validation Loss: 52.0776\n",
            "Epoch  53 | Training Loss: 218.5476\n",
            "Epoch  53 | Validation Loss: 51.7857\n",
            "Epoch  54 | Training Loss: 216.9539\n",
            "Epoch  54 | Validation Loss: 51.4834\n",
            "Epoch  55 | Training Loss: 215.5786\n",
            "Epoch  55 | Validation Loss: 51.1654\n",
            "Epoch  56 | Training Loss: 214.1048\n",
            "Epoch  56 | Validation Loss: 50.8292\n",
            "Epoch  57 | Training Loss: 212.6527\n",
            "Epoch  57 | Validation Loss: 50.5607\n",
            "Epoch  58 | Training Loss: 211.2686\n",
            "Epoch  58 | Validation Loss: 50.2267\n",
            "Epoch  59 | Training Loss: 209.8777\n",
            "Epoch  59 | Validation Loss: 49.9629\n",
            "Epoch  60 | Training Loss: 208.5565\n",
            "Epoch  60 | Validation Loss: 49.6026\n",
            "Epoch  61 | Training Loss: 207.2015\n",
            "Epoch  61 | Validation Loss: 49.3557\n",
            "Epoch  62 | Training Loss: 205.8558\n",
            "Epoch  62 | Validation Loss: 49.0263\n",
            "Epoch  63 | Training Loss: 204.5399\n",
            "Epoch  63 | Validation Loss: 48.7731\n",
            "Epoch  64 | Training Loss: 203.2542\n",
            "Epoch  64 | Validation Loss: 48.5114\n",
            "Epoch  65 | Training Loss: 201.9877\n",
            "Epoch  65 | Validation Loss: 48.2639\n",
            "Epoch  66 | Training Loss: 200.7450\n",
            "Epoch  66 | Validation Loss: 47.9473\n",
            "Epoch  67 | Training Loss: 199.4871\n",
            "Epoch  67 | Validation Loss: 47.6879\n",
            "Epoch  68 | Training Loss: 198.2426\n",
            "Epoch  68 | Validation Loss: 47.4132\n",
            "Epoch  69 | Training Loss: 197.0298\n",
            "Epoch  69 | Validation Loss: 47.1632\n",
            "Epoch  70 | Training Loss: 195.8534\n",
            "Epoch  70 | Validation Loss: 46.9074\n",
            "Epoch  71 | Training Loss: 194.6315\n",
            "Epoch  71 | Validation Loss: 46.7129\n",
            "Epoch  72 | Training Loss: 193.4925\n",
            "Epoch  72 | Validation Loss: 46.4082\n",
            "Epoch  73 | Training Loss: 192.3010\n",
            "Epoch  73 | Validation Loss: 46.2084\n",
            "Epoch  74 | Training Loss: 191.1554\n",
            "Epoch  74 | Validation Loss: 45.9491\n",
            "Epoch  75 | Training Loss: 189.9519\n",
            "Epoch  75 | Validation Loss: 45.7481\n",
            "Epoch  76 | Training Loss: 188.8874\n",
            "Epoch  76 | Validation Loss: 45.4464\n",
            "Epoch  77 | Training Loss: 187.7665\n",
            "Epoch  77 | Validation Loss: 45.2138\n",
            "Epoch  78 | Training Loss: 186.6804\n",
            "Epoch  78 | Validation Loss: 44.9732\n",
            "Epoch  79 | Training Loss: 185.5748\n",
            "Epoch  79 | Validation Loss: 44.7698\n",
            "Epoch  80 | Training Loss: 184.4814\n",
            "Epoch  80 | Validation Loss: 44.5580\n",
            "Epoch  81 | Training Loss: 183.4307\n",
            "Epoch  81 | Validation Loss: 44.3197\n",
            "Epoch  82 | Training Loss: 182.3846\n",
            "Epoch  82 | Validation Loss: 44.0647\n",
            "Epoch  83 | Training Loss: 181.3184\n",
            "Epoch  83 | Validation Loss: 43.8459\n",
            "Epoch  84 | Training Loss: 180.2861\n",
            "Epoch  84 | Validation Loss: 43.6431\n",
            "Epoch  85 | Training Loss: 179.2195\n",
            "Epoch  85 | Validation Loss: 43.3936\n",
            "Epoch  86 | Training Loss: 178.2420\n",
            "Epoch  86 | Validation Loss: 43.1964\n",
            "Epoch  87 | Training Loss: 177.2057\n",
            "Epoch  87 | Validation Loss: 43.0058\n",
            "Epoch  88 | Training Loss: 176.2183\n",
            "Epoch  88 | Validation Loss: 42.7823\n",
            "Epoch  89 | Training Loss: 175.2343\n",
            "Epoch  89 | Validation Loss: 42.5795\n",
            "Epoch  90 | Training Loss: 174.2537\n",
            "Epoch  90 | Validation Loss: 42.3687\n",
            "Epoch  91 | Training Loss: 173.1840\n",
            "Epoch  91 | Validation Loss: 42.1443\n",
            "Epoch  92 | Training Loss: 172.3183\n",
            "Epoch  92 | Validation Loss: 41.9329\n",
            "Epoch  93 | Training Loss: 171.2858\n",
            "Epoch  93 | Validation Loss: 41.7753\n",
            "Epoch  94 | Training Loss: 170.3350\n",
            "Epoch  94 | Validation Loss: 41.5695\n",
            "Epoch  95 | Training Loss: 169.4244\n",
            "Epoch  95 | Validation Loss: 41.4087\n",
            "Epoch  96 | Training Loss: 168.5425\n",
            "Epoch  96 | Validation Loss: 41.1915\n",
            "Epoch  97 | Training Loss: 167.5365\n",
            "Epoch  97 | Validation Loss: 40.9703\n",
            "Epoch  98 | Training Loss: 166.6917\n",
            "Epoch  98 | Validation Loss: 40.7982\n",
            "Epoch  99 | Training Loss: 165.7086\n",
            "Epoch  99 | Validation Loss: 40.6174\n"
          ]
        }
      ],
      "source": [
        "n_epochs = 100\n",
        "\n",
        "CEL = nn.CrossEntropyLoss()\n",
        "\n",
        "for epoch in range(n_epochs):\n",
        "    model.train()  # 훈련 모드로 전환\n",
        "    total_loss = 0.\n",
        "    \n",
        "    # 훈련 루프\n",
        "    for data in train_loader:\n",
        "        model.zero_grad()\n",
        "        inputs, labels = data\n",
        "        inputs, labels = inputs.to('mps'), labels.to('mps')\n",
        "\n",
        "        preds = model(inputs)\n",
        "        # loss = (preds[:, 0] - labels).pow(2).mean()\n",
        "        # 손실 계산\n",
        "        loss = CEL(preds, labels)\n",
        "        loss.backward()\n",
        "        optimizer.step()\n",
        "\n",
        "        total_loss += loss.item()\n",
        "\n",
        "    print(f\"Epoch {epoch:3d} | Training Loss: {total_loss:.4f}\")\n",
        "    \n",
        "    # 검증 루프\n",
        "    model.eval()  # 검증 모드로 전환\n",
        "    val_loss = 0.\n",
        "    with torch.no_grad():  # 검증할 때는 no_grad()를 사용하여 파라미터 업데이트를 하지 않음\n",
        "        for data in val_loader:\n",
        "            inputs, labels = data\n",
        "            inputs, labels = inputs.to('mps'), labels.to('mps')\n",
        "\n",
        "            preds = model(inputs)\n",
        "            # loss = (preds[:, 0] - labels).pow(2).mean()\n",
        "            # 손실 계산\n",
        "            loss = CEL(preds, labels)\n",
        "\n",
        "            val_loss += loss.item()\n",
        "    print(f\"Epoch {epoch:3d} | Validation Loss: {val_loss:.4f}\")"
      ]
    },
    {
      "cell_type": "markdown",
      "metadata": {
        "id": "YRDcptrqniX7"
      },
      "source": [
        "출력 결과를 보면 잘 수렴하는 것을 볼 수 있습니다.\n",
        "이전 구현과 다른 점은 다음 두 가지입니다.\n",
        "- `for data in trainloader`를 통해 batch들을 iterate하면서 model을 학습합니다.\n",
        "- `inputs, labels = inputs.to('cuda'), labels.to('cuda')`를 통해 model의 입력으로 들어가는 tensor들을 GPU로 보냅니다.\n",
        "\n",
        "마지막으로 첫 번째 data에 대한 예측 결과를 살펴봅시다."
      ]
    },
    {
      "cell_type": "code",
      "execution_count": 24,
      "metadata": {
        "colab": {
          "base_uri": "https://localhost:8080/"
        },
        "id": "Zct0ssSKwjt1",
        "outputId": "4a8d7062-1a43-4522-895e-cfebb9c02cdb"
      },
      "outputs": [
        {
          "name": "stdout",
          "output_type": "stream",
          "text": [
            "tensor([[ 0.8052, -3.1639,  1.5161,  5.5696, -7.6434,  7.6127, -3.8879,  0.4515,\n",
            "         -0.4014, -0.4364]], device='mps:0', grad_fn=<LinearBackward0>)\n",
            "5\n"
          ]
        }
      ],
      "source": [
        "idx = 0\n",
        "\n",
        "x = trainset[idx][0][None]  # (1, 1, 28, 28)\n",
        "x = x.to('mps')\n",
        "\n",
        "print(model(x))\n",
        "print(trainset[idx][1])"
      ]
    },
    {
      "cell_type": "markdown",
      "metadata": {
        "id": "qzgSOrMsoZ2z"
      },
      "source": [
        "여기서 idx를 조정하여 다른 data에 대한 출력 결과도 볼 수 있습니다.\n",
        "예측 결과를 보시면 아직 성능이 그렇게 좋지 않은 것을 알 수 있습니다."
      ]
    },
    {
      "cell_type": "code",
      "execution_count": 25,
      "metadata": {
        "id": "d6M4SpWQoML9"
      },
      "outputs": [],
      "source": [
        "def accuracy(model, dataloader):\n",
        "  cnt = 0\n",
        "  acc = 0\n",
        "\n",
        "  for data in dataloader:\n",
        "    inputs, labels = data\n",
        "    inputs, labels = inputs.to('cuda'), labels.to('cuda')\n",
        "\n",
        "    preds = model(inputs)\n",
        "    preds = torch.argmax(preds, dim=-1)\n",
        "\n",
        "    cnt += labels.shape[0]\n",
        "    acc += (labels == preds).sum().item()\n",
        "\n",
        "  return acc / cnt"
      ]
    }
  ],
  "metadata": {
    "accelerator": "GPU",
    "colab": {
      "gpuType": "T4",
      "include_colab_link": true,
      "provenance": []
    },
    "kernelspec": {
      "display_name": "Python 3",
      "name": "python3"
    },
    "language_info": {
      "codemirror_mode": {
        "name": "ipython",
        "version": 3
      },
      "file_extension": ".py",
      "mimetype": "text/x-python",
      "name": "python",
      "nbconvert_exporter": "python",
      "pygments_lexer": "ipython3",
      "version": "3.12.4"
    }
  },
  "nbformat": 4,
  "nbformat_minor": 0
}
