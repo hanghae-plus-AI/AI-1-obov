{
 "cells": [
  {
   "cell_type": "code",
   "execution_count": 2,
   "metadata": {},
   "outputs": [
    {
     "name": "stdout",
     "output_type": "stream",
     "text": [
      "tensor(3)\n",
      "tensor(3)\n",
      "torch.return_types.max(\n",
      "values=tensor([3, 2, 3]),\n",
      "indices=tensor([1, 0, 0]))\n",
      "torch.return_types.max(\n",
      "values=tensor([3, 3]),\n",
      "indices=tensor([2, 0]))\n"
     ]
    }
   ],
   "source": [
    "import torch\n",
    "\n",
    "x = torch.tensor([1, 2, 3])\n",
    "print(x.max())\n",
    "\n",
    "y = torch.tensor(\n",
    "    [\n",
    "        [1, 2, 3],\n",
    "        [3, 2, 3],\n",
    "    ]\n",
    ")\n",
    "print(y.max())\n",
    "print(y.max(dim=0))\n",
    "print(y.max(dim=1))"
   ]
  },
  {
   "cell_type": "code",
   "execution_count": 13,
   "metadata": {},
   "outputs": [
    {
     "name": "stdout",
     "output_type": "stream",
     "text": [
      "tensor(6.5000)\n",
      "tensor([[4., 5., 6.],\n",
      "        [7., 8., 9.]])\n",
      "tensor([[ 2.5000,  3.5000,  4.5000],\n",
      "        [ 8.5000,  9.5000, 10.5000]])\n",
      "tensor([[ 2.,  5.],\n",
      "        [ 8., 11.]])\n"
     ]
    }
   ],
   "source": [
    "x = torch.tensor(\n",
    "    [\n",
    "        [\n",
    "            [1, 2, 3],\n",
    "            [4, 5, 6],\n",
    "        ],\n",
    "        [\n",
    "            [7, 8, 9],\n",
    "            [10, 11, 12],\n",
    "        ],\n",
    "    ],\n",
    "    dtype=torch.long,\n",
    ")\n",
    "x = x.float()\n",
    "mean_result = x.mean()\n",
    "print(mean_result)\n",
    "mean_result = x.mean(dim=0)\n",
    "print(mean_result)\n",
    "mean_result = x.mean(dim=1)\n",
    "print(mean_result)\n",
    "mean_result = x.mean(dim=2)\n",
    "print(mean_result)"
   ]
  }
 ],
 "metadata": {
  "kernelspec": {
   "display_name": "week3-iJowBwG1-py3.12",
   "language": "python",
   "name": "python3"
  },
  "language_info": {
   "codemirror_mode": {
    "name": "ipython",
    "version": 3
   },
   "file_extension": ".py",
   "mimetype": "text/x-python",
   "name": "python",
   "nbconvert_exporter": "python",
   "pygments_lexer": "ipython3",
   "version": "3.12.6"
  }
 },
 "nbformat": 4,
 "nbformat_minor": 2
}
