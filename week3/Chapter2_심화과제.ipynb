{
  "cells": [
    {
      "cell_type": "markdown",
      "metadata": {
        "id": "sbgz49PvHhLt"
      },
      "source": [
        "# [3주차 심화과제] GPT로 뉴스 기사 분류 모델 학습하기\n"
      ]
    },
    {
      "cell_type": "code",
      "execution_count": 2,
      "metadata": {
        "colab": {
          "base_uri": "https://localhost:8080/"
        },
        "id": "6lGiZUoPby6e",
        "outputId": "592b19ee-1892-4821-fcef-24fe40cc185f"
      },
      "outputs": [
        {
          "name": "stderr",
          "output_type": "stream",
          "text": [
            "Downloading: \"https://github.com/huggingface/transformers/zipball/main\" to /Users/obov/.cache/torch/hub/main.zip\n"
          ]
        }
      ],
      "source": [
        "import torch\n",
        "from datasets import load_dataset\n",
        "from torch.utils.data import DataLoader\n",
        "\n",
        "tokenizer = torch.hub.load(\n",
        "    \"huggingface/transformers\",  # huggingface/pytorch-transformers 에서 huggingface/transformers 로 변경됨\n",
        "    \"tokenizer\",  # github.com/huggingface/transformers repo의 root에 'hubconf.py' 파일의 'tokenizer' 함수를 가져옴\n",
        "    \"openai-gpt\",  # tokenizer 함수의 인자로 전달됨\n",
        "    trust_repo=True,  # huggingface/transformers 를 믿을 수 있는 repo로 설정 -> 로컬의 trusted_list에 추가됨\n",
        "    clean_up_tokenization_spaces=True,  # 현재는 True가 default 이지만 향후 False가 default로 바뀔예정 : 문장 중간에 나오는 띄어쓰기와 관련된 이슈 > https://github.com/huggingface/transformers/issues/31884\n",
        ")\n",
        "\n",
        "tokenizer.pad_token = tokenizer.unk_token"
      ]
    },
    {
      "cell_type": "code",
      "execution_count": null,
      "metadata": {},
      "outputs": [],
      "source": [
        "ds = load_dataset(\"fancyzhx/ag_news\")\n",
        "\n",
        "ds"
      ]
    },
    {
      "cell_type": "code",
      "execution_count": null,
      "metadata": {},
      "outputs": [],
      "source": [
        "tokenizer(\n",
        "    ds[\"train\"][0][\"text\"],\n",
        "    padding=\"max_length\",\n",
        "    truncation=False,\n",
        "    max_length=400,\n",
        ").attention_mask"
      ]
    },
    {
      "cell_type": "code",
      "execution_count": null,
      "metadata": {},
      "outputs": [],
      "source": [
        "unique_labels = set(ds[\"train\"][\"label\"])\n",
        "count_of_label = len(unique_labels)\n",
        "count_of_label"
      ]
    },
    {
      "cell_type": "code",
      "execution_count": null,
      "metadata": {},
      "outputs": [],
      "source": [
        "label_names = ds[\"train\"].features[\"label\"].names\n",
        "\n",
        "label_names"
      ]
    },
    {
      "cell_type": "code",
      "execution_count": 8,
      "metadata": {
        "id": "rE-y8sY9HuwP"
      },
      "outputs": [],
      "source": [
        "def collate_fn(batch):\n",
        "    max_len = 400\n",
        "    texts, labels = [], []\n",
        "    for row in batch:\n",
        "        labels.append(row[\"label\"])\n",
        "        texts.append(row[\"text\"])\n",
        "\n",
        "    tokenized = tokenizer(\n",
        "        texts,\n",
        "        padding=\"max_length\",\n",
        "        truncation=False,\n",
        "        max_length=max_len,\n",
        "    )\n",
        "\n",
        "    texts = torch.LongTensor(tokenized.input_ids)\n",
        "    attention_mask = torch.LongTensor(tokenized.attention_mask)\n",
        "    labels = torch.LongTensor(labels)\n",
        "\n",
        "    return texts, attention_mask, labels\n",
        "\n",
        "\n",
        "train_loader = DataLoader(\n",
        "    ds[\"train\"], batch_size=64, shuffle=True, collate_fn=collate_fn\n",
        ")\n",
        "test_loader = DataLoader(\n",
        "    ds[\"test\"], batch_size=64, shuffle=False, collate_fn=collate_fn\n",
        ")"
      ]
    },
    {
      "cell_type": "code",
      "execution_count": null,
      "metadata": {
        "colab": {
          "base_uri": "https://localhost:8080/"
        },
        "id": "HJaUp2Vob0U-",
        "outputId": "4cabca2b-06ce-480c-d52a-1381a955464b"
      },
      "outputs": [],
      "source": [
        "model = torch.hub.load(\n",
        "    repo_or_dir=\"huggingface/pytorch-transformers\",\n",
        "    model=\"model\",\n",
        "    pretrained_model_name_or_path=\"distilbert-base-uncased\",\n",
        ")\n",
        "model"
      ]
    },
    {
      "cell_type": "code",
      "execution_count": null,
      "metadata": {
        "colab": {
          "base_uri": "https://localhost:8080/"
        },
        "id": "xW7ETZQzzNp2",
        "outputId": "acae0d36-0b4a-4c7c-a0cd-5171e7158cf2"
      },
      "outputs": [],
      "source": [
        "from torch import nn\n",
        "\n",
        "\n",
        "class TextClassifier(nn.Module):\n",
        "    def __init__(self):\n",
        "        super().__init__()\n",
        "\n",
        "        self.encoder = torch.hub.load(\n",
        "            repo_or_dir=\"huggingface/pytorch-transformers\",\n",
        "            model=\"model\",\n",
        "            pretrained_model_name_or_path=\"distilbert-base-uncased\",\n",
        "        )\n",
        "\n",
        "        self.classifier = nn.Linear(768, 4)\n",
        "\n",
        "    def forward(self, x, attention_mask):\n",
        "        x = self.encoder(x, attention_mask)[\"last_hidden_state\"]\n",
        "        x = self.classifier(x[:, 0])\n",
        "        return x\n",
        "\n",
        "\n",
        "model = TextClassifier()"
      ]
    },
    {
      "cell_type": "code",
      "execution_count": null,
      "metadata": {
        "id": "uyTciaPZ0KYo"
      },
      "outputs": [],
      "source": [
        "count_of_params = 0\n",
        "for param in model.encoder.parameters():\n",
        "    count_of_params += 1\n",
        "    param.requires_grad = False\n",
        "count_of_params"
      ]
    },
    {
      "cell_type": "code",
      "execution_count": null,
      "metadata": {
        "colab": {
          "base_uri": "https://localhost:8080/"
        },
        "id": "XvvaAEwCznt-",
        "outputId": "3363b8ca-7695-493f-96a0-5aa6b52d1d60"
      },
      "outputs": [],
      "source": [
        "from torch.optim import Adam\n",
        "import numpy as np\n",
        "import matplotlib.pyplot as plt\n",
        "\n",
        "\n",
        "lr = 0.001\n",
        "model = model.to(\"mps\")\n",
        "loss_fn = nn.CrossEntropyLoss()\n",
        "\n",
        "optimizer = Adam(model.parameters(), lr=lr)\n",
        "n_epochs = 10\n",
        "\n",
        "print_first_input = True\n",
        "\n",
        "for epoch in range(n_epochs):\n",
        "    total_loss = 0.0\n",
        "    model.train()\n",
        "    for data in train_loader:\n",
        "        model.zero_grad()\n",
        "        inputs, attention_mask, labels = data\n",
        "        inputs, attention_mask, labels = (\n",
        "            inputs.to(\"mps\"),\n",
        "            attention_mask.to(\"mps\"),\n",
        "            labels.to(\"mps\").float(),\n",
        "        )\n",
        "\n",
        "        preds = model(\n",
        "            inputs,\n",
        "            attention_mask=attention_mask,\n",
        "        )\n",
        "        if print_first_input:\n",
        "            print(\"preds\", preds)\n",
        "            print(\"labels\", labels)\n",
        "            print(\"Inputs:\", inputs)\n",
        "            print(\"attention_mask:\", attention_mask)\n",
        "            print(\"shape of preds\", preds.shape)\n",
        "            print(\"shape of labels\", labels.shape)\n",
        "            print_first_input = False\n",
        "        loss = loss_fn(preds, labels)\n",
        "        loss.backward()\n",
        "        optimizer.step()\n",
        "\n",
        "        total_loss += loss.item()\n",
        "\n",
        "    print(f\"Epoch {epoch:3d} | Train Loss: {total_loss}\")"
      ]
    },
    {
      "cell_type": "code",
      "execution_count": null,
      "metadata": {
        "colab": {
          "base_uri": "https://localhost:8080/"
        },
        "id": "DjphVwXL00E2",
        "outputId": "7526ec71-f015-4f26-8035-3091ed71869e"
      },
      "outputs": [],
      "source": [
        "def accuracy(model, dataloader):\n",
        "    cnt = 0\n",
        "    acc = 0\n",
        "\n",
        "    for data in dataloader:\n",
        "        inputs, attention_mask, labels = data\n",
        "        inputs, attention_mask, labels = (\n",
        "            inputs.to(\"mps\"),\n",
        "            attention_mask.to(\"mps\"),\n",
        "            labels.to(\"mps\"),\n",
        "        )\n",
        "\n",
        "        preds = model(inputs, attention_mask)\n",
        "        preds = torch.argmax(preds, dim=-1)\n",
        "        # preds = (preds > 0).long()[..., 0]\n",
        "\n",
        "        cnt += labels.shape[0]\n",
        "        acc += (labels == preds).sum().item()\n",
        "\n",
        "    return acc / cnt\n",
        "\n",
        "\n",
        "with torch.no_grad():\n",
        "    model.eval()\n",
        "    train_acc = accuracy(model, train_loader)\n",
        "    test_acc = accuracy(model, test_loader)\n",
        "    print(f\"=========> Train acc: {train_acc:.3f} | Test acc: {test_acc:.3f}\")"
      ]
    },
    {
      "cell_type": "code",
      "execution_count": null,
      "metadata": {
        "id": "Foks5u95ZQ1_"
      },
      "outputs": [],
      "source": [
        "ds[\"test\"]"
      ]
    },
    {
      "cell_type": "code",
      "execution_count": 16,
      "metadata": {},
      "outputs": [],
      "source": [
        "import random\n",
        "\n",
        "\n",
        "def pick_random_number():\n",
        "    return random.randint(0, 7599)"
      ]
    },
    {
      "cell_type": "code",
      "execution_count": 34,
      "metadata": {},
      "outputs": [],
      "source": [
        "rnd_num = pick_random_number()"
      ]
    }
  ],
  "metadata": {
    "accelerator": "GPU",
    "colab": {
      "gpuType": "T4",
      "provenance": []
    },
    "kernelspec": {
      "display_name": "Python 3",
      "name": "python3"
    },
    "language_info": {
      "codemirror_mode": {
        "name": "ipython",
        "version": 3
      },
      "file_extension": ".py",
      "mimetype": "text/x-python",
      "name": "python",
      "nbconvert_exporter": "python",
      "pygments_lexer": "ipython3",
      "version": "3.12.6"
    }
  },
  "nbformat": 4,
  "nbformat_minor": 0
}
