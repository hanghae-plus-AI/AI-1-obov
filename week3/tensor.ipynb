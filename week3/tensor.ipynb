{
 "cells": [
  {
   "cell_type": "code",
   "execution_count": 6,
   "metadata": {},
   "outputs": [
    {
     "name": "stdout",
     "output_type": "stream",
     "text": [
      "tensor(9., grad_fn=<PowBackward0>)\n",
      "tensor(9., grad_fn=<PowBackward0>)\n",
      "tensor(6.)\n",
      "tensor(3., requires_grad=True)\n"
     ]
    }
   ],
   "source": [
    "import torch\n",
    "\n",
    "# requires_grad=True로 설정된 텐서\n",
    "x = torch.tensor(3.0, requires_grad=True)\n",
    "\n",
    "# 연산 수행\n",
    "y = x**2  # x^2\n",
    "\n",
    "print(y)\n",
    "\n",
    "# 역전파를 통해 기울기 계산\n",
    "y.backward()\n",
    "\n",
    "print(y)\n",
    "\n",
    "# x에 대한 기울기 출력 (y = x^2 이므로, dy/dx = 2*x)\n",
    "print(x.grad)  # 출력: tensor(6.)\n",
    "print(x)"
   ]
  },
  {
   "cell_type": "code",
   "execution_count": 8,
   "metadata": {},
   "outputs": [
    {
     "name": "stdout",
     "output_type": "stream",
     "text": [
      "tensor(1., grad_fn=<PowBackward0>)\n",
      "x의 새로운 값: 2.799999952316284\n",
      "x의 기울기: 2.0\n"
     ]
    }
   ],
   "source": [
    "import torch\n",
    "import torch.nn as nn\n",
    "import torch.optim as optim\n",
    "\n",
    "# 예시 모델 파라미터 (x)\n",
    "x = torch.tensor(3.0, requires_grad=True)\n",
    "\n",
    "\n",
    "# 간단한 손실 함수 (예: y = (x-2)^2)\n",
    "def loss_fn(x):\n",
    "    return (x - 2) ** 2\n",
    "\n",
    "\n",
    "# 옵티마이저 정의 (SGD 옵티마이저, 학습률 0.1)\n",
    "optimizer = optim.SGD([x], lr=0.1)\n",
    "\n",
    "# 손실 함수 계산\n",
    "loss = loss_fn(x)\n",
    "\n",
    "print(loss)\n",
    "\n",
    "# 기울기 계산 (역전파)\n",
    "loss.backward()\n",
    "\n",
    "# 옵티마이저가 기울기와 학습률을 사용해 파라미터 업데이트\n",
    "optimizer.step()\n",
    "\n",
    "# 업데이트 후의 x 값과 기울기 출력\n",
    "print(f\"x의 새로운 값: {x.item()}\")\n",
    "print(f\"x의 기울기: {x.grad}\")"
   ]
  },
  {
   "cell_type": "code",
   "execution_count": 9,
   "metadata": {},
   "outputs": [
    {
     "name": "stdout",
     "output_type": "stream",
     "text": [
      "x의 새로운 값:\n",
      "tensor([[2.8000, 3.6000],\n",
      "        [4.4000, 5.2000]], requires_grad=True)\n",
      "x의 기울기:\n",
      "tensor([[2., 4.],\n",
      "        [6., 8.]])\n"
     ]
    }
   ],
   "source": [
    "import torch\n",
    "import torch.nn as nn\n",
    "import torch.optim as optim\n",
    "\n",
    "# 2차원 텐서 (2x2 행렬) 정의\n",
    "x = torch.tensor([[3.0, 4.0], [5.0, 6.0]], requires_grad=True)\n",
    "\n",
    "\n",
    "# 간단한 손실 함수 (예: y = (x-2)^2)\n",
    "def loss_fn(x):\n",
    "    return (x - 2) ** 2\n",
    "\n",
    "\n",
    "# 옵티마이저 정의 (SGD 옵티마이저, 학습률 0.1)\n",
    "optimizer = optim.SGD([x], lr=0.1)\n",
    "\n",
    "# 손실 함수 계산\n",
    "loss = loss_fn(x).sum()  # 각 원소에 대해 손실을 계산한 후 전체 손실의 합\n",
    "\n",
    "# 기울기 계산 (역전파)\n",
    "loss.backward()\n",
    "\n",
    "# 옵티마이저가 기울기와 학습률을 사용해 파라미터 업데이트\n",
    "optimizer.step()\n",
    "\n",
    "# 업데이트 후의 x 값과 기울기 출력\n",
    "print(f\"x의 새로운 값:\\n{x}\")\n",
    "print(f\"x의 기울기:\\n{x.grad}\")"
   ]
  }
 ],
 "metadata": {
  "kernelspec": {
   "display_name": "week3-iJowBwG1-py3.12",
   "language": "python",
   "name": "python3"
  },
  "language_info": {
   "codemirror_mode": {
    "name": "ipython",
    "version": 3
   },
   "file_extension": ".py",
   "mimetype": "text/x-python",
   "name": "python",
   "nbconvert_exporter": "python",
   "pygments_lexer": "ipython3",
   "version": "3.12.6"
  }
 },
 "nbformat": 4,
 "nbformat_minor": 2
}
