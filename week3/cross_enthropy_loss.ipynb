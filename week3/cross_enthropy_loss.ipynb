{
 "cells": [
  {
   "cell_type": "code",
   "execution_count": 4,
   "metadata": {},
   "outputs": [
    {
     "data": {
      "text/plain": [
       "tensor(1.2935)"
      ]
     },
     "execution_count": 4,
     "metadata": {},
     "output_type": "execute_result"
    }
   ],
   "source": [
    "import torch\n",
    "from torch import nn\n",
    "\n",
    "pred = torch.tensor(\n",
    "    [\n",
    "        [1.9902e-02, 2.5074e-01, -2.3254e-01, -8.3140e-02],\n",
    "        [-2.1045e-02, 1.7326e-01, -2.1292e-01, -3.0414e-01],\n",
    "        [-6.7079e-02, 1.2894e-01, -1.2479e-01, -3.1035e-01],\n",
    "    ]\n",
    ")\n",
    "label = torch.tensor(\n",
    "    [\n",
    "        0.0,\n",
    "        0.0,\n",
    "        1.0,\n",
    "    ]\n",
    ").long()\n",
    "cel = nn.CrossEntropyLoss()\n",
    "loss = cel(pred, label)\n",
    "loss"
   ]
  }
 ],
 "metadata": {
  "kernelspec": {
   "display_name": "week3-iJowBwG1-py3.12",
   "language": "python",
   "name": "python3"
  },
  "language_info": {
   "codemirror_mode": {
    "name": "ipython",
    "version": 3
   },
   "file_extension": ".py",
   "mimetype": "text/x-python",
   "name": "python",
   "nbconvert_exporter": "python",
   "pygments_lexer": "ipython3",
   "version": "3.12.6"
  }
 },
 "nbformat": 4,
 "nbformat_minor": 2
}
