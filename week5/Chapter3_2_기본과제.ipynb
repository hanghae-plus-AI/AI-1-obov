{
  "cells": [
    {
      "cell_type": "markdown",
      "metadata": {},
      "source": [
        "# [5주차 기본과제] 뉴스 기사 분류를 Gemma로 구현하기\n"
      ]
    },
    {
      "cell_type": "markdown",
      "metadata": {},
      "source": []
    },
    {
      "cell_type": "code",
      "execution_count": 88,
      "metadata": {},
      "outputs": [
        {
          "name": "stdout",
          "output_type": "stream",
          "text": [
            "The token has not been saved to the git credentials helper. Pass `add_to_git_credential=True` in this function directly or `--add-to-git-credential` if using via `huggingface-cli` if you want to set the git credential as well.\n",
            "Token is valid (permission: fineGrained).\n",
            "Your token has been saved to /Users/obov/.cache/huggingface/token\n",
            "Login successful\n"
          ]
        },
        {
          "data": {
            "application/vnd.jupyter.widget-view+json": {
              "model_id": "46ac2f621e9b42558f084a05e82558d7",
              "version_major": 2,
              "version_minor": 0
            },
            "text/plain": [
              "Loading checkpoint shards:   0%|          | 0/2 [00:00<?, ?it/s]"
            ]
          },
          "metadata": {},
          "output_type": "display_data"
        },
        {
          "name": "stderr",
          "output_type": "stream",
          "text": [
            "WARNING:root:Some parameters are on the meta device device because they were offloaded to the disk.\n"
          ]
        },
        {
          "data": {
            "application/vnd.jupyter.widget-view+json": {
              "model_id": "a32a7424632349c2bba21d3125aef162",
              "version_major": 2,
              "version_minor": 0
            },
            "text/plain": [
              "tokenizer_config.json:   0%|          | 0.00/47.0k [00:00<?, ?B/s]"
            ]
          },
          "metadata": {},
          "output_type": "display_data"
        },
        {
          "data": {
            "application/vnd.jupyter.widget-view+json": {
              "model_id": "99f37353cad14eb990381331f5794db6",
              "version_major": 2,
              "version_minor": 0
            },
            "text/plain": [
              "tokenizer.model:   0%|          | 0.00/4.24M [00:00<?, ?B/s]"
            ]
          },
          "metadata": {},
          "output_type": "display_data"
        },
        {
          "data": {
            "application/vnd.jupyter.widget-view+json": {
              "model_id": "fccd9d4a44de4f9b81aa169b8ad97b6b",
              "version_major": 2,
              "version_minor": 0
            },
            "text/plain": [
              "tokenizer.json:   0%|          | 0.00/17.5M [00:00<?, ?B/s]"
            ]
          },
          "metadata": {},
          "output_type": "display_data"
        },
        {
          "data": {
            "application/vnd.jupyter.widget-view+json": {
              "model_id": "b98d934adc2c47d9909c4b6b6f5e2929",
              "version_major": 2,
              "version_minor": 0
            },
            "text/plain": [
              "special_tokens_map.json:   0%|          | 0.00/636 [00:00<?, ?B/s]"
            ]
          },
          "metadata": {},
          "output_type": "display_data"
        },
        {
          "data": {
            "application/vnd.jupyter.widget-view+json": {
              "model_id": "28770c5900c84592a6e3fb930ce6d951",
              "version_major": 2,
              "version_minor": 0
            },
            "text/plain": [
              "Loading checkpoint shards:   0%|          | 0/2 [00:00<?, ?it/s]"
            ]
          },
          "metadata": {},
          "output_type": "display_data"
        }
      ],
      "source": [
        "import os\n",
        "from dotenv import load_dotenv\n",
        "\n",
        "load_dotenv()\n",
        "HF_TOKEN = os.environ.get(\"HF_TOKEN\")\n",
        "\n",
        "from huggingface_hub import login\n",
        "\n",
        "login(HF_TOKEN)\n",
        "from transformers import AutoTokenizer, AutoModelForCausalLM\n",
        "import torch\n",
        "\n",
        "tokenizer = AutoTokenizer.from_pretrained(\"google/gemma-2b\")\n",
        "model = AutoModelForCausalLM.from_pretrained(\"google/gemma-2b\", device_map=\"auto\")\n",
        "tokenizer = AutoTokenizer.from_pretrained(\"google/gemma-2-2b-it\")\n",
        "model = AutoModelForCausalLM.from_pretrained(\n",
        "    \"google/gemma-2-2b-it\",\n",
        "    device_map=\"auto\",\n",
        "    torch_dtype=torch.bfloat16,\n",
        ")"
      ]
    },
    {
      "cell_type": "code",
      "execution_count": 89,
      "metadata": {},
      "outputs": [
        {
          "data": {
            "text/plain": [
              "DatasetDict({\n",
              "    train: Dataset({\n",
              "        features: ['text', 'label'],\n",
              "        num_rows: 120000\n",
              "    })\n",
              "    test: Dataset({\n",
              "        features: ['text', 'label'],\n",
              "        num_rows: 7600\n",
              "    })\n",
              "})"
            ]
          },
          "execution_count": 89,
          "metadata": {},
          "output_type": "execute_result"
        }
      ],
      "source": [
        "from datasets import load_dataset\n",
        "\n",
        "\n",
        "news_ds = load_dataset(\"fancyzhx/ag_news\")\n",
        "news_ds"
      ]
    },
    {
      "cell_type": "code",
      "execution_count": 90,
      "metadata": {},
      "outputs": [
        {
          "data": {
            "text/plain": [
              "['Venezuelans Vote Early in Referendum on Chavez Rule (Reuters) Reuters - Venezuelans turned out early\\\\and in large numbers on Sunday to vote in a historic referendum\\\\that will either remove left-wing President Hugo Chavez from\\\\office or give him a new mandate to govern for the next two\\\\years.',\n",
              " 'S.Koreans Clash with Police on Iraq Troop Dispatch (Reuters) Reuters - South Korean police used water cannon in\\\\central Seoul Sunday to disperse at least 7,000 protesters\\\\urging the government to reverse a controversial decision to\\\\send more troops to Iraq.',\n",
              " \"Palestinians in Israeli Jails Start Hunger Strike (Reuters) Reuters - Thousands of Palestinian\\\\prisoners in Israeli jails began a hunger strike for better\\\\conditions Sunday, but Israel's security minister said he\\\\didn't care if they starved to death.\"]"
            ]
          },
          "execution_count": 90,
          "metadata": {},
          "output_type": "execute_result"
        }
      ],
      "source": [
        "world_ds = news_ds[\"train\"].filter(lambda data: data[\"label\"] == 0)\n",
        "world_ds[\"text\"][:3]"
      ]
    },
    {
      "cell_type": "code",
      "execution_count": 91,
      "metadata": {},
      "outputs": [
        {
          "data": {
            "text/plain": [
              "Dataset({\n",
              "    features: ['text', 'label'],\n",
              "    num_rows: 30000\n",
              "})"
            ]
          },
          "execution_count": 91,
          "metadata": {},
          "output_type": "execute_result"
        }
      ],
      "source": [
        "sports_ds = news_ds[\"train\"].filter(lambda data: data[\"label\"] == 1)\n",
        "sports_ds"
      ]
    },
    {
      "cell_type": "code",
      "execution_count": 92,
      "metadata": {},
      "outputs": [
        {
          "data": {
            "text/plain": [
              "Dataset({\n",
              "    features: ['text', 'label'],\n",
              "    num_rows: 30000\n",
              "})"
            ]
          },
          "execution_count": 92,
          "metadata": {},
          "output_type": "execute_result"
        }
      ],
      "source": [
        "business_ds = news_ds[\"train\"].filter(lambda data: data[\"label\"] == 2)\n",
        "business_ds"
      ]
    },
    {
      "cell_type": "code",
      "execution_count": 93,
      "metadata": {},
      "outputs": [
        {
          "data": {
            "text/plain": [
              "Dataset({\n",
              "    features: ['text', 'label'],\n",
              "    num_rows: 30000\n",
              "})"
            ]
          },
          "execution_count": 93,
          "metadata": {},
          "output_type": "execute_result"
        }
      ],
      "source": [
        "sci_tech_ds = news_ds[\"train\"].filter(lambda data: data[\"label\"] == 3)\n",
        "sci_tech_ds"
      ]
    },
    {
      "cell_type": "code",
      "execution_count": 94,
      "metadata": {},
      "outputs": [
        {
          "data": {
            "text/plain": [
              "{'text': Value(dtype='string', id=None),\n",
              " 'label': ClassLabel(names=['World', 'Sports', 'Business', 'Sci/Tech'], id=None)}"
            ]
          },
          "execution_count": 94,
          "metadata": {},
          "output_type": "execute_result"
        }
      ],
      "source": [
        "news_ds[\"train\"].features"
      ]
    },
    {
      "cell_type": "code",
      "execution_count": 95,
      "metadata": {},
      "outputs": [],
      "source": [
        "label_map = news_ds[\"train\"].features[\"label\"].names"
      ]
    },
    {
      "cell_type": "code",
      "execution_count": 97,
      "metadata": {},
      "outputs": [
        {
          "data": {
            "text/plain": [
              "DatasetInfo(description='', citation='', homepage='', license='', features={'text': Value(dtype='string', id=None), 'label': ClassLabel(names=['World', 'Sports', 'Business', 'Sci/Tech'], id=None)}, post_processed=None, supervised_keys=None, builder_name='parquet', dataset_name='ag_news', config_name='default', version=0.0.0, splits={'train': SplitInfo(name='train', num_bytes=29832303, num_examples=120000, shard_lengths=None, dataset_name='ag_news'), 'test': SplitInfo(name='test', num_bytes=1880424, num_examples=7600, shard_lengths=None, dataset_name='ag_news')}, download_checksums={'hf://datasets/fancyzhx/ag_news@eb185aade064a813bc0b7f42de02595523103ca4/data/train-00000-of-00001.parquet': {'num_bytes': 18585438, 'checksum': None}, 'hf://datasets/fancyzhx/ag_news@eb185aade064a813bc0b7f42de02595523103ca4/data/test-00000-of-00001.parquet': {'num_bytes': 1234829, 'checksum': None}}, download_size=19820267, post_processing_size=None, dataset_size=31712727, size_in_bytes=51532994)"
            ]
          },
          "execution_count": 97,
          "metadata": {},
          "output_type": "execute_result"
        }
      ],
      "source": [
        "news_ds[\"train\"].info"
      ]
    },
    {
      "cell_type": "code",
      "execution_count": 98,
      "metadata": {},
      "outputs": [
        {
          "name": "stdout",
          "output_type": "stream",
          "text": [
            "DatasetInfo(description='',\n",
            "            citation='',\n",
            "            homepage='',\n",
            "            license='',\n",
            "            features={'label': ClassLabel(names=['World',\n",
            "                                                 'Sports',\n",
            "                                                 'Business',\n",
            "                                                 'Sci/Tech'],\n",
            "                                          id=None),\n",
            "                      'text': Value(dtype='string', id=None)},\n",
            "            post_processed=None,\n",
            "            supervised_keys=None,\n",
            "            builder_name='parquet',\n",
            "            dataset_name='ag_news',\n",
            "            config_name='default',\n",
            "            version=0.0.0,\n",
            "            splits={'test': SplitInfo(name='test',\n",
            "                                      num_bytes=1880424,\n",
            "                                      num_examples=7600,\n",
            "                                      shard_lengths=None,\n",
            "                                      dataset_name='ag_news'),\n",
            "                    'train': SplitInfo(name='train',\n",
            "                                       num_bytes=29832303,\n",
            "                                       num_examples=120000,\n",
            "                                       shard_lengths=None,\n",
            "                                       dataset_name='ag_news')},\n",
            "            download_checksums={'hf://datasets/fancyzhx/ag_news@eb185aade064a813bc0b7f42de02595523103ca4/data/test-00000-of-00001.parquet': {'checksum': None,\n",
            "                                                                                                                                             'num_bytes': 1234829},\n",
            "                                'hf://datasets/fancyzhx/ag_news@eb185aade064a813bc0b7f42de02595523103ca4/data/train-00000-of-00001.parquet': {'checksum': None,\n",
            "                                                                                                                                              'num_bytes': 18585438}},\n",
            "            download_size=19820267,\n",
            "            post_processing_size=None,\n",
            "            dataset_size=31712727,\n",
            "            size_in_bytes=51532994)\n"
          ]
        }
      ],
      "source": [
        "from pprint import pprint\n",
        "\n",
        "pprint(news_ds[\"train\"].info)"
      ]
    },
    {
      "cell_type": "code",
      "execution_count": 99,
      "metadata": {},
      "outputs": [
        {
          "data": {
            "text/plain": [
              "2"
            ]
          },
          "execution_count": 99,
          "metadata": {},
          "output_type": "execute_result"
        }
      ],
      "source": [
        "tokenizer(\"World\", return_tensors=\"pt\")\n",
        "tokenizer(\"World\", return_tensors=\"pt\")[\"input_ids\"].shape[-1]"
      ]
    },
    {
      "cell_type": "code",
      "execution_count": 100,
      "metadata": {},
      "outputs": [],
      "source": [
        "label_sentences = [\n",
        "    \"Batman: This is mainly about the world, the one we’re sworn to protect.\",\n",
        "    \"Joker: Why so serious? Clearly related to Sports news!\",\n",
        "    \"Penguin: It’s all about Business, and trust me, I know how to play that game.\",\n",
        "    \"Bane: This article mainly covers Sci/Tech.\",\n",
        "]\n",
        "\n",
        "task_description = \"\"\"\n",
        "Task Description:\n",
        "The scene unfolds with four iconic characters from the Batman universe seated around a table, each reading the same article. Batman, ever composed and logical, is the first to speak, delivering a clear and concise assessment of the piece. The Joker follows, making a mocking and unpredictable remark, turning the topic on its head. Two-Face, as always, relies on the flip of a coin to determine his take. Finally, Bane, with his focus on power and control, offers his perspective, emphasizing the article’s deeper implications.\n",
        "\n",
        "Your task is simple: “Who explained the article the best?”.\n",
        "\n",
        "Now, it’s time to choose—who described it best?\n",
        "\n",
        "ARTICLE:\"\"\""
      ]
    },
    {
      "cell_type": "code",
      "execution_count": 101,
      "metadata": {},
      "outputs": [],
      "source": [
        "import torch\n",
        "\n",
        "\n",
        "def zero_shot_classification(\n",
        "    text, task_description, labels\n",
        "):  # text는 주어진 입력, task_description은 task에 대한 설명, labels은 class들을 text로 변환한 결과입니다.\n",
        "    text_ids = tokenizer(task_description + text, return_tensors=\"pt\").to(\n",
        "        \"mps\"\n",
        "    )  # 먼저 task_description과 text를 이어붙인 후, tokenize합니다.\n",
        "\n",
        "    probs = []\n",
        "\n",
        "    for label in labels:\n",
        "        # 그 다음 각 text화된 label들을 tokenize하고 입력에 이어붙인 후, Gemma-2B에 넣어줍니다.\n",
        "        label_ids = tokenizer(label, return_tensors=\"pt\").to(\"mps\")\n",
        "        n_label_tokens = label_ids[\"input_ids\"].shape[-1] - 1\n",
        "        # text로 변환한 label의 token 수를 계산합니다.\n",
        "        input_ids = {\n",
        "            \"input_ids\": torch.concatenate(\n",
        "                [text_ids[\"input_ids\"], label_ids[\"input_ids\"][:, 1:]], axis=-1\n",
        "            ),  # concatenate 명령어를 통해 이어붙이는 모습입니다.\n",
        "            \"attention_mask\": torch.concatenate(\n",
        "                [text_ids[\"attention_mask\"], label_ids[\"attention_mask\"][:, 1:]],\n",
        "                axis=-1,\n",
        "            ),\n",
        "        }\n",
        "\n",
        "        logits = model(**input_ids).logits  # Logit을 계산한 모습입니다.\n",
        "        prob = 0\n",
        "        n_total = input_ids[\"input_ids\"].shape[-1]\n",
        "        for i in range(\n",
        "            n_label_tokens, 0, -1\n",
        "        ):  # 일반적으로 text로 변환한 label은 여러 token으로 이루어져있습니다. 이러한 label에 대한 logit은 구성하는 모든 token들의 logit들의 합으로 정의합니다.\n",
        "            token = label_ids[\"input_ids\"][0, i].item()\n",
        "            prob += logits[0, n_total - i, token].item()\n",
        "        probs.append(prob)\n",
        "\n",
        "        del input_ids\n",
        "        del logits\n",
        "        torch.mps.empty_cache()  # 위의 del과 empty_cache() 명령어를 통해 GPU를 제때 할당해제 해줍니다. 만약 GPU가 여유롭다면 지워주시는게 속도적으로 이득입니다.\n",
        "\n",
        "    return probs"
      ]
    },
    {
      "cell_type": "code",
      "execution_count": 102,
      "metadata": {},
      "outputs": [
        {
          "data": {
            "text/plain": [
              "'Carlyle Looks Toward Commercial Aerospace (Reuters) Reuters - Private investment firm Carlyle Group,\\\\which has a reputation for making well-timed and occasionally\\\\controversial plays in the defense industry, has quietly placed\\\\its bets on another part of the market.'"
            ]
          },
          "execution_count": 102,
          "metadata": {},
          "output_type": "execute_result"
        }
      ],
      "source": [
        "news_ds[\"train\"][1][\"text\"]"
      ]
    },
    {
      "cell_type": "code",
      "execution_count": 103,
      "metadata": {},
      "outputs": [
        {
          "data": {
            "text/plain": [
              "2"
            ]
          },
          "execution_count": 103,
          "metadata": {},
          "output_type": "execute_result"
        }
      ],
      "source": [
        "news_ds[\"train\"][1][\"label\"]"
      ]
    },
    {
      "cell_type": "code",
      "execution_count": 104,
      "metadata": {},
      "outputs": [
        {
          "name": "stdout",
          "output_type": "stream",
          "text": [
            "[99.28125, 70.71484375, 158.25, 48.431640625]\n",
            "3\n"
          ]
        },
        {
          "data": {
            "text/plain": [
              "2"
            ]
          },
          "execution_count": 104,
          "metadata": {},
          "output_type": "execute_result"
        }
      ],
      "source": [
        "text_label = news_ds[\"train\"][179]\n",
        "\n",
        "probs = zero_shot_classification(\n",
        "    text_label[\"text\"],\n",
        "    task_description,\n",
        "    label_sentences,\n",
        ")\n",
        "print(probs)\n",
        "import numpy as np\n",
        "\n",
        "print(text_label[\"label\"])\n",
        "np.argmax(np.array(probs)).item()"
      ]
    },
    {
      "cell_type": "code",
      "execution_count": 86,
      "metadata": {},
      "outputs": [
        {
          "data": {
            "application/vnd.jupyter.widget-view+json": {
              "model_id": "dd41ab336a9b4408bd977fd654d61a09",
              "version_major": 2,
              "version_minor": 0
            },
            "text/plain": [
              "Map:   0%|          | 0/120000 [00:00<?, ? examples/s]"
            ]
          },
          "metadata": {},
          "output_type": "display_data"
        },
        {
          "data": {
            "application/vnd.jupyter.widget-view+json": {
              "model_id": "05537afa7c464821b9779a35bfa34091",
              "version_major": 2,
              "version_minor": 0
            },
            "text/plain": [
              "Map:   0%|          | 0/7600 [00:00<?, ? examples/s]"
            ]
          },
          "metadata": {},
          "output_type": "display_data"
        },
        {
          "data": {
            "text/plain": [
              "DatasetDict({\n",
              "    train: Dataset({\n",
              "        features: ['text', 'label', 'input_ids', 'attention_mask'],\n",
              "        num_rows: 120000\n",
              "    })\n",
              "    test: Dataset({\n",
              "        features: ['text', 'label', 'input_ids', 'attention_mask'],\n",
              "        num_rows: 7600\n",
              "    })\n",
              "})"
            ]
          },
          "execution_count": 86,
          "metadata": {},
          "output_type": "execute_result"
        }
      ],
      "source": [
        "def preprocess_function(examples):\n",
        "    return tokenizer(examples[\"text\"], max_length=200, truncation=True)\n",
        "\n",
        "\n",
        "tokenized_news_ds = news_ds.map(preprocess_function, batched=True)\n",
        "tokenized_news_ds"
      ]
    },
    {
      "cell_type": "code",
      "execution_count": 106,
      "metadata": {},
      "outputs": [
        {
          "name": "stderr",
          "output_type": "stream",
          "text": [
            "  0%|          | 0/50 [00:00<?, ?it/s]"
          ]
        },
        {
          "name": "stdout",
          "output_type": "stream",
          "text": [
            "\u001b[33m----------------------------------\u001b[39m\n"
          ]
        },
        {
          "name": "stderr",
          "output_type": "stream",
          "text": [
            "  2%|▏         | 1/50 [00:04<03:32,  4.34s/it]"
          ]
        },
        {
          "name": "stdout",
          "output_type": "stream",
          "text": [
            "Index 0: \u001b[31mFail 🧐 \u001b[0m\n",
            "dataset index: 6254\n",
            "Confidence: 21.58\n",
            "NLL: 49.69\n",
            "Failed Query: \u001b[43mPowell Meets with Middle East Leaders CBN.com - (CBN News) -ERUSALEM  -h the death of Yasser Arafat behind them, the Palestinians and Israelis are now facing an historic opportunity to move forward in peace.\u001b[49m\n",
            "Label : \u001b[36m World \u001b[39m Pred : \u001b[35m Business \u001b[39m\n",
            "Current Accuracy: \u001b[34m0.00%\u001b[39m\n",
            "\u001b[33m----------------------------------\u001b[39m\n"
          ]
        },
        {
          "name": "stderr",
          "output_type": "stream",
          "text": [
            "  4%|▍         | 2/50 [00:06<02:38,  3.30s/it]"
          ]
        },
        {
          "name": "stdout",
          "output_type": "stream",
          "text": [
            "Index 1: \u001b[31mFail 🧐 \u001b[0m\n",
            "dataset index: 7412\n",
            "Confidence: 28.53\n",
            "NLL: inf\n",
            "Failed Query: \u001b[43mLast minute name change for Nvidia #39;s new GeForce 6200 with &lt;b&gt;...&lt;/b&gt; PCI Express allows Nvidia to tap into system memory to save expensive on-board graphics memory and achieve high performance at the same time.\u001b[49m\n",
            "Label : \u001b[36m Sci/Tech \u001b[39m Pred : \u001b[35m Business \u001b[39m\n",
            "Current Accuracy: \u001b[34m0.00%\u001b[39m\n",
            "\u001b[33m----------------------------------\u001b[39m\n"
          ]
        },
        {
          "name": "stderr",
          "output_type": "stream",
          "text": [
            "  6%|▌         | 3/50 [00:15<04:18,  5.50s/it]"
          ]
        },
        {
          "name": "stdout",
          "output_type": "stream",
          "text": [
            "Index 2: \u001b[31mFail 🧐 \u001b[0m\n",
            "dataset index: 2764\n",
            "Confidence: 26.69\n",
            "NLL: inf\n",
            "Failed Query: \u001b[43m.Mac bumps up storage capacity, improves mail (MacCentral) MacCentral - Apple has improved the services offered to subscribers of .Mac. Previously, the amount of storage for a basic .Mac account was 100MB, with a maximum of 15MB for e-mail. The service's base online storage has been increased to 250MB, e-mail service has been enhanced, and the cost of upgrading has been reduced. .Mac's basic subscription price remains the same -- US #36;99.95 per year.\u001b[49m\n",
            "Label : \u001b[36m Sci/Tech \u001b[39m Pred : \u001b[35m Business \u001b[39m\n",
            "Current Accuracy: \u001b[34m0.00%\u001b[39m\n",
            "\u001b[33m----------------------------------\u001b[39m\n"
          ]
        },
        {
          "name": "stderr",
          "output_type": "stream",
          "text": [
            "  8%|▊         | 4/50 [00:17<03:17,  4.30s/it]"
          ]
        },
        {
          "name": "stdout",
          "output_type": "stream",
          "text": [
            "Index 3: \u001b[31mFail 🧐 \u001b[0m\n",
            "dataset index: 2525\n",
            "Confidence: 26.66\n",
            "NLL: 61.38\n",
            "Failed Query: \u001b[43mPinochet questioned by investigative judge An investigative judge has questioned former Chilean dictator Augusto Pinochet for half an hour to decide whether to indict him in one of hundreds of human rights cases stemming from his 1973-1990 rule.\u001b[49m\n",
            "Label : \u001b[36m World \u001b[39m Pred : \u001b[35m Business \u001b[39m\n",
            "Current Accuracy: \u001b[34m0.00%\u001b[39m\n",
            "\u001b[33m----------------------------------\u001b[39m\n"
          ]
        },
        {
          "name": "stderr",
          "output_type": "stream",
          "text": [
            " 10%|█         | 5/50 [00:20<02:45,  3.68s/it]"
          ]
        },
        {
          "name": "stdout",
          "output_type": "stream",
          "text": [
            "Index 4: \u001b[31mFail 🧐 \u001b[0m\n",
            "dataset index: 3733\n",
            "Confidence: 30.02\n",
            "NLL: 90.85\n",
            "Failed Query: \u001b[43mLippi Wants Azzurri Improvement Italy boss Marcello Lippi is counting in his charges to make the country forget their weekend loss to Slovenia when they face Belarus in UEFA World Cup qualifying action on Wednesday.\u001b[49m\n",
            "Label : \u001b[36m Sports \u001b[39m Pred : \u001b[35m Business \u001b[39m\n",
            "Current Accuracy: \u001b[34m0.00%\u001b[39m\n",
            "\u001b[33m----------------------------------\u001b[39m\n"
          ]
        },
        {
          "name": "stderr",
          "output_type": "stream",
          "text": [
            " 12%|█▏        | 6/50 [00:22<02:22,  3.24s/it]"
          ]
        },
        {
          "name": "stdout",
          "output_type": "stream",
          "text": [
            "Index 5: \u001b[32mSuccess 🎉 \u001b[0m \n",
            "dataset index: 7413\n",
            "Confidence: 23.69\n",
            "NLL: -0.00\n",
            "Current Accuracy: \u001b[34m16.67%\u001b[39m\n",
            "\u001b[33m----------------------------------\u001b[39m\n"
          ]
        },
        {
          "name": "stderr",
          "output_type": "stream",
          "text": [
            " 14%|█▍        | 7/50 [00:25<02:11,  3.06s/it]"
          ]
        },
        {
          "name": "stdout",
          "output_type": "stream",
          "text": [
            "Index 6: \u001b[31mFail 🧐 \u001b[0m\n",
            "dataset index: 3965\n",
            "Confidence: 26.01\n",
            "NLL: 90.25\n",
            "Failed Query: \u001b[43mLike father, like son in Chrysler Classic If Brent Geiberger was pleased to win the Chrysler Classic of Greensboro, his father Al was positively ecstatic.  quot;I was going absolutely crazy watching it all unfold.\u001b[49m\n",
            "Label : \u001b[36m Sports \u001b[39m Pred : \u001b[35m Business \u001b[39m\n",
            "Current Accuracy: \u001b[34m14.29%\u001b[39m\n",
            "\u001b[33m----------------------------------\u001b[39m\n"
          ]
        },
        {
          "name": "stderr",
          "output_type": "stream",
          "text": [
            " 16%|█▌        | 8/50 [00:35<03:49,  5.47s/it]"
          ]
        },
        {
          "name": "stdout",
          "output_type": "stream",
          "text": [
            "Index 7: \u001b[31mFail 🧐 \u001b[0m\n",
            "dataset index: 3546\n",
            "Confidence: 24.51\n",
            "NLL: 56.45\n",
            "Failed Query: \u001b[43mStudy: Few Americans Buy Drugs Online NEW YORK - Only 4 percent of Americans have ever used the Internet to buy prescription drugs - and even fewer do so through foreign pharmacies - despite Web sites maintained by a handful of states to help citizens import medicines more cheaply from Canada, a new study finds.    A majority - 62 percent - believe drugs bought online are less safe than those purchased from a local pharmacy, accepting the federal government's stated concerns in opposing drug imports, the Pew Internet and American Life Project said in a report Sunday...\u001b[49m\n",
            "Label : \u001b[36m World \u001b[39m Pred : \u001b[35m Business \u001b[39m\n",
            "Current Accuracy: \u001b[34m12.50%\u001b[39m\n",
            "\u001b[33m----------------------------------\u001b[39m\n"
          ]
        },
        {
          "name": "stderr",
          "output_type": "stream",
          "text": [
            " 18%|█▊        | 9/50 [00:38<03:04,  4.51s/it]"
          ]
        },
        {
          "name": "stdout",
          "output_type": "stream",
          "text": [
            "Index 8: \u001b[31mFail 🧐 \u001b[0m\n",
            "dataset index: 4495\n",
            "Confidence: 28.38\n",
            "NLL: 65.36\n",
            "Failed Query: \u001b[43mZarqawi group claims attack on Australian soldiers in Baghdad (AFP) AFP - The group loyal to Al-Qaeda-linked militant Abu Mussab al-Zarqawi claimed to have bombed an Australian convoy in Baghdad, in a statement posted on an Islamist website.\u001b[49m\n",
            "Label : \u001b[36m World \u001b[39m Pred : \u001b[35m Business \u001b[39m\n",
            "Current Accuracy: \u001b[34m11.11%\u001b[39m\n",
            "\u001b[33m----------------------------------\u001b[39m\n"
          ]
        },
        {
          "name": "stderr",
          "output_type": "stream",
          "text": [
            " 20%|██        | 10/50 [00:40<02:34,  3.86s/it]"
          ]
        },
        {
          "name": "stdout",
          "output_type": "stream",
          "text": [
            "Index 9: \u001b[31mFail 🧐 \u001b[0m\n",
            "dataset index: 6236\n",
            "Confidence: 29.41\n",
            "NLL: 84.79\n",
            "Failed Query: \u001b[43mNine men Bhoys fall at Ibrox CELTIC lost ground in the title race today after Rangers won a heated Old Firm encounter that will be better remembered for its sending offs and scuffles.\u001b[49m\n",
            "Label : \u001b[36m Sports \u001b[39m Pred : \u001b[35m Business \u001b[39m\n",
            "Current Accuracy: \u001b[34m10.00%\u001b[39m\n",
            "\u001b[33m----------------------------------\u001b[39m\n"
          ]
        },
        {
          "name": "stderr",
          "output_type": "stream",
          "text": [
            " 22%|██▏       | 11/50 [00:42<02:13,  3.41s/it]"
          ]
        },
        {
          "name": "stdout",
          "output_type": "stream",
          "text": [
            "Index 10: \u001b[31mFail 🧐 \u001b[0m\n",
            "dataset index: 5503\n",
            "Confidence: 26.72\n",
            "NLL: 88.15\n",
            "Failed Query: \u001b[43mGuard registers a special point Gary Payton didn't know he had joined the 20,000-point club last night until the public address announcer at the FleetCenter trumpeted the feat.\u001b[49m\n",
            "Label : \u001b[36m Sports \u001b[39m Pred : \u001b[35m Business \u001b[39m\n",
            "Current Accuracy: \u001b[34m9.09%\u001b[39m\n",
            "\u001b[33m----------------------------------\u001b[39m\n"
          ]
        },
        {
          "name": "stderr",
          "output_type": "stream",
          "text": [
            " 24%|██▍       | 12/50 [00:45<01:57,  3.09s/it]"
          ]
        },
        {
          "name": "stdout",
          "output_type": "stream",
          "text": [
            "Index 11: \u001b[31mFail 🧐 \u001b[0m\n",
            "dataset index: 5421\n",
            "Confidence: 25.33\n",
            "NLL: inf\n",
            "Failed Query: \u001b[43mStand Aside, Rudolph: The Mouse Will Lead A list of some of the best holiday gifts, based on taste, appearance or utility, available on the Web.\u001b[49m\n",
            "Label : \u001b[36m Sci/Tech \u001b[39m Pred : \u001b[35m Business \u001b[39m\n",
            "Current Accuracy: \u001b[34m8.33%\u001b[39m\n",
            "\u001b[33m----------------------------------\u001b[39m\n"
          ]
        },
        {
          "name": "stderr",
          "output_type": "stream",
          "text": [
            " 26%|██▌       | 13/50 [00:47<01:46,  2.89s/it]"
          ]
        },
        {
          "name": "stdout",
          "output_type": "stream",
          "text": [
            "Index 12: \u001b[32mSuccess 🎉 \u001b[0m \n",
            "dataset index: 5252\n",
            "Confidence: 24.88\n",
            "NLL: -0.00\n",
            "Current Accuracy: \u001b[34m15.38%\u001b[39m\n",
            "\u001b[33m----------------------------------\u001b[39m\n"
          ]
        },
        {
          "name": "stderr",
          "output_type": "stream",
          "text": [
            " 28%|██▊       | 14/50 [00:53<02:13,  3.72s/it]"
          ]
        },
        {
          "name": "stdout",
          "output_type": "stream",
          "text": [
            "Index 13: \u001b[31mFail 🧐 \u001b[0m\n",
            "dataset index: 1\n",
            "Confidence: 25.70\n",
            "NLL: inf\n",
            "Failed Query: \u001b[43mThe Race is On: Second Private Team Sets Launch Date for Human Spaceflight (SPACE.com) SPACE.com - TORONTO, Canada -- A second\\team of rocketeers competing for the  #36;10 million Ansari X Prize, a contest for\\privately funded suborbital space flight, has officially announced the first\\launch date for its manned rocket.\u001b[49m\n",
            "Label : \u001b[36m Sci/Tech \u001b[39m Pred : \u001b[35m Business \u001b[39m\n",
            "Current Accuracy: \u001b[34m14.29%\u001b[39m\n",
            "\u001b[33m----------------------------------\u001b[39m\n"
          ]
        },
        {
          "name": "stderr",
          "output_type": "stream",
          "text": [
            " 30%|███       | 15/50 [00:55<01:57,  3.37s/it]"
          ]
        },
        {
          "name": "stdout",
          "output_type": "stream",
          "text": [
            "Index 14: \u001b[31mFail 🧐 \u001b[0m\n",
            "dataset index: 1583\n",
            "Confidence: 24.42\n",
            "NLL: 83.79\n",
            "Failed Query: \u001b[43mUpsets Shake Up College Football Poll (AP) AP - The upsets have begun and the little guys are moving into The Associated Press poll. After ranked teams started the season 21-0, five fell to unranked opponents this weekend, shaking up media poll released Sunday.\u001b[49m\n",
            "Label : \u001b[36m Sports \u001b[39m Pred : \u001b[35m Business \u001b[39m\n",
            "Current Accuracy: \u001b[34m13.33%\u001b[39m\n",
            "\u001b[33m----------------------------------\u001b[39m\n"
          ]
        },
        {
          "name": "stderr",
          "output_type": "stream",
          "text": [
            " 32%|███▏      | 16/50 [00:58<01:43,  3.05s/it]"
          ]
        },
        {
          "name": "stdout",
          "output_type": "stream",
          "text": [
            "Index 15: \u001b[31mFail 🧐 \u001b[0m\n",
            "dataset index: 7027\n",
            "Confidence: 27.85\n",
            "NLL: inf\n",
            "Failed Query: \u001b[43mStudy: Return of Wolves Changes Ecosystem (AP) AP - Scientists studying the broader effects of wolf reintroduction said a growing body of evidence suggests that killing off predators such as wolves and grizzly bears in the last century started a cascade of effects that threw ecosystems out of balance.\u001b[49m\n",
            "Label : \u001b[36m Sci/Tech \u001b[39m Pred : \u001b[35m Business \u001b[39m\n",
            "Current Accuracy: \u001b[34m12.50%\u001b[39m\n",
            "\u001b[33m----------------------------------\u001b[39m\n"
          ]
        },
        {
          "name": "stderr",
          "output_type": "stream",
          "text": [
            " 34%|███▍      | 17/50 [01:03<02:00,  3.66s/it]"
          ]
        },
        {
          "name": "stdout",
          "output_type": "stream",
          "text": [
            "Index 16: \u001b[32mSuccess 🎉 \u001b[0m \n",
            "dataset index: 1279\n",
            "Confidence: 27.19\n",
            "NLL: -0.00\n",
            "Current Accuracy: \u001b[34m17.65%\u001b[39m\n",
            "\u001b[33m----------------------------------\u001b[39m\n"
          ]
        },
        {
          "name": "stderr",
          "output_type": "stream",
          "text": [
            " 36%|███▌      | 18/50 [01:05<01:39,  3.10s/it]"
          ]
        },
        {
          "name": "stdout",
          "output_type": "stream",
          "text": [
            "Index 17: \u001b[31mFail 🧐 \u001b[0m\n",
            "dataset index: 1065\n",
            "Confidence: 28.60\n",
            "NLL: 65.86\n",
            "Failed Query: \u001b[43mScotch Whisky eyes Asian and Eastern European markets (AFP) AFP - A favourite tipple among connoisseurs the world over, whisky is treated with almost religious reverence on the Hebridean island of Islay, home to seven of Scotland's single malt distilleries.\u001b[49m\n",
            "Label : \u001b[36m World \u001b[39m Pred : \u001b[35m Business \u001b[39m\n",
            "Current Accuracy: \u001b[34m16.67%\u001b[39m\n",
            "\u001b[33m----------------------------------\u001b[39m\n"
          ]
        },
        {
          "name": "stderr",
          "output_type": "stream",
          "text": [
            " 38%|███▊      | 19/50 [01:07<01:31,  2.95s/it]"
          ]
        },
        {
          "name": "stdout",
          "output_type": "stream",
          "text": [
            "Index 18: \u001b[32mSuccess 🎉 \u001b[0m \n",
            "dataset index: 4613\n",
            "Confidence: 25.53\n",
            "NLL: -0.00\n",
            "Current Accuracy: \u001b[34m21.05%\u001b[39m\n",
            "\u001b[33m----------------------------------\u001b[39m\n"
          ]
        },
        {
          "name": "stderr",
          "output_type": "stream",
          "text": [
            " 40%|████      | 20/50 [01:10<01:26,  2.88s/it]"
          ]
        },
        {
          "name": "stdout",
          "output_type": "stream",
          "text": [
            "Index 19: \u001b[31mFail 🧐 \u001b[0m\n",
            "dataset index: 658\n",
            "Confidence: 26.62\n",
            "NLL: 103.28\n",
            "Failed Query: \u001b[43mDell adds new switch to lineup Dell has upgraded its PowerConnect line with the addition of the PowerConnect 5324, a 24-port managed gigabit layer 2 switch.\u001b[49m\n",
            "Label : \u001b[36m Sci/Tech \u001b[39m Pred : \u001b[35m Business \u001b[39m\n",
            "Current Accuracy: \u001b[34m20.00%\u001b[39m\n",
            "\u001b[33m----------------------------------\u001b[39m\n"
          ]
        },
        {
          "name": "stderr",
          "output_type": "stream",
          "text": [
            " 42%|████▏     | 21/50 [01:12<01:20,  2.76s/it]"
          ]
        },
        {
          "name": "stdout",
          "output_type": "stream",
          "text": [
            "Index 20: \u001b[31mFail 🧐 \u001b[0m\n",
            "dataset index: 6696\n",
            "Confidence: 28.27\n",
            "NLL: 100.51\n",
            "Failed Query: \u001b[43mKnicks: Crawford hits the one that counts The old axiom is that it doesn #39;t matter how many shots you miss; if you #39;re a shooter, you have to keep shooting. Jamal Crawford missed 21 shots against the Atlanta Hawks last \u001b[49m\n",
            "Label : \u001b[36m Sports \u001b[39m Pred : \u001b[35m Business \u001b[39m\n",
            "Current Accuracy: \u001b[34m19.05%\u001b[39m\n",
            "\u001b[33m----------------------------------\u001b[39m\n"
          ]
        },
        {
          "name": "stderr",
          "output_type": "stream",
          "text": [
            " 44%|████▍     | 22/50 [01:14<01:11,  2.54s/it]"
          ]
        },
        {
          "name": "stdout",
          "output_type": "stream",
          "text": [
            "Index 21: \u001b[32mSuccess 🎉 \u001b[0m \n",
            "dataset index: 1924\n",
            "Confidence: 26.23\n",
            "NLL: -0.00\n",
            "Current Accuracy: \u001b[34m22.73%\u001b[39m\n",
            "\u001b[33m----------------------------------\u001b[39m\n"
          ]
        },
        {
          "name": "stderr",
          "output_type": "stream",
          "text": [
            " 46%|████▌     | 23/50 [01:20<01:30,  3.37s/it]"
          ]
        },
        {
          "name": "stdout",
          "output_type": "stream",
          "text": [
            "Index 22: \u001b[31mFail 🧐 \u001b[0m\n",
            "dataset index: 798\n",
            "Confidence: 26.98\n",
            "NLL: 87.86\n",
            "Failed Query: \u001b[43mBritain Edges U.S. for 400M Relay Gold (AP) AP - Stymied by a sloppy handoff in the middle of the race, the United States lost to Great Britain by a hundredth of a second Saturday night in the 400-meter relay  #151; a race the American men usually dominate.\u001b[49m\n",
            "Label : \u001b[36m Sports \u001b[39m Pred : \u001b[35m Business \u001b[39m\n",
            "Current Accuracy: \u001b[34m21.74%\u001b[39m\n",
            "\u001b[33m----------------------------------\u001b[39m\n"
          ]
        },
        {
          "name": "stderr",
          "output_type": "stream",
          "text": [
            " 48%|████▊     | 24/50 [01:22<01:20,  3.10s/it]"
          ]
        },
        {
          "name": "stdout",
          "output_type": "stream",
          "text": [
            "Index 23: \u001b[31mFail 🧐 \u001b[0m\n",
            "dataset index: 1876\n",
            "Confidence: 27.92\n",
            "NLL: 79.42\n",
            "Failed Query: \u001b[43mTV war puts tour of India in doubt Australian cricket chiefs fear a battle over television rights could cause next month #39;s Test series in India to be cancelled, and last night were seeking clarification from Indian board president \u001b[49m\n",
            "Label : \u001b[36m Sports \u001b[39m Pred : \u001b[35m Business \u001b[39m\n",
            "Current Accuracy: \u001b[34m20.83%\u001b[39m\n",
            "\u001b[33m----------------------------------\u001b[39m\n"
          ]
        },
        {
          "name": "stderr",
          "output_type": "stream",
          "text": [
            " 50%|█████     | 25/50 [01:25<01:14,  2.99s/it]"
          ]
        },
        {
          "name": "stdout",
          "output_type": "stream",
          "text": [
            "Index 24: \u001b[31mFail 🧐 \u001b[0m\n",
            "dataset index: 5799\n",
            "Confidence: 26.07\n",
            "NLL: 60.03\n",
            "Failed Query: \u001b[43mTiming Of Indian Move In Kashmir Vital: Pak Paper Islamabad, Nov. 16 (NNN): Pakistans leading newspaper, Dawn, finds the timing of the Indian announcement on reduction of troops in Kashmir as significance.\u001b[49m\n",
            "Label : \u001b[36m World \u001b[39m Pred : \u001b[35m Business \u001b[39m\n",
            "Current Accuracy: \u001b[34m20.00%\u001b[39m\n",
            "\u001b[33m----------------------------------\u001b[39m\n"
          ]
        },
        {
          "name": "stderr",
          "output_type": "stream",
          "text": [
            " 52%|█████▏    | 26/50 [01:28<01:11,  2.97s/it]"
          ]
        },
        {
          "name": "stdout",
          "output_type": "stream",
          "text": [
            "Index 25: \u001b[31mFail 🧐 \u001b[0m\n",
            "dataset index: 5522\n",
            "Confidence: 29.87\n",
            "NLL: 88.59\n",
            "Failed Query: \u001b[43mJet-Lagged Clarke Tied for Lead in Japan  GOTEMBA, Japan (Reuters) - Britain's Darren Clarke shook  off the effects of jet-lag and a hectic schedule to fire a  six-under-par 66 for a share of the first-round lead at the  Taiheiyo Masters Thursday.\u001b[49m\n",
            "Label : \u001b[36m Sports \u001b[39m Pred : \u001b[35m Business \u001b[39m\n",
            "Current Accuracy: \u001b[34m19.23%\u001b[39m\n",
            "\u001b[33m----------------------------------\u001b[39m\n"
          ]
        },
        {
          "name": "stderr",
          "output_type": "stream",
          "text": [
            " 54%|█████▍    | 27/50 [01:30<01:02,  2.73s/it]"
          ]
        },
        {
          "name": "stdout",
          "output_type": "stream",
          "text": [
            "Index 26: \u001b[32mSuccess 🎉 \u001b[0m \n",
            "dataset index: 2878\n",
            "Confidence: 24.72\n",
            "NLL: -0.00\n",
            "Current Accuracy: \u001b[34m22.22%\u001b[39m\n",
            "\u001b[33m----------------------------------\u001b[39m\n"
          ]
        },
        {
          "name": "stderr",
          "output_type": "stream",
          "text": [
            " 56%|█████▌    | 28/50 [01:32<00:57,  2.62s/it]"
          ]
        },
        {
          "name": "stdout",
          "output_type": "stream",
          "text": [
            "Index 27: \u001b[31mFail 🧐 \u001b[0m\n",
            "dataset index: 2235\n",
            "Confidence: 12.00\n",
            "NLL: 61.97\n",
            "Failed Query: \u001b[43mWashington chooses a stadium site for Expos The DC Sports and Entertainment Commission outlined its plans Tuesday night in a meeting with city government officials. An official involved in the process, speaking on condition of anonymity, told The Associated \u001b[49m\n",
            "Label : \u001b[36m Sports \u001b[39m Pred : \u001b[35m Business \u001b[39m\n",
            "Current Accuracy: \u001b[34m21.43%\u001b[39m\n",
            "\u001b[33m----------------------------------\u001b[39m\n"
          ]
        },
        {
          "name": "stderr",
          "output_type": "stream",
          "text": [
            " 58%|█████▊    | 29/50 [01:35<00:55,  2.67s/it]"
          ]
        },
        {
          "name": "stdout",
          "output_type": "stream",
          "text": [
            "Index 28: \u001b[31mFail 🧐 \u001b[0m\n",
            "dataset index: 1313\n",
            "Confidence: 27.47\n",
            "NLL: 63.26\n",
            "Failed Query: \u001b[43mIran ready to test Shahab-3 missile again: defense minister TEHRAN (IRNA) -- Defense Minister Ali Shamkhani stressed that Iran #39;s recent test of the Shahab-3 missile was successful, saying his ministry is ready to test it again  #39;in the presence of observers #39;.\u001b[49m\n",
            "Label : \u001b[36m World \u001b[39m Pred : \u001b[35m Business \u001b[39m\n",
            "Current Accuracy: \u001b[34m20.69%\u001b[39m\n",
            "\u001b[33m----------------------------------\u001b[39m\n"
          ]
        },
        {
          "name": "stderr",
          "output_type": "stream",
          "text": [
            " 60%|██████    | 30/50 [01:38<00:53,  2.70s/it]"
          ]
        },
        {
          "name": "stdout",
          "output_type": "stream",
          "text": [
            "Index 29: \u001b[31mFail 🧐 \u001b[0m\n",
            "dataset index: 3186\n",
            "Confidence: 25.23\n",
            "NLL: 58.09\n",
            "Failed Query: \u001b[43mTennis: Night final for Aus Open The centenary Australian Open will be the first Grand Slam event to stage its final at night.\u001b[49m\n",
            "Label : \u001b[36m World \u001b[39m Pred : \u001b[35m Business \u001b[39m\n",
            "Current Accuracy: \u001b[34m20.00%\u001b[39m\n",
            "\u001b[33m----------------------------------\u001b[39m\n"
          ]
        },
        {
          "name": "stderr",
          "output_type": "stream",
          "text": [
            " 62%|██████▏   | 31/50 [01:40<00:48,  2.58s/it]"
          ]
        },
        {
          "name": "stdout",
          "output_type": "stream",
          "text": [
            "Index 30: \u001b[31mFail 🧐 \u001b[0m\n",
            "dataset index: 5183\n",
            "Confidence: 29.21\n",
            "NLL: 90.23\n",
            "Failed Query: \u001b[43mUSC Releases Stewart From Scholarship (AP) AP - Southern California point guard Rodrick Stewart was granted a release from his basketball scholarship Friday.\u001b[49m\n",
            "Label : \u001b[36m Sports \u001b[39m Pred : \u001b[35m Business \u001b[39m\n",
            "Current Accuracy: \u001b[34m19.35%\u001b[39m\n",
            "\u001b[33m----------------------------------\u001b[39m\n"
          ]
        },
        {
          "name": "stderr",
          "output_type": "stream",
          "text": [
            " 64%|██████▍   | 32/50 [01:43<00:47,  2.65s/it]"
          ]
        },
        {
          "name": "stdout",
          "output_type": "stream",
          "text": [
            "Index 31: \u001b[32mSuccess 🎉 \u001b[0m \n",
            "dataset index: 7465\n",
            "Confidence: 28.18\n",
            "NLL: -0.00\n",
            "Current Accuracy: \u001b[34m21.88%\u001b[39m\n",
            "\u001b[33m----------------------------------\u001b[39m\n"
          ]
        },
        {
          "name": "stderr",
          "output_type": "stream",
          "text": [
            " 66%|██████▌   | 33/50 [01:46<00:45,  2.66s/it]"
          ]
        },
        {
          "name": "stdout",
          "output_type": "stream",
          "text": [
            "Index 32: \u001b[31mFail 🧐 \u001b[0m\n",
            "dataset index: 2030\n",
            "Confidence: 27.33\n",
            "NLL: 62.92\n",
            "Failed Query: \u001b[43mLeaked secrets reveal chaos at heart of Blair #39;s Iraq plans TONY Blair was facing a new Iraq crisis last night after explosive evidence emerged from within his own government that he was warned the country would be plunged into chaos after the fall of Saddam Hussein.\u001b[49m\n",
            "Label : \u001b[36m World \u001b[39m Pred : \u001b[35m Business \u001b[39m\n",
            "Current Accuracy: \u001b[34m21.21%\u001b[39m\n",
            "\u001b[33m----------------------------------\u001b[39m\n"
          ]
        },
        {
          "name": "stderr",
          "output_type": "stream",
          "text": [
            " 68%|██████▊   | 34/50 [01:48<00:40,  2.55s/it]"
          ]
        },
        {
          "name": "stdout",
          "output_type": "stream",
          "text": [
            "Index 33: \u001b[31mFail 🧐 \u001b[0m\n",
            "dataset index: 5608\n",
            "Confidence: 29.77\n",
            "NLL: 68.56\n",
            "Failed Query: \u001b[43mEU studies Iranian response on nuclear program wrangle VIENNA (AFP) - EU officials were evaluating Iran #39;s response to an offer for Tehran to avoid possible UN sanctions over its nuclear program in a wrangle that has led a UN watchdog to hold up a key report.\u001b[49m\n",
            "Label : \u001b[36m World \u001b[39m Pred : \u001b[35m Business \u001b[39m\n",
            "Current Accuracy: \u001b[34m20.59%\u001b[39m\n",
            "\u001b[33m----------------------------------\u001b[39m\n"
          ]
        },
        {
          "name": "stderr",
          "output_type": "stream",
          "text": [
            " 70%|███████   | 35/50 [01:51<00:38,  2.54s/it]"
          ]
        },
        {
          "name": "stdout",
          "output_type": "stream",
          "text": [
            "Index 34: \u001b[31mFail 🧐 \u001b[0m\n",
            "dataset index: 862\n",
            "Confidence: 27.14\n",
            "NLL: 87.96\n",
            "Failed Query: \u001b[43mAngels' Glaus Activated From DL (AP) AP - Troy Glaus was activated from the 60-day disabled list Sunday by the Anaheim Angels and was back in the lineup against the Minnesota Twins.\u001b[49m\n",
            "Label : \u001b[36m Sports \u001b[39m Pred : \u001b[35m Business \u001b[39m\n",
            "Current Accuracy: \u001b[34m20.00%\u001b[39m\n",
            "\u001b[33m----------------------------------\u001b[39m\n"
          ]
        },
        {
          "name": "stderr",
          "output_type": "stream",
          "text": [
            " 72%|███████▏  | 36/50 [01:53<00:36,  2.60s/it]"
          ]
        },
        {
          "name": "stdout",
          "output_type": "stream",
          "text": [
            "Index 35: \u001b[32mSuccess 🎉 \u001b[0m \n",
            "dataset index: 4717\n",
            "Confidence: 26.30\n",
            "NLL: -0.00\n",
            "Current Accuracy: \u001b[34m22.22%\u001b[39m\n",
            "\u001b[33m----------------------------------\u001b[39m\n"
          ]
        },
        {
          "name": "stderr",
          "output_type": "stream",
          "text": [
            " 74%|███████▍  | 37/50 [01:56<00:32,  2.52s/it]"
          ]
        },
        {
          "name": "stdout",
          "output_type": "stream",
          "text": [
            "Index 36: \u001b[31mFail 🧐 \u001b[0m\n",
            "dataset index: 3570\n",
            "Confidence: 30.96\n",
            "NLL: 71.29\n",
            "Failed Query: \u001b[43mLegendary all-rounder Miller dies Keith Miller, arguably Australia's greatest  all-rounder in Test cricket, has died in Melbourne aged 84.\u001b[49m\n",
            "Label : \u001b[36m World \u001b[39m Pred : \u001b[35m Business \u001b[39m\n",
            "Current Accuracy: \u001b[34m21.62%\u001b[39m\n",
            "\u001b[33m----------------------------------\u001b[39m\n"
          ]
        },
        {
          "name": "stderr",
          "output_type": "stream",
          "text": [
            " 76%|███████▌  | 38/50 [01:59<00:31,  2.66s/it]"
          ]
        },
        {
          "name": "stdout",
          "output_type": "stream",
          "text": [
            "Index 37: \u001b[32mSuccess 🎉 \u001b[0m \n",
            "dataset index: 2609\n",
            "Confidence: 29.78\n",
            "NLL: -0.00\n",
            "Current Accuracy: \u001b[34m23.68%\u001b[39m\n",
            "\u001b[33m----------------------------------\u001b[39m\n"
          ]
        },
        {
          "name": "stderr",
          "output_type": "stream",
          "text": [
            " 78%|███████▊  | 39/50 [02:01<00:29,  2.70s/it]"
          ]
        },
        {
          "name": "stdout",
          "output_type": "stream",
          "text": [
            "Index 38: \u001b[32mSuccess 🎉 \u001b[0m \n",
            "dataset index: 4056\n",
            "Confidence: 27.73\n",
            "NLL: -0.00\n",
            "Current Accuracy: \u001b[34m25.64%\u001b[39m\n",
            "\u001b[33m----------------------------------\u001b[39m\n"
          ]
        },
        {
          "name": "stderr",
          "output_type": "stream",
          "text": [
            " 80%|████████  | 40/50 [02:04<00:26,  2.62s/it]"
          ]
        },
        {
          "name": "stdout",
          "output_type": "stream",
          "text": [
            "Index 39: \u001b[31mFail 🧐 \u001b[0m\n",
            "dataset index: 4248\n",
            "Confidence: 22.83\n",
            "NLL: 98.07\n",
            "Failed Query: \u001b[43mBriefly: Sun expands pay-as-you go supercomputing roundup Plus: SGI works on Linux performance software...Good Technology supported by HP, Samsung...RealNetworks loss widens on litigation.\u001b[49m\n",
            "Label : \u001b[36m Sci/Tech \u001b[39m Pred : \u001b[35m Business \u001b[39m\n",
            "Current Accuracy: \u001b[34m25.00%\u001b[39m\n",
            "\u001b[33m----------------------------------\u001b[39m\n"
          ]
        },
        {
          "name": "stderr",
          "output_type": "stream",
          "text": [
            " 82%|████████▏ | 41/50 [02:07<00:24,  2.75s/it]"
          ]
        },
        {
          "name": "stdout",
          "output_type": "stream",
          "text": [
            "Index 40: \u001b[31mFail 🧐 \u001b[0m\n",
            "dataset index: 5264\n",
            "Confidence: 26.14\n",
            "NLL: 101.89\n",
            "Failed Query: \u001b[43mVARs: Stone #39;s Exit Won #39;t Slow Novell #39;s Linux Drive Solution providers last week said they do not expect the sudden departure of Novell vice chairman Chris Stone, who engineered the company #39;s aggressive Linux push, to slow its Linux initiative.\u001b[49m\n",
            "Label : \u001b[36m Sci/Tech \u001b[39m Pred : \u001b[35m Business \u001b[39m\n",
            "Current Accuracy: \u001b[34m24.39%\u001b[39m\n",
            "\u001b[33m----------------------------------\u001b[39m\n"
          ]
        },
        {
          "name": "stderr",
          "output_type": "stream",
          "text": [
            " 84%|████████▍ | 42/50 [02:10<00:21,  2.73s/it]"
          ]
        },
        {
          "name": "stdout",
          "output_type": "stream",
          "text": [
            "Index 41: \u001b[31mFail 🧐 \u001b[0m\n",
            "dataset index: 2848\n",
            "Confidence: 24.92\n",
            "NLL: inf\n",
            "Failed Query: \u001b[43mPharma Groups Work on EPC Issues Sept. 30, 2004Reacting to calls from pharmaceutical retailers, distributors and manufacturers, EPCglobal has added a new action group to specifically study the pharmaceutical industry \u001b[49m\n",
            "Label : \u001b[36m Sci/Tech \u001b[39m Pred : \u001b[35m Business \u001b[39m\n",
            "Current Accuracy: \u001b[34m23.81%\u001b[39m\n",
            "\u001b[33m----------------------------------\u001b[39m\n"
          ]
        },
        {
          "name": "stderr",
          "output_type": "stream",
          "text": [
            " 86%|████████▌ | 43/50 [02:12<00:18,  2.62s/it]"
          ]
        },
        {
          "name": "stdout",
          "output_type": "stream",
          "text": [
            "Index 42: \u001b[31mFail 🧐 \u001b[0m\n",
            "dataset index: 5885\n",
            "Confidence: 27.52\n",
            "NLL: 63.36\n",
            "Failed Query: \u001b[43mDoesn't matter to me if health care is privately delivered:Alta's Klein (Canadian Press) Canadian Press - EDMONTON (CP) - Alberta Premier Ralph Klein acknowledged Tuesday that he personally doesn't have a problem with private delivery of health-care services.\u001b[49m\n",
            "Label : \u001b[36m World \u001b[39m Pred : \u001b[35m Business \u001b[39m\n",
            "Current Accuracy: \u001b[34m23.26%\u001b[39m\n",
            "\u001b[33m----------------------------------\u001b[39m\n"
          ]
        },
        {
          "name": "stderr",
          "output_type": "stream",
          "text": [
            " 88%|████████▊ | 44/50 [02:14<00:15,  2.57s/it]"
          ]
        },
        {
          "name": "stdout",
          "output_type": "stream",
          "text": [
            "Index 43: \u001b[31mFail 🧐 \u001b[0m\n",
            "dataset index: 6871\n",
            "Confidence: 28.46\n",
            "NLL: 84.26\n",
            "Failed Query: \u001b[43mTitans OT Munoz has surgery Knoxville, TN (Sports Network) - Tennessee Titans offensive tackle Michael Munoz underwent successful surgery Friday on his injured right shoulder.\u001b[49m\n",
            "Label : \u001b[36m Sports \u001b[39m Pred : \u001b[35m Business \u001b[39m\n",
            "Current Accuracy: \u001b[34m22.73%\u001b[39m\n",
            "\u001b[33m----------------------------------\u001b[39m\n"
          ]
        },
        {
          "name": "stderr",
          "output_type": "stream",
          "text": [
            " 90%|█████████ | 45/50 [02:19<00:16,  3.26s/it]"
          ]
        },
        {
          "name": "stdout",
          "output_type": "stream",
          "text": [
            "Index 44: \u001b[31mFail 🧐 \u001b[0m\n",
            "dataset index: 15\n",
            "Confidence: 21.72\n",
            "NLL: inf\n",
            "Failed Query: \u001b[43mTeenage T. rex's monster growth Tyrannosaurus rex achieved its massive size due to an enormous growth spurt during its adolescent years.\u001b[49m\n",
            "Label : \u001b[36m Sci/Tech \u001b[39m Pred : \u001b[35m Business \u001b[39m\n",
            "Current Accuracy: \u001b[34m22.22%\u001b[39m\n",
            "\u001b[33m----------------------------------\u001b[39m\n"
          ]
        },
        {
          "name": "stderr",
          "output_type": "stream",
          "text": [
            " 92%|█████████▏| 46/50 [02:22<00:12,  3.12s/it]"
          ]
        },
        {
          "name": "stdout",
          "output_type": "stream",
          "text": [
            "Index 45: \u001b[31mFail 🧐 \u001b[0m\n",
            "dataset index: 5242\n",
            "Confidence: 26.92\n",
            "NLL: 81.25\n",
            "Failed Query: \u001b[43mDaLomba sprints to win With the Eastern Massachussetts cross-country championships just a week away, yesterday's MSTCA Invitational at Franklin Park offered area runners a last chance to tune up for the title race.\u001b[49m\n",
            "Label : \u001b[36m Sports \u001b[39m Pred : \u001b[35m Business \u001b[39m\n",
            "Current Accuracy: \u001b[34m21.74%\u001b[39m\n",
            "\u001b[33m----------------------------------\u001b[39m\n"
          ]
        },
        {
          "name": "stderr",
          "output_type": "stream",
          "text": [
            " 94%|█████████▍| 47/50 [02:25<00:09,  3.00s/it]"
          ]
        },
        {
          "name": "stdout",
          "output_type": "stream",
          "text": [
            "Index 46: \u001b[32mSuccess 🎉 \u001b[0m \n",
            "dataset index: 1093\n",
            "Confidence: 27.59\n",
            "NLL: -0.00\n",
            "Current Accuracy: \u001b[34m23.40%\u001b[39m\n",
            "\u001b[33m----------------------------------\u001b[39m\n"
          ]
        },
        {
          "name": "stderr",
          "output_type": "stream",
          "text": [
            " 96%|█████████▌| 48/50 [02:28<00:05,  2.96s/it]"
          ]
        },
        {
          "name": "stdout",
          "output_type": "stream",
          "text": [
            "Index 47: \u001b[31mFail 🧐 \u001b[0m\n",
            "dataset index: 5058\n",
            "Confidence: 23.17\n",
            "NLL: 82.03\n",
            "Failed Query: \u001b[43mRoma 1-1 Bayer Leverkusen: FT Report ROME, November 3 (Champions League) - Vincenzo Montella #39;s injury-time equaliser forced Bayer Leverkusen to settle for a share of the points on Wednesday in Group B of the Champions League but the Eternal City club are virtually eliminated if not yet \u001b[49m\n",
            "Label : \u001b[36m Sports \u001b[39m Pred : \u001b[35m Business \u001b[39m\n",
            "Current Accuracy: \u001b[34m22.92%\u001b[39m\n",
            "\u001b[33m----------------------------------\u001b[39m\n"
          ]
        },
        {
          "name": "stderr",
          "output_type": "stream",
          "text": [
            " 98%|█████████▊| 49/50 [02:30<00:02,  2.84s/it]"
          ]
        },
        {
          "name": "stdout",
          "output_type": "stream",
          "text": [
            "Index 48: \u001b[31mFail 🧐 \u001b[0m\n",
            "dataset index: 4456\n",
            "Confidence: 16.99\n",
            "NLL: 39.11\n",
            "Failed Query: \u001b[43mVictory Looms for Karzai as Vote Probe Continues Hamid Karzai was assured of a majority in Afghanistans election to become its first democratically chosen president. With nearly 95 per cent of votes counted, the interim leader already has more than half \u001b[49m\n",
            "Label : \u001b[36m World \u001b[39m Pred : \u001b[35m Business \u001b[39m\n",
            "Current Accuracy: \u001b[34m22.45%\u001b[39m\n",
            "\u001b[33m----------------------------------\u001b[39m\n"
          ]
        },
        {
          "name": "stderr",
          "output_type": "stream",
          "text": [
            "100%|██████████| 50/50 [02:33<00:00,  3.06s/it]"
          ]
        },
        {
          "name": "stdout",
          "output_type": "stream",
          "text": [
            "Index 49: \u001b[31mFail 🧐 \u001b[0m\n",
            "dataset index: 2414\n",
            "Confidence: 27.29\n",
            "NLL: inf\n",
            "Failed Query: \u001b[43mSamples From Genesis Craft Sent to Calif. (AP) AP - The first solar-wind samples recovered from the crashed Genesis space capsule have been sent to researchers in California.\u001b[49m\n",
            "Label : \u001b[36m Sci/Tech \u001b[39m Pred : \u001b[35m Business \u001b[39m\n",
            "Current Accuracy: \u001b[34m22.00%\u001b[39m\n",
            "\u001b[31m>>>>>>>>>>>>>>>>>>>>>>>>>>>>>>>>>>>>>>>>>>>>>>\u001b[39m\n",
            "Total Correct Predictions: \u001b[1m11 (22.00%)\u001b[0m\n",
            "\u001b[31m>>>>>>>>>>>>>>>>>>>>>>>>>>>>>>>>>>>>>>>>>>>>>>\u001b[39m\n"
          ]
        },
        {
          "name": "stderr",
          "output_type": "stream",
          "text": [
            "\n"
          ]
        }
      ],
      "source": [
        "import numpy as np\n",
        "from tqdm import tqdm\n",
        "from colorama import Fore, Style, Back\n",
        "import torch.nn.functional as F\n",
        "import humanize\n",
        "import math\n",
        "import random\n",
        "\n",
        "\n",
        "def calculate_nll(probs_softmax, label):\n",
        "    return -torch.log(probs_softmax[label])\n",
        "\n",
        "\n",
        "def get_confidence(probs_softmax):\n",
        "    top_two_probs, _ = torch.topk(probs_softmax, 2)\n",
        "    # 가장 높은 확률을 두 번째로 높은 확률로 나누어 비율을 계산\n",
        "    return math.log10(top_two_probs[0] / top_two_probs[1])\n",
        "\n",
        "\n",
        "total = 50\n",
        "n_corrects = 0\n",
        "\n",
        "# 0부터 7600 사이에서 겹치지 않게 50개의 숫자 뽑기\n",
        "random_numbers = random.sample(range(7601), total)\n",
        "\n",
        "for i in tqdm(range(total)):\n",
        "\n",
        "    print(f\"{Fore.YELLOW}----------------------------------{Fore.RESET}\")\n",
        "    text = tokenized_news_ds[\"test\"][random_numbers[i]][\"text\"]\n",
        "    label = tokenized_news_ds[\"test\"][random_numbers[i]][\"label\"]\n",
        "    probs = zero_shot_classification(\n",
        "        text,\n",
        "        task_description,\n",
        "        label_sentences,\n",
        "    )\n",
        "\n",
        "    probs_tensor = torch.tensor(probs)\n",
        "    probs_softmax = F.softmax(probs_tensor, dim=0)\n",
        "\n",
        "    pred = np.argmax(np.array(probs))\n",
        "    if pred == label:\n",
        "        n_corrects += 1\n",
        "        tqdm.write(f\"Index {i}: {Fore.GREEN}Success 🎉 {Style.RESET_ALL} \")\n",
        "        print(f\"dataset index: {random_numbers[i]}\")\n",
        "        print(f\"Confidence: {get_confidence(probs_softmax):.2f}\")\n",
        "        print(f\"NLL: {calculate_nll(probs_softmax,label):.2f}\")\n",
        "    else:\n",
        "        tqdm.write(f\"Index {i}: {Fore.RED}Fail 🧐 {Style.RESET_ALL}\")\n",
        "        print(f\"dataset index: {random_numbers[i]}\")\n",
        "        print(f\"Confidence: {get_confidence(probs_softmax):.2f}\")\n",
        "        print(f\"NLL: {calculate_nll(probs_softmax,label):.2f}\")\n",
        "        print(f\"Failed Query: {Back.YELLOW}{text}{Back.RESET}\")\n",
        "        label, pred = label_map[label], label_map[pred]\n",
        "        print(\n",
        "            f\"Label : {Fore.CYAN} {label} {Fore.RESET} Pred : {Fore.MAGENTA} {pred} {Fore.RESET}\"\n",
        "        )\n",
        "    current_accuracy = n_corrects / (i + 1)\n",
        "    print(f\"Current Accuracy: {Fore.BLUE}{current_accuracy:,.2%}{Fore.RESET}\")\n",
        "\n",
        "print(f\"{Fore.RED}>>>>>>>>>>>>>>>>>>>>>>>>>>>>>>>>>>>>>>>>>>>>>>{Fore.RESET}\")\n",
        "print(\n",
        "    f\"Total Correct Predictions: {Style.BRIGHT}{n_corrects} ({n_corrects/total:.2%}){Style.RESET_ALL}\"\n",
        ")\n",
        "print(f\"{Fore.RED}>>>>>>>>>>>>>>>>>>>>>>>>>>>>>>>>>>>>>>>>>>>>>>{Fore.RESET}\")"
      ]
    },
    {
      "cell_type": "markdown",
      "metadata": {},
      "source": [
        "---\n"
      ]
    },
    {
      "cell_type": "markdown",
      "metadata": {
        "id": "QpzqKZIGiAJf"
      },
      "source": [
        "# 실습: Zero-shot Classification\n",
        "\n",
        "이번 실습에서는 open LLM을 가지고 zero-shot classification을 해봅니다. 먼저 필요한 library들을 설치합시다.\n"
      ]
    },
    {
      "cell_type": "markdown",
      "metadata": {},
      "source": []
    },
    {
      "cell_type": "markdown",
      "metadata": {
        "id": "0OTiwRFCiOLh"
      },
      "source": [
        "그 다음 Gemma-2B를 사용하기 위해 다음과 같은 작업을 진행합니다:\n",
        "\n",
        "1. huggingface.co 계정 만들고 로그인하기\n",
        "2. https://www.kaggle.com/models/google/gemma/license/consent 에서 Gemma license 동의하기\n",
        "3. 홈 화면으로 돌아와, `Profile > Settings > Access Tokens` 메뉴로 들어와 \"Write\" type의 token 생성하기\n",
        "4. 생성한 토큰을 아래 \"HF TOKEN\"에 불여넣고 셀을 실행하기.\n"
      ]
    },
    {
      "cell_type": "code",
      "execution_count": null,
      "metadata": {
        "colab": {
          "base_uri": "https://localhost:8080/"
        },
        "id": "OR-WLBupSWge",
        "outputId": "754bbb9b-e5ee-49cc-d911-c31665857bcc"
      },
      "outputs": [],
      "source": [
        "import os\n",
        "from dotenv import load_dotenv\n",
        "\n",
        "load_dotenv()\n",
        "HF_TOKEN = os.environ.get(\"HF_TOKEN\")\n",
        "\n",
        "from huggingface_hub import login\n",
        "\n",
        "login(HF_TOKEN)"
      ]
    },
    {
      "cell_type": "code",
      "execution_count": null,
      "metadata": {
        "colab": {
          "base_uri": "https://localhost:8080/",
          "height": 239,
          "referenced_widgets": [
            "31c9f3bb8337443ba261f703deb60bee",
            "0e3f7db5454b43df8378482ade8ae6cb",
            "20ea22fbd6de4a85bcf95430dbab723a",
            "097145238cb44bb5b1ef8ee33780bca5",
            "e13d437ed25f4fe1909438ab06b63430",
            "3515005acafa4ba4bb31b3f4a140526c",
            "b0de599f252947b3ab2636a3fb757a5a",
            "db064ed95c104ed78132946104a85adb",
            "3fa9855f02ca49a6b62cfbd26132f11d",
            "14de9443213346a2b1acc6c9a555be83",
            "006333234eba4b4da24226a01c5b2746"
          ]
        },
        "id": "9tnUVYfgSfiD",
        "outputId": "a8a0c468-7ed6-4755-c2c3-6c0c1f0b42fd"
      },
      "outputs": [],
      "source": [
        "from transformers import AutoTokenizer, AutoModelForCausalLM\n",
        "\n",
        "tokenizer = AutoTokenizer.from_pretrained(\"google/gemma-2b\")\n",
        "model = AutoModelForCausalLM.from_pretrained(\"google/gemma-2b\", device_map=\"auto\")"
      ]
    },
    {
      "cell_type": "markdown",
      "metadata": {
        "id": "ODVS4wNyi_It"
      },
      "source": [
        "이번에는 Gemma-2B를 가지고 간단한 text 생성을 해봅시다.\n",
        "\"What is your name?\" 이라는 text를 넣었을 때 어떤 text가 생성되는지 살펴봅시다.\n"
      ]
    },
    {
      "cell_type": "code",
      "execution_count": null,
      "metadata": {},
      "outputs": [],
      "source": [
        "input_text = \"What is your name?\"\n",
        "input_ids = tokenizer(input_text, return_tensors=\"pt\").to(\"mps\")\n",
        "input_ids"
      ]
    },
    {
      "cell_type": "code",
      "execution_count": null,
      "metadata": {
        "colab": {
          "base_uri": "https://localhost:8080/"
        },
        "id": "bDV0owydSlve",
        "outputId": "c117571d-10ec-4dcc-adfc-62276e874ed2"
      },
      "outputs": [],
      "source": [
        "input_text = \"What is your name?\"\n",
        "input_ids = tokenizer(input_text, return_tensors=\"pt\").to(\"mps\")\n",
        "outputs = model.generate(**input_ids)\n",
        "print(tokenizer.decode(outputs[0]))"
      ]
    },
    {
      "cell_type": "code",
      "execution_count": null,
      "metadata": {},
      "outputs": [],
      "source": [
        "tokens = input_ids[\"input_ids\"]\n",
        "print(tokens)\n",
        "input_ids"
      ]
    },
    {
      "cell_type": "markdown",
      "metadata": {
        "id": "Prp1S51GjH2R"
      },
      "source": [
        "2B의 작은 LLM이라 질좋은 답변이 나오지 않는 것을 알 수 있습니다.\n",
        "이번에는 입력으로 넣어준 token들의 logit을 계산해봅시다.\n"
      ]
    },
    {
      "cell_type": "code",
      "execution_count": null,
      "metadata": {
        "colab": {
          "base_uri": "https://localhost:8080/"
        },
        "id": "BV23vDvvS95o",
        "outputId": "2cb41bae-534f-486c-f39e-eede1dcc475e"
      },
      "outputs": [],
      "source": [
        "tokens = input_ids[\"input_ids\"]\n",
        "print(tokens)\n",
        "\n",
        "logits = model(**input_ids).logits\n",
        "for i in range(tokens.shape[-1]):\n",
        "    token = tokens[0, i].item()\n",
        "    print(logits[0, i, token])"
      ]
    },
    {
      "cell_type": "markdown",
      "metadata": {
        "id": "Lc_Wu4g-jW-M"
      },
      "source": [
        "위와 같이 모델 출력의 `.logits`을 통해 token들의 logit을 알 수 있습니다.\n",
        "Logit은 높을 수록 token이 나올 확률이 높다는 뜻입니다.\n",
        "\n",
        "이번에는 logit 계산을 통해 zero-shot classification을 구현해보도록 하겠습니다.\n"
      ]
    },
    {
      "cell_type": "code",
      "execution_count": 8,
      "metadata": {
        "id": "80DYDWX_TGW4"
      },
      "outputs": [],
      "source": [
        "import torch\n",
        "\n",
        "\n",
        "def zero_shot_classification(\n",
        "    text, task_description, labels\n",
        "):  # text는 주어진 입력, task_description은 task에 대한 설명, labels은 class들을 text로 변환한 결과입니다.\n",
        "    text_ids = tokenizer(task_description + text, return_tensors=\"pt\").to(\n",
        "        \"mps\"\n",
        "    )  # 먼저 task_description과 text를 이어붙인 후, tokenize합니다.\n",
        "\n",
        "    probs = []\n",
        "\n",
        "    for label in labels:\n",
        "        # 그 다음 각 text화된 label들을 tokenize하고 입력에 이어붙인 후, Gemma-2B에 넣어줍니다.\n",
        "        label_ids = tokenizer(label, return_tensors=\"pt\").to(\"mps\")\n",
        "        n_label_tokens = label_ids[\"input_ids\"].shape[-1] - 1\n",
        "        # text로 변환한 label의 token 수를 계산합니다.\n",
        "        input_ids = {\n",
        "            \"input_ids\": torch.concatenate(\n",
        "                [text_ids[\"input_ids\"], label_ids[\"input_ids\"][:, 1:]], axis=-1\n",
        "            ),  # concatenate 명령어를 통해 이어붙이는 모습입니다.\n",
        "            \"attention_mask\": torch.concatenate(\n",
        "                [text_ids[\"attention_mask\"], label_ids[\"attention_mask\"][:, 1:]],\n",
        "                axis=-1,\n",
        "            ),\n",
        "        }\n",
        "\n",
        "        logits = model(**input_ids).logits  # Logit을 계산한 모습입니다.\n",
        "        prob = 0\n",
        "        n_total = input_ids[\"input_ids\"].shape[-1]\n",
        "        for i in range(\n",
        "            n_label_tokens, 0, -1\n",
        "        ):  # 일반적으로 text로 변환한 label은 여러 token으로 이루어져있습니다. 이러한 label에 대한 logit은 구성하는 모든 token들의 logit들의 합으로 정의합니다.\n",
        "            token = label_ids[\"input_ids\"][0, i].item()\n",
        "            prob += logits[0, n_total - i, token].item()\n",
        "        probs.append(prob)\n",
        "\n",
        "        del input_ids\n",
        "        del logits\n",
        "        torch.cuda.empty_cache()  # 위의 del과 empty_cache() 명령어를 통해 GPU를 제때 할당해제 해줍니다. 만약 GPU가 여유롭다면 지워주시는게 속도적으로 이득입니다.\n",
        "\n",
        "    return probs"
      ]
    },
    {
      "cell_type": "markdown",
      "metadata": {
        "id": "59oGhRjXkwbD"
      },
      "source": [
        "아래는 실제로 zero-shot classification을 해본 결과입니다.\n"
      ]
    },
    {
      "cell_type": "code",
      "execution_count": null,
      "metadata": {
        "colab": {
          "base_uri": "https://localhost:8080/"
        },
        "id": "qmRrHyEJTPXC",
        "outputId": "e3a4dd1f-5c04-458e-d1a8-b2e88203136f"
      },
      "outputs": [],
      "source": [
        "probs = zero_shot_classification(\n",
        "    \"I am happy!\", \"Is the sentence positive or negative?: \", [\"positive\", \"negative\"]\n",
        ")\n",
        "print(probs)"
      ]
    },
    {
      "cell_type": "markdown",
      "metadata": {
        "id": "ORK2bdfjk71e"
      },
      "source": [
        "보시다시피 우리는 Gemma를 별도로 학습하지 않았음에도 불구하고 주어진 문장이 긍정적이라는 것을 정확하게 예측하고 있습니다.\n",
        "\n",
        "다음은 영화 리뷰 감정 분석 task에 적용해봅시다.\n",
        "먼저 data를 불러옵니다.\n"
      ]
    },
    {
      "cell_type": "code",
      "execution_count": null,
      "metadata": {
        "colab": {
          "base_uri": "https://localhost:8080/",
          "height": 49,
          "referenced_widgets": [
            "2379a0ef99054d73ab658e8dcf7a05af",
            "ea46f6de1fec4cd18ccd6659e37fa556",
            "f8dc077abc2b49aa9b67f7c6f77c42e0",
            "3bbd3adf58c248ea99587be77c306043",
            "fafd2f415b9a4c6799a431023d3689a9",
            "76e62808134346949ef3b047486beb6f",
            "e94ec0e1574a4a93ac885256005870b9",
            "f90fb938a7e84075a852b5419d983d34",
            "f6a8d4f6823e48f4a7eb5e1ea9db03ca",
            "5d04a65826e74808b09d55412c8a7be1",
            "a95543073c7242fd949ec78b03905494"
          ]
        },
        "id": "vJNWmHKGTRRK",
        "outputId": "fd222bb3-4529-4e99-dcf9-1244bf376295"
      },
      "outputs": [],
      "source": [
        "from datasets import load_dataset\n",
        "\n",
        "\n",
        "imdb = load_dataset(\"imdb\")\n",
        "\n",
        "\n",
        "def preprocess_function(examples):\n",
        "    return tokenizer(examples[\"text\"], max_length=200, truncation=True)\n",
        "\n",
        "\n",
        "tokenized_imdb = imdb.map(preprocess_function, batched=True)"
      ]
    },
    {
      "cell_type": "markdown",
      "metadata": {
        "id": "fctUKygElHtT"
      },
      "source": [
        "그리고 `test` data에서 50개의 영화 리뷰에 대해 예측하는 코드는 다음과 같습니다.\n"
      ]
    },
    {
      "cell_type": "code",
      "execution_count": null,
      "metadata": {
        "colab": {
          "base_uri": "https://localhost:8080/"
        },
        "id": "4-NY-YG4ToT9",
        "outputId": "59bf8581-13fb-4ee8-a7a5-a8cd2b1f0d75"
      },
      "outputs": [],
      "source": [
        "import numpy as np\n",
        "from tqdm import tqdm\n",
        "\n",
        "\n",
        "n_corrects = 0\n",
        "for i in tqdm(range(50)):\n",
        "    text = tokenized_imdb[\"test\"][i][\"text\"]\n",
        "    label = tokenized_imdb[\"test\"][i][\"label\"]\n",
        "    probs = zero_shot_classification(\n",
        "        text,\n",
        "        \"A movie review is given. Decide that the movie review is positive or negative: \",\n",
        "        labels=[\"Answer: negative.\", \"Answer: positive.\"],\n",
        "    )\n",
        "\n",
        "    pred = np.argmax(np.array(probs))\n",
        "    if pred == label:\n",
        "        n_corrects += 1\n",
        "\n",
        "print(n_corrects)"
      ]
    },
    {
      "cell_type": "code",
      "execution_count": null,
      "metadata": {},
      "outputs": [],
      "source": [
        "text = tokenized_imdb[\"test\"][i][\"text\"]\n",
        "text"
      ]
    },
    {
      "cell_type": "code",
      "execution_count": null,
      "metadata": {},
      "outputs": [],
      "source": [
        "label = tokenized_imdb[\"test\"][i][\"label\"]\n",
        "label"
      ]
    },
    {
      "cell_type": "markdown",
      "metadata": {
        "id": "U5Epj6CMlbeE"
      },
      "source": [
        "보시다시피 정확도 88%로, 매우 높은 성능을 보이는 것을 알 수 있습니다.\n"
      ]
    },
    {
      "cell_type": "code",
      "execution_count": null,
      "metadata": {
        "id": "4_AR-gf2UOTn"
      },
      "outputs": [],
      "source": []
    }
  ],
  "metadata": {
    "accelerator": "GPU",
    "colab": {
      "gpuType": "T4",
      "provenance": []
    },
    "kernelspec": {
      "display_name": "week5-szymwyO9-py3.12",
      "language": "python",
      "name": "python3"
    },
    "language_info": {
      "codemirror_mode": {
        "name": "ipython",
        "version": 3
      },
      "file_extension": ".py",
      "mimetype": "text/x-python",
      "name": "python",
      "nbconvert_exporter": "python",
      "pygments_lexer": "ipython3",
      "version": "3.12.6"
    },
    "widgets": {
      "application/vnd.jupyter.widget-state+json": {
        "006333234eba4b4da24226a01c5b2746": {
          "model_module": "@jupyter-widgets/controls",
          "model_module_version": "1.5.0",
          "model_name": "DescriptionStyleModel",
          "state": {
            "_model_module": "@jupyter-widgets/controls",
            "_model_module_version": "1.5.0",
            "_model_name": "DescriptionStyleModel",
            "_view_count": null,
            "_view_module": "@jupyter-widgets/base",
            "_view_module_version": "1.2.0",
            "_view_name": "StyleView",
            "description_width": ""
          }
        },
        "097145238cb44bb5b1ef8ee33780bca5": {
          "model_module": "@jupyter-widgets/controls",
          "model_module_version": "1.5.0",
          "model_name": "HTMLModel",
          "state": {
            "_dom_classes": [],
            "_model_module": "@jupyter-widgets/controls",
            "_model_module_version": "1.5.0",
            "_model_name": "HTMLModel",
            "_view_count": null,
            "_view_module": "@jupyter-widgets/controls",
            "_view_module_version": "1.5.0",
            "_view_name": "HTMLView",
            "description": "",
            "description_tooltip": null,
            "layout": "IPY_MODEL_14de9443213346a2b1acc6c9a555be83",
            "placeholder": "​",
            "style": "IPY_MODEL_006333234eba4b4da24226a01c5b2746",
            "value": " 2/2 [00:17&lt;00:00,  7.45s/it]"
          }
        },
        "0e3f7db5454b43df8378482ade8ae6cb": {
          "model_module": "@jupyter-widgets/controls",
          "model_module_version": "1.5.0",
          "model_name": "HTMLModel",
          "state": {
            "_dom_classes": [],
            "_model_module": "@jupyter-widgets/controls",
            "_model_module_version": "1.5.0",
            "_model_name": "HTMLModel",
            "_view_count": null,
            "_view_module": "@jupyter-widgets/controls",
            "_view_module_version": "1.5.0",
            "_view_name": "HTMLView",
            "description": "",
            "description_tooltip": null,
            "layout": "IPY_MODEL_3515005acafa4ba4bb31b3f4a140526c",
            "placeholder": "​",
            "style": "IPY_MODEL_b0de599f252947b3ab2636a3fb757a5a",
            "value": "Loading checkpoint shards: 100%"
          }
        },
        "14de9443213346a2b1acc6c9a555be83": {
          "model_module": "@jupyter-widgets/base",
          "model_module_version": "1.2.0",
          "model_name": "LayoutModel",
          "state": {
            "_model_module": "@jupyter-widgets/base",
            "_model_module_version": "1.2.0",
            "_model_name": "LayoutModel",
            "_view_count": null,
            "_view_module": "@jupyter-widgets/base",
            "_view_module_version": "1.2.0",
            "_view_name": "LayoutView",
            "align_content": null,
            "align_items": null,
            "align_self": null,
            "border": null,
            "bottom": null,
            "display": null,
            "flex": null,
            "flex_flow": null,
            "grid_area": null,
            "grid_auto_columns": null,
            "grid_auto_flow": null,
            "grid_auto_rows": null,
            "grid_column": null,
            "grid_gap": null,
            "grid_row": null,
            "grid_template_areas": null,
            "grid_template_columns": null,
            "grid_template_rows": null,
            "height": null,
            "justify_content": null,
            "justify_items": null,
            "left": null,
            "margin": null,
            "max_height": null,
            "max_width": null,
            "min_height": null,
            "min_width": null,
            "object_fit": null,
            "object_position": null,
            "order": null,
            "overflow": null,
            "overflow_x": null,
            "overflow_y": null,
            "padding": null,
            "right": null,
            "top": null,
            "visibility": null,
            "width": null
          }
        },
        "20ea22fbd6de4a85bcf95430dbab723a": {
          "model_module": "@jupyter-widgets/controls",
          "model_module_version": "1.5.0",
          "model_name": "FloatProgressModel",
          "state": {
            "_dom_classes": [],
            "_model_module": "@jupyter-widgets/controls",
            "_model_module_version": "1.5.0",
            "_model_name": "FloatProgressModel",
            "_view_count": null,
            "_view_module": "@jupyter-widgets/controls",
            "_view_module_version": "1.5.0",
            "_view_name": "ProgressView",
            "bar_style": "success",
            "description": "",
            "description_tooltip": null,
            "layout": "IPY_MODEL_db064ed95c104ed78132946104a85adb",
            "max": 2,
            "min": 0,
            "orientation": "horizontal",
            "style": "IPY_MODEL_3fa9855f02ca49a6b62cfbd26132f11d",
            "value": 2
          }
        },
        "2379a0ef99054d73ab658e8dcf7a05af": {
          "model_module": "@jupyter-widgets/controls",
          "model_module_version": "1.5.0",
          "model_name": "HBoxModel",
          "state": {
            "_dom_classes": [],
            "_model_module": "@jupyter-widgets/controls",
            "_model_module_version": "1.5.0",
            "_model_name": "HBoxModel",
            "_view_count": null,
            "_view_module": "@jupyter-widgets/controls",
            "_view_module_version": "1.5.0",
            "_view_name": "HBoxView",
            "box_style": "",
            "children": [
              "IPY_MODEL_ea46f6de1fec4cd18ccd6659e37fa556",
              "IPY_MODEL_f8dc077abc2b49aa9b67f7c6f77c42e0",
              "IPY_MODEL_3bbd3adf58c248ea99587be77c306043"
            ],
            "layout": "IPY_MODEL_fafd2f415b9a4c6799a431023d3689a9"
          }
        },
        "31c9f3bb8337443ba261f703deb60bee": {
          "model_module": "@jupyter-widgets/controls",
          "model_module_version": "1.5.0",
          "model_name": "HBoxModel",
          "state": {
            "_dom_classes": [],
            "_model_module": "@jupyter-widgets/controls",
            "_model_module_version": "1.5.0",
            "_model_name": "HBoxModel",
            "_view_count": null,
            "_view_module": "@jupyter-widgets/controls",
            "_view_module_version": "1.5.0",
            "_view_name": "HBoxView",
            "box_style": "",
            "children": [
              "IPY_MODEL_0e3f7db5454b43df8378482ade8ae6cb",
              "IPY_MODEL_20ea22fbd6de4a85bcf95430dbab723a",
              "IPY_MODEL_097145238cb44bb5b1ef8ee33780bca5"
            ],
            "layout": "IPY_MODEL_e13d437ed25f4fe1909438ab06b63430"
          }
        },
        "3515005acafa4ba4bb31b3f4a140526c": {
          "model_module": "@jupyter-widgets/base",
          "model_module_version": "1.2.0",
          "model_name": "LayoutModel",
          "state": {
            "_model_module": "@jupyter-widgets/base",
            "_model_module_version": "1.2.0",
            "_model_name": "LayoutModel",
            "_view_count": null,
            "_view_module": "@jupyter-widgets/base",
            "_view_module_version": "1.2.0",
            "_view_name": "LayoutView",
            "align_content": null,
            "align_items": null,
            "align_self": null,
            "border": null,
            "bottom": null,
            "display": null,
            "flex": null,
            "flex_flow": null,
            "grid_area": null,
            "grid_auto_columns": null,
            "grid_auto_flow": null,
            "grid_auto_rows": null,
            "grid_column": null,
            "grid_gap": null,
            "grid_row": null,
            "grid_template_areas": null,
            "grid_template_columns": null,
            "grid_template_rows": null,
            "height": null,
            "justify_content": null,
            "justify_items": null,
            "left": null,
            "margin": null,
            "max_height": null,
            "max_width": null,
            "min_height": null,
            "min_width": null,
            "object_fit": null,
            "object_position": null,
            "order": null,
            "overflow": null,
            "overflow_x": null,
            "overflow_y": null,
            "padding": null,
            "right": null,
            "top": null,
            "visibility": null,
            "width": null
          }
        },
        "3bbd3adf58c248ea99587be77c306043": {
          "model_module": "@jupyter-widgets/controls",
          "model_module_version": "1.5.0",
          "model_name": "HTMLModel",
          "state": {
            "_dom_classes": [],
            "_model_module": "@jupyter-widgets/controls",
            "_model_module_version": "1.5.0",
            "_model_name": "HTMLModel",
            "_view_count": null,
            "_view_module": "@jupyter-widgets/controls",
            "_view_module_version": "1.5.0",
            "_view_name": "HTMLView",
            "description": "",
            "description_tooltip": null,
            "layout": "IPY_MODEL_5d04a65826e74808b09d55412c8a7be1",
            "placeholder": "​",
            "style": "IPY_MODEL_a95543073c7242fd949ec78b03905494",
            "value": " 25000/25000 [00:20&lt;00:00, 939.01 examples/s]"
          }
        },
        "3fa9855f02ca49a6b62cfbd26132f11d": {
          "model_module": "@jupyter-widgets/controls",
          "model_module_version": "1.5.0",
          "model_name": "ProgressStyleModel",
          "state": {
            "_model_module": "@jupyter-widgets/controls",
            "_model_module_version": "1.5.0",
            "_model_name": "ProgressStyleModel",
            "_view_count": null,
            "_view_module": "@jupyter-widgets/base",
            "_view_module_version": "1.2.0",
            "_view_name": "StyleView",
            "bar_color": null,
            "description_width": ""
          }
        },
        "5d04a65826e74808b09d55412c8a7be1": {
          "model_module": "@jupyter-widgets/base",
          "model_module_version": "1.2.0",
          "model_name": "LayoutModel",
          "state": {
            "_model_module": "@jupyter-widgets/base",
            "_model_module_version": "1.2.0",
            "_model_name": "LayoutModel",
            "_view_count": null,
            "_view_module": "@jupyter-widgets/base",
            "_view_module_version": "1.2.0",
            "_view_name": "LayoutView",
            "align_content": null,
            "align_items": null,
            "align_self": null,
            "border": null,
            "bottom": null,
            "display": null,
            "flex": null,
            "flex_flow": null,
            "grid_area": null,
            "grid_auto_columns": null,
            "grid_auto_flow": null,
            "grid_auto_rows": null,
            "grid_column": null,
            "grid_gap": null,
            "grid_row": null,
            "grid_template_areas": null,
            "grid_template_columns": null,
            "grid_template_rows": null,
            "height": null,
            "justify_content": null,
            "justify_items": null,
            "left": null,
            "margin": null,
            "max_height": null,
            "max_width": null,
            "min_height": null,
            "min_width": null,
            "object_fit": null,
            "object_position": null,
            "order": null,
            "overflow": null,
            "overflow_x": null,
            "overflow_y": null,
            "padding": null,
            "right": null,
            "top": null,
            "visibility": null,
            "width": null
          }
        },
        "76e62808134346949ef3b047486beb6f": {
          "model_module": "@jupyter-widgets/base",
          "model_module_version": "1.2.0",
          "model_name": "LayoutModel",
          "state": {
            "_model_module": "@jupyter-widgets/base",
            "_model_module_version": "1.2.0",
            "_model_name": "LayoutModel",
            "_view_count": null,
            "_view_module": "@jupyter-widgets/base",
            "_view_module_version": "1.2.0",
            "_view_name": "LayoutView",
            "align_content": null,
            "align_items": null,
            "align_self": null,
            "border": null,
            "bottom": null,
            "display": null,
            "flex": null,
            "flex_flow": null,
            "grid_area": null,
            "grid_auto_columns": null,
            "grid_auto_flow": null,
            "grid_auto_rows": null,
            "grid_column": null,
            "grid_gap": null,
            "grid_row": null,
            "grid_template_areas": null,
            "grid_template_columns": null,
            "grid_template_rows": null,
            "height": null,
            "justify_content": null,
            "justify_items": null,
            "left": null,
            "margin": null,
            "max_height": null,
            "max_width": null,
            "min_height": null,
            "min_width": null,
            "object_fit": null,
            "object_position": null,
            "order": null,
            "overflow": null,
            "overflow_x": null,
            "overflow_y": null,
            "padding": null,
            "right": null,
            "top": null,
            "visibility": null,
            "width": null
          }
        },
        "a95543073c7242fd949ec78b03905494": {
          "model_module": "@jupyter-widgets/controls",
          "model_module_version": "1.5.0",
          "model_name": "DescriptionStyleModel",
          "state": {
            "_model_module": "@jupyter-widgets/controls",
            "_model_module_version": "1.5.0",
            "_model_name": "DescriptionStyleModel",
            "_view_count": null,
            "_view_module": "@jupyter-widgets/base",
            "_view_module_version": "1.2.0",
            "_view_name": "StyleView",
            "description_width": ""
          }
        },
        "b0de599f252947b3ab2636a3fb757a5a": {
          "model_module": "@jupyter-widgets/controls",
          "model_module_version": "1.5.0",
          "model_name": "DescriptionStyleModel",
          "state": {
            "_model_module": "@jupyter-widgets/controls",
            "_model_module_version": "1.5.0",
            "_model_name": "DescriptionStyleModel",
            "_view_count": null,
            "_view_module": "@jupyter-widgets/base",
            "_view_module_version": "1.2.0",
            "_view_name": "StyleView",
            "description_width": ""
          }
        },
        "db064ed95c104ed78132946104a85adb": {
          "model_module": "@jupyter-widgets/base",
          "model_module_version": "1.2.0",
          "model_name": "LayoutModel",
          "state": {
            "_model_module": "@jupyter-widgets/base",
            "_model_module_version": "1.2.0",
            "_model_name": "LayoutModel",
            "_view_count": null,
            "_view_module": "@jupyter-widgets/base",
            "_view_module_version": "1.2.0",
            "_view_name": "LayoutView",
            "align_content": null,
            "align_items": null,
            "align_self": null,
            "border": null,
            "bottom": null,
            "display": null,
            "flex": null,
            "flex_flow": null,
            "grid_area": null,
            "grid_auto_columns": null,
            "grid_auto_flow": null,
            "grid_auto_rows": null,
            "grid_column": null,
            "grid_gap": null,
            "grid_row": null,
            "grid_template_areas": null,
            "grid_template_columns": null,
            "grid_template_rows": null,
            "height": null,
            "justify_content": null,
            "justify_items": null,
            "left": null,
            "margin": null,
            "max_height": null,
            "max_width": null,
            "min_height": null,
            "min_width": null,
            "object_fit": null,
            "object_position": null,
            "order": null,
            "overflow": null,
            "overflow_x": null,
            "overflow_y": null,
            "padding": null,
            "right": null,
            "top": null,
            "visibility": null,
            "width": null
          }
        },
        "e13d437ed25f4fe1909438ab06b63430": {
          "model_module": "@jupyter-widgets/base",
          "model_module_version": "1.2.0",
          "model_name": "LayoutModel",
          "state": {
            "_model_module": "@jupyter-widgets/base",
            "_model_module_version": "1.2.0",
            "_model_name": "LayoutModel",
            "_view_count": null,
            "_view_module": "@jupyter-widgets/base",
            "_view_module_version": "1.2.0",
            "_view_name": "LayoutView",
            "align_content": null,
            "align_items": null,
            "align_self": null,
            "border": null,
            "bottom": null,
            "display": null,
            "flex": null,
            "flex_flow": null,
            "grid_area": null,
            "grid_auto_columns": null,
            "grid_auto_flow": null,
            "grid_auto_rows": null,
            "grid_column": null,
            "grid_gap": null,
            "grid_row": null,
            "grid_template_areas": null,
            "grid_template_columns": null,
            "grid_template_rows": null,
            "height": null,
            "justify_content": null,
            "justify_items": null,
            "left": null,
            "margin": null,
            "max_height": null,
            "max_width": null,
            "min_height": null,
            "min_width": null,
            "object_fit": null,
            "object_position": null,
            "order": null,
            "overflow": null,
            "overflow_x": null,
            "overflow_y": null,
            "padding": null,
            "right": null,
            "top": null,
            "visibility": null,
            "width": null
          }
        },
        "e94ec0e1574a4a93ac885256005870b9": {
          "model_module": "@jupyter-widgets/controls",
          "model_module_version": "1.5.0",
          "model_name": "DescriptionStyleModel",
          "state": {
            "_model_module": "@jupyter-widgets/controls",
            "_model_module_version": "1.5.0",
            "_model_name": "DescriptionStyleModel",
            "_view_count": null,
            "_view_module": "@jupyter-widgets/base",
            "_view_module_version": "1.2.0",
            "_view_name": "StyleView",
            "description_width": ""
          }
        },
        "ea46f6de1fec4cd18ccd6659e37fa556": {
          "model_module": "@jupyter-widgets/controls",
          "model_module_version": "1.5.0",
          "model_name": "HTMLModel",
          "state": {
            "_dom_classes": [],
            "_model_module": "@jupyter-widgets/controls",
            "_model_module_version": "1.5.0",
            "_model_name": "HTMLModel",
            "_view_count": null,
            "_view_module": "@jupyter-widgets/controls",
            "_view_module_version": "1.5.0",
            "_view_name": "HTMLView",
            "description": "",
            "description_tooltip": null,
            "layout": "IPY_MODEL_76e62808134346949ef3b047486beb6f",
            "placeholder": "​",
            "style": "IPY_MODEL_e94ec0e1574a4a93ac885256005870b9",
            "value": "Map: 100%"
          }
        },
        "f6a8d4f6823e48f4a7eb5e1ea9db03ca": {
          "model_module": "@jupyter-widgets/controls",
          "model_module_version": "1.5.0",
          "model_name": "ProgressStyleModel",
          "state": {
            "_model_module": "@jupyter-widgets/controls",
            "_model_module_version": "1.5.0",
            "_model_name": "ProgressStyleModel",
            "_view_count": null,
            "_view_module": "@jupyter-widgets/base",
            "_view_module_version": "1.2.0",
            "_view_name": "StyleView",
            "bar_color": null,
            "description_width": ""
          }
        },
        "f8dc077abc2b49aa9b67f7c6f77c42e0": {
          "model_module": "@jupyter-widgets/controls",
          "model_module_version": "1.5.0",
          "model_name": "FloatProgressModel",
          "state": {
            "_dom_classes": [],
            "_model_module": "@jupyter-widgets/controls",
            "_model_module_version": "1.5.0",
            "_model_name": "FloatProgressModel",
            "_view_count": null,
            "_view_module": "@jupyter-widgets/controls",
            "_view_module_version": "1.5.0",
            "_view_name": "ProgressView",
            "bar_style": "success",
            "description": "",
            "description_tooltip": null,
            "layout": "IPY_MODEL_f90fb938a7e84075a852b5419d983d34",
            "max": 25000,
            "min": 0,
            "orientation": "horizontal",
            "style": "IPY_MODEL_f6a8d4f6823e48f4a7eb5e1ea9db03ca",
            "value": 25000
          }
        },
        "f90fb938a7e84075a852b5419d983d34": {
          "model_module": "@jupyter-widgets/base",
          "model_module_version": "1.2.0",
          "model_name": "LayoutModel",
          "state": {
            "_model_module": "@jupyter-widgets/base",
            "_model_module_version": "1.2.0",
            "_model_name": "LayoutModel",
            "_view_count": null,
            "_view_module": "@jupyter-widgets/base",
            "_view_module_version": "1.2.0",
            "_view_name": "LayoutView",
            "align_content": null,
            "align_items": null,
            "align_self": null,
            "border": null,
            "bottom": null,
            "display": null,
            "flex": null,
            "flex_flow": null,
            "grid_area": null,
            "grid_auto_columns": null,
            "grid_auto_flow": null,
            "grid_auto_rows": null,
            "grid_column": null,
            "grid_gap": null,
            "grid_row": null,
            "grid_template_areas": null,
            "grid_template_columns": null,
            "grid_template_rows": null,
            "height": null,
            "justify_content": null,
            "justify_items": null,
            "left": null,
            "margin": null,
            "max_height": null,
            "max_width": null,
            "min_height": null,
            "min_width": null,
            "object_fit": null,
            "object_position": null,
            "order": null,
            "overflow": null,
            "overflow_x": null,
            "overflow_y": null,
            "padding": null,
            "right": null,
            "top": null,
            "visibility": null,
            "width": null
          }
        },
        "fafd2f415b9a4c6799a431023d3689a9": {
          "model_module": "@jupyter-widgets/base",
          "model_module_version": "1.2.0",
          "model_name": "LayoutModel",
          "state": {
            "_model_module": "@jupyter-widgets/base",
            "_model_module_version": "1.2.0",
            "_model_name": "LayoutModel",
            "_view_count": null,
            "_view_module": "@jupyter-widgets/base",
            "_view_module_version": "1.2.0",
            "_view_name": "LayoutView",
            "align_content": null,
            "align_items": null,
            "align_self": null,
            "border": null,
            "bottom": null,
            "display": null,
            "flex": null,
            "flex_flow": null,
            "grid_area": null,
            "grid_auto_columns": null,
            "grid_auto_flow": null,
            "grid_auto_rows": null,
            "grid_column": null,
            "grid_gap": null,
            "grid_row": null,
            "grid_template_areas": null,
            "grid_template_columns": null,
            "grid_template_rows": null,
            "height": null,
            "justify_content": null,
            "justify_items": null,
            "left": null,
            "margin": null,
            "max_height": null,
            "max_width": null,
            "min_height": null,
            "min_width": null,
            "object_fit": null,
            "object_position": null,
            "order": null,
            "overflow": null,
            "overflow_x": null,
            "overflow_y": null,
            "padding": null,
            "right": null,
            "top": null,
            "visibility": null,
            "width": null
          }
        }
      }
    }
  },
  "nbformat": 4,
  "nbformat_minor": 0
}
