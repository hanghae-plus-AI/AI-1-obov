{
  "cells": [
    {
      "cell_type": "markdown",
      "metadata": {},
      "source": [
        "# [5주차 기본과제] 뉴스 기사 분류를 Gemma로 구현하기\n"
      ]
    },
    {
      "cell_type": "markdown",
      "metadata": {},
      "source": []
    },
    {
      "cell_type": "code",
      "execution_count": 88,
      "metadata": {},
      "outputs": [
        {
          "name": "stdout",
          "output_type": "stream",
          "text": [
            "The token has not been saved to the git credentials helper. Pass `add_to_git_credential=True` in this function directly or `--add-to-git-credential` if using via `huggingface-cli` if you want to set the git credential as well.\n",
            "Token is valid (permission: fineGrained).\n",
            "Your token has been saved to /Users/obov/.cache/huggingface/token\n",
            "Login successful\n"
          ]
        },
        {
          "data": {
            "application/vnd.jupyter.widget-view+json": {
              "model_id": "46ac2f621e9b42558f084a05e82558d7",
              "version_major": 2,
              "version_minor": 0
            },
            "text/plain": [
              "Loading checkpoint shards:   0%|          | 0/2 [00:00<?, ?it/s]"
            ]
          },
          "metadata": {},
          "output_type": "display_data"
        },
        {
          "name": "stderr",
          "output_type": "stream",
          "text": [
            "WARNING:root:Some parameters are on the meta device device because they were offloaded to the disk.\n"
          ]
        },
        {
          "data": {
            "application/vnd.jupyter.widget-view+json": {
              "model_id": "a32a7424632349c2bba21d3125aef162",
              "version_major": 2,
              "version_minor": 0
            },
            "text/plain": [
              "tokenizer_config.json:   0%|          | 0.00/47.0k [00:00<?, ?B/s]"
            ]
          },
          "metadata": {},
          "output_type": "display_data"
        },
        {
          "data": {
            "application/vnd.jupyter.widget-view+json": {
              "model_id": "99f37353cad14eb990381331f5794db6",
              "version_major": 2,
              "version_minor": 0
            },
            "text/plain": [
              "tokenizer.model:   0%|          | 0.00/4.24M [00:00<?, ?B/s]"
            ]
          },
          "metadata": {},
          "output_type": "display_data"
        },
        {
          "data": {
            "application/vnd.jupyter.widget-view+json": {
              "model_id": "fccd9d4a44de4f9b81aa169b8ad97b6b",
              "version_major": 2,
              "version_minor": 0
            },
            "text/plain": [
              "tokenizer.json:   0%|          | 0.00/17.5M [00:00<?, ?B/s]"
            ]
          },
          "metadata": {},
          "output_type": "display_data"
        },
        {
          "data": {
            "application/vnd.jupyter.widget-view+json": {
              "model_id": "b98d934adc2c47d9909c4b6b6f5e2929",
              "version_major": 2,
              "version_minor": 0
            },
            "text/plain": [
              "special_tokens_map.json:   0%|          | 0.00/636 [00:00<?, ?B/s]"
            ]
          },
          "metadata": {},
          "output_type": "display_data"
        },
        {
          "data": {
            "application/vnd.jupyter.widget-view+json": {
              "model_id": "28770c5900c84592a6e3fb930ce6d951",
              "version_major": 2,
              "version_minor": 0
            },
            "text/plain": [
              "Loading checkpoint shards:   0%|          | 0/2 [00:00<?, ?it/s]"
            ]
          },
          "metadata": {},
          "output_type": "display_data"
        }
      ],
      "source": [
        "import os\n",
        "from dotenv import load_dotenv\n",
        "\n",
        "load_dotenv()\n",
        "HF_TOKEN = os.environ.get(\"HF_TOKEN\")\n",
        "\n",
        "from huggingface_hub import login\n",
        "\n",
        "login(HF_TOKEN)\n",
        "from transformers import AutoTokenizer, AutoModelForCausalLM\n",
        "import torch\n",
        "\n",
        "tokenizer = AutoTokenizer.from_pretrained(\"google/gemma-2b\")\n",
        "model = AutoModelForCausalLM.from_pretrained(\"google/gemma-2b\", device_map=\"auto\")\n",
        "tokenizer = AutoTokenizer.from_pretrained(\"google/gemma-2-2b-it\")\n",
        "model = AutoModelForCausalLM.from_pretrained(\n",
        "    \"google/gemma-2-2b-it\",\n",
        "    device_map=\"auto\",\n",
        "    torch_dtype=torch.bfloat16,\n",
        ")"
      ]
    },
    {
      "cell_type": "code",
      "execution_count": 89,
      "metadata": {},
      "outputs": [
        {
          "data": {
            "text/plain": [
              "DatasetDict({\n",
              "    train: Dataset({\n",
              "        features: ['text', 'label'],\n",
              "        num_rows: 120000\n",
              "    })\n",
              "    test: Dataset({\n",
              "        features: ['text', 'label'],\n",
              "        num_rows: 7600\n",
              "    })\n",
              "})"
            ]
          },
          "execution_count": 89,
          "metadata": {},
          "output_type": "execute_result"
        }
      ],
      "source": [
        "from datasets import load_dataset\n",
        "\n",
        "\n",
        "news_ds = load_dataset(\"fancyzhx/ag_news\")\n",
        "news_ds"
      ]
    },
    {
      "cell_type": "code",
      "execution_count": 90,
      "metadata": {},
      "outputs": [
        {
          "data": {
            "text/plain": [
              "['Venezuelans Vote Early in Referendum on Chavez Rule (Reuters) Reuters - Venezuelans turned out early\\\\and in large numbers on Sunday to vote in a historic referendum\\\\that will either remove left-wing President Hugo Chavez from\\\\office or give him a new mandate to govern for the next two\\\\years.',\n",
              " 'S.Koreans Clash with Police on Iraq Troop Dispatch (Reuters) Reuters - South Korean police used water cannon in\\\\central Seoul Sunday to disperse at least 7,000 protesters\\\\urging the government to reverse a controversial decision to\\\\send more troops to Iraq.',\n",
              " \"Palestinians in Israeli Jails Start Hunger Strike (Reuters) Reuters - Thousands of Palestinian\\\\prisoners in Israeli jails began a hunger strike for better\\\\conditions Sunday, but Israel's security minister said he\\\\didn't care if they starved to death.\"]"
            ]
          },
          "execution_count": 90,
          "metadata": {},
          "output_type": "execute_result"
        }
      ],
      "source": [
        "world_ds = news_ds[\"train\"].filter(lambda data: data[\"label\"] == 0)\n",
        "world_ds[\"text\"][:3]"
      ]
    },
    {
      "cell_type": "code",
      "execution_count": 91,
      "metadata": {},
      "outputs": [
        {
          "data": {
            "text/plain": [
              "Dataset({\n",
              "    features: ['text', 'label'],\n",
              "    num_rows: 30000\n",
              "})"
            ]
          },
          "execution_count": 91,
          "metadata": {},
          "output_type": "execute_result"
        }
      ],
      "source": [
        "sports_ds = news_ds[\"train\"].filter(lambda data: data[\"label\"] == 1)\n",
        "sports_ds"
      ]
    },
    {
      "cell_type": "code",
      "execution_count": 92,
      "metadata": {},
      "outputs": [
        {
          "data": {
            "text/plain": [
              "Dataset({\n",
              "    features: ['text', 'label'],\n",
              "    num_rows: 30000\n",
              "})"
            ]
          },
          "execution_count": 92,
          "metadata": {},
          "output_type": "execute_result"
        }
      ],
      "source": [
        "business_ds = news_ds[\"train\"].filter(lambda data: data[\"label\"] == 2)\n",
        "business_ds"
      ]
    },
    {
      "cell_type": "code",
      "execution_count": 93,
      "metadata": {},
      "outputs": [
        {
          "data": {
            "text/plain": [
              "Dataset({\n",
              "    features: ['text', 'label'],\n",
              "    num_rows: 30000\n",
              "})"
            ]
          },
          "execution_count": 93,
          "metadata": {},
          "output_type": "execute_result"
        }
      ],
      "source": [
        "sci_tech_ds = news_ds[\"train\"].filter(lambda data: data[\"label\"] == 3)\n",
        "sci_tech_ds"
      ]
    },
    {
      "cell_type": "code",
      "execution_count": 94,
      "metadata": {},
      "outputs": [
        {
          "data": {
            "text/plain": [
              "{'text': Value(dtype='string', id=None),\n",
              " 'label': ClassLabel(names=['World', 'Sports', 'Business', 'Sci/Tech'], id=None)}"
            ]
          },
          "execution_count": 94,
          "metadata": {},
          "output_type": "execute_result"
        }
      ],
      "source": [
        "news_ds[\"train\"].features"
      ]
    },
    {
      "cell_type": "code",
      "execution_count": 95,
      "metadata": {},
      "outputs": [],
      "source": [
        "label_map = news_ds[\"train\"].features[\"label\"].names"
      ]
    },
    {
      "cell_type": "code",
      "execution_count": 97,
      "metadata": {},
      "outputs": [
        {
          "data": {
            "text/plain": [
              "DatasetInfo(description='', citation='', homepage='', license='', features={'text': Value(dtype='string', id=None), 'label': ClassLabel(names=['World', 'Sports', 'Business', 'Sci/Tech'], id=None)}, post_processed=None, supervised_keys=None, builder_name='parquet', dataset_name='ag_news', config_name='default', version=0.0.0, splits={'train': SplitInfo(name='train', num_bytes=29832303, num_examples=120000, shard_lengths=None, dataset_name='ag_news'), 'test': SplitInfo(name='test', num_bytes=1880424, num_examples=7600, shard_lengths=None, dataset_name='ag_news')}, download_checksums={'hf://datasets/fancyzhx/ag_news@eb185aade064a813bc0b7f42de02595523103ca4/data/train-00000-of-00001.parquet': {'num_bytes': 18585438, 'checksum': None}, 'hf://datasets/fancyzhx/ag_news@eb185aade064a813bc0b7f42de02595523103ca4/data/test-00000-of-00001.parquet': {'num_bytes': 1234829, 'checksum': None}}, download_size=19820267, post_processing_size=None, dataset_size=31712727, size_in_bytes=51532994)"
            ]
          },
          "execution_count": 97,
          "metadata": {},
          "output_type": "execute_result"
        }
      ],
      "source": [
        "news_ds[\"train\"].info"
      ]
    },
    {
      "cell_type": "code",
      "execution_count": 98,
      "metadata": {},
      "outputs": [
        {
          "name": "stdout",
          "output_type": "stream",
          "text": [
            "DatasetInfo(description='',\n",
            "            citation='',\n",
            "            homepage='',\n",
            "            license='',\n",
            "            features={'label': ClassLabel(names=['World',\n",
            "                                                 'Sports',\n",
            "                                                 'Business',\n",
            "                                                 'Sci/Tech'],\n",
            "                                          id=None),\n",
            "                      'text': Value(dtype='string', id=None)},\n",
            "            post_processed=None,\n",
            "            supervised_keys=None,\n",
            "            builder_name='parquet',\n",
            "            dataset_name='ag_news',\n",
            "            config_name='default',\n",
            "            version=0.0.0,\n",
            "            splits={'test': SplitInfo(name='test',\n",
            "                                      num_bytes=1880424,\n",
            "                                      num_examples=7600,\n",
            "                                      shard_lengths=None,\n",
            "                                      dataset_name='ag_news'),\n",
            "                    'train': SplitInfo(name='train',\n",
            "                                       num_bytes=29832303,\n",
            "                                       num_examples=120000,\n",
            "                                       shard_lengths=None,\n",
            "                                       dataset_name='ag_news')},\n",
            "            download_checksums={'hf://datasets/fancyzhx/ag_news@eb185aade064a813bc0b7f42de02595523103ca4/data/test-00000-of-00001.parquet': {'checksum': None,\n",
            "                                                                                                                                             'num_bytes': 1234829},\n",
            "                                'hf://datasets/fancyzhx/ag_news@eb185aade064a813bc0b7f42de02595523103ca4/data/train-00000-of-00001.parquet': {'checksum': None,\n",
            "                                                                                                                                              'num_bytes': 18585438}},\n",
            "            download_size=19820267,\n",
            "            post_processing_size=None,\n",
            "            dataset_size=31712727,\n",
            "            size_in_bytes=51532994)\n"
          ]
        }
      ],
      "source": [
        "from pprint import pprint\n",
        "\n",
        "pprint(news_ds[\"train\"].info)"
      ]
    },
    {
      "cell_type": "code",
      "execution_count": 99,
      "metadata": {},
      "outputs": [
        {
          "data": {
            "text/plain": [
              "2"
            ]
          },
          "execution_count": 99,
          "metadata": {},
          "output_type": "execute_result"
        }
      ],
      "source": [
        "tokenizer(\"World\", return_tensors=\"pt\")\n",
        "tokenizer(\"World\", return_tensors=\"pt\")[\"input_ids\"].shape[-1]"
      ]
    },
    {
      "cell_type": "code",
      "execution_count": 100,
      "metadata": {},
      "outputs": [],
      "source": [
        "label_sentences = [\n",
        "    \"Batman: This is mainly about the world, the one we’re sworn to protect.\",\n",
        "    \"Joker: Why so serious? Clearly related to Sports news!\",\n",
        "    \"Penguin: It’s all about Business, and trust me, I know how to play that game.\",\n",
        "    \"Bane: This article mainly covers Sci/Tech.\",\n",
        "]\n",
        "\n",
        "task_description = \"\"\"\n",
        "Task Description:\n",
        "The scene unfolds with four iconic characters from the Batman universe seated around a table, each reading the same article. Batman, ever composed and logical, is the first to speak, delivering a clear and concise assessment of the piece. The Joker follows, making a mocking and unpredictable remark, turning the topic on its head. Two-Face, as always, relies on the flip of a coin to determine his take. Finally, Bane, with his focus on power and control, offers his perspective, emphasizing the article’s deeper implications.\n",
        "\n",
        "Your task is simple: “Who explained the article the best?”.\n",
        "\n",
        "Now, it’s time to choose—who described it best?\n",
        "\n",
        "ARTICLE:\"\"\""
      ]
    },
    {
      "cell_type": "code",
      "execution_count": 101,
      "metadata": {},
      "outputs": [],
      "source": [
        "import torch\n",
        "\n",
        "\n",
        "def zero_shot_classification(\n",
        "    text, task_description, labels\n",
        "):  # text는 주어진 입력, task_description은 task에 대한 설명, labels은 class들을 text로 변환한 결과입니다.\n",
        "    text_ids = tokenizer(task_description + text, return_tensors=\"pt\").to(\n",
        "        \"mps\"\n",
        "    )  # 먼저 task_description과 text를 이어붙인 후, tokenize합니다.\n",
        "\n",
        "    probs = []\n",
        "\n",
        "    for label in labels:\n",
        "        # 그 다음 각 text화된 label들을 tokenize하고 입력에 이어붙인 후, Gemma-2B에 넣어줍니다.\n",
        "        label_ids = tokenizer(label, return_tensors=\"pt\").to(\"mps\")\n",
        "        n_label_tokens = label_ids[\"input_ids\"].shape[-1] - 1\n",
        "        # text로 변환한 label의 token 수를 계산합니다.\n",
        "        input_ids = {\n",
        "            \"input_ids\": torch.concatenate(\n",
        "                [text_ids[\"input_ids\"], label_ids[\"input_ids\"][:, 1:]], axis=-1\n",
        "            ),  # concatenate 명령어를 통해 이어붙이는 모습입니다.\n",
        "            \"attention_mask\": torch.concatenate(\n",
        "                [text_ids[\"attention_mask\"], label_ids[\"attention_mask\"][:, 1:]],\n",
        "                axis=-1,\n",
        "            ),\n",
        "        }\n",
        "\n",
        "        logits = model(**input_ids).logits  # Logit을 계산한 모습입니다.\n",
        "        prob = 0\n",
        "        n_total = input_ids[\"input_ids\"].shape[-1]\n",
        "        for i in range(\n",
        "            n_label_tokens, 0, -1\n",
        "        ):  # 일반적으로 text로 변환한 label은 여러 token으로 이루어져있습니다. 이러한 label에 대한 logit은 구성하는 모든 token들의 logit들의 합으로 정의합니다.\n",
        "            token = label_ids[\"input_ids\"][0, i].item()\n",
        "            prob += logits[0, n_total - i, token].item()\n",
        "        probs.append(prob)\n",
        "\n",
        "        del input_ids\n",
        "        del logits\n",
        "        torch.mps.empty_cache()  # 위의 del과 empty_cache() 명령어를 통해 GPU를 제때 할당해제 해줍니다. 만약 GPU가 여유롭다면 지워주시는게 속도적으로 이득입니다.\n",
        "\n",
        "    return probs"
      ]
    },
    {
      "cell_type": "code",
      "execution_count": 102,
      "metadata": {},
      "outputs": [
        {
          "data": {
            "text/plain": [
              "'Carlyle Looks Toward Commercial Aerospace (Reuters) Reuters - Private investment firm Carlyle Group,\\\\which has a reputation for making well-timed and occasionally\\\\controversial plays in the defense industry, has quietly placed\\\\its bets on another part of the market.'"
            ]
          },
          "execution_count": 102,
          "metadata": {},
          "output_type": "execute_result"
        }
      ],
      "source": [
        "news_ds[\"train\"][1][\"text\"]"
      ]
    },
    {
      "cell_type": "code",
      "execution_count": 103,
      "metadata": {},
      "outputs": [
        {
          "data": {
            "text/plain": [
              "2"
            ]
          },
          "execution_count": 103,
          "metadata": {},
          "output_type": "execute_result"
        }
      ],
      "source": [
        "news_ds[\"train\"][1][\"label\"]"
      ]
    },
    {
      "cell_type": "code",
      "execution_count": 104,
      "metadata": {},
      "outputs": [
        {
          "name": "stdout",
          "output_type": "stream",
          "text": [
            "[99.28125, 70.71484375, 158.25, 48.431640625]\n",
            "3\n"
          ]
        },
        {
          "data": {
            "text/plain": [
              "2"
            ]
          },
          "execution_count": 104,
          "metadata": {},
          "output_type": "execute_result"
        }
      ],
      "source": [
        "text_label = news_ds[\"train\"][179]\n",
        "\n",
        "probs = zero_shot_classification(\n",
        "    text_label[\"text\"],\n",
        "    task_description,\n",
        "    label_sentences,\n",
        ")\n",
        "print(probs)\n",
        "import numpy as np\n",
        "\n",
        "print(text_label[\"label\"])\n",
        "np.argmax(np.array(probs)).item()"
      ]
    },
    {
      "cell_type": "code",
      "execution_count": 86,
      "metadata": {},
      "outputs": [
        {
          "data": {
            "application/vnd.jupyter.widget-view+json": {
              "model_id": "dd41ab336a9b4408bd977fd654d61a09",
              "version_major": 2,
              "version_minor": 0
            },
            "text/plain": [
              "Map:   0%|          | 0/120000 [00:00<?, ? examples/s]"
            ]
          },
          "metadata": {},
          "output_type": "display_data"
        },
        {
          "data": {
            "application/vnd.jupyter.widget-view+json": {
              "model_id": "05537afa7c464821b9779a35bfa34091",
              "version_major": 2,
              "version_minor": 0
            },
            "text/plain": [
              "Map:   0%|          | 0/7600 [00:00<?, ? examples/s]"
            ]
          },
          "metadata": {},
          "output_type": "display_data"
        },
        {
          "data": {
            "text/plain": [
              "DatasetDict({\n",
              "    train: Dataset({\n",
              "        features: ['text', 'label', 'input_ids', 'attention_mask'],\n",
              "        num_rows: 120000\n",
              "    })\n",
              "    test: Dataset({\n",
              "        features: ['text', 'label', 'input_ids', 'attention_mask'],\n",
              "        num_rows: 7600\n",
              "    })\n",
              "})"
            ]
          },
          "execution_count": 86,
          "metadata": {},
          "output_type": "execute_result"
        }
      ],
      "source": [
        "def preprocess_function(examples):\n",
        "    return tokenizer(examples[\"text\"], max_length=200, truncation=True)\n",
        "\n",
        "\n",
        "tokenized_news_ds = news_ds.map(preprocess_function, batched=True)\n",
        "tokenized_news_ds"
      ]
    },
    {
      "cell_type": "code",
      "execution_count": 105,
      "metadata": {},
      "outputs": [
        {
          "name": "stderr",
          "output_type": "stream",
          "text": [
            "  0%|          | 0/50 [00:00<?, ?it/s]"
          ]
        },
        {
          "name": "stdout",
          "output_type": "stream",
          "text": [
            "\u001b[33m----------------------------------\u001b[39m\n"
          ]
        },
        {
          "name": "stderr",
          "output_type": "stream",
          "text": [
            "  2%|▏         | 1/50 [00:04<03:27,  4.24s/it]"
          ]
        },
        {
          "name": "stdout",
          "output_type": "stream",
          "text": [
            "Index 0: \u001b[31mFail 🧐 \u001b[0m\n",
            "dataset index: 5093\n",
            "Confidence: 26.28\n",
            "NLL: inf\n",
            "Failed Query: \u001b[40mHubble Sees Rare Triple Jupiter Eclipse Nov. 4, 2004 - A rare alignment of Jupiter #39;s three largest moons across the planet #39;s face was captured on film by the Hubble Space Telescope.\u001b[49m\n",
            "Label : \u001b[36m Sci/Tech \u001b[39m Pred : \u001b[35m Business \u001b[39m\n",
            "Current Accuracy: \u001b[34m0.00%\u001b[39m\n",
            "\u001b[33m----------------------------------\u001b[39m\n"
          ]
        },
        {
          "name": "stderr",
          "output_type": "stream",
          "text": [
            "  4%|▍         | 2/50 [00:07<02:44,  3.43s/it]"
          ]
        },
        {
          "name": "stdout",
          "output_type": "stream",
          "text": [
            "Index 1: \u001b[31mFail 🧐 \u001b[0m\n",
            "dataset index: 5425\n",
            "Confidence: 25.25\n",
            "NLL: 84.63\n",
            "Failed Query: \u001b[40mMayor sure of ballpark support DC Mayor Anthony A. Williams said yesterday he is  quot;very confident quot; that he has the seven necessary votes from the DC Council for his plan to build a ballpark near South Capitol Street Southeast.\u001b[49m\n",
            "Label : \u001b[36m Sports \u001b[39m Pred : \u001b[35m Business \u001b[39m\n",
            "Current Accuracy: \u001b[34m0.00%\u001b[39m\n",
            "\u001b[33m----------------------------------\u001b[39m\n"
          ]
        },
        {
          "name": "stderr",
          "output_type": "stream",
          "text": [
            "  6%|▌         | 3/50 [00:09<02:22,  3.02s/it]"
          ]
        },
        {
          "name": "stdout",
          "output_type": "stream",
          "text": [
            "Index 2: \u001b[31mFail 🧐 \u001b[0m\n",
            "dataset index: 1829\n",
            "Confidence: 22.19\n",
            "NLL: 82.29\n",
            "Failed Query: \u001b[40mmagic number down to 10 New York -- If the Braves #39; 13th consecutive division title seemed like a foregone conclusion before Wednesday, well then it seems doubly so today.\u001b[49m\n",
            "Label : \u001b[36m Sports \u001b[39m Pred : \u001b[35m Business \u001b[39m\n",
            "Current Accuracy: \u001b[34m0.00%\u001b[39m\n",
            "\u001b[33m----------------------------------\u001b[39m\n"
          ]
        },
        {
          "name": "stderr",
          "output_type": "stream",
          "text": [
            "  8%|▊         | 4/50 [00:12<02:12,  2.88s/it]"
          ]
        },
        {
          "name": "stdout",
          "output_type": "stream",
          "text": [
            "Index 3: \u001b[31mFail 🧐 \u001b[0m\n",
            "dataset index: 3906\n",
            "Confidence: 27.74\n",
            "NLL: 63.88\n",
            "Failed Query: \u001b[40m14 dead in Kashmir violence NEW DELHI - Fourteen people have been killed in Kashmir in an increase of violence since a visit by the Indian prime minister in mid-November.\u001b[49m\n",
            "Label : \u001b[36m World \u001b[39m Pred : \u001b[35m Business \u001b[39m\n",
            "Current Accuracy: \u001b[34m0.00%\u001b[39m\n",
            "\u001b[33m----------------------------------\u001b[39m\n"
          ]
        },
        {
          "name": "stderr",
          "output_type": "stream",
          "text": [
            " 10%|█         | 5/50 [00:26<05:11,  6.92s/it]"
          ]
        },
        {
          "name": "stdout",
          "output_type": "stream",
          "text": [
            "Index 4: \u001b[31mFail 🧐 \u001b[0m\n",
            "dataset index: 5307\n",
            "Confidence: 28.31\n",
            "NLL: inf\n",
            "Failed Query: \u001b[40mMicrosoft Plans Heavy Hype for 'Halo 2' \"Halo 2\" appears to be one of the most hotly hyped and heavily anticipated video games ever, and Microsoft is planning a Tuesday release that may rival the best of Hollywood's movie glitz. &lt;FONT face=\"verdana,MS Sans Serif,arial,helvetica\" size=\"-2\"\\ color=\"#666666\"&gt;&lt;B&gt;-washingtonpost.com&lt;/B&gt;&lt;/FONT&gt;\u001b[49m\n",
            "Label : \u001b[36m Sci/Tech \u001b[39m Pred : \u001b[35m Business \u001b[39m\n",
            "Current Accuracy: \u001b[34m0.00%\u001b[39m\n",
            "\u001b[33m----------------------------------\u001b[39m\n"
          ]
        },
        {
          "name": "stderr",
          "output_type": "stream",
          "text": [
            " 12%|█▏        | 6/50 [00:28<03:59,  5.44s/it]"
          ]
        },
        {
          "name": "stdout",
          "output_type": "stream",
          "text": [
            "Index 5: \u001b[31mFail 🧐 \u001b[0m\n",
            "dataset index: 3621\n",
            "Confidence: 16.62\n",
            "NLL: 78.16\n",
            "Failed Query: \u001b[40mAdams quits as Leicester boss LEICESTER: Mickey Adams has quit as manager of English Championship side Leicester City, the club announced yesterday. Adams #39; resignation was accepted at an emergency meeting of the board of directors at the \u001b[49m\n",
            "Label : \u001b[36m Sports \u001b[39m Pred : \u001b[35m Business \u001b[39m\n",
            "Current Accuracy: \u001b[34m0.00%\u001b[39m\n",
            "\u001b[33m----------------------------------\u001b[39m\n"
          ]
        },
        {
          "name": "stderr",
          "output_type": "stream",
          "text": [
            " 14%|█▍        | 7/50 [00:31<03:19,  4.63s/it]"
          ]
        },
        {
          "name": "stdout",
          "output_type": "stream",
          "text": [
            "Index 6: \u001b[31mFail 🧐 \u001b[0m\n",
            "dataset index: 3865\n",
            "Confidence: 23.71\n",
            "NLL: 83.70\n",
            "Failed Query: \u001b[40mWEEK 6: Pregame show hits the road for Seattle-New England Every week, the experts of FOX NFL Sunday will candidly reveal their observations and make their opinions known as they prepare for their top-rated pregame telecast - seen each Sunday at 12 pm ET / 9 am PT.\u001b[49m\n",
            "Label : \u001b[36m Sports \u001b[39m Pred : \u001b[35m Business \u001b[39m\n",
            "Current Accuracy: \u001b[34m0.00%\u001b[39m\n",
            "\u001b[33m----------------------------------\u001b[39m\n"
          ]
        },
        {
          "name": "stderr",
          "output_type": "stream",
          "text": [
            " 16%|█▌        | 8/50 [00:34<02:48,  4.02s/it]"
          ]
        },
        {
          "name": "stdout",
          "output_type": "stream",
          "text": [
            "Index 7: \u001b[31mFail 🧐 \u001b[0m\n",
            "dataset index: 3301\n",
            "Confidence: 27.58\n",
            "NLL: 63.52\n",
            "Failed Query: \u001b[40mGuinea-Bissau Soldiers Stage Mutiny, Kill Army Chief Mutinous soldiers demanding pay for peacekeeping duty abroad killed the commander of Guinea-Bissau #39;s armed forces on Wednesday and seized key buildings in the capital of the former Portuguese colony.\u001b[49m\n",
            "Label : \u001b[36m World \u001b[39m Pred : \u001b[35m Business \u001b[39m\n",
            "Current Accuracy: \u001b[34m0.00%\u001b[39m\n",
            "\u001b[33m----------------------------------\u001b[39m\n"
          ]
        },
        {
          "name": "stderr",
          "output_type": "stream",
          "text": [
            " 18%|█▊        | 9/50 [00:36<02:17,  3.36s/it]"
          ]
        },
        {
          "name": "stdout",
          "output_type": "stream",
          "text": [
            "Index 8: \u001b[31mFail 🧐 \u001b[0m\n",
            "dataset index: 5565\n",
            "Confidence: 29.98\n",
            "NLL: inf\n",
            "Failed Query: \u001b[40m #39;Star Trek #39; spaceship enters the gateway to the Moon A EUROPEAN spacecraft powered by a Star Trek-style thruster has flown through a lunar gateway that puts it on course to reach the Moon on Monday.\u001b[49m\n",
            "Label : \u001b[36m Sci/Tech \u001b[39m Pred : \u001b[35m Business \u001b[39m\n",
            "Current Accuracy: \u001b[34m0.00%\u001b[39m\n",
            "\u001b[33m----------------------------------\u001b[39m\n"
          ]
        },
        {
          "name": "stderr",
          "output_type": "stream",
          "text": [
            " 20%|██        | 10/50 [00:39<02:07,  3.18s/it]"
          ]
        },
        {
          "name": "stdout",
          "output_type": "stream",
          "text": [
            "Index 9: \u001b[32mSuccess 🎉 \u001b[0m \n",
            "dataset index: 7488\n",
            "Confidence: 31.19\n",
            "NLL: -0.00\n",
            "Current Accuracy: \u001b[34m10.00%\u001b[39m\n",
            "\u001b[33m----------------------------------\u001b[39m\n"
          ]
        },
        {
          "name": "stderr",
          "output_type": "stream",
          "text": [
            " 22%|██▏       | 11/50 [00:43<02:20,  3.61s/it]"
          ]
        },
        {
          "name": "stdout",
          "output_type": "stream",
          "text": [
            "Index 10: \u001b[31mFail 🧐 \u001b[0m\n",
            "dataset index: 4569\n",
            "Confidence: 28.06\n",
            "NLL: inf\n",
            "Failed Query: \u001b[40mAids warning over bushmeat trade Meat from African wild animals being sold illegally in the UK is spreading a virus similar to HIV, a leading scientist warns.\u001b[49m\n",
            "Label : \u001b[36m Sci/Tech \u001b[39m Pred : \u001b[35m Business \u001b[39m\n",
            "Current Accuracy: \u001b[34m9.09%\u001b[39m\n",
            "\u001b[33m----------------------------------\u001b[39m\n"
          ]
        },
        {
          "name": "stderr",
          "output_type": "stream",
          "text": [
            " 24%|██▍       | 12/50 [00:46<02:06,  3.32s/it]"
          ]
        },
        {
          "name": "stdout",
          "output_type": "stream",
          "text": [
            "Index 11: \u001b[31mFail 🧐 \u001b[0m\n",
            "dataset index: 2871\n",
            "Confidence: 16.21\n",
            "NLL: 74.65\n",
            "Failed Query: \u001b[40mBorn to coach For the reason, with apologies to Michael Vick, look no further than the third-youngest head coach in the NFL. James Lawrence Mora, the son, is already starting to look suspiciously like father James Earnest \u001b[49m\n",
            "Label : \u001b[36m Sports \u001b[39m Pred : \u001b[35m Business \u001b[39m\n",
            "Current Accuracy: \u001b[34m8.33%\u001b[39m\n",
            "\u001b[33m----------------------------------\u001b[39m\n"
          ]
        },
        {
          "name": "stderr",
          "output_type": "stream",
          "text": [
            " 26%|██▌       | 13/50 [00:48<01:50,  2.98s/it]"
          ]
        },
        {
          "name": "stdout",
          "output_type": "stream",
          "text": [
            "Index 12: \u001b[31mFail 🧐 \u001b[0m\n",
            "dataset index: 7475\n",
            "Confidence: 26.83\n",
            "NLL: 84.34\n",
            "Failed Query: \u001b[40mEfficient Germany Sweep Past Japan Two goals from Miroslav Klose helped Jrgen Klinsmann #39;s experimental Germany side breeze to a 3-0 win over Japan in Yokohama this afternoon.\u001b[49m\n",
            "Label : \u001b[36m Sports \u001b[39m Pred : \u001b[35m Business \u001b[39m\n",
            "Current Accuracy: \u001b[34m7.69%\u001b[39m\n",
            "\u001b[33m----------------------------------\u001b[39m\n"
          ]
        },
        {
          "name": "stderr",
          "output_type": "stream",
          "text": [
            " 28%|██▊       | 14/50 [00:51<01:42,  2.85s/it]"
          ]
        },
        {
          "name": "stdout",
          "output_type": "stream",
          "text": [
            "Index 13: \u001b[31mFail 🧐 \u001b[0m\n",
            "dataset index: 143\n",
            "Confidence: 27.53\n",
            "NLL: 63.38\n",
            "Failed Query: \u001b[40mIsraelis OK new homes in West Bank A leaked Israeli plan to build 1,000 new Jewish settler homes in the West Bank yesterday sent Bush administration officials scrambling for a response in the sensitive period before November #39;s presidential election. \u001b[49m\n",
            "Label : \u001b[36m World \u001b[39m Pred : \u001b[35m Business \u001b[39m\n",
            "Current Accuracy: \u001b[34m7.14%\u001b[39m\n",
            "\u001b[33m----------------------------------\u001b[39m\n"
          ]
        },
        {
          "name": "stderr",
          "output_type": "stream",
          "text": [
            " 30%|███       | 15/50 [00:53<01:36,  2.77s/it]"
          ]
        },
        {
          "name": "stdout",
          "output_type": "stream",
          "text": [
            "Index 14: \u001b[31mFail 🧐 \u001b[0m\n",
            "dataset index: 5954\n",
            "Confidence: 29.69\n",
            "NLL: 91.84\n",
            "Failed Query: \u001b[40mDelhomme Questionable Against Cardinals (AP) AP - Carolina quarterback Jake Delhomme did not practice Wednesday and is questionable this week because of a broken bone in his right thumb.\u001b[49m\n",
            "Label : \u001b[36m Sports \u001b[39m Pred : \u001b[35m Business \u001b[39m\n",
            "Current Accuracy: \u001b[34m6.67%\u001b[39m\n",
            "\u001b[33m----------------------------------\u001b[39m\n"
          ]
        },
        {
          "name": "stderr",
          "output_type": "stream",
          "text": [
            " 32%|███▏      | 16/50 [00:56<01:36,  2.83s/it]"
          ]
        },
        {
          "name": "stdout",
          "output_type": "stream",
          "text": [
            "Index 15: \u001b[31mFail 🧐 \u001b[0m\n",
            "dataset index: 6768\n",
            "Confidence: 27.28\n",
            "NLL: inf\n",
            "Failed Query: \u001b[40mJapan #39;s NTT DoCoMo sees Europe embracing hi-tech mobile phones TOKYO : Japan #39;s top mobile operator NTT DoCoMo believes Europe will embrace hi-tech telephones and expects a major boost in subscribers on the continent of its i-mode Internet service.\u001b[49m\n",
            "Label : \u001b[36m Sci/Tech \u001b[39m Pred : \u001b[35m Business \u001b[39m\n",
            "Current Accuracy: \u001b[34m6.25%\u001b[39m\n",
            "\u001b[33m----------------------------------\u001b[39m\n"
          ]
        },
        {
          "name": "stderr",
          "output_type": "stream",
          "text": [
            " 34%|███▍      | 17/50 [00:59<01:32,  2.80s/it]"
          ]
        },
        {
          "name": "stdout",
          "output_type": "stream",
          "text": [
            "Index 16: \u001b[31mFail 🧐 \u001b[0m\n",
            "dataset index: 4298\n",
            "Confidence: 28.59\n",
            "NLL: 88.29\n",
            "Failed Query: \u001b[40mVIEIRA FIT FOR UNITED BATTLE SKIPPER Patrick Vieira is set to hand Arsenal a massive boost for Sunday #39;s crunch clash against Manchester United by declaring himself fit to lead the Gunners at Old Trafford.\u001b[49m\n",
            "Label : \u001b[36m Sports \u001b[39m Pred : \u001b[35m Business \u001b[39m\n",
            "Current Accuracy: \u001b[34m5.88%\u001b[39m\n",
            "\u001b[33m----------------------------------\u001b[39m\n"
          ]
        },
        {
          "name": "stderr",
          "output_type": "stream",
          "text": [
            " 36%|███▌      | 18/50 [01:02<01:31,  2.86s/it]"
          ]
        },
        {
          "name": "stdout",
          "output_type": "stream",
          "text": [
            "Index 17: \u001b[32mSuccess 🎉 \u001b[0m \n",
            "dataset index: 6222\n",
            "Confidence: 26.81\n",
            "NLL: -0.00\n",
            "Current Accuracy: \u001b[34m11.11%\u001b[39m\n",
            "\u001b[33m----------------------------------\u001b[39m\n"
          ]
        },
        {
          "name": "stderr",
          "output_type": "stream",
          "text": [
            " 38%|███▊      | 19/50 [01:04<01:22,  2.68s/it]"
          ]
        },
        {
          "name": "stdout",
          "output_type": "stream",
          "text": [
            "Index 18: \u001b[32mSuccess 🎉 \u001b[0m \n",
            "dataset index: 1705\n",
            "Confidence: 25.97\n",
            "NLL: -0.00\n",
            "Current Accuracy: \u001b[34m15.79%\u001b[39m\n",
            "\u001b[33m----------------------------------\u001b[39m\n"
          ]
        },
        {
          "name": "stderr",
          "output_type": "stream",
          "text": [
            " 40%|████      | 20/50 [01:07<01:18,  2.62s/it]"
          ]
        },
        {
          "name": "stdout",
          "output_type": "stream",
          "text": [
            "Index 19: \u001b[31mFail 🧐 \u001b[0m\n",
            "dataset index: 2158\n",
            "Confidence: 27.28\n",
            "NLL: 62.81\n",
            "Failed Query: \u001b[40mUS Hostage Apparently Beheaded (CBS/AP) A video posted on an Islamic Web site Monday shows the apparent beheading of a man identified in the tape as American construction contractor Eugene Armstrong.\u001b[49m\n",
            "Label : \u001b[36m World \u001b[39m Pred : \u001b[35m Business \u001b[39m\n",
            "Current Accuracy: \u001b[34m15.00%\u001b[39m\n",
            "\u001b[33m----------------------------------\u001b[39m\n"
          ]
        },
        {
          "name": "stderr",
          "output_type": "stream",
          "text": [
            " 42%|████▏     | 21/50 [01:09<01:13,  2.53s/it]"
          ]
        },
        {
          "name": "stdout",
          "output_type": "stream",
          "text": [
            "Index 20: \u001b[31mFail 🧐 \u001b[0m\n",
            "dataset index: 7502\n",
            "Confidence: 25.47\n",
            "NLL: 58.64\n",
            "Failed Query: \u001b[40mSharon Predicts 'Breakthrough' in Ties With Palestinians Prime Minister Ariel Sharon said that his government would implement his proposal to dismantle all the Israeli settlements in Gaza and four small ones in the West Bank on schedule.\u001b[49m\n",
            "Label : \u001b[36m World \u001b[39m Pred : \u001b[35m Business \u001b[39m\n",
            "Current Accuracy: \u001b[34m14.29%\u001b[39m\n",
            "\u001b[33m----------------------------------\u001b[39m\n"
          ]
        },
        {
          "name": "stderr",
          "output_type": "stream",
          "text": [
            " 44%|████▍     | 22/50 [01:12<01:13,  2.62s/it]"
          ]
        },
        {
          "name": "stdout",
          "output_type": "stream",
          "text": [
            "Index 21: \u001b[31mFail 🧐 \u001b[0m\n",
            "dataset index: 6123\n",
            "Confidence: 21.49\n",
            "NLL: 49.48\n",
            "Failed Query: \u001b[40mVan Gogh #39;s murder brings out Holland #39;s contradictions The murder of Dutch filmmaker Theo van Gogh by a young Muslim of Moroccan descent has shaken Holland to its very foundations. To most people, including the Dutch, the killing and its violent \u001b[49m\n",
            "Label : \u001b[36m World \u001b[39m Pred : \u001b[35m Business \u001b[39m\n",
            "Current Accuracy: \u001b[34m13.64%\u001b[39m\n",
            "\u001b[33m----------------------------------\u001b[39m\n"
          ]
        },
        {
          "name": "stderr",
          "output_type": "stream",
          "text": [
            " 46%|████▌     | 23/50 [01:14<01:08,  2.54s/it]"
          ]
        },
        {
          "name": "stdout",
          "output_type": "stream",
          "text": [
            "Index 22: \u001b[31mFail 🧐 \u001b[0m\n",
            "dataset index: 134\n",
            "Confidence: 25.97\n",
            "NLL: 88.22\n",
            "Failed Query: \u001b[40mFormer Florida Swimming Coach Dies at 83 (AP) AP - William H. Harlan, the retired University of Florida swimming coach who led the Gators to eight conference titles, died Tuesday, school officials said. He was 83.\u001b[49m\n",
            "Label : \u001b[36m Sports \u001b[39m Pred : \u001b[35m Business \u001b[39m\n",
            "Current Accuracy: \u001b[34m13.04%\u001b[39m\n",
            "\u001b[33m----------------------------------\u001b[39m\n"
          ]
        },
        {
          "name": "stderr",
          "output_type": "stream",
          "text": [
            " 48%|████▊     | 24/50 [01:17<01:06,  2.54s/it]"
          ]
        },
        {
          "name": "stdout",
          "output_type": "stream",
          "text": [
            "Index 23: \u001b[31mFail 🧐 \u001b[0m\n",
            "dataset index: 5884\n",
            "Confidence: 25.48\n",
            "NLL: 58.67\n",
            "Failed Query: \u001b[40mArgentina gets China investment China is to invest nearly \\$20bn (11bn) in Argentina over the next 10 years, Argentine officials say.\u001b[49m\n",
            "Label : \u001b[36m World \u001b[39m Pred : \u001b[35m Business \u001b[39m\n",
            "Current Accuracy: \u001b[34m12.50%\u001b[39m\n",
            "\u001b[33m----------------------------------\u001b[39m\n"
          ]
        },
        {
          "name": "stderr",
          "output_type": "stream",
          "text": [
            " 50%|█████     | 25/50 [01:20<01:05,  2.62s/it]"
          ]
        },
        {
          "name": "stdout",
          "output_type": "stream",
          "text": [
            "Index 24: \u001b[31mFail 🧐 \u001b[0m\n",
            "dataset index: 837\n",
            "Confidence: 23.68\n",
            "NLL: 77.52\n",
            "Failed Query: \u001b[40mHelm #39;s perfect 10 And the two-and-a-half back somersaults with one and a half twists in a pike position turned out to be his ticket to a silver medal.\u001b[49m\n",
            "Label : \u001b[36m Sports \u001b[39m Pred : \u001b[35m Business \u001b[39m\n",
            "Current Accuracy: \u001b[34m12.00%\u001b[39m\n",
            "\u001b[33m----------------------------------\u001b[39m\n"
          ]
        },
        {
          "name": "stderr",
          "output_type": "stream",
          "text": [
            " 52%|█████▏    | 26/50 [01:22<01:01,  2.58s/it]"
          ]
        },
        {
          "name": "stdout",
          "output_type": "stream",
          "text": [
            "Index 25: \u001b[31mFail 🧐 \u001b[0m\n",
            "dataset index: 6688\n",
            "Confidence: 28.78\n",
            "NLL: 88.79\n",
            "Failed Query: \u001b[40mBrowns coach Davis resigns; Robiskie named interim coach BEREA, Ohio (Ticker) - One day after admitting that his shaky job status was a  quot;distraction quot; to his players, Butch Davis resigned as coach of the Cleveland Browns on Tuesday.\u001b[49m\n",
            "Label : \u001b[36m Sports \u001b[39m Pred : \u001b[35m Business \u001b[39m\n",
            "Current Accuracy: \u001b[34m11.54%\u001b[39m\n",
            "\u001b[33m----------------------------------\u001b[39m\n"
          ]
        },
        {
          "name": "stderr",
          "output_type": "stream",
          "text": [
            " 54%|█████▍    | 27/50 [01:25<00:59,  2.59s/it]"
          ]
        },
        {
          "name": "stdout",
          "output_type": "stream",
          "text": [
            "Index 26: \u001b[31mFail 🧐 \u001b[0m\n",
            "dataset index: 6722\n",
            "Confidence: 29.10\n",
            "NLL: 87.42\n",
            "Failed Query: \u001b[40mIndia #39;s Nehra to miss Bangladesh series Left-arm seamer Ashish Nehra has been left out of India #39;s squad for this month #39;s two-test series against Bangladesh due to an abdominal strain.\u001b[49m\n",
            "Label : \u001b[36m Sports \u001b[39m Pred : \u001b[35m Business \u001b[39m\n",
            "Current Accuracy: \u001b[34m11.11%\u001b[39m\n",
            "\u001b[33m----------------------------------\u001b[39m\n"
          ]
        },
        {
          "name": "stderr",
          "output_type": "stream",
          "text": [
            " 56%|█████▌    | 28/50 [01:27<00:54,  2.48s/it]"
          ]
        },
        {
          "name": "stdout",
          "output_type": "stream",
          "text": [
            "Index 27: \u001b[32mSuccess 🎉 \u001b[0m \n",
            "dataset index: 3861\n",
            "Confidence: 27.22\n",
            "NLL: -0.00\n",
            "Current Accuracy: \u001b[34m14.29%\u001b[39m\n",
            "\u001b[33m----------------------------------\u001b[39m\n"
          ]
        },
        {
          "name": "stderr",
          "output_type": "stream",
          "text": [
            " 58%|█████▊    | 29/50 [01:29<00:47,  2.28s/it]"
          ]
        },
        {
          "name": "stdout",
          "output_type": "stream",
          "text": [
            "Index 28: \u001b[32mSuccess 🎉 \u001b[0m \n",
            "dataset index: 6997\n",
            "Confidence: 29.47\n",
            "NLL: -0.00\n",
            "Current Accuracy: \u001b[34m17.24%\u001b[39m\n",
            "\u001b[33m----------------------------------\u001b[39m\n"
          ]
        },
        {
          "name": "stderr",
          "output_type": "stream",
          "text": [
            " 60%|██████    | 30/50 [01:31<00:46,  2.33s/it]"
          ]
        },
        {
          "name": "stdout",
          "output_type": "stream",
          "text": [
            "Index 29: \u001b[31mFail 🧐 \u001b[0m\n",
            "dataset index: 1521\n",
            "Confidence: 23.04\n",
            "NLL: 53.05\n",
            "Failed Query: \u001b[40mAlleged U.S. Deserter Set to Surrender TOKYO - Accused U.S. Army deserter Charles Jenkins left his Tokyo hospital for an American military base to surrender to military authorities Saturday, nearly 40 years after he allegedly defected to North Korea...\u001b[49m\n",
            "Label : \u001b[36m World \u001b[39m Pred : \u001b[35m Business \u001b[39m\n",
            "Current Accuracy: \u001b[34m16.67%\u001b[39m\n",
            "\u001b[33m----------------------------------\u001b[39m\n"
          ]
        },
        {
          "name": "stderr",
          "output_type": "stream",
          "text": [
            " 62%|██████▏   | 31/50 [01:34<00:45,  2.38s/it]"
          ]
        },
        {
          "name": "stdout",
          "output_type": "stream",
          "text": [
            "Index 30: \u001b[32mSuccess 🎉 \u001b[0m \n",
            "dataset index: 2988\n",
            "Confidence: 25.21\n",
            "NLL: -0.00\n",
            "Current Accuracy: \u001b[34m19.35%\u001b[39m\n",
            "\u001b[33m----------------------------------\u001b[39m\n"
          ]
        },
        {
          "name": "stderr",
          "output_type": "stream",
          "text": [
            " 64%|██████▍   | 32/50 [01:36<00:39,  2.21s/it]"
          ]
        },
        {
          "name": "stdout",
          "output_type": "stream",
          "text": [
            "Index 31: \u001b[31mFail 🧐 \u001b[0m\n",
            "dataset index: 3261\n",
            "Confidence: 31.06\n",
            "NLL: 90.33\n",
            "Failed Query: \u001b[40mHewitt Advances at Japan Open (AP) AP - Top seeded Lleyton Hewitt rallied to a 6-0, 3-6, 6-1 win over Japan's Gouichi Motomura on Wednesday in the second round of the Japan Open.\u001b[49m\n",
            "Label : \u001b[36m Sports \u001b[39m Pred : \u001b[35m Business \u001b[39m\n",
            "Current Accuracy: \u001b[34m18.75%\u001b[39m\n",
            "\u001b[33m----------------------------------\u001b[39m\n"
          ]
        },
        {
          "name": "stderr",
          "output_type": "stream",
          "text": [
            " 66%|██████▌   | 33/50 [01:39<00:42,  2.47s/it]"
          ]
        },
        {
          "name": "stdout",
          "output_type": "stream",
          "text": [
            "Index 32: \u001b[31mFail 🧐 \u001b[0m\n",
            "dataset index: 1756\n",
            "Confidence: 30.39\n",
            "NLL: 69.98\n",
            "Failed Query: \u001b[40mReport: Japan PM Advisers See China Military Threat (Reuters) Reuters - In a move that could further chill ties\\between the two Asian powers, an advisory panel to Japan's\\prime minister will say China should be described as a military\\threat in a defense review, the Nihon Keizai newspaper reported\\on Wednesday.\u001b[49m\n",
            "Label : \u001b[36m World \u001b[39m Pred : \u001b[35m Business \u001b[39m\n",
            "Current Accuracy: \u001b[34m18.18%\u001b[39m\n",
            "\u001b[33m----------------------------------\u001b[39m\n"
          ]
        },
        {
          "name": "stderr",
          "output_type": "stream",
          "text": [
            " 68%|██████▊   | 34/50 [01:41<00:40,  2.51s/it]"
          ]
        },
        {
          "name": "stdout",
          "output_type": "stream",
          "text": [
            "Index 33: \u001b[32mSuccess 🎉 \u001b[0m \n",
            "dataset index: 2816\n",
            "Confidence: 10.92\n",
            "NLL: -0.00\n",
            "Current Accuracy: \u001b[34m20.59%\u001b[39m\n",
            "\u001b[33m----------------------------------\u001b[39m\n"
          ]
        },
        {
          "name": "stderr",
          "output_type": "stream",
          "text": [
            " 70%|███████   | 35/50 [01:44<00:37,  2.50s/it]"
          ]
        },
        {
          "name": "stdout",
          "output_type": "stream",
          "text": [
            "Index 34: \u001b[31mFail 🧐 \u001b[0m\n",
            "dataset index: 7041\n",
            "Confidence: 24.51\n",
            "NLL: 56.44\n",
            "Failed Query: \u001b[40m #39;Miracle in mud #39; as four pulled alive from Philippine disaster REAL, Philippines (AFP) - Philippine rescuers were frantically digging for more survivors after four people, including a toddler, were pulled alive from a building crushed by a landslide 11 days ago.\u001b[49m\n",
            "Label : \u001b[36m World \u001b[39m Pred : \u001b[35m Business \u001b[39m\n",
            "Current Accuracy: \u001b[34m20.00%\u001b[39m\n",
            "\u001b[33m----------------------------------\u001b[39m\n"
          ]
        },
        {
          "name": "stderr",
          "output_type": "stream",
          "text": [
            " 72%|███████▏  | 36/50 [01:46<00:34,  2.48s/it]"
          ]
        },
        {
          "name": "stdout",
          "output_type": "stream",
          "text": [
            "Index 35: \u001b[31mFail 🧐 \u001b[0m\n",
            "dataset index: 3365\n",
            "Confidence: 27.30\n",
            "NLL: 84.25\n",
            "Failed Query: \u001b[40mGame On On the same day that Tiger Woods was married in Barbados, the two best golfers in the world were walking the streets of St. Andrews, Scotland.\u001b[49m\n",
            "Label : \u001b[36m Sports \u001b[39m Pred : \u001b[35m Business \u001b[39m\n",
            "Current Accuracy: \u001b[34m19.44%\u001b[39m\n",
            "\u001b[33m----------------------------------\u001b[39m\n"
          ]
        },
        {
          "name": "stderr",
          "output_type": "stream",
          "text": [
            " 74%|███████▍  | 37/50 [01:49<00:33,  2.55s/it]"
          ]
        },
        {
          "name": "stdout",
          "output_type": "stream",
          "text": [
            "Index 36: \u001b[31mFail 🧐 \u001b[0m\n",
            "dataset index: 6660\n",
            "Confidence: 30.43\n",
            "NLL: 95.37\n",
            "Failed Query: \u001b[40mProsecutor: Pacers Players to Be Charged (AP) AP - Indiana Pacers players will be charged for fighting with fans during the Nov. 19 brawl at the end of a game against the Detroit Pistons, Oakland County Prosecutor David Gorcyca told The Detroit News.\u001b[49m\n",
            "Label : \u001b[36m Sports \u001b[39m Pred : \u001b[35m Business \u001b[39m\n",
            "Current Accuracy: \u001b[34m18.92%\u001b[39m\n",
            "\u001b[33m----------------------------------\u001b[39m\n"
          ]
        },
        {
          "name": "stderr",
          "output_type": "stream",
          "text": [
            " 76%|███████▌  | 38/50 [01:56<00:48,  4.07s/it]"
          ]
        },
        {
          "name": "stdout",
          "output_type": "stream",
          "text": [
            "Index 37: \u001b[31mFail 🧐 \u001b[0m\n",
            "dataset index: 4011\n",
            "Confidence: 31.31\n",
            "NLL: 93.34\n",
            "Failed Query: \u001b[40mManning Throws 3 TDs to Lead Colts Past Titans  INDIANAPOLIS (Sports Network) - Peyton Manning threw for  425 yards with three touchdowns and Edgerrin James ran for 105  yards with a pair of scores, as the Indianapolis Colts shook  off a sluggish start and rolled to a 51-24 victory over the  Tennessee Titans at the RCA Dome.\u001b[49m\n",
            "Label : \u001b[36m Sports \u001b[39m Pred : \u001b[35m Business \u001b[39m\n",
            "Current Accuracy: \u001b[34m18.42%\u001b[39m\n",
            "\u001b[33m----------------------------------\u001b[39m\n"
          ]
        },
        {
          "name": "stderr",
          "output_type": "stream",
          "text": [
            " 78%|███████▊  | 39/50 [01:59<00:39,  3.57s/it]"
          ]
        },
        {
          "name": "stdout",
          "output_type": "stream",
          "text": [
            "Index 38: \u001b[31mFail 🧐 \u001b[0m\n",
            "dataset index: 4945\n",
            "Confidence: 24.90\n",
            "NLL: 57.32\n",
            "Failed Query: \u001b[40mProfile: Leftist Vazquez wins Uruguay presidential poll Uruguay #39;s leftist candidate Tabare Vazquez won a historic victory in Sunday #39;s presidential elections with more than 50 percent of the ballot.\u001b[49m\n",
            "Label : \u001b[36m World \u001b[39m Pred : \u001b[35m Business \u001b[39m\n",
            "Current Accuracy: \u001b[34m17.95%\u001b[39m\n",
            "\u001b[33m----------------------------------\u001b[39m\n"
          ]
        },
        {
          "name": "stderr",
          "output_type": "stream",
          "text": [
            " 80%|████████  | 40/50 [02:01<00:31,  3.14s/it]"
          ]
        },
        {
          "name": "stdout",
          "output_type": "stream",
          "text": [
            "Index 39: \u001b[32mSuccess 🎉 \u001b[0m \n",
            "dataset index: 7556\n",
            "Confidence: 28.91\n",
            "NLL: -0.00\n",
            "Current Accuracy: \u001b[34m20.00%\u001b[39m\n",
            "\u001b[33m----------------------------------\u001b[39m\n"
          ]
        },
        {
          "name": "stderr",
          "output_type": "stream",
          "text": [
            " 82%|████████▏ | 41/50 [02:03<00:26,  2.95s/it]"
          ]
        },
        {
          "name": "stdout",
          "output_type": "stream",
          "text": [
            "Index 40: \u001b[31mFail 🧐 \u001b[0m\n",
            "dataset index: 1609\n",
            "Confidence: 28.95\n",
            "NLL: inf\n",
            "Failed Query: \u001b[40mBullies move online Singapore - More complaints of cyberbullying are emerging from youngsters in Singapore than any other country except the United States, an international safety group said in a report on Monday.\u001b[49m\n",
            "Label : \u001b[36m Sci/Tech \u001b[39m Pred : \u001b[35m Business \u001b[39m\n",
            "Current Accuracy: \u001b[34m19.51%\u001b[39m\n",
            "\u001b[33m----------------------------------\u001b[39m\n"
          ]
        },
        {
          "name": "stderr",
          "output_type": "stream",
          "text": [
            " 84%|████████▍ | 42/50 [02:06<00:22,  2.82s/it]"
          ]
        },
        {
          "name": "stdout",
          "output_type": "stream",
          "text": [
            "Index 41: \u001b[32mSuccess 🎉 \u001b[0m \n",
            "dataset index: 405\n",
            "Confidence: 28.44\n",
            "NLL: -0.00\n",
            "Current Accuracy: \u001b[34m21.43%\u001b[39m\n",
            "\u001b[33m----------------------------------\u001b[39m\n"
          ]
        },
        {
          "name": "stderr",
          "output_type": "stream",
          "text": [
            " 86%|████████▌ | 43/50 [02:09<00:19,  2.77s/it]"
          ]
        },
        {
          "name": "stdout",
          "output_type": "stream",
          "text": [
            "Index 42: \u001b[31mFail 🧐 \u001b[0m\n",
            "dataset index: 1908\n",
            "Confidence: 30.46\n",
            "NLL: 87.55\n",
            "Failed Query: \u001b[40mKluivert gives Souness stuttering start at Newcastle Patrick Kluivert struck twice as Graeme Souness began his reign at St James Park with a 2-0 win over Israeli Arab side Bnei Sakhnin in the UEFA Cup first round, first leg at Newcastle United this morning.\u001b[49m\n",
            "Label : \u001b[36m Sports \u001b[39m Pred : \u001b[35m Business \u001b[39m\n",
            "Current Accuracy: \u001b[34m20.93%\u001b[39m\n",
            "\u001b[33m----------------------------------\u001b[39m\n"
          ]
        },
        {
          "name": "stderr",
          "output_type": "stream",
          "text": [
            " 88%|████████▊ | 44/50 [02:11<00:15,  2.64s/it]"
          ]
        },
        {
          "name": "stdout",
          "output_type": "stream",
          "text": [
            "Index 43: \u001b[31mFail 🧐 \u001b[0m\n",
            "dataset index: 2222\n",
            "Confidence: 26.56\n",
            "NLL: inf\n",
            "Failed Query: \u001b[40mWireless carriers: Privacy bill not needed WASHINGTON - Representatives of wireless telephone carriers planning a telephone directory service told a U.S. Senate committee Tuesday that legislation to protect their customers' privacy isn't needed, because their plan already does.\u001b[49m\n",
            "Label : \u001b[36m Sci/Tech \u001b[39m Pred : \u001b[35m Business \u001b[39m\n",
            "Current Accuracy: \u001b[34m20.45%\u001b[39m\n",
            "\u001b[33m----------------------------------\u001b[39m\n"
          ]
        },
        {
          "name": "stderr",
          "output_type": "stream",
          "text": [
            " 90%|█████████ | 45/50 [02:14<00:13,  2.68s/it]"
          ]
        },
        {
          "name": "stdout",
          "output_type": "stream",
          "text": [
            "Index 44: \u001b[32mSuccess 🎉 \u001b[0m \n",
            "dataset index: 6878\n",
            "Confidence: 18.36\n",
            "NLL: -0.00\n",
            "Current Accuracy: \u001b[34m22.22%\u001b[39m\n",
            "\u001b[33m----------------------------------\u001b[39m\n"
          ]
        },
        {
          "name": "stderr",
          "output_type": "stream",
          "text": [
            " 92%|█████████▏| 46/50 [02:16<00:10,  2.67s/it]"
          ]
        },
        {
          "name": "stdout",
          "output_type": "stream",
          "text": [
            "Index 45: \u001b[31mFail 🧐 \u001b[0m\n",
            "dataset index: 3781\n",
            "Confidence: 31.88\n",
            "NLL: 87.36\n",
            "Failed Query: \u001b[40mRuud double lifts Dutch Amsterdam - Goals in either half from Manchester United striker Ruud van Nistelrooy lifted the Netherlands to a 3-1 win over Finland in their European Group One qualifier for the 2006 World Cup here on Wednesday.\u001b[49m\n",
            "Label : \u001b[36m Sports \u001b[39m Pred : \u001b[35m Business \u001b[39m\n",
            "Current Accuracy: \u001b[34m21.74%\u001b[39m\n",
            "\u001b[33m----------------------------------\u001b[39m\n"
          ]
        },
        {
          "name": "stderr",
          "output_type": "stream",
          "text": [
            " 94%|█████████▍| 47/50 [02:19<00:07,  2.52s/it]"
          ]
        },
        {
          "name": "stdout",
          "output_type": "stream",
          "text": [
            "Index 46: \u001b[31mFail 🧐 \u001b[0m\n",
            "dataset index: 4643\n",
            "Confidence: 27.28\n",
            "NLL: inf\n",
            "Failed Query: \u001b[40mNASA expert says Bush stifles evidence on global warming IOWA CITY, Iowa A NASA scientist has charged that the Bush administration is subverting science and misleading the public by trying to suppress or alter evidence on the dangers of global warming.\u001b[49m\n",
            "Label : \u001b[36m Sci/Tech \u001b[39m Pred : \u001b[35m Business \u001b[39m\n",
            "Current Accuracy: \u001b[34m21.28%\u001b[39m\n",
            "\u001b[33m----------------------------------\u001b[39m\n"
          ]
        },
        {
          "name": "stderr",
          "output_type": "stream",
          "text": [
            " 96%|█████████▌| 48/50 [02:21<00:05,  2.62s/it]"
          ]
        },
        {
          "name": "stdout",
          "output_type": "stream",
          "text": [
            "Index 47: \u001b[31mFail 🧐 \u001b[0m\n",
            "dataset index: 5190\n",
            "Confidence: 23.45\n",
            "NLL: 100.98\n",
            "Failed Query: \u001b[40mResearch predicts iceless Arctic Global warming is causing the Arctic ice-cap to melt at such an unprecedented rate that by the summer of 2070 it may have no ice at all, according to the most comprehensive study carried out on global climate change in the region.\u001b[49m\n",
            "Label : \u001b[36m Sci/Tech \u001b[39m Pred : \u001b[35m Business \u001b[39m\n",
            "Current Accuracy: \u001b[34m20.83%\u001b[39m\n",
            "\u001b[33m----------------------------------\u001b[39m\n"
          ]
        },
        {
          "name": "stderr",
          "output_type": "stream",
          "text": [
            " 98%|█████████▊| 49/50 [02:29<00:04,  4.02s/it]"
          ]
        },
        {
          "name": "stdout",
          "output_type": "stream",
          "text": [
            "Index 48: \u001b[31mFail 🧐 \u001b[0m\n",
            "dataset index: 5941\n",
            "Confidence: 27.72\n",
            "NLL: 63.83\n",
            "Failed Query: \u001b[40mCricket: NZ suffer Franklin blow New Zealand bowler James Franklin misses the first Test against Australia with  injury.\u001b[49m\n",
            "Label : \u001b[36m World \u001b[39m Pred : \u001b[35m Business \u001b[39m\n",
            "Current Accuracy: \u001b[34m20.41%\u001b[39m\n",
            "\u001b[33m----------------------------------\u001b[39m\n"
          ]
        },
        {
          "name": "stderr",
          "output_type": "stream",
          "text": [
            "100%|██████████| 50/50 [02:32<00:00,  3.04s/it]"
          ]
        },
        {
          "name": "stdout",
          "output_type": "stream",
          "text": [
            "Index 49: \u001b[31mFail 🧐 \u001b[0m\n",
            "dataset index: 580\n",
            "Confidence: 29.07\n",
            "NLL: 94.36\n",
            "Failed Query: \u001b[40mBryant Prosecutors Question Defense DNA Evidence  DENVER (Reuters) - Prosecutors in the rape case against  U.S. basketball star Kobe Bryant are questioning the validity  of DNA evidence crucial to the defense's case, saying data  appeared to have been manipulated and might have to be thrown  out.\u001b[49m\n",
            "Label : \u001b[36m Sports \u001b[39m Pred : \u001b[35m Business \u001b[39m\n",
            "Current Accuracy: \u001b[34m20.00%\u001b[39m\n",
            "\u001b[31m>>>>>>>>>>>>>>>>>>>>>>>>>>>>>>>>>>>>>>>>>>>>>>\u001b[39m\n",
            "Total Correct Predictions: \u001b[1m10 (20.00%)\u001b[0m\n",
            "\u001b[31m>>>>>>>>>>>>>>>>>>>>>>>>>>>>>>>>>>>>>>>>>>>>>>\u001b[39m\n"
          ]
        },
        {
          "name": "stderr",
          "output_type": "stream",
          "text": [
            "\n"
          ]
        }
      ],
      "source": [
        "import numpy as np\n",
        "from tqdm import tqdm\n",
        "from colorama import Fore, Style, Back\n",
        "import torch.nn.functional as F\n",
        "import humanize\n",
        "import math\n",
        "import random\n",
        "\n",
        "\n",
        "def calculate_nll(probs_softmax, label):\n",
        "    return -torch.log(probs_softmax[label])\n",
        "\n",
        "\n",
        "def get_confidence(probs_softmax):\n",
        "    top_two_probs, _ = torch.topk(probs_softmax, 2)\n",
        "    # 가장 높은 확률을 두 번째로 높은 확률로 나누어 비율을 계산\n",
        "    return math.log10(top_two_probs[0] / top_two_probs[1])\n",
        "\n",
        "\n",
        "total = 50\n",
        "n_corrects = 0\n",
        "\n",
        "# 0부터 7600 사이에서 겹치지 않게 50개의 숫자 뽑기\n",
        "random_numbers = random.sample(range(7601), total)\n",
        "\n",
        "for i in tqdm(range(total)):\n",
        "\n",
        "    print(f\"{Fore.YELLOW}----------------------------------{Fore.RESET}\")\n",
        "    text = tokenized_news_ds[\"test\"][random_numbers[i]][\"text\"]\n",
        "    label = tokenized_news_ds[\"test\"][random_numbers[i]][\"label\"]\n",
        "    probs = zero_shot_classification(\n",
        "        text,\n",
        "        task_description,\n",
        "        label_sentences,\n",
        "    )\n",
        "\n",
        "    probs_tensor = torch.tensor(probs)\n",
        "    probs_softmax = F.softmax(probs_tensor, dim=0)\n",
        "\n",
        "    pred = np.argmax(np.array(probs))\n",
        "    if pred == label:\n",
        "        n_corrects += 1\n",
        "        tqdm.write(f\"Index {i}: {Fore.GREEN}Success 🎉 {Style.RESET_ALL} \")\n",
        "        print(f\"dataset index: {random_numbers[i]}\")\n",
        "        print(f\"Confidence: {get_confidence(probs_softmax):.2f}\")\n",
        "        print(f\"NLL: {calculate_nll(probs_softmax,label):.2f}\")\n",
        "    else:\n",
        "        tqdm.write(f\"Index {i}: {Fore.RED}Fail 🧐 {Style.RESET_ALL}\")\n",
        "        print(f\"dataset index: {random_numbers[i]}\")\n",
        "        print(f\"Confidence: {get_confidence(probs_softmax):.2f}\")\n",
        "        print(f\"NLL: {calculate_nll(probs_softmax,label):.2f}\")\n",
        "        print(f\"Failed Query: {Back.BLACK}{text}{Back.RESET}\")\n",
        "        label, pred = label_map[label], label_map[pred]\n",
        "        print(\n",
        "            f\"Label : {Fore.CYAN} {label} {Fore.RESET} Pred : {Fore.MAGENTA} {pred} {Fore.RESET}\"\n",
        "        )\n",
        "    current_accuracy = n_corrects / (i + 1)\n",
        "    print(f\"Current Accuracy: {Fore.BLUE}{current_accuracy:,.2%}{Fore.RESET}\")\n",
        "\n",
        "print(f\"{Fore.RED}>>>>>>>>>>>>>>>>>>>>>>>>>>>>>>>>>>>>>>>>>>>>>>{Fore.RESET}\")\n",
        "print(\n",
        "    f\"Total Correct Predictions: {Style.BRIGHT}{n_corrects} ({n_corrects/total:.2%}){Style.RESET_ALL}\"\n",
        ")\n",
        "print(f\"{Fore.RED}>>>>>>>>>>>>>>>>>>>>>>>>>>>>>>>>>>>>>>>>>>>>>>{Fore.RESET}\")"
      ]
    },
    {
      "cell_type": "markdown",
      "metadata": {},
      "source": [
        "---\n"
      ]
    },
    {
      "cell_type": "markdown",
      "metadata": {
        "id": "QpzqKZIGiAJf"
      },
      "source": [
        "# 실습: Zero-shot Classification\n",
        "\n",
        "이번 실습에서는 open LLM을 가지고 zero-shot classification을 해봅니다. 먼저 필요한 library들을 설치합시다.\n"
      ]
    },
    {
      "cell_type": "markdown",
      "metadata": {},
      "source": []
    },
    {
      "cell_type": "markdown",
      "metadata": {
        "id": "0OTiwRFCiOLh"
      },
      "source": [
        "그 다음 Gemma-2B를 사용하기 위해 다음과 같은 작업을 진행합니다:\n",
        "\n",
        "1. huggingface.co 계정 만들고 로그인하기\n",
        "2. https://www.kaggle.com/models/google/gemma/license/consent 에서 Gemma license 동의하기\n",
        "3. 홈 화면으로 돌아와, `Profile > Settings > Access Tokens` 메뉴로 들어와 \"Write\" type의 token 생성하기\n",
        "4. 생성한 토큰을 아래 \"HF TOKEN\"에 불여넣고 셀을 실행하기.\n"
      ]
    },
    {
      "cell_type": "code",
      "execution_count": null,
      "metadata": {
        "colab": {
          "base_uri": "https://localhost:8080/"
        },
        "id": "OR-WLBupSWge",
        "outputId": "754bbb9b-e5ee-49cc-d911-c31665857bcc"
      },
      "outputs": [],
      "source": [
        "import os\n",
        "from dotenv import load_dotenv\n",
        "\n",
        "load_dotenv()\n",
        "HF_TOKEN = os.environ.get(\"HF_TOKEN\")\n",
        "\n",
        "from huggingface_hub import login\n",
        "\n",
        "login(HF_TOKEN)"
      ]
    },
    {
      "cell_type": "code",
      "execution_count": null,
      "metadata": {
        "colab": {
          "base_uri": "https://localhost:8080/",
          "height": 239,
          "referenced_widgets": [
            "31c9f3bb8337443ba261f703deb60bee",
            "0e3f7db5454b43df8378482ade8ae6cb",
            "20ea22fbd6de4a85bcf95430dbab723a",
            "097145238cb44bb5b1ef8ee33780bca5",
            "e13d437ed25f4fe1909438ab06b63430",
            "3515005acafa4ba4bb31b3f4a140526c",
            "b0de599f252947b3ab2636a3fb757a5a",
            "db064ed95c104ed78132946104a85adb",
            "3fa9855f02ca49a6b62cfbd26132f11d",
            "14de9443213346a2b1acc6c9a555be83",
            "006333234eba4b4da24226a01c5b2746"
          ]
        },
        "id": "9tnUVYfgSfiD",
        "outputId": "a8a0c468-7ed6-4755-c2c3-6c0c1f0b42fd"
      },
      "outputs": [],
      "source": [
        "from transformers import AutoTokenizer, AutoModelForCausalLM\n",
        "\n",
        "tokenizer = AutoTokenizer.from_pretrained(\"google/gemma-2b\")\n",
        "model = AutoModelForCausalLM.from_pretrained(\"google/gemma-2b\", device_map=\"auto\")"
      ]
    },
    {
      "cell_type": "markdown",
      "metadata": {
        "id": "ODVS4wNyi_It"
      },
      "source": [
        "이번에는 Gemma-2B를 가지고 간단한 text 생성을 해봅시다.\n",
        "\"What is your name?\" 이라는 text를 넣었을 때 어떤 text가 생성되는지 살펴봅시다.\n"
      ]
    },
    {
      "cell_type": "code",
      "execution_count": null,
      "metadata": {},
      "outputs": [],
      "source": [
        "input_text = \"What is your name?\"\n",
        "input_ids = tokenizer(input_text, return_tensors=\"pt\").to(\"mps\")\n",
        "input_ids"
      ]
    },
    {
      "cell_type": "code",
      "execution_count": null,
      "metadata": {
        "colab": {
          "base_uri": "https://localhost:8080/"
        },
        "id": "bDV0owydSlve",
        "outputId": "c117571d-10ec-4dcc-adfc-62276e874ed2"
      },
      "outputs": [],
      "source": [
        "input_text = \"What is your name?\"\n",
        "input_ids = tokenizer(input_text, return_tensors=\"pt\").to(\"mps\")\n",
        "outputs = model.generate(**input_ids)\n",
        "print(tokenizer.decode(outputs[0]))"
      ]
    },
    {
      "cell_type": "code",
      "execution_count": null,
      "metadata": {},
      "outputs": [],
      "source": [
        "tokens = input_ids[\"input_ids\"]\n",
        "print(tokens)\n",
        "input_ids"
      ]
    },
    {
      "cell_type": "markdown",
      "metadata": {
        "id": "Prp1S51GjH2R"
      },
      "source": [
        "2B의 작은 LLM이라 질좋은 답변이 나오지 않는 것을 알 수 있습니다.\n",
        "이번에는 입력으로 넣어준 token들의 logit을 계산해봅시다.\n"
      ]
    },
    {
      "cell_type": "code",
      "execution_count": null,
      "metadata": {
        "colab": {
          "base_uri": "https://localhost:8080/"
        },
        "id": "BV23vDvvS95o",
        "outputId": "2cb41bae-534f-486c-f39e-eede1dcc475e"
      },
      "outputs": [],
      "source": [
        "tokens = input_ids[\"input_ids\"]\n",
        "print(tokens)\n",
        "\n",
        "logits = model(**input_ids).logits\n",
        "for i in range(tokens.shape[-1]):\n",
        "    token = tokens[0, i].item()\n",
        "    print(logits[0, i, token])"
      ]
    },
    {
      "cell_type": "markdown",
      "metadata": {
        "id": "Lc_Wu4g-jW-M"
      },
      "source": [
        "위와 같이 모델 출력의 `.logits`을 통해 token들의 logit을 알 수 있습니다.\n",
        "Logit은 높을 수록 token이 나올 확률이 높다는 뜻입니다.\n",
        "\n",
        "이번에는 logit 계산을 통해 zero-shot classification을 구현해보도록 하겠습니다.\n"
      ]
    },
    {
      "cell_type": "code",
      "execution_count": 8,
      "metadata": {
        "id": "80DYDWX_TGW4"
      },
      "outputs": [],
      "source": [
        "import torch\n",
        "\n",
        "\n",
        "def zero_shot_classification(\n",
        "    text, task_description, labels\n",
        "):  # text는 주어진 입력, task_description은 task에 대한 설명, labels은 class들을 text로 변환한 결과입니다.\n",
        "    text_ids = tokenizer(task_description + text, return_tensors=\"pt\").to(\n",
        "        \"mps\"\n",
        "    )  # 먼저 task_description과 text를 이어붙인 후, tokenize합니다.\n",
        "\n",
        "    probs = []\n",
        "\n",
        "    for label in labels:\n",
        "        # 그 다음 각 text화된 label들을 tokenize하고 입력에 이어붙인 후, Gemma-2B에 넣어줍니다.\n",
        "        label_ids = tokenizer(label, return_tensors=\"pt\").to(\"mps\")\n",
        "        n_label_tokens = label_ids[\"input_ids\"].shape[-1] - 1\n",
        "        # text로 변환한 label의 token 수를 계산합니다.\n",
        "        input_ids = {\n",
        "            \"input_ids\": torch.concatenate(\n",
        "                [text_ids[\"input_ids\"], label_ids[\"input_ids\"][:, 1:]], axis=-1\n",
        "            ),  # concatenate 명령어를 통해 이어붙이는 모습입니다.\n",
        "            \"attention_mask\": torch.concatenate(\n",
        "                [text_ids[\"attention_mask\"], label_ids[\"attention_mask\"][:, 1:]],\n",
        "                axis=-1,\n",
        "            ),\n",
        "        }\n",
        "\n",
        "        logits = model(**input_ids).logits  # Logit을 계산한 모습입니다.\n",
        "        prob = 0\n",
        "        n_total = input_ids[\"input_ids\"].shape[-1]\n",
        "        for i in range(\n",
        "            n_label_tokens, 0, -1\n",
        "        ):  # 일반적으로 text로 변환한 label은 여러 token으로 이루어져있습니다. 이러한 label에 대한 logit은 구성하는 모든 token들의 logit들의 합으로 정의합니다.\n",
        "            token = label_ids[\"input_ids\"][0, i].item()\n",
        "            prob += logits[0, n_total - i, token].item()\n",
        "        probs.append(prob)\n",
        "\n",
        "        del input_ids\n",
        "        del logits\n",
        "        torch.cuda.empty_cache()  # 위의 del과 empty_cache() 명령어를 통해 GPU를 제때 할당해제 해줍니다. 만약 GPU가 여유롭다면 지워주시는게 속도적으로 이득입니다.\n",
        "\n",
        "    return probs"
      ]
    },
    {
      "cell_type": "markdown",
      "metadata": {
        "id": "59oGhRjXkwbD"
      },
      "source": [
        "아래는 실제로 zero-shot classification을 해본 결과입니다.\n"
      ]
    },
    {
      "cell_type": "code",
      "execution_count": null,
      "metadata": {
        "colab": {
          "base_uri": "https://localhost:8080/"
        },
        "id": "qmRrHyEJTPXC",
        "outputId": "e3a4dd1f-5c04-458e-d1a8-b2e88203136f"
      },
      "outputs": [],
      "source": [
        "probs = zero_shot_classification(\n",
        "    \"I am happy!\", \"Is the sentence positive or negative?: \", [\"positive\", \"negative\"]\n",
        ")\n",
        "print(probs)"
      ]
    },
    {
      "cell_type": "markdown",
      "metadata": {
        "id": "ORK2bdfjk71e"
      },
      "source": [
        "보시다시피 우리는 Gemma를 별도로 학습하지 않았음에도 불구하고 주어진 문장이 긍정적이라는 것을 정확하게 예측하고 있습니다.\n",
        "\n",
        "다음은 영화 리뷰 감정 분석 task에 적용해봅시다.\n",
        "먼저 data를 불러옵니다.\n"
      ]
    },
    {
      "cell_type": "code",
      "execution_count": null,
      "metadata": {
        "colab": {
          "base_uri": "https://localhost:8080/",
          "height": 49,
          "referenced_widgets": [
            "2379a0ef99054d73ab658e8dcf7a05af",
            "ea46f6de1fec4cd18ccd6659e37fa556",
            "f8dc077abc2b49aa9b67f7c6f77c42e0",
            "3bbd3adf58c248ea99587be77c306043",
            "fafd2f415b9a4c6799a431023d3689a9",
            "76e62808134346949ef3b047486beb6f",
            "e94ec0e1574a4a93ac885256005870b9",
            "f90fb938a7e84075a852b5419d983d34",
            "f6a8d4f6823e48f4a7eb5e1ea9db03ca",
            "5d04a65826e74808b09d55412c8a7be1",
            "a95543073c7242fd949ec78b03905494"
          ]
        },
        "id": "vJNWmHKGTRRK",
        "outputId": "fd222bb3-4529-4e99-dcf9-1244bf376295"
      },
      "outputs": [],
      "source": [
        "from datasets import load_dataset\n",
        "\n",
        "\n",
        "imdb = load_dataset(\"imdb\")\n",
        "\n",
        "\n",
        "def preprocess_function(examples):\n",
        "    return tokenizer(examples[\"text\"], max_length=200, truncation=True)\n",
        "\n",
        "\n",
        "tokenized_imdb = imdb.map(preprocess_function, batched=True)"
      ]
    },
    {
      "cell_type": "markdown",
      "metadata": {
        "id": "fctUKygElHtT"
      },
      "source": [
        "그리고 `test` data에서 50개의 영화 리뷰에 대해 예측하는 코드는 다음과 같습니다.\n"
      ]
    },
    {
      "cell_type": "code",
      "execution_count": null,
      "metadata": {
        "colab": {
          "base_uri": "https://localhost:8080/"
        },
        "id": "4-NY-YG4ToT9",
        "outputId": "59bf8581-13fb-4ee8-a7a5-a8cd2b1f0d75"
      },
      "outputs": [],
      "source": [
        "import numpy as np\n",
        "from tqdm import tqdm\n",
        "\n",
        "\n",
        "n_corrects = 0\n",
        "for i in tqdm(range(50)):\n",
        "    text = tokenized_imdb[\"test\"][i][\"text\"]\n",
        "    label = tokenized_imdb[\"test\"][i][\"label\"]\n",
        "    probs = zero_shot_classification(\n",
        "        text,\n",
        "        \"A movie review is given. Decide that the movie review is positive or negative: \",\n",
        "        labels=[\"Answer: negative.\", \"Answer: positive.\"],\n",
        "    )\n",
        "\n",
        "    pred = np.argmax(np.array(probs))\n",
        "    if pred == label:\n",
        "        n_corrects += 1\n",
        "\n",
        "print(n_corrects)"
      ]
    },
    {
      "cell_type": "code",
      "execution_count": null,
      "metadata": {},
      "outputs": [],
      "source": [
        "text = tokenized_imdb[\"test\"][i][\"text\"]\n",
        "text"
      ]
    },
    {
      "cell_type": "code",
      "execution_count": null,
      "metadata": {},
      "outputs": [],
      "source": [
        "label = tokenized_imdb[\"test\"][i][\"label\"]\n",
        "label"
      ]
    },
    {
      "cell_type": "markdown",
      "metadata": {
        "id": "U5Epj6CMlbeE"
      },
      "source": [
        "보시다시피 정확도 88%로, 매우 높은 성능을 보이는 것을 알 수 있습니다.\n"
      ]
    },
    {
      "cell_type": "code",
      "execution_count": null,
      "metadata": {
        "id": "4_AR-gf2UOTn"
      },
      "outputs": [],
      "source": []
    }
  ],
  "metadata": {
    "accelerator": "GPU",
    "colab": {
      "gpuType": "T4",
      "provenance": []
    },
    "kernelspec": {
      "display_name": "week5-szymwyO9-py3.12",
      "language": "python",
      "name": "python3"
    },
    "language_info": {
      "codemirror_mode": {
        "name": "ipython",
        "version": 3
      },
      "file_extension": ".py",
      "mimetype": "text/x-python",
      "name": "python",
      "nbconvert_exporter": "python",
      "pygments_lexer": "ipython3",
      "version": "3.12.6"
    },
    "widgets": {
      "application/vnd.jupyter.widget-state+json": {
        "006333234eba4b4da24226a01c5b2746": {
          "model_module": "@jupyter-widgets/controls",
          "model_module_version": "1.5.0",
          "model_name": "DescriptionStyleModel",
          "state": {
            "_model_module": "@jupyter-widgets/controls",
            "_model_module_version": "1.5.0",
            "_model_name": "DescriptionStyleModel",
            "_view_count": null,
            "_view_module": "@jupyter-widgets/base",
            "_view_module_version": "1.2.0",
            "_view_name": "StyleView",
            "description_width": ""
          }
        },
        "097145238cb44bb5b1ef8ee33780bca5": {
          "model_module": "@jupyter-widgets/controls",
          "model_module_version": "1.5.0",
          "model_name": "HTMLModel",
          "state": {
            "_dom_classes": [],
            "_model_module": "@jupyter-widgets/controls",
            "_model_module_version": "1.5.0",
            "_model_name": "HTMLModel",
            "_view_count": null,
            "_view_module": "@jupyter-widgets/controls",
            "_view_module_version": "1.5.0",
            "_view_name": "HTMLView",
            "description": "",
            "description_tooltip": null,
            "layout": "IPY_MODEL_14de9443213346a2b1acc6c9a555be83",
            "placeholder": "​",
            "style": "IPY_MODEL_006333234eba4b4da24226a01c5b2746",
            "value": " 2/2 [00:17&lt;00:00,  7.45s/it]"
          }
        },
        "0e3f7db5454b43df8378482ade8ae6cb": {
          "model_module": "@jupyter-widgets/controls",
          "model_module_version": "1.5.0",
          "model_name": "HTMLModel",
          "state": {
            "_dom_classes": [],
            "_model_module": "@jupyter-widgets/controls",
            "_model_module_version": "1.5.0",
            "_model_name": "HTMLModel",
            "_view_count": null,
            "_view_module": "@jupyter-widgets/controls",
            "_view_module_version": "1.5.0",
            "_view_name": "HTMLView",
            "description": "",
            "description_tooltip": null,
            "layout": "IPY_MODEL_3515005acafa4ba4bb31b3f4a140526c",
            "placeholder": "​",
            "style": "IPY_MODEL_b0de599f252947b3ab2636a3fb757a5a",
            "value": "Loading checkpoint shards: 100%"
          }
        },
        "14de9443213346a2b1acc6c9a555be83": {
          "model_module": "@jupyter-widgets/base",
          "model_module_version": "1.2.0",
          "model_name": "LayoutModel",
          "state": {
            "_model_module": "@jupyter-widgets/base",
            "_model_module_version": "1.2.0",
            "_model_name": "LayoutModel",
            "_view_count": null,
            "_view_module": "@jupyter-widgets/base",
            "_view_module_version": "1.2.0",
            "_view_name": "LayoutView",
            "align_content": null,
            "align_items": null,
            "align_self": null,
            "border": null,
            "bottom": null,
            "display": null,
            "flex": null,
            "flex_flow": null,
            "grid_area": null,
            "grid_auto_columns": null,
            "grid_auto_flow": null,
            "grid_auto_rows": null,
            "grid_column": null,
            "grid_gap": null,
            "grid_row": null,
            "grid_template_areas": null,
            "grid_template_columns": null,
            "grid_template_rows": null,
            "height": null,
            "justify_content": null,
            "justify_items": null,
            "left": null,
            "margin": null,
            "max_height": null,
            "max_width": null,
            "min_height": null,
            "min_width": null,
            "object_fit": null,
            "object_position": null,
            "order": null,
            "overflow": null,
            "overflow_x": null,
            "overflow_y": null,
            "padding": null,
            "right": null,
            "top": null,
            "visibility": null,
            "width": null
          }
        },
        "20ea22fbd6de4a85bcf95430dbab723a": {
          "model_module": "@jupyter-widgets/controls",
          "model_module_version": "1.5.0",
          "model_name": "FloatProgressModel",
          "state": {
            "_dom_classes": [],
            "_model_module": "@jupyter-widgets/controls",
            "_model_module_version": "1.5.0",
            "_model_name": "FloatProgressModel",
            "_view_count": null,
            "_view_module": "@jupyter-widgets/controls",
            "_view_module_version": "1.5.0",
            "_view_name": "ProgressView",
            "bar_style": "success",
            "description": "",
            "description_tooltip": null,
            "layout": "IPY_MODEL_db064ed95c104ed78132946104a85adb",
            "max": 2,
            "min": 0,
            "orientation": "horizontal",
            "style": "IPY_MODEL_3fa9855f02ca49a6b62cfbd26132f11d",
            "value": 2
          }
        },
        "2379a0ef99054d73ab658e8dcf7a05af": {
          "model_module": "@jupyter-widgets/controls",
          "model_module_version": "1.5.0",
          "model_name": "HBoxModel",
          "state": {
            "_dom_classes": [],
            "_model_module": "@jupyter-widgets/controls",
            "_model_module_version": "1.5.0",
            "_model_name": "HBoxModel",
            "_view_count": null,
            "_view_module": "@jupyter-widgets/controls",
            "_view_module_version": "1.5.0",
            "_view_name": "HBoxView",
            "box_style": "",
            "children": [
              "IPY_MODEL_ea46f6de1fec4cd18ccd6659e37fa556",
              "IPY_MODEL_f8dc077abc2b49aa9b67f7c6f77c42e0",
              "IPY_MODEL_3bbd3adf58c248ea99587be77c306043"
            ],
            "layout": "IPY_MODEL_fafd2f415b9a4c6799a431023d3689a9"
          }
        },
        "31c9f3bb8337443ba261f703deb60bee": {
          "model_module": "@jupyter-widgets/controls",
          "model_module_version": "1.5.0",
          "model_name": "HBoxModel",
          "state": {
            "_dom_classes": [],
            "_model_module": "@jupyter-widgets/controls",
            "_model_module_version": "1.5.0",
            "_model_name": "HBoxModel",
            "_view_count": null,
            "_view_module": "@jupyter-widgets/controls",
            "_view_module_version": "1.5.0",
            "_view_name": "HBoxView",
            "box_style": "",
            "children": [
              "IPY_MODEL_0e3f7db5454b43df8378482ade8ae6cb",
              "IPY_MODEL_20ea22fbd6de4a85bcf95430dbab723a",
              "IPY_MODEL_097145238cb44bb5b1ef8ee33780bca5"
            ],
            "layout": "IPY_MODEL_e13d437ed25f4fe1909438ab06b63430"
          }
        },
        "3515005acafa4ba4bb31b3f4a140526c": {
          "model_module": "@jupyter-widgets/base",
          "model_module_version": "1.2.0",
          "model_name": "LayoutModel",
          "state": {
            "_model_module": "@jupyter-widgets/base",
            "_model_module_version": "1.2.0",
            "_model_name": "LayoutModel",
            "_view_count": null,
            "_view_module": "@jupyter-widgets/base",
            "_view_module_version": "1.2.0",
            "_view_name": "LayoutView",
            "align_content": null,
            "align_items": null,
            "align_self": null,
            "border": null,
            "bottom": null,
            "display": null,
            "flex": null,
            "flex_flow": null,
            "grid_area": null,
            "grid_auto_columns": null,
            "grid_auto_flow": null,
            "grid_auto_rows": null,
            "grid_column": null,
            "grid_gap": null,
            "grid_row": null,
            "grid_template_areas": null,
            "grid_template_columns": null,
            "grid_template_rows": null,
            "height": null,
            "justify_content": null,
            "justify_items": null,
            "left": null,
            "margin": null,
            "max_height": null,
            "max_width": null,
            "min_height": null,
            "min_width": null,
            "object_fit": null,
            "object_position": null,
            "order": null,
            "overflow": null,
            "overflow_x": null,
            "overflow_y": null,
            "padding": null,
            "right": null,
            "top": null,
            "visibility": null,
            "width": null
          }
        },
        "3bbd3adf58c248ea99587be77c306043": {
          "model_module": "@jupyter-widgets/controls",
          "model_module_version": "1.5.0",
          "model_name": "HTMLModel",
          "state": {
            "_dom_classes": [],
            "_model_module": "@jupyter-widgets/controls",
            "_model_module_version": "1.5.0",
            "_model_name": "HTMLModel",
            "_view_count": null,
            "_view_module": "@jupyter-widgets/controls",
            "_view_module_version": "1.5.0",
            "_view_name": "HTMLView",
            "description": "",
            "description_tooltip": null,
            "layout": "IPY_MODEL_5d04a65826e74808b09d55412c8a7be1",
            "placeholder": "​",
            "style": "IPY_MODEL_a95543073c7242fd949ec78b03905494",
            "value": " 25000/25000 [00:20&lt;00:00, 939.01 examples/s]"
          }
        },
        "3fa9855f02ca49a6b62cfbd26132f11d": {
          "model_module": "@jupyter-widgets/controls",
          "model_module_version": "1.5.0",
          "model_name": "ProgressStyleModel",
          "state": {
            "_model_module": "@jupyter-widgets/controls",
            "_model_module_version": "1.5.0",
            "_model_name": "ProgressStyleModel",
            "_view_count": null,
            "_view_module": "@jupyter-widgets/base",
            "_view_module_version": "1.2.0",
            "_view_name": "StyleView",
            "bar_color": null,
            "description_width": ""
          }
        },
        "5d04a65826e74808b09d55412c8a7be1": {
          "model_module": "@jupyter-widgets/base",
          "model_module_version": "1.2.0",
          "model_name": "LayoutModel",
          "state": {
            "_model_module": "@jupyter-widgets/base",
            "_model_module_version": "1.2.0",
            "_model_name": "LayoutModel",
            "_view_count": null,
            "_view_module": "@jupyter-widgets/base",
            "_view_module_version": "1.2.0",
            "_view_name": "LayoutView",
            "align_content": null,
            "align_items": null,
            "align_self": null,
            "border": null,
            "bottom": null,
            "display": null,
            "flex": null,
            "flex_flow": null,
            "grid_area": null,
            "grid_auto_columns": null,
            "grid_auto_flow": null,
            "grid_auto_rows": null,
            "grid_column": null,
            "grid_gap": null,
            "grid_row": null,
            "grid_template_areas": null,
            "grid_template_columns": null,
            "grid_template_rows": null,
            "height": null,
            "justify_content": null,
            "justify_items": null,
            "left": null,
            "margin": null,
            "max_height": null,
            "max_width": null,
            "min_height": null,
            "min_width": null,
            "object_fit": null,
            "object_position": null,
            "order": null,
            "overflow": null,
            "overflow_x": null,
            "overflow_y": null,
            "padding": null,
            "right": null,
            "top": null,
            "visibility": null,
            "width": null
          }
        },
        "76e62808134346949ef3b047486beb6f": {
          "model_module": "@jupyter-widgets/base",
          "model_module_version": "1.2.0",
          "model_name": "LayoutModel",
          "state": {
            "_model_module": "@jupyter-widgets/base",
            "_model_module_version": "1.2.0",
            "_model_name": "LayoutModel",
            "_view_count": null,
            "_view_module": "@jupyter-widgets/base",
            "_view_module_version": "1.2.0",
            "_view_name": "LayoutView",
            "align_content": null,
            "align_items": null,
            "align_self": null,
            "border": null,
            "bottom": null,
            "display": null,
            "flex": null,
            "flex_flow": null,
            "grid_area": null,
            "grid_auto_columns": null,
            "grid_auto_flow": null,
            "grid_auto_rows": null,
            "grid_column": null,
            "grid_gap": null,
            "grid_row": null,
            "grid_template_areas": null,
            "grid_template_columns": null,
            "grid_template_rows": null,
            "height": null,
            "justify_content": null,
            "justify_items": null,
            "left": null,
            "margin": null,
            "max_height": null,
            "max_width": null,
            "min_height": null,
            "min_width": null,
            "object_fit": null,
            "object_position": null,
            "order": null,
            "overflow": null,
            "overflow_x": null,
            "overflow_y": null,
            "padding": null,
            "right": null,
            "top": null,
            "visibility": null,
            "width": null
          }
        },
        "a95543073c7242fd949ec78b03905494": {
          "model_module": "@jupyter-widgets/controls",
          "model_module_version": "1.5.0",
          "model_name": "DescriptionStyleModel",
          "state": {
            "_model_module": "@jupyter-widgets/controls",
            "_model_module_version": "1.5.0",
            "_model_name": "DescriptionStyleModel",
            "_view_count": null,
            "_view_module": "@jupyter-widgets/base",
            "_view_module_version": "1.2.0",
            "_view_name": "StyleView",
            "description_width": ""
          }
        },
        "b0de599f252947b3ab2636a3fb757a5a": {
          "model_module": "@jupyter-widgets/controls",
          "model_module_version": "1.5.0",
          "model_name": "DescriptionStyleModel",
          "state": {
            "_model_module": "@jupyter-widgets/controls",
            "_model_module_version": "1.5.0",
            "_model_name": "DescriptionStyleModel",
            "_view_count": null,
            "_view_module": "@jupyter-widgets/base",
            "_view_module_version": "1.2.0",
            "_view_name": "StyleView",
            "description_width": ""
          }
        },
        "db064ed95c104ed78132946104a85adb": {
          "model_module": "@jupyter-widgets/base",
          "model_module_version": "1.2.0",
          "model_name": "LayoutModel",
          "state": {
            "_model_module": "@jupyter-widgets/base",
            "_model_module_version": "1.2.0",
            "_model_name": "LayoutModel",
            "_view_count": null,
            "_view_module": "@jupyter-widgets/base",
            "_view_module_version": "1.2.0",
            "_view_name": "LayoutView",
            "align_content": null,
            "align_items": null,
            "align_self": null,
            "border": null,
            "bottom": null,
            "display": null,
            "flex": null,
            "flex_flow": null,
            "grid_area": null,
            "grid_auto_columns": null,
            "grid_auto_flow": null,
            "grid_auto_rows": null,
            "grid_column": null,
            "grid_gap": null,
            "grid_row": null,
            "grid_template_areas": null,
            "grid_template_columns": null,
            "grid_template_rows": null,
            "height": null,
            "justify_content": null,
            "justify_items": null,
            "left": null,
            "margin": null,
            "max_height": null,
            "max_width": null,
            "min_height": null,
            "min_width": null,
            "object_fit": null,
            "object_position": null,
            "order": null,
            "overflow": null,
            "overflow_x": null,
            "overflow_y": null,
            "padding": null,
            "right": null,
            "top": null,
            "visibility": null,
            "width": null
          }
        },
        "e13d437ed25f4fe1909438ab06b63430": {
          "model_module": "@jupyter-widgets/base",
          "model_module_version": "1.2.0",
          "model_name": "LayoutModel",
          "state": {
            "_model_module": "@jupyter-widgets/base",
            "_model_module_version": "1.2.0",
            "_model_name": "LayoutModel",
            "_view_count": null,
            "_view_module": "@jupyter-widgets/base",
            "_view_module_version": "1.2.0",
            "_view_name": "LayoutView",
            "align_content": null,
            "align_items": null,
            "align_self": null,
            "border": null,
            "bottom": null,
            "display": null,
            "flex": null,
            "flex_flow": null,
            "grid_area": null,
            "grid_auto_columns": null,
            "grid_auto_flow": null,
            "grid_auto_rows": null,
            "grid_column": null,
            "grid_gap": null,
            "grid_row": null,
            "grid_template_areas": null,
            "grid_template_columns": null,
            "grid_template_rows": null,
            "height": null,
            "justify_content": null,
            "justify_items": null,
            "left": null,
            "margin": null,
            "max_height": null,
            "max_width": null,
            "min_height": null,
            "min_width": null,
            "object_fit": null,
            "object_position": null,
            "order": null,
            "overflow": null,
            "overflow_x": null,
            "overflow_y": null,
            "padding": null,
            "right": null,
            "top": null,
            "visibility": null,
            "width": null
          }
        },
        "e94ec0e1574a4a93ac885256005870b9": {
          "model_module": "@jupyter-widgets/controls",
          "model_module_version": "1.5.0",
          "model_name": "DescriptionStyleModel",
          "state": {
            "_model_module": "@jupyter-widgets/controls",
            "_model_module_version": "1.5.0",
            "_model_name": "DescriptionStyleModel",
            "_view_count": null,
            "_view_module": "@jupyter-widgets/base",
            "_view_module_version": "1.2.0",
            "_view_name": "StyleView",
            "description_width": ""
          }
        },
        "ea46f6de1fec4cd18ccd6659e37fa556": {
          "model_module": "@jupyter-widgets/controls",
          "model_module_version": "1.5.0",
          "model_name": "HTMLModel",
          "state": {
            "_dom_classes": [],
            "_model_module": "@jupyter-widgets/controls",
            "_model_module_version": "1.5.0",
            "_model_name": "HTMLModel",
            "_view_count": null,
            "_view_module": "@jupyter-widgets/controls",
            "_view_module_version": "1.5.0",
            "_view_name": "HTMLView",
            "description": "",
            "description_tooltip": null,
            "layout": "IPY_MODEL_76e62808134346949ef3b047486beb6f",
            "placeholder": "​",
            "style": "IPY_MODEL_e94ec0e1574a4a93ac885256005870b9",
            "value": "Map: 100%"
          }
        },
        "f6a8d4f6823e48f4a7eb5e1ea9db03ca": {
          "model_module": "@jupyter-widgets/controls",
          "model_module_version": "1.5.0",
          "model_name": "ProgressStyleModel",
          "state": {
            "_model_module": "@jupyter-widgets/controls",
            "_model_module_version": "1.5.0",
            "_model_name": "ProgressStyleModel",
            "_view_count": null,
            "_view_module": "@jupyter-widgets/base",
            "_view_module_version": "1.2.0",
            "_view_name": "StyleView",
            "bar_color": null,
            "description_width": ""
          }
        },
        "f8dc077abc2b49aa9b67f7c6f77c42e0": {
          "model_module": "@jupyter-widgets/controls",
          "model_module_version": "1.5.0",
          "model_name": "FloatProgressModel",
          "state": {
            "_dom_classes": [],
            "_model_module": "@jupyter-widgets/controls",
            "_model_module_version": "1.5.0",
            "_model_name": "FloatProgressModel",
            "_view_count": null,
            "_view_module": "@jupyter-widgets/controls",
            "_view_module_version": "1.5.0",
            "_view_name": "ProgressView",
            "bar_style": "success",
            "description": "",
            "description_tooltip": null,
            "layout": "IPY_MODEL_f90fb938a7e84075a852b5419d983d34",
            "max": 25000,
            "min": 0,
            "orientation": "horizontal",
            "style": "IPY_MODEL_f6a8d4f6823e48f4a7eb5e1ea9db03ca",
            "value": 25000
          }
        },
        "f90fb938a7e84075a852b5419d983d34": {
          "model_module": "@jupyter-widgets/base",
          "model_module_version": "1.2.0",
          "model_name": "LayoutModel",
          "state": {
            "_model_module": "@jupyter-widgets/base",
            "_model_module_version": "1.2.0",
            "_model_name": "LayoutModel",
            "_view_count": null,
            "_view_module": "@jupyter-widgets/base",
            "_view_module_version": "1.2.0",
            "_view_name": "LayoutView",
            "align_content": null,
            "align_items": null,
            "align_self": null,
            "border": null,
            "bottom": null,
            "display": null,
            "flex": null,
            "flex_flow": null,
            "grid_area": null,
            "grid_auto_columns": null,
            "grid_auto_flow": null,
            "grid_auto_rows": null,
            "grid_column": null,
            "grid_gap": null,
            "grid_row": null,
            "grid_template_areas": null,
            "grid_template_columns": null,
            "grid_template_rows": null,
            "height": null,
            "justify_content": null,
            "justify_items": null,
            "left": null,
            "margin": null,
            "max_height": null,
            "max_width": null,
            "min_height": null,
            "min_width": null,
            "object_fit": null,
            "object_position": null,
            "order": null,
            "overflow": null,
            "overflow_x": null,
            "overflow_y": null,
            "padding": null,
            "right": null,
            "top": null,
            "visibility": null,
            "width": null
          }
        },
        "fafd2f415b9a4c6799a431023d3689a9": {
          "model_module": "@jupyter-widgets/base",
          "model_module_version": "1.2.0",
          "model_name": "LayoutModel",
          "state": {
            "_model_module": "@jupyter-widgets/base",
            "_model_module_version": "1.2.0",
            "_model_name": "LayoutModel",
            "_view_count": null,
            "_view_module": "@jupyter-widgets/base",
            "_view_module_version": "1.2.0",
            "_view_name": "LayoutView",
            "align_content": null,
            "align_items": null,
            "align_self": null,
            "border": null,
            "bottom": null,
            "display": null,
            "flex": null,
            "flex_flow": null,
            "grid_area": null,
            "grid_auto_columns": null,
            "grid_auto_flow": null,
            "grid_auto_rows": null,
            "grid_column": null,
            "grid_gap": null,
            "grid_row": null,
            "grid_template_areas": null,
            "grid_template_columns": null,
            "grid_template_rows": null,
            "height": null,
            "justify_content": null,
            "justify_items": null,
            "left": null,
            "margin": null,
            "max_height": null,
            "max_width": null,
            "min_height": null,
            "min_width": null,
            "object_fit": null,
            "object_position": null,
            "order": null,
            "overflow": null,
            "overflow_x": null,
            "overflow_y": null,
            "padding": null,
            "right": null,
            "top": null,
            "visibility": null,
            "width": null
          }
        }
      }
    }
  },
  "nbformat": 4,
  "nbformat_minor": 0
}
