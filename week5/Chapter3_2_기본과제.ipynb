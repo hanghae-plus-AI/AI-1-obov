{
  "cells": [
    {
      "cell_type": "markdown",
      "metadata": {},
      "source": [
        "# [5주차 기본과제] 뉴스 기사 분류를 Gemma로 구현하기\n"
      ]
    },
    {
      "cell_type": "markdown",
      "metadata": {},
      "source": []
    },
    {
      "cell_type": "code",
      "execution_count": 88,
      "metadata": {},
      "outputs": [
        {
          "name": "stdout",
          "output_type": "stream",
          "text": [
            "The token has not been saved to the git credentials helper. Pass `add_to_git_credential=True` in this function directly or `--add-to-git-credential` if using via `huggingface-cli` if you want to set the git credential as well.\n",
            "Token is valid (permission: fineGrained).\n",
            "Your token has been saved to /Users/obov/.cache/huggingface/token\n",
            "Login successful\n"
          ]
        },
        {
          "data": {
            "application/vnd.jupyter.widget-view+json": {
              "model_id": "46ac2f621e9b42558f084a05e82558d7",
              "version_major": 2,
              "version_minor": 0
            },
            "text/plain": [
              "Loading checkpoint shards:   0%|          | 0/2 [00:00<?, ?it/s]"
            ]
          },
          "metadata": {},
          "output_type": "display_data"
        },
        {
          "name": "stderr",
          "output_type": "stream",
          "text": [
            "WARNING:root:Some parameters are on the meta device device because they were offloaded to the disk.\n"
          ]
        },
        {
          "data": {
            "application/vnd.jupyter.widget-view+json": {
              "model_id": "a32a7424632349c2bba21d3125aef162",
              "version_major": 2,
              "version_minor": 0
            },
            "text/plain": [
              "tokenizer_config.json:   0%|          | 0.00/47.0k [00:00<?, ?B/s]"
            ]
          },
          "metadata": {},
          "output_type": "display_data"
        },
        {
          "data": {
            "application/vnd.jupyter.widget-view+json": {
              "model_id": "99f37353cad14eb990381331f5794db6",
              "version_major": 2,
              "version_minor": 0
            },
            "text/plain": [
              "tokenizer.model:   0%|          | 0.00/4.24M [00:00<?, ?B/s]"
            ]
          },
          "metadata": {},
          "output_type": "display_data"
        },
        {
          "data": {
            "application/vnd.jupyter.widget-view+json": {
              "model_id": "fccd9d4a44de4f9b81aa169b8ad97b6b",
              "version_major": 2,
              "version_minor": 0
            },
            "text/plain": [
              "tokenizer.json:   0%|          | 0.00/17.5M [00:00<?, ?B/s]"
            ]
          },
          "metadata": {},
          "output_type": "display_data"
        },
        {
          "data": {
            "application/vnd.jupyter.widget-view+json": {
              "model_id": "b98d934adc2c47d9909c4b6b6f5e2929",
              "version_major": 2,
              "version_minor": 0
            },
            "text/plain": [
              "special_tokens_map.json:   0%|          | 0.00/636 [00:00<?, ?B/s]"
            ]
          },
          "metadata": {},
          "output_type": "display_data"
        },
        {
          "data": {
            "application/vnd.jupyter.widget-view+json": {
              "model_id": "28770c5900c84592a6e3fb930ce6d951",
              "version_major": 2,
              "version_minor": 0
            },
            "text/plain": [
              "Loading checkpoint shards:   0%|          | 0/2 [00:00<?, ?it/s]"
            ]
          },
          "metadata": {},
          "output_type": "display_data"
        }
      ],
      "source": [
        "import os\n",
        "from dotenv import load_dotenv\n",
        "\n",
        "load_dotenv()\n",
        "HF_TOKEN = os.environ.get(\"HF_TOKEN\")\n",
        "\n",
        "from huggingface_hub import login\n",
        "\n",
        "login(HF_TOKEN)\n",
        "from transformers import AutoTokenizer, AutoModelForCausalLM\n",
        "import torch\n",
        "\n",
        "tokenizer = AutoTokenizer.from_pretrained(\"google/gemma-2b\")\n",
        "model = AutoModelForCausalLM.from_pretrained(\"google/gemma-2b\", device_map=\"auto\")\n",
        "tokenizer = AutoTokenizer.from_pretrained(\"google/gemma-2-2b-it\")\n",
        "model = AutoModelForCausalLM.from_pretrained(\n",
        "    \"google/gemma-2-2b-it\",\n",
        "    device_map=\"auto\",\n",
        "    torch_dtype=torch.bfloat16,\n",
        ")"
      ]
    },
    {
      "cell_type": "code",
      "execution_count": 89,
      "metadata": {},
      "outputs": [
        {
          "data": {
            "text/plain": [
              "DatasetDict({\n",
              "    train: Dataset({\n",
              "        features: ['text', 'label'],\n",
              "        num_rows: 120000\n",
              "    })\n",
              "    test: Dataset({\n",
              "        features: ['text', 'label'],\n",
              "        num_rows: 7600\n",
              "    })\n",
              "})"
            ]
          },
          "execution_count": 89,
          "metadata": {},
          "output_type": "execute_result"
        }
      ],
      "source": [
        "from datasets import load_dataset\n",
        "\n",
        "\n",
        "news_ds = load_dataset(\"fancyzhx/ag_news\")\n",
        "news_ds"
      ]
    },
    {
      "cell_type": "code",
      "execution_count": 90,
      "metadata": {},
      "outputs": [
        {
          "data": {
            "text/plain": [
              "['Venezuelans Vote Early in Referendum on Chavez Rule (Reuters) Reuters - Venezuelans turned out early\\\\and in large numbers on Sunday to vote in a historic referendum\\\\that will either remove left-wing President Hugo Chavez from\\\\office or give him a new mandate to govern for the next two\\\\years.',\n",
              " 'S.Koreans Clash with Police on Iraq Troop Dispatch (Reuters) Reuters - South Korean police used water cannon in\\\\central Seoul Sunday to disperse at least 7,000 protesters\\\\urging the government to reverse a controversial decision to\\\\send more troops to Iraq.',\n",
              " \"Palestinians in Israeli Jails Start Hunger Strike (Reuters) Reuters - Thousands of Palestinian\\\\prisoners in Israeli jails began a hunger strike for better\\\\conditions Sunday, but Israel's security minister said he\\\\didn't care if they starved to death.\"]"
            ]
          },
          "execution_count": 90,
          "metadata": {},
          "output_type": "execute_result"
        }
      ],
      "source": [
        "world_ds = news_ds[\"train\"].filter(lambda data: data[\"label\"] == 0)\n",
        "world_ds[\"text\"][:3]"
      ]
    },
    {
      "cell_type": "code",
      "execution_count": 91,
      "metadata": {},
      "outputs": [
        {
          "data": {
            "text/plain": [
              "Dataset({\n",
              "    features: ['text', 'label'],\n",
              "    num_rows: 30000\n",
              "})"
            ]
          },
          "execution_count": 91,
          "metadata": {},
          "output_type": "execute_result"
        }
      ],
      "source": [
        "sports_ds = news_ds[\"train\"].filter(lambda data: data[\"label\"] == 1)\n",
        "sports_ds"
      ]
    },
    {
      "cell_type": "code",
      "execution_count": 92,
      "metadata": {},
      "outputs": [
        {
          "data": {
            "text/plain": [
              "Dataset({\n",
              "    features: ['text', 'label'],\n",
              "    num_rows: 30000\n",
              "})"
            ]
          },
          "execution_count": 92,
          "metadata": {},
          "output_type": "execute_result"
        }
      ],
      "source": [
        "business_ds = news_ds[\"train\"].filter(lambda data: data[\"label\"] == 2)\n",
        "business_ds"
      ]
    },
    {
      "cell_type": "code",
      "execution_count": 93,
      "metadata": {},
      "outputs": [
        {
          "data": {
            "text/plain": [
              "Dataset({\n",
              "    features: ['text', 'label'],\n",
              "    num_rows: 30000\n",
              "})"
            ]
          },
          "execution_count": 93,
          "metadata": {},
          "output_type": "execute_result"
        }
      ],
      "source": [
        "sci_tech_ds = news_ds[\"train\"].filter(lambda data: data[\"label\"] == 3)\n",
        "sci_tech_ds"
      ]
    },
    {
      "cell_type": "code",
      "execution_count": 94,
      "metadata": {},
      "outputs": [
        {
          "data": {
            "text/plain": [
              "{'text': Value(dtype='string', id=None),\n",
              " 'label': ClassLabel(names=['World', 'Sports', 'Business', 'Sci/Tech'], id=None)}"
            ]
          },
          "execution_count": 94,
          "metadata": {},
          "output_type": "execute_result"
        }
      ],
      "source": [
        "news_ds[\"train\"].features"
      ]
    },
    {
      "cell_type": "code",
      "execution_count": 95,
      "metadata": {},
      "outputs": [],
      "source": [
        "label_map = news_ds[\"train\"].features[\"label\"].names"
      ]
    },
    {
      "cell_type": "code",
      "execution_count": 97,
      "metadata": {},
      "outputs": [
        {
          "data": {
            "text/plain": [
              "DatasetInfo(description='', citation='', homepage='', license='', features={'text': Value(dtype='string', id=None), 'label': ClassLabel(names=['World', 'Sports', 'Business', 'Sci/Tech'], id=None)}, post_processed=None, supervised_keys=None, builder_name='parquet', dataset_name='ag_news', config_name='default', version=0.0.0, splits={'train': SplitInfo(name='train', num_bytes=29832303, num_examples=120000, shard_lengths=None, dataset_name='ag_news'), 'test': SplitInfo(name='test', num_bytes=1880424, num_examples=7600, shard_lengths=None, dataset_name='ag_news')}, download_checksums={'hf://datasets/fancyzhx/ag_news@eb185aade064a813bc0b7f42de02595523103ca4/data/train-00000-of-00001.parquet': {'num_bytes': 18585438, 'checksum': None}, 'hf://datasets/fancyzhx/ag_news@eb185aade064a813bc0b7f42de02595523103ca4/data/test-00000-of-00001.parquet': {'num_bytes': 1234829, 'checksum': None}}, download_size=19820267, post_processing_size=None, dataset_size=31712727, size_in_bytes=51532994)"
            ]
          },
          "execution_count": 97,
          "metadata": {},
          "output_type": "execute_result"
        }
      ],
      "source": [
        "news_ds[\"train\"].info"
      ]
    },
    {
      "cell_type": "code",
      "execution_count": 98,
      "metadata": {},
      "outputs": [
        {
          "name": "stdout",
          "output_type": "stream",
          "text": [
            "DatasetInfo(description='',\n",
            "            citation='',\n",
            "            homepage='',\n",
            "            license='',\n",
            "            features={'label': ClassLabel(names=['World',\n",
            "                                                 'Sports',\n",
            "                                                 'Business',\n",
            "                                                 'Sci/Tech'],\n",
            "                                          id=None),\n",
            "                      'text': Value(dtype='string', id=None)},\n",
            "            post_processed=None,\n",
            "            supervised_keys=None,\n",
            "            builder_name='parquet',\n",
            "            dataset_name='ag_news',\n",
            "            config_name='default',\n",
            "            version=0.0.0,\n",
            "            splits={'test': SplitInfo(name='test',\n",
            "                                      num_bytes=1880424,\n",
            "                                      num_examples=7600,\n",
            "                                      shard_lengths=None,\n",
            "                                      dataset_name='ag_news'),\n",
            "                    'train': SplitInfo(name='train',\n",
            "                                       num_bytes=29832303,\n",
            "                                       num_examples=120000,\n",
            "                                       shard_lengths=None,\n",
            "                                       dataset_name='ag_news')},\n",
            "            download_checksums={'hf://datasets/fancyzhx/ag_news@eb185aade064a813bc0b7f42de02595523103ca4/data/test-00000-of-00001.parquet': {'checksum': None,\n",
            "                                                                                                                                             'num_bytes': 1234829},\n",
            "                                'hf://datasets/fancyzhx/ag_news@eb185aade064a813bc0b7f42de02595523103ca4/data/train-00000-of-00001.parquet': {'checksum': None,\n",
            "                                                                                                                                              'num_bytes': 18585438}},\n",
            "            download_size=19820267,\n",
            "            post_processing_size=None,\n",
            "            dataset_size=31712727,\n",
            "            size_in_bytes=51532994)\n"
          ]
        }
      ],
      "source": [
        "from pprint import pprint\n",
        "\n",
        "pprint(news_ds[\"train\"].info)"
      ]
    },
    {
      "cell_type": "code",
      "execution_count": 99,
      "metadata": {},
      "outputs": [
        {
          "data": {
            "text/plain": [
              "2"
            ]
          },
          "execution_count": 99,
          "metadata": {},
          "output_type": "execute_result"
        }
      ],
      "source": [
        "tokenizer(\"World\", return_tensors=\"pt\")\n",
        "tokenizer(\"World\", return_tensors=\"pt\")[\"input_ids\"].shape[-1]"
      ]
    },
    {
      "cell_type": "code",
      "execution_count": 100,
      "metadata": {},
      "outputs": [],
      "source": [
        "label_sentences = [\n",
        "    \"Batman: This is mainly about the world, the one we’re sworn to protect.\",\n",
        "    \"Joker: Why so serious? Clearly related to Sports news!\",\n",
        "    \"Penguin: It’s all about Business, and trust me, I know how to play that game.\",\n",
        "    \"Bane: This article mainly covers Sci/Tech.\",\n",
        "]\n",
        "\n",
        "task_description = \"\"\"\n",
        "Task Description:\n",
        "The scene unfolds with four iconic characters from the Batman universe seated around a table, each reading the same article. Batman, ever composed and logical, is the first to speak, delivering a clear and concise assessment of the piece. The Joker follows, making a mocking and unpredictable remark, turning the topic on its head. Two-Face, as always, relies on the flip of a coin to determine his take. Finally, Bane, with his focus on power and control, offers his perspective, emphasizing the article’s deeper implications.\n",
        "\n",
        "Your task is simple: “Who explained the article the best?”.\n",
        "\n",
        "Now, it’s time to choose—who described it best?\n",
        "\n",
        "ARTICLE:\"\"\""
      ]
    },
    {
      "cell_type": "code",
      "execution_count": 101,
      "metadata": {},
      "outputs": [],
      "source": [
        "import torch\n",
        "\n",
        "\n",
        "def zero_shot_classification(\n",
        "    text, task_description, labels\n",
        "):  # text는 주어진 입력, task_description은 task에 대한 설명, labels은 class들을 text로 변환한 결과입니다.\n",
        "    text_ids = tokenizer(task_description + text, return_tensors=\"pt\").to(\n",
        "        \"mps\"\n",
        "    )  # 먼저 task_description과 text를 이어붙인 후, tokenize합니다.\n",
        "\n",
        "    probs = []\n",
        "\n",
        "    for label in labels:\n",
        "        # 그 다음 각 text화된 label들을 tokenize하고 입력에 이어붙인 후, Gemma-2B에 넣어줍니다.\n",
        "        label_ids = tokenizer(label, return_tensors=\"pt\").to(\"mps\")\n",
        "        n_label_tokens = label_ids[\"input_ids\"].shape[-1] - 1\n",
        "        # text로 변환한 label의 token 수를 계산합니다.\n",
        "        input_ids = {\n",
        "            \"input_ids\": torch.concatenate(\n",
        "                [text_ids[\"input_ids\"], label_ids[\"input_ids\"][:, 1:]], axis=-1\n",
        "            ),  # concatenate 명령어를 통해 이어붙이는 모습입니다.\n",
        "            \"attention_mask\": torch.concatenate(\n",
        "                [text_ids[\"attention_mask\"], label_ids[\"attention_mask\"][:, 1:]],\n",
        "                axis=-1,\n",
        "            ),\n",
        "        }\n",
        "\n",
        "        logits = model(**input_ids).logits  # Logit을 계산한 모습입니다.\n",
        "        prob = 0\n",
        "        n_total = input_ids[\"input_ids\"].shape[-1]\n",
        "        for i in range(\n",
        "            n_label_tokens, 0, -1\n",
        "        ):  # 일반적으로 text로 변환한 label은 여러 token으로 이루어져있습니다. 이러한 label에 대한 logit은 구성하는 모든 token들의 logit들의 합으로 정의합니다.\n",
        "            token = label_ids[\"input_ids\"][0, i].item()\n",
        "            prob += logits[0, n_total - i, token].item()\n",
        "        probs.append(prob)\n",
        "\n",
        "        del input_ids\n",
        "        del logits\n",
        "        torch.mps.empty_cache()  # 위의 del과 empty_cache() 명령어를 통해 GPU를 제때 할당해제 해줍니다. 만약 GPU가 여유롭다면 지워주시는게 속도적으로 이득입니다.\n",
        "\n",
        "    return probs"
      ]
    },
    {
      "cell_type": "code",
      "execution_count": 102,
      "metadata": {},
      "outputs": [
        {
          "data": {
            "text/plain": [
              "'Carlyle Looks Toward Commercial Aerospace (Reuters) Reuters - Private investment firm Carlyle Group,\\\\which has a reputation for making well-timed and occasionally\\\\controversial plays in the defense industry, has quietly placed\\\\its bets on another part of the market.'"
            ]
          },
          "execution_count": 102,
          "metadata": {},
          "output_type": "execute_result"
        }
      ],
      "source": [
        "news_ds[\"train\"][1][\"text\"]"
      ]
    },
    {
      "cell_type": "code",
      "execution_count": 103,
      "metadata": {},
      "outputs": [
        {
          "data": {
            "text/plain": [
              "2"
            ]
          },
          "execution_count": 103,
          "metadata": {},
          "output_type": "execute_result"
        }
      ],
      "source": [
        "news_ds[\"train\"][1][\"label\"]"
      ]
    },
    {
      "cell_type": "code",
      "execution_count": 104,
      "metadata": {},
      "outputs": [
        {
          "name": "stdout",
          "output_type": "stream",
          "text": [
            "[99.28125, 70.71484375, 158.25, 48.431640625]\n",
            "3\n"
          ]
        },
        {
          "data": {
            "text/plain": [
              "2"
            ]
          },
          "execution_count": 104,
          "metadata": {},
          "output_type": "execute_result"
        }
      ],
      "source": [
        "text_label = news_ds[\"train\"][179]\n",
        "\n",
        "probs = zero_shot_classification(\n",
        "    text_label[\"text\"],\n",
        "    task_description,\n",
        "    label_sentences,\n",
        ")\n",
        "print(probs)\n",
        "import numpy as np\n",
        "\n",
        "print(text_label[\"label\"])\n",
        "np.argmax(np.array(probs)).item()"
      ]
    },
    {
      "cell_type": "code",
      "execution_count": 86,
      "metadata": {},
      "outputs": [
        {
          "data": {
            "application/vnd.jupyter.widget-view+json": {
              "model_id": "dd41ab336a9b4408bd977fd654d61a09",
              "version_major": 2,
              "version_minor": 0
            },
            "text/plain": [
              "Map:   0%|          | 0/120000 [00:00<?, ? examples/s]"
            ]
          },
          "metadata": {},
          "output_type": "display_data"
        },
        {
          "data": {
            "application/vnd.jupyter.widget-view+json": {
              "model_id": "05537afa7c464821b9779a35bfa34091",
              "version_major": 2,
              "version_minor": 0
            },
            "text/plain": [
              "Map:   0%|          | 0/7600 [00:00<?, ? examples/s]"
            ]
          },
          "metadata": {},
          "output_type": "display_data"
        },
        {
          "data": {
            "text/plain": [
              "DatasetDict({\n",
              "    train: Dataset({\n",
              "        features: ['text', 'label', 'input_ids', 'attention_mask'],\n",
              "        num_rows: 120000\n",
              "    })\n",
              "    test: Dataset({\n",
              "        features: ['text', 'label', 'input_ids', 'attention_mask'],\n",
              "        num_rows: 7600\n",
              "    })\n",
              "})"
            ]
          },
          "execution_count": 86,
          "metadata": {},
          "output_type": "execute_result"
        }
      ],
      "source": [
        "def preprocess_function(examples):\n",
        "    return tokenizer(examples[\"text\"], max_length=200, truncation=True)\n",
        "\n",
        "\n",
        "tokenized_news_ds = news_ds.map(preprocess_function, batched=True)\n",
        "tokenized_news_ds"
      ]
    },
    {
      "cell_type": "code",
      "execution_count": 87,
      "metadata": {},
      "outputs": [
        {
          "name": "stderr",
          "output_type": "stream",
          "text": [
            "  0%|          | 0/50 [00:00<?, ?it/s]"
          ]
        },
        {
          "name": "stdout",
          "output_type": "stream",
          "text": [
            "\u001b[33m----------------------------------\u001b[39m\n"
          ]
        },
        {
          "name": "stderr",
          "output_type": "stream",
          "text": [
            "  2%|▏         | 1/50 [00:03<02:55,  3.58s/it]"
          ]
        },
        {
          "name": "stdout",
          "output_type": "stream",
          "text": [
            "Index 0: \u001b[32mSuccess 🎉 \u001b[0m \n",
            "dataset index: 6827\n",
            "Confidence: 25.89\n",
            "NLL: -0.00\n",
            "\u001b[33m----------------------------------\u001b[39m\n"
          ]
        },
        {
          "name": "stderr",
          "output_type": "stream",
          "text": [
            "  4%|▍         | 2/50 [00:15<06:37,  8.28s/it]"
          ]
        },
        {
          "name": "stdout",
          "output_type": "stream",
          "text": [
            "Index 1: \u001b[31mFail 🧐 \u001b[0m\n",
            "dataset index: 1089\n",
            "Confidence: 24.68\n",
            "NLL: 103.28\n",
            "Failed Query: \u001b[40mCounting the Hops (Forbes.com) Forbes.com - Like Network Appliance, many top tech firms are snapping up Linux programmers, hoping to influence the way the operating system evolves. The trick is to hire programmers closest to Linux creator Linus Torvalds. Torvalds oversees Linux development, but he delegates pieces of the system to the 25 or so code maintainers,like Trond Myklebust at NetApp.Maintainers in turn break their projects into smaller pieces, overseen by submaintainers.\u001b[49m\n",
            "Label : \u001b[36m Sci/Tech \u001b[39m Pred : \u001b[35m Business \u001b[39m\n",
            "\u001b[33m----------------------------------\u001b[39m\n"
          ]
        },
        {
          "name": "stderr",
          "output_type": "stream",
          "text": [
            "  6%|▌         | 3/50 [00:20<05:29,  7.02s/it]"
          ]
        },
        {
          "name": "stdout",
          "output_type": "stream",
          "text": [
            "Index 2: \u001b[31mFail 🧐 \u001b[0m\n",
            "dataset index: 6472\n",
            "Confidence: 27.88\n",
            "NLL: 90.52\n",
            "Failed Query: \u001b[40mWake Forest survives at the NIT No. 1 Wake Forest used a 19-5 second half run to take the lead and then held off Arizona 63-60 to win the preseason NIT. Mustafa Shakur had a chance to take the lead in the final seconds, but he missed a runner in the lane.\u001b[49m\n",
            "Label : \u001b[36m Sports \u001b[39m Pred : \u001b[35m Business \u001b[39m\n",
            "\u001b[33m----------------------------------\u001b[39m\n"
          ]
        },
        {
          "name": "stderr",
          "output_type": "stream",
          "text": [
            "  8%|▊         | 4/50 [00:25<04:43,  6.15s/it]"
          ]
        },
        {
          "name": "stdout",
          "output_type": "stream",
          "text": [
            "Index 3: \u001b[31mFail 🧐 \u001b[0m\n",
            "dataset index: 1877\n",
            "Confidence: 17.70\n",
            "NLL: 40.76\n",
            "Failed Query: \u001b[40mSharon acknowledges ignoring road map Prime Minister Ariel Sharon acknowledged that Israel was not following the moribund Mideast peace plan, and said an Israeli pullout from the Gaza Strip was unlikely to revive it, according \u001b[49m\n",
            "Label : \u001b[36m World \u001b[39m Pred : \u001b[35m Business \u001b[39m\n",
            "\u001b[33m----------------------------------\u001b[39m\n"
          ]
        },
        {
          "name": "stderr",
          "output_type": "stream",
          "text": [
            " 10%|█         | 5/50 [00:29<04:06,  5.48s/it]"
          ]
        },
        {
          "name": "stdout",
          "output_type": "stream",
          "text": [
            "Index 4: \u001b[31mFail 🧐 \u001b[0m\n",
            "dataset index: 1898\n",
            "Confidence: 24.11\n",
            "NLL: inf\n",
            "Failed Query: \u001b[40mAOL Shuns Microsoft Anti-Spam Technology Add America Online Inc. to the growing list of companies and organizations shunning a spam-fighting proposal from Microsoft Corp. AOL cited  quot;tepid support quot; for Microsoft #39;s so-called Sender ID technology, which \u001b[49m\n",
            "Label : \u001b[36m Sci/Tech \u001b[39m Pred : \u001b[35m Business \u001b[39m\n",
            "\u001b[33m----------------------------------\u001b[39m\n"
          ]
        },
        {
          "name": "stderr",
          "output_type": "stream",
          "text": [
            " 12%|█▏        | 6/50 [00:36<04:23,  5.99s/it]"
          ]
        },
        {
          "name": "stdout",
          "output_type": "stream",
          "text": [
            "Index 5: \u001b[31mFail 🧐 \u001b[0m\n",
            "dataset index: 3146\n",
            "Confidence: 30.29\n",
            "NLL: inf\n",
            "Failed Query: \u001b[40mJudge Challenges EU Position on Microsoft (Reuters) Reuters - A top European Union judge\\challenged the EU executive's reasoning in its antitrust court\\battle with Microsoft Corp. Friday, questioning why it opposed\\the U.S. software giant's setting industry standards.\u001b[49m\n",
            "Label : \u001b[36m Sci/Tech \u001b[39m Pred : \u001b[35m Business \u001b[39m\n",
            "\u001b[33m----------------------------------\u001b[39m\n"
          ]
        },
        {
          "name": "stderr",
          "output_type": "stream",
          "text": [
            " 14%|█▍        | 7/50 [00:40<03:43,  5.20s/it]"
          ]
        },
        {
          "name": "stdout",
          "output_type": "stream",
          "text": [
            "Index 6: \u001b[32mSuccess 🎉 \u001b[0m \n",
            "dataset index: 2431\n",
            "Confidence: 26.53\n",
            "NLL: -0.00\n",
            "\u001b[33m----------------------------------\u001b[39m\n"
          ]
        },
        {
          "name": "stderr",
          "output_type": "stream",
          "text": [
            " 16%|█▌        | 8/50 [00:41<02:49,  4.04s/it]"
          ]
        },
        {
          "name": "stdout",
          "output_type": "stream",
          "text": [
            "Index 7: \u001b[32mSuccess 🎉 \u001b[0m \n",
            "dataset index: 535\n",
            "Confidence: 29.26\n",
            "NLL: -0.00\n",
            "\u001b[33m----------------------------------\u001b[39m\n"
          ]
        },
        {
          "name": "stderr",
          "output_type": "stream",
          "text": [
            " 18%|█▊        | 9/50 [00:44<02:30,  3.66s/it]"
          ]
        },
        {
          "name": "stdout",
          "output_type": "stream",
          "text": [
            "Index 8: \u001b[31mFail 🧐 \u001b[0m\n",
            "dataset index: 4775\n",
            "Confidence: 26.87\n",
            "NLL: inf\n",
            "Failed Query: \u001b[40mNASA Again Postpones Launch of Autonomous DART Spacecraft com Staff. NASA once again postponed the launch of the Demonstration of Autonomous Rendezvous Technology (DART) spacecraft Thursday due to the discovery of contamination inside the fairing of its Pegasus launch vehicle.\u001b[49m\n",
            "Label : \u001b[36m Sci/Tech \u001b[39m Pred : \u001b[35m Business \u001b[39m\n",
            "\u001b[33m----------------------------------\u001b[39m\n"
          ]
        },
        {
          "name": "stderr",
          "output_type": "stream",
          "text": [
            " 20%|██        | 10/50 [00:47<02:10,  3.26s/it]"
          ]
        },
        {
          "name": "stdout",
          "output_type": "stream",
          "text": [
            "Index 9: \u001b[31mFail 🧐 \u001b[0m\n",
            "dataset index: 4990\n",
            "Confidence: 25.05\n",
            "NLL: 57.67\n",
            "Failed Query: \u001b[40mArafat #39;s brother moved to Cairo for cancer therapy Palestinian sources said on Tuesday that Palestinian leader Yasser Arafat #39;s younger brother Fatehy Arafat was transferred to a hospital in Cairo to be treated for intestines cancer.\u001b[49m\n",
            "Label : \u001b[36m World \u001b[39m Pred : \u001b[35m Business \u001b[39m\n",
            "\u001b[33m----------------------------------\u001b[39m\n"
          ]
        },
        {
          "name": "stderr",
          "output_type": "stream",
          "text": [
            " 22%|██▏       | 11/50 [00:48<01:48,  2.77s/it]"
          ]
        },
        {
          "name": "stdout",
          "output_type": "stream",
          "text": [
            "Index 10: \u001b[31mFail 🧐 \u001b[0m\n",
            "dataset index: 5095\n",
            "Confidence: 32.34\n",
            "NLL: 88.79\n",
            "Failed Query: \u001b[40mShaq turns up heat in first outing with Miami SHAQUILLE O #39;Neal shot 7-for-9 and finished with 16 points in his Miami debut yesterday as the Heat took a 100-77 victory against the home side New Jersey Nets.\u001b[49m\n",
            "Label : \u001b[36m Sports \u001b[39m Pred : \u001b[35m Business \u001b[39m\n",
            "\u001b[33m----------------------------------\u001b[39m\n"
          ]
        },
        {
          "name": "stderr",
          "output_type": "stream",
          "text": [
            " 24%|██▍       | 12/50 [00:50<01:33,  2.47s/it]"
          ]
        },
        {
          "name": "stdout",
          "output_type": "stream",
          "text": [
            "Index 11: \u001b[31mFail 🧐 \u001b[0m\n",
            "dataset index: 2171\n",
            "Confidence: 30.77\n",
            "NLL: 89.99\n",
            "Failed Query: \u001b[40mWinning NFL Turnover Battle Does Count (AP) AP - Joe Gibbs had seen it before, although he didn't remember: On Dec. 7, 1986, his Washington Redskins turned the ball over seven times and lost to the New York Giants.\u001b[49m\n",
            "Label : \u001b[36m Sports \u001b[39m Pred : \u001b[35m Business \u001b[39m\n",
            "\u001b[33m----------------------------------\u001b[39m\n"
          ]
        },
        {
          "name": "stderr",
          "output_type": "stream",
          "text": [
            " 26%|██▌       | 13/50 [00:53<01:42,  2.76s/it]"
          ]
        },
        {
          "name": "stdout",
          "output_type": "stream",
          "text": [
            "Index 12: \u001b[31mFail 🧐 \u001b[0m\n",
            "dataset index: 38\n",
            "Confidence: 31.46\n",
            "NLL: 72.44\n",
            "Failed Query: \u001b[40mIran Warns Its Missiles Can Hit Anywhere in Israel  TEHRAN (Reuters) - A senior Iranian military official said  Sunday Israel and the United States would not dare attack Iran  since it could strike back anywhere in Israel with its latest  missiles, news agencies reported.\u001b[49m\n",
            "Label : \u001b[36m World \u001b[39m Pred : \u001b[35m Business \u001b[39m\n",
            "\u001b[33m----------------------------------\u001b[39m\n"
          ]
        },
        {
          "name": "stderr",
          "output_type": "stream",
          "text": [
            " 28%|██▊       | 14/50 [00:58<01:55,  3.21s/it]"
          ]
        },
        {
          "name": "stdout",
          "output_type": "stream",
          "text": [
            "Index 13: \u001b[31mFail 🧐 \u001b[0m\n",
            "dataset index: 1777\n",
            "Confidence: 27.25\n",
            "NLL: 85.73\n",
            "Failed Query: \u001b[40mSportsNetwork Game Preview (Sports Network) - Tim Wakefield tries for his first win in three starts this evening when the Boston Red Sox continue their three-game series with the Tampa Bay Devil Rays at Fenway Park.\u001b[49m\n",
            "Label : \u001b[36m Sports \u001b[39m Pred : \u001b[35m Business \u001b[39m\n",
            "\u001b[33m----------------------------------\u001b[39m\n"
          ]
        },
        {
          "name": "stderr",
          "output_type": "stream",
          "text": [
            " 30%|███       | 15/50 [01:01<01:49,  3.14s/it]"
          ]
        },
        {
          "name": "stdout",
          "output_type": "stream",
          "text": [
            "Index 14: \u001b[31mFail 🧐 \u001b[0m\n",
            "dataset index: 114\n",
            "Confidence: 24.81\n",
            "NLL: inf\n",
            "Failed Query: \u001b[40mCassini Space Probe Spots Two New Saturn Moons (Reuters) Reuters - Two new moons were spotted around\\Saturn by the Cassini space probe, raising the total to 33\\moons for the ringed planet, NASA said on Monday.\u001b[49m\n",
            "Label : \u001b[36m Sci/Tech \u001b[39m Pred : \u001b[35m Business \u001b[39m\n",
            "\u001b[33m----------------------------------\u001b[39m\n"
          ]
        },
        {
          "name": "stderr",
          "output_type": "stream",
          "text": [
            " 32%|███▏      | 16/50 [01:02<01:31,  2.70s/it]"
          ]
        },
        {
          "name": "stdout",
          "output_type": "stream",
          "text": [
            "Index 15: \u001b[31mFail 🧐 \u001b[0m\n",
            "dataset index: 2946\n",
            "Confidence: 24.68\n",
            "NLL: 101.49\n",
            "Failed Query: \u001b[40mLarge mammals facing the fate of the sabre tooth THE future of the world #39;s large wild mammals is threatened by pressures similar to those that caused the extinction of two-thirds of such species at the end of the most recent Ice Age.\u001b[49m\n",
            "Label : \u001b[36m Sci/Tech \u001b[39m Pred : \u001b[35m Business \u001b[39m\n",
            "\u001b[33m----------------------------------\u001b[39m\n"
          ]
        },
        {
          "name": "stderr",
          "output_type": "stream",
          "text": [
            " 34%|███▍      | 17/50 [01:09<02:07,  3.85s/it]"
          ]
        },
        {
          "name": "stdout",
          "output_type": "stream",
          "text": [
            "Index 16: \u001b[31mFail 🧐 \u001b[0m\n",
            "dataset index: 2040\n",
            "Confidence: 27.56\n",
            "NLL: 85.77\n",
            "Failed Query: \u001b[40mBonds Takes Stock The distraction of another milestone is gone, and Bonds is preparing himself to play every game for the rest of the season.\u001b[49m\n",
            "Label : \u001b[36m Sports \u001b[39m Pred : \u001b[35m Business \u001b[39m\n",
            "\u001b[33m----------------------------------\u001b[39m\n"
          ]
        },
        {
          "name": "stderr",
          "output_type": "stream",
          "text": [
            " 36%|███▌      | 18/50 [01:14<02:13,  4.16s/it]"
          ]
        },
        {
          "name": "stdout",
          "output_type": "stream",
          "text": [
            "Index 17: \u001b[31mFail 🧐 \u001b[0m\n",
            "dataset index: 4953\n",
            "Confidence: 29.21\n",
            "NLL: 80.32\n",
            "Failed Query: \u001b[40mRedskins lose, Kerry hopes for win TAMPA. Fla. First it was the Boston Red Sox World Series win that had John Kerry grinning, now another sports event has him feeling good.\u001b[49m\n",
            "Label : \u001b[36m Sports \u001b[39m Pred : \u001b[35m Business \u001b[39m\n",
            "\u001b[33m----------------------------------\u001b[39m\n"
          ]
        },
        {
          "name": "stderr",
          "output_type": "stream",
          "text": [
            " 38%|███▊      | 19/50 [01:16<01:47,  3.47s/it]"
          ]
        },
        {
          "name": "stdout",
          "output_type": "stream",
          "text": [
            "Index 18: \u001b[31mFail 🧐 \u001b[0m\n",
            "dataset index: 4528\n",
            "Confidence: 26.27\n",
            "NLL: 60.49\n",
            "Failed Query: \u001b[40mChina, ASEAN Agree to End Tariffs (AP) AP - China has reached agreement with the Association of Southeast Asian Nations, or ASEAN, on completely removing tariffs on merchandise goods by 2010 as part of a proposed free trade agreement, the Chinese Ministry of Commerce says.\u001b[49m\n",
            "Label : \u001b[36m World \u001b[39m Pred : \u001b[35m Business \u001b[39m\n",
            "\u001b[33m----------------------------------\u001b[39m\n"
          ]
        },
        {
          "name": "stderr",
          "output_type": "stream",
          "text": [
            " 40%|████      | 20/50 [01:19<01:43,  3.43s/it]"
          ]
        },
        {
          "name": "stdout",
          "output_type": "stream",
          "text": [
            "Index 19: \u001b[32mSuccess 🎉 \u001b[0m \n",
            "dataset index: 6342\n",
            "Confidence: 25.06\n",
            "NLL: -0.00\n",
            "\u001b[33m----------------------------------\u001b[39m\n"
          ]
        },
        {
          "name": "stderr",
          "output_type": "stream",
          "text": [
            " 42%|████▏     | 21/50 [01:24<01:50,  3.80s/it]"
          ]
        },
        {
          "name": "stdout",
          "output_type": "stream",
          "text": [
            "Index 20: \u001b[31mFail 🧐 \u001b[0m\n",
            "dataset index: 2142\n",
            "Confidence: 26.59\n",
            "NLL: inf\n",
            "Failed Query: \u001b[40mTruSecure merges with Betrusted BOSTON - Information security services companies TruSecure Corp. and Betrusted plan to announce on Tuesday that they have merged, forming a new company called Cybertrust.\u001b[49m\n",
            "Label : \u001b[36m Sci/Tech \u001b[39m Pred : \u001b[35m Business \u001b[39m\n",
            "\u001b[33m----------------------------------\u001b[39m\n"
          ]
        },
        {
          "name": "stderr",
          "output_type": "stream",
          "text": [
            " 44%|████▍     | 22/50 [01:25<01:28,  3.15s/it]"
          ]
        },
        {
          "name": "stdout",
          "output_type": "stream",
          "text": [
            "Index 21: \u001b[31mFail 🧐 \u001b[0m\n",
            "dataset index: 5826\n",
            "Confidence: 25.20\n",
            "NLL: inf\n",
            "Failed Query: \u001b[40mAMD readies security, virtualisation features for 2006 Advanced Micro Devices (AMD) plans to build security and virtualisation features into its server processors by 2006, the company said Friday during its annual analyst event.\u001b[49m\n",
            "Label : \u001b[36m Sci/Tech \u001b[39m Pred : \u001b[35m Business \u001b[39m\n",
            "\u001b[33m----------------------------------\u001b[39m\n"
          ]
        },
        {
          "name": "stderr",
          "output_type": "stream",
          "text": [
            " 46%|████▌     | 23/50 [01:33<02:05,  4.64s/it]"
          ]
        },
        {
          "name": "stdout",
          "output_type": "stream",
          "text": [
            "Index 22: \u001b[31mFail 🧐 \u001b[0m\n",
            "dataset index: 3836\n",
            "Confidence: 30.94\n",
            "NLL: 91.30\n",
            "Failed Query: \u001b[40mNo. 3 Miami Stops No. 18 Louisville 41-38 (AP) AP - The Louisville Cardinals drew a flag for excessive celebration in the second quarter, and another in the third. Against Miami, the displays of jubilation were premature. Led by Brock Berlin and Devin Hester, the third-ranked Hurricanes erased a 17-point deficit over the final 20 minutes and came from behind twice in the fourth quarter to beat No. 18 Louisville 41-38 Thursday night.\u001b[49m\n",
            "Label : \u001b[36m Sports \u001b[39m Pred : \u001b[35m Business \u001b[39m\n",
            "\u001b[33m----------------------------------\u001b[39m\n"
          ]
        },
        {
          "name": "stderr",
          "output_type": "stream",
          "text": [
            " 48%|████▊     | 24/50 [01:35<01:36,  3.71s/it]"
          ]
        },
        {
          "name": "stdout",
          "output_type": "stream",
          "text": [
            "Index 23: \u001b[32mSuccess 🎉 \u001b[0m \n",
            "dataset index: 5932\n",
            "Confidence: 25.57\n",
            "NLL: -0.00\n",
            "\u001b[33m----------------------------------\u001b[39m\n"
          ]
        },
        {
          "name": "stderr",
          "output_type": "stream",
          "text": [
            " 50%|█████     | 25/50 [01:38<01:29,  3.58s/it]"
          ]
        },
        {
          "name": "stdout",
          "output_type": "stream",
          "text": [
            "Index 24: \u001b[32mSuccess 🎉 \u001b[0m \n",
            "dataset index: 4572\n",
            "Confidence: 28.08\n",
            "NLL: -0.00\n",
            "\u001b[33m----------------------------------\u001b[39m\n"
          ]
        },
        {
          "name": "stderr",
          "output_type": "stream",
          "text": [
            " 52%|█████▏    | 26/50 [01:40<01:12,  3.01s/it]"
          ]
        },
        {
          "name": "stdout",
          "output_type": "stream",
          "text": [
            "Index 25: \u001b[32mSuccess 🎉 \u001b[0m \n",
            "dataset index: 1678\n",
            "Confidence: 26.06\n",
            "NLL: -0.00\n",
            "\u001b[33m----------------------------------\u001b[39m\n"
          ]
        },
        {
          "name": "stderr",
          "output_type": "stream",
          "text": [
            " 54%|█████▍    | 27/50 [01:43<01:10,  3.09s/it]"
          ]
        },
        {
          "name": "stdout",
          "output_type": "stream",
          "text": [
            "Index 26: \u001b[31mFail 🧐 \u001b[0m\n",
            "dataset index: 6985\n",
            "Confidence: 27.77\n",
            "NLL: 63.93\n",
            "Failed Query: \u001b[40mData revision shows Japan's economy grew slightly in July-September (Canadian Press) Canadian Press - TOKYO (AP) - Japan's economy barely grew during the quarter ending Sept. 30 and in the April-June period it actually shrank instead of squeezing out slight growth, according to revised government data released Wednesday.\u001b[49m\n",
            "Label : \u001b[36m World \u001b[39m Pred : \u001b[35m Business \u001b[39m\n",
            "\u001b[33m----------------------------------\u001b[39m\n"
          ]
        },
        {
          "name": "stderr",
          "output_type": "stream",
          "text": [
            " 56%|█████▌    | 28/50 [01:45<01:00,  2.73s/it]"
          ]
        },
        {
          "name": "stdout",
          "output_type": "stream",
          "text": [
            "Index 27: \u001b[31mFail 🧐 \u001b[0m\n",
            "dataset index: 4598\n",
            "Confidence: 26.47\n",
            "NLL: 60.95\n",
            "Failed Query: \u001b[40mIsraeli Officer Arrested Over Killing of Gaza Girl (Reuters) Reuters - Israeli military police on Tuesday\\arrested a commander accused by comrades of riddling the body\\of a Palestinian schoolgirl with bullets after fellow soldiers\\killed her.\u001b[49m\n",
            "Label : \u001b[36m World \u001b[39m Pred : \u001b[35m Business \u001b[39m\n",
            "\u001b[33m----------------------------------\u001b[39m\n"
          ]
        },
        {
          "name": "stderr",
          "output_type": "stream",
          "text": [
            " 58%|█████▊    | 29/50 [01:47<00:50,  2.40s/it]"
          ]
        },
        {
          "name": "stdout",
          "output_type": "stream",
          "text": [
            "Index 28: \u001b[31mFail 🧐 \u001b[0m\n",
            "dataset index: 5799\n",
            "Confidence: 26.07\n",
            "NLL: 60.03\n",
            "Failed Query: \u001b[40mTiming Of Indian Move In Kashmir Vital: Pak Paper Islamabad, Nov. 16 (NNN): Pakistans leading newspaper, Dawn, finds the timing of the Indian announcement on reduction of troops in Kashmir as significance.\u001b[49m\n",
            "Label : \u001b[36m World \u001b[39m Pred : \u001b[35m Business \u001b[39m\n",
            "\u001b[33m----------------------------------\u001b[39m\n"
          ]
        },
        {
          "name": "stderr",
          "output_type": "stream",
          "text": [
            " 60%|██████    | 30/50 [01:51<01:02,  3.11s/it]"
          ]
        },
        {
          "name": "stdout",
          "output_type": "stream",
          "text": [
            "Index 29: \u001b[32mSuccess 🎉 \u001b[0m \n",
            "dataset index: 6070\n",
            "Confidence: 26.37\n",
            "NLL: -0.00\n",
            "\u001b[33m----------------------------------\u001b[39m\n"
          ]
        },
        {
          "name": "stderr",
          "output_type": "stream",
          "text": [
            " 62%|██████▏   | 31/50 [01:56<01:09,  3.65s/it]"
          ]
        },
        {
          "name": "stdout",
          "output_type": "stream",
          "text": [
            "Index 30: \u001b[31mFail 🧐 \u001b[0m\n",
            "dataset index: 3376\n",
            "Confidence: 29.12\n",
            "NLL: 86.71\n",
            "Failed Query: \u001b[40mMauresmo books a last-eight place FILDERSTADT, Germany -- Amelie Mauresmo stated her determination to stay World No. 1 by surging into the quarterfinals of the Filderstadt Grand Prix in Germany with a 7-5 6-4 win over Patty Schynder.\u001b[49m\n",
            "Label : \u001b[36m Sports \u001b[39m Pred : \u001b[35m Business \u001b[39m\n",
            "\u001b[33m----------------------------------\u001b[39m\n"
          ]
        },
        {
          "name": "stderr",
          "output_type": "stream",
          "text": [
            " 64%|██████▍   | 32/50 [02:03<01:20,  4.46s/it]"
          ]
        },
        {
          "name": "stdout",
          "output_type": "stream",
          "text": [
            "Index 31: \u001b[31mFail 🧐 \u001b[0m\n",
            "dataset index: 3930\n",
            "Confidence: 26.42\n",
            "NLL: 60.83\n",
            "Failed Query: \u001b[40mSharon to Hold Tense Meeting With Settlers JERUSALEM - After more than a year of avoiding Jewish settlers, Israeli Prime Minister Ariel Sharon has decided to directly confront his former supporters in a meeting about his contentious plan to withdraw from the Gaza Strip and part of the West Bank.    Sharon invited settler leaders to meet with him in Jerusalem on Sunday, just a week before he presents his \"disengagement\" plan to parliament...\u001b[49m\n",
            "Label : \u001b[36m World \u001b[39m Pred : \u001b[35m Business \u001b[39m\n",
            "\u001b[33m----------------------------------\u001b[39m\n"
          ]
        },
        {
          "name": "stderr",
          "output_type": "stream",
          "text": [
            " 66%|██████▌   | 33/50 [02:04<01:02,  3.65s/it]"
          ]
        },
        {
          "name": "stdout",
          "output_type": "stream",
          "text": [
            "Index 32: \u001b[31mFail 🧐 \u001b[0m\n",
            "dataset index: 3333\n",
            "Confidence: 25.08\n",
            "NLL: 57.76\n",
            "Failed Query: \u001b[40mBlair: Time for Excuses on Africa Is Over (Reuters) Reuters - British Prime Minister\\Tony Blair is to say Thursday that the time for excuses on\\Africa is over as he chairs a meeting in Ethiopia he hopes will\\turn the continent's problems into a global priority.\u001b[49m\n",
            "Label : \u001b[36m World \u001b[39m Pred : \u001b[35m Business \u001b[39m\n",
            "\u001b[33m----------------------------------\u001b[39m\n"
          ]
        },
        {
          "name": "stderr",
          "output_type": "stream",
          "text": [
            " 68%|██████▊   | 34/50 [02:08<00:59,  3.74s/it]"
          ]
        },
        {
          "name": "stdout",
          "output_type": "stream",
          "text": [
            "Index 33: \u001b[31mFail 🧐 \u001b[0m\n",
            "dataset index: 5953\n",
            "Confidence: 25.13\n",
            "NLL: 57.85\n",
            "Failed Query: \u001b[40mStill under fire, US troops shifting to relief effort US forces in Fallujah offer food and first aid as they face scattered pockets of guerrilla resistance.\u001b[49m\n",
            "Label : \u001b[36m World \u001b[39m Pred : \u001b[35m Business \u001b[39m\n",
            "\u001b[33m----------------------------------\u001b[39m\n"
          ]
        },
        {
          "name": "stderr",
          "output_type": "stream",
          "text": [
            " 70%|███████   | 35/50 [02:12<00:54,  3.61s/it]"
          ]
        },
        {
          "name": "stdout",
          "output_type": "stream",
          "text": [
            "Index 34: \u001b[31mFail 🧐 \u001b[0m\n",
            "dataset index: 2868\n",
            "Confidence: 27.03\n",
            "NLL: inf\n",
            "Failed Query: \u001b[40mEBay Expands PayPal Buyer Protection Up to \\$1,000 PayPal, eBay Inc. #39;s (EBAY.O: Quote, Profile, Research) online payment service, will expand its US buyer protection program to cover up to \\$1,000 for qualified transactions, the company said on Thursday.\u001b[49m\n",
            "Label : \u001b[36m Sci/Tech \u001b[39m Pred : \u001b[35m Business \u001b[39m\n",
            "\u001b[33m----------------------------------\u001b[39m\n"
          ]
        },
        {
          "name": "stderr",
          "output_type": "stream",
          "text": [
            " 72%|███████▏  | 36/50 [02:20<01:09,  4.97s/it]"
          ]
        },
        {
          "name": "stdout",
          "output_type": "stream",
          "text": [
            "Index 35: \u001b[31mFail 🧐 \u001b[0m\n",
            "dataset index: 2962\n",
            "Confidence: 29.04\n",
            "NLL: inf\n",
            "Failed Query: \u001b[40mIBM expands data centers, on-demand service Big Blue enhances its \"on demand\" offering for companies through its data centers.\u001b[49m\n",
            "Label : \u001b[36m Sci/Tech \u001b[39m Pred : \u001b[35m Business \u001b[39m\n",
            "\u001b[33m----------------------------------\u001b[39m\n"
          ]
        },
        {
          "name": "stderr",
          "output_type": "stream",
          "text": [
            " 74%|███████▍  | 37/50 [02:22<00:54,  4.21s/it]"
          ]
        },
        {
          "name": "stdout",
          "output_type": "stream",
          "text": [
            "Index 36: \u001b[31mFail 🧐 \u001b[0m\n",
            "dataset index: 4237\n",
            "Confidence: 27.76\n",
            "NLL: 87.71\n",
            "Failed Query: \u001b[40mEdmonds homer lifts Cardinals to Game 7 against Astros ST. LOUIS, Missouri All of the wounds in this city, colored a fresh shade of cardinal red, healed with just one touch. The winning pitcher was the one who had the fractured hand.\u001b[49m\n",
            "Label : \u001b[36m Sports \u001b[39m Pred : \u001b[35m Business \u001b[39m\n",
            "\u001b[33m----------------------------------\u001b[39m\n"
          ]
        },
        {
          "name": "stderr",
          "output_type": "stream",
          "text": [
            " 76%|███████▌  | 38/50 [02:27<00:51,  4.27s/it]"
          ]
        },
        {
          "name": "stdout",
          "output_type": "stream",
          "text": [
            "Index 37: \u001b[31mFail 🧐 \u001b[0m\n",
            "dataset index: 4604\n",
            "Confidence: 26.94\n",
            "NLL: inf\n",
            "Failed Query: \u001b[40mMicrosoft previews  quot;Whitehorse quot; developer tools Microsoft released on Tuesday a preview version of new tools intended to make it easier for companies to create custom Web applications.\u001b[49m\n",
            "Label : \u001b[36m Sci/Tech \u001b[39m Pred : \u001b[35m Business \u001b[39m\n",
            "\u001b[33m----------------------------------\u001b[39m\n"
          ]
        },
        {
          "name": "stderr",
          "output_type": "stream",
          "text": [
            " 78%|███████▊  | 39/50 [02:31<00:48,  4.38s/it]"
          ]
        },
        {
          "name": "stdout",
          "output_type": "stream",
          "text": [
            "Index 38: \u001b[31mFail 🧐 \u001b[0m\n",
            "dataset index: 3000\n",
            "Confidence: 29.98\n",
            "NLL: 86.94\n",
            "Failed Query: \u001b[40mSharapova advances to Korea Open final Reigning Wimbledon champion Maria Sharapova has thrashed Anne Kremer of Luxembourg to advance to the final of the Korea Open in Seoul.\u001b[49m\n",
            "Label : \u001b[36m Sports \u001b[39m Pred : \u001b[35m Business \u001b[39m\n",
            "\u001b[33m----------------------------------\u001b[39m\n"
          ]
        },
        {
          "name": "stderr",
          "output_type": "stream",
          "text": [
            " 80%|████████  | 40/50 [02:34<00:37,  3.76s/it]"
          ]
        },
        {
          "name": "stdout",
          "output_type": "stream",
          "text": [
            "Index 39: \u001b[31mFail 🧐 \u001b[0m\n",
            "dataset index: 2\n",
            "Confidence: 31.27\n",
            "NLL: inf\n",
            "Failed Query: \u001b[40mKy. Company Wins Grant to Study Peptides (AP) AP - A company founded by a chemistry researcher at the University of Louisville won a grant to develop a method of producing better peptides, which are short chains of amino acids, the building blocks of proteins.\u001b[49m\n",
            "Label : \u001b[36m Sci/Tech \u001b[39m Pred : \u001b[35m Business \u001b[39m\n",
            "\u001b[33m----------------------------------\u001b[39m\n"
          ]
        },
        {
          "name": "stderr",
          "output_type": "stream",
          "text": [
            " 82%|████████▏ | 41/50 [02:36<00:30,  3.34s/it]"
          ]
        },
        {
          "name": "stdout",
          "output_type": "stream",
          "text": [
            "Index 40: \u001b[32mSuccess 🎉 \u001b[0m \n",
            "dataset index: 4824\n",
            "Confidence: 26.54\n",
            "NLL: -0.00\n",
            "\u001b[33m----------------------------------\u001b[39m\n"
          ]
        },
        {
          "name": "stderr",
          "output_type": "stream",
          "text": [
            " 84%|████████▍ | 42/50 [02:38<00:23,  2.99s/it]"
          ]
        },
        {
          "name": "stdout",
          "output_type": "stream",
          "text": [
            "Index 41: \u001b[32mSuccess 🎉 \u001b[0m \n",
            "dataset index: 6000\n",
            "Confidence: 25.32\n",
            "NLL: -0.00\n",
            "\u001b[33m----------------------------------\u001b[39m\n"
          ]
        },
        {
          "name": "stderr",
          "output_type": "stream",
          "text": [
            " 86%|████████▌ | 43/50 [02:41<00:19,  2.80s/it]"
          ]
        },
        {
          "name": "stdout",
          "output_type": "stream",
          "text": [
            "Index 42: \u001b[31mFail 🧐 \u001b[0m\n",
            "dataset index: 7147\n",
            "Confidence: 25.20\n",
            "NLL: 103.28\n",
            "Failed Query: \u001b[40mInternet access is free on ferries during tests Tests of high-speed wireless Internet service on one of the region #39;s busiest ferry runs have been canceled, but the service, referred to as Wi-Fi, might still become available on that run, between Seattle and Bremerton, the ferry service said.\u001b[49m\n",
            "Label : \u001b[36m Sci/Tech \u001b[39m Pred : \u001b[35m Business \u001b[39m\n",
            "\u001b[33m----------------------------------\u001b[39m\n"
          ]
        },
        {
          "name": "stderr",
          "output_type": "stream",
          "text": [
            " 88%|████████▊ | 44/50 [02:43<00:16,  2.68s/it]"
          ]
        },
        {
          "name": "stdout",
          "output_type": "stream",
          "text": [
            "Index 43: \u001b[31mFail 🧐 \u001b[0m\n",
            "dataset index: 4368\n",
            "Confidence: 30.22\n",
            "NLL: 92.59\n",
            "Failed Query: \u001b[40mBucks' Zendon Hamilton Has Knee Surgery (AP) AP - Milwaukee Bucks forward Zendon Hamilton will miss six weeks after undergoing arthroscopic surgery on his right knee.\u001b[49m\n",
            "Label : \u001b[36m Sports \u001b[39m Pred : \u001b[35m Business \u001b[39m\n",
            "\u001b[33m----------------------------------\u001b[39m\n"
          ]
        },
        {
          "name": "stderr",
          "output_type": "stream",
          "text": [
            " 90%|█████████ | 45/50 [02:45<00:12,  2.53s/it]"
          ]
        },
        {
          "name": "stdout",
          "output_type": "stream",
          "text": [
            "Index 44: \u001b[31mFail 🧐 \u001b[0m\n",
            "dataset index: 3322\n",
            "Confidence: 29.93\n",
            "NLL: 94.47\n",
            "Failed Query: \u001b[40mMartnez's Effort Lets Boston Fans Take Heart Boston's Pedro Martnez put his past four starts behind him Wednesday night to post a redemptive 8-3 victory over the Anaheim Angels.\u001b[49m\n",
            "Label : \u001b[36m Sports \u001b[39m Pred : \u001b[35m Business \u001b[39m\n",
            "\u001b[33m----------------------------------\u001b[39m\n"
          ]
        },
        {
          "name": "stderr",
          "output_type": "stream",
          "text": [
            " 92%|█████████▏| 46/50 [02:47<00:09,  2.39s/it]"
          ]
        },
        {
          "name": "stdout",
          "output_type": "stream",
          "text": [
            "Index 45: \u001b[32mSuccess 🎉 \u001b[0m \n",
            "dataset index: 1188\n",
            "Confidence: 25.08\n",
            "NLL: -0.00\n",
            "\u001b[33m----------------------------------\u001b[39m\n"
          ]
        },
        {
          "name": "stderr",
          "output_type": "stream",
          "text": [
            " 94%|█████████▍| 47/50 [02:49<00:07,  2.36s/it]"
          ]
        },
        {
          "name": "stdout",
          "output_type": "stream",
          "text": [
            "Index 46: \u001b[31mFail 🧐 \u001b[0m\n",
            "dataset index: 3947\n",
            "Confidence: 22.45\n",
            "NLL: 84.88\n",
            "Failed Query: \u001b[40mTesting didn #39;t curtail homers It #39;s time to fess up. We were among the hordes of skeptics (sheep?) who boldly proclaimed drug-testing would blow a hole in the number of runs and home runs we #39;d see in 2004.\u001b[49m\n",
            "Label : \u001b[36m Sports \u001b[39m Pred : \u001b[35m Business \u001b[39m\n",
            "\u001b[33m----------------------------------\u001b[39m\n"
          ]
        },
        {
          "name": "stderr",
          "output_type": "stream",
          "text": [
            " 96%|█████████▌| 48/50 [02:59<00:09,  4.54s/it]"
          ]
        },
        {
          "name": "stdout",
          "output_type": "stream",
          "text": [
            "Index 47: \u001b[31mFail 🧐 \u001b[0m\n",
            "dataset index: 4268\n",
            "Confidence: 29.39\n",
            "NLL: inf\n",
            "Failed Query: \u001b[40mStrong Server, PC Sales Boost Microsoft Revenue The company's earnings beat Wall Street expectations.\u001b[49m\n",
            "Label : \u001b[36m Sci/Tech \u001b[39m Pred : \u001b[35m Business \u001b[39m\n",
            "\u001b[33m----------------------------------\u001b[39m\n"
          ]
        },
        {
          "name": "stderr",
          "output_type": "stream",
          "text": [
            " 98%|█████████▊| 49/50 [03:01<00:03,  3.87s/it]"
          ]
        },
        {
          "name": "stdout",
          "output_type": "stream",
          "text": [
            "Index 48: \u001b[31mFail 🧐 \u001b[0m\n",
            "dataset index: 5327\n",
            "Confidence: 21.78\n",
            "NLL: 77.19\n",
            "Failed Query: \u001b[40mOU puts exclamation point on season No apologies, no justifications, no excuses necessary. Oklahoma isn #39;t slinking into the BCS championship game through the back door this year.\u001b[49m\n",
            "Label : \u001b[36m Sports \u001b[39m Pred : \u001b[35m Business \u001b[39m\n",
            "\u001b[33m----------------------------------\u001b[39m\n"
          ]
        },
        {
          "name": "stderr",
          "output_type": "stream",
          "text": [
            "100%|██████████| 50/50 [03:04<00:00,  3.68s/it]"
          ]
        },
        {
          "name": "stdout",
          "output_type": "stream",
          "text": [
            "Index 49: \u001b[31mFail 🧐 \u001b[0m\n",
            "dataset index: 3772\n",
            "Confidence: 25.43\n",
            "NLL: 81.20\n",
            "Failed Query: \u001b[40mUS moves on to final round The United States national soccer team revealed both its immediate and long-term future in a 6-0 victory over Panama last night.\u001b[49m\n",
            "Label : \u001b[36m Sports \u001b[39m Pred : \u001b[35m Business \u001b[39m\n",
            "\u001b[31m>>>>>>>>>>>>>>>>>>>>>>>>>>>>>>>>>>>>>>>>>>>>>>\u001b[39m\n",
            "Total Correct Predictions: \u001b[1m11 (22.00%)\u001b[0m\n",
            "\u001b[31m>>>>>>>>>>>>>>>>>>>>>>>>>>>>>>>>>>>>>>>>>>>>>>\u001b[39m\n"
          ]
        },
        {
          "name": "stderr",
          "output_type": "stream",
          "text": [
            "\n"
          ]
        }
      ],
      "source": [
        "import numpy as np\n",
        "from tqdm import tqdm\n",
        "from colorama import Fore, Style, Back\n",
        "import torch.nn.functional as F\n",
        "import humanize\n",
        "import math\n",
        "import random\n",
        "\n",
        "\n",
        "def calculate_nll(probs_softmax, label):\n",
        "    return -torch.log(probs_softmax[label])\n",
        "\n",
        "\n",
        "def get_confidence(probs_softmax):\n",
        "    top_two_probs, _ = torch.topk(probs_softmax, 2)\n",
        "    # 가장 높은 확률을 두 번째로 높은 확률로 나누어 비율을 계산\n",
        "    return math.log10(top_two_probs[0] / top_two_probs[1])\n",
        "\n",
        "\n",
        "total = 50\n",
        "n_corrects = 0\n",
        "\n",
        "# 0부터 7600 사이에서 겹치지 않게 50개의 숫자 뽑기\n",
        "random_numbers = random.sample(range(7601), total)\n",
        "\n",
        "for i in tqdm(range(total)):\n",
        "\n",
        "    print(f\"{Fore.YELLOW}----------------------------------{Fore.RESET}\")\n",
        "    text = tokenized_news_ds[\"test\"][random_numbers[i]][\"text\"]\n",
        "    label = tokenized_news_ds[\"test\"][random_numbers[i]][\"label\"]\n",
        "    probs = zero_shot_classification(\n",
        "        text,\n",
        "        task_description,\n",
        "        label_sentences,\n",
        "    )\n",
        "\n",
        "    probs_tensor = torch.tensor(probs)\n",
        "    probs_softmax = F.softmax(probs_tensor, dim=0)\n",
        "\n",
        "    pred = np.argmax(np.array(probs))\n",
        "    if pred == label:\n",
        "        n_corrects += 1\n",
        "        tqdm.write(f\"Index {i}: {Fore.GREEN}Success 🎉 {Style.RESET_ALL} \")\n",
        "        print(f\"dataset index: {random_numbers[i]}\")\n",
        "        print(f\"Confidence: {get_confidence(probs_softmax):.2f}\")\n",
        "        print(f\"NLL: {calculate_nll(probs_softmax,label):.2f}\")\n",
        "    else:\n",
        "        tqdm.write(f\"Index {i}: {Fore.RED}Fail 🧐 {Style.RESET_ALL}\")\n",
        "        print(f\"dataset index: {random_numbers[i]}\")\n",
        "        print(f\"Confidence: {get_confidence(probs_softmax):.2f}\")\n",
        "        print(f\"NLL: {calculate_nll(probs_softmax,label):.2f}\")\n",
        "        print(f\"Failed Query: {Back.BLACK}{text}{Back.RESET}\")\n",
        "        label, pred = label_map[label], label_map[pred]\n",
        "        print(\n",
        "            f\"Label : {Fore.CYAN} {label} {Fore.RESET} Pred : {Fore.MAGENTA} {pred} {Fore.RESET}\"\n",
        "        )\n",
        "\n",
        "print(f\"{Fore.RED}>>>>>>>>>>>>>>>>>>>>>>>>>>>>>>>>>>>>>>>>>>>>>>{Fore.RESET}\")\n",
        "print(\n",
        "    f\"Total Correct Predictions: {Style.BRIGHT}{n_corrects} ({n_corrects/total:.2%}){Style.RESET_ALL}\"\n",
        ")\n",
        "print(f\"{Fore.RED}>>>>>>>>>>>>>>>>>>>>>>>>>>>>>>>>>>>>>>>>>>>>>>{Fore.RESET}\")"
      ]
    },
    {
      "cell_type": "code",
      "execution_count": 32,
      "metadata": {},
      "outputs": [
        {
          "data": {
            "text/plain": [
              "['Giddy Phelps Touches Gold for First Time Michael Phelps won the gold medal in the 400 individual medley and set a world record in a time of 4 minutes 8.26 seconds.',\n",
              " \"Tougher rules won't soften Law's game FOXBOROUGH -- Looking at his ridiculously developed upper body, with huge biceps and hardly an ounce of fat, it's easy to see why Ty Law, arguably the best cornerback in football, chooses physical play over finesse. That's not to imply that he's lacking a finesse component, because he can shut down his side of the field much as Deion Sanders ...\",\n",
              " \"Shoppach doesn't appear ready to hit the next level With the weeks dwindling until Jason Varitek enters free agency, the Red Sox continue to carefully monitor Kelly Shoppach , their catcher of the future, in his climb toward the majors. The Sox like most of what they have seen at Triple A Pawtucket from Shoppach, though it remains highly uncertain whether he can make the adjustments at the plate ...\",\n",
              " \"Mighty Ortiz makes sure Sox can rest easy Just imagine what David Ortiz could do on a good night's rest. Ortiz spent the night before last with his baby boy, D'Angelo, who is barely 1 month old. He had planned on attending the Red Sox' Family Day at Fenway Park yesterday morning, but he had to sleep in. After all, Ortiz had a son at home, and he ...\",\n",
              " \"They've caught his eye In  quot;helping themselves, quot; Ricky Bryant, Chas Gessner, Michael Jennings, and David Patten did nothing Friday night to make Bill Belichick's decision on what to do with his receivers any easier.\",\n",
              " 'Indians Mount Charge The Cleveland Indians pulled within one game of the AL Central lead by beating the Minnesota Twins, 7-1, Saturday night with home runs by Travis Hafner and Victor Martinez.',\n",
              " \"Sister of man who died in Vancouver police custody slams chief (Canadian Press) Canadian Press - VANCOUVER (CP) - The sister of a man who died after a violent confrontation with police has demanded the city's chief constable resign for defending the officer involved.\",\n",
              " 'Man Sought  #36;50M From McGreevey, Aides Say (AP) AP - The man who claims Gov. James E. McGreevey sexually harassed him was pushing for a cash settlement of up to  #36;50 million before the governor decided to announce that he was gay and had an extramarital affair, sources told The Associated Press.',\n",
              " 'Explosions Echo Throughout Najaf NAJAF, Iraq - Explosions and gunfire rattled through the city of Najaf as U.S. troops in armored vehicles and tanks rolled back into the streets here Sunday, a day after the collapse of talks - and with them a temporary cease-fire - intended to end the fighting in this holy city...',\n",
              " 'Frail Pope Celebrates Mass at Lourdes LOURDES, France - A frail Pope John Paul II, breathing heavily and gasping at times, celebrated an open-air Mass on Sunday for several hundred thousand pilgrims, many in wheelchairs, at a shrine to the Virgin Mary that is associated with miraculous cures.    At one point he said \"help me\" in Polish while struggling through his homily in French...',\n",
              " \"Venezuela Prepares for Chavez Recall Vote Supporters and rivals warn of possible fraud; government says Chavez's defeat could produce turmoil in world oil market.\",\n",
              " '1994 Law Designed to Preserve Guard Jobs (AP) AP - A 1994 law strengthened job protections for National Guard and Reserve troops called to active duty. Here are major provisions of the Uniformed Services Employment and Reemployment Rights Act (USERRA).',\n",
              " 'Iran Warns Its Missiles Can Hit Anywhere in Israel  TEHRAN (Reuters) - A senior Iranian military official said  Sunday Israel and the United States would not dare attack Iran  since it could strike back anywhere in Israel with its latest  missiles, news agencies reported.',\n",
              " \"Afghan Army Dispatched to Calm Violence KABUL, Afghanistan - Government troops intervened in Afghanistan's latest outbreak of deadly fighting between warlords, flying from the capital to the far west on U.S. and NATO airplanes to retake an air base contested in the violence, officials said Sunday...\",\n",
              " 'Johnson Helps D-Backs End Nine-Game Slide (AP) AP - Randy Johnson took a four-hitter into the ninth inning to help the Arizona Diamondbacks end a nine-game losing streak Sunday, beating Steve Trachsel and the New York Mets 2-0.',\n",
              " 'Retailers Vie for Back-To-School Buyers (Reuters) Reuters - Apparel retailers are hoping their\\\\back-to-school fashions will make the grade among\\\\style-conscious teens and young adults this fall, but it could\\\\be a tough sell, with students and parents keeping a tighter\\\\hold on their wallets.',\n",
              " \"Politics an Afterthought Amid Hurricane (AP) AP - If Hurricane Charley had struck three years ago, President Bush's tour through the wreckage of this coastal city would have been just the sort of post-disaster visit that other presidents have made to the scenes of storms, earthquakes, floods and fires.\",\n",
              " \"Spam suspension hits Sohu.com shares (FT.com) FT.com - Shares in Sohu.com, a leading US-listed Chinese internet portal, fell more than 10 per cent on Friday after China's biggest mobile phone network operator imposed a one-year suspension on its multimedia messaging services because of customers being sent spam.\",\n",
              " \"Erstad's Double Lifts Angels to Win (AP) AP - Darin Erstad doubled in the go-ahead run in the eighth inning, lifting the Anaheim Angels to a 3-2 victory over the Detroit Tigers on Sunday. The win pulled Anaheim within a percentage point of Boston and Texas in the AL wild-card race.\",\n",
              " \"Drew Out of Braves' Lineup After Injury (AP) AP - Outfielder J.D. Drew missed the Atlanta Braves' game against the St. Louis Cardinals on Sunday night with a sore right quadriceps.\",\n",
              " 'Venezuelans Flood Polls, Voting Extended  CARACAS, Venezuela (Reuters) - Venezuelans voted in huge  numbers on Sunday in a historic referendum on whether to recall  left-wing President Hugo Chavez and electoral authorities  prolonged voting well into the night.',\n",
              " \"Dell Exits Low-End China Consumer PC Market  HONG KONG (Reuters) - Dell Inc. &lt;DELL.O&gt;, the world's  largest PC maker, said on Monday it has left the low-end  consumer PC market in China and cut its overall growth target  for the country this year due to stiff competition in the  segment.\",\n",
              " 'China Says Taiwan Spy Also Operated in U.S. - Media  BEIJING (Reuters) - Beijing on Monday accused a  Chinese-American arrested for spying for Taiwan of building an  espionage network in the United States, and said he could go on  trial very soon.',\n",
              " 'Another Major Non-Factor Another major, another disappointment for Tiger Woods, the No. 1 ranked player in the world who has not won a major championship since his triumph at the 2002 U.S. Open.']"
            ]
          },
          "execution_count": 32,
          "metadata": {},
          "output_type": "execute_result"
        }
      ],
      "source": [
        "# for data in news_ds[\"test\"]:\n",
        "#     print(data)\n",
        "[data[\"text\"] for data in news_ds[\"test\"]][26:50]"
      ]
    },
    {
      "cell_type": "code",
      "execution_count": 34,
      "metadata": {},
      "outputs": [
        {
          "data": {
            "text/plain": [
              "{'text': \"Fears for T N pension after talks Unions representing workers at Turner   Newall say they are 'disappointed' after talks with stricken parent firm Federal Mogul.\",\n",
              " 'label': 2}"
            ]
          },
          "execution_count": 34,
          "metadata": {},
          "output_type": "execute_result"
        }
      ],
      "source": [
        "news_ds[\"test\"][0]"
      ]
    },
    {
      "cell_type": "code",
      "execution_count": null,
      "metadata": {},
      "outputs": [],
      "source": []
    },
    {
      "cell_type": "markdown",
      "metadata": {},
      "source": [
        "---\n"
      ]
    },
    {
      "cell_type": "markdown",
      "metadata": {
        "id": "QpzqKZIGiAJf"
      },
      "source": [
        "# 실습: Zero-shot Classification\n",
        "\n",
        "이번 실습에서는 open LLM을 가지고 zero-shot classification을 해봅니다. 먼저 필요한 library들을 설치합시다.\n"
      ]
    },
    {
      "cell_type": "markdown",
      "metadata": {},
      "source": []
    },
    {
      "cell_type": "markdown",
      "metadata": {
        "id": "0OTiwRFCiOLh"
      },
      "source": [
        "그 다음 Gemma-2B를 사용하기 위해 다음과 같은 작업을 진행합니다:\n",
        "\n",
        "1. huggingface.co 계정 만들고 로그인하기\n",
        "2. https://www.kaggle.com/models/google/gemma/license/consent 에서 Gemma license 동의하기\n",
        "3. 홈 화면으로 돌아와, `Profile > Settings > Access Tokens` 메뉴로 들어와 \"Write\" type의 token 생성하기\n",
        "4. 생성한 토큰을 아래 \"HF TOKEN\"에 불여넣고 셀을 실행하기.\n"
      ]
    },
    {
      "cell_type": "code",
      "execution_count": null,
      "metadata": {
        "colab": {
          "base_uri": "https://localhost:8080/"
        },
        "id": "OR-WLBupSWge",
        "outputId": "754bbb9b-e5ee-49cc-d911-c31665857bcc"
      },
      "outputs": [],
      "source": [
        "import os\n",
        "from dotenv import load_dotenv\n",
        "\n",
        "load_dotenv()\n",
        "HF_TOKEN = os.environ.get(\"HF_TOKEN\")\n",
        "\n",
        "from huggingface_hub import login\n",
        "\n",
        "login(HF_TOKEN)"
      ]
    },
    {
      "cell_type": "code",
      "execution_count": null,
      "metadata": {
        "colab": {
          "base_uri": "https://localhost:8080/",
          "height": 239,
          "referenced_widgets": [
            "31c9f3bb8337443ba261f703deb60bee",
            "0e3f7db5454b43df8378482ade8ae6cb",
            "20ea22fbd6de4a85bcf95430dbab723a",
            "097145238cb44bb5b1ef8ee33780bca5",
            "e13d437ed25f4fe1909438ab06b63430",
            "3515005acafa4ba4bb31b3f4a140526c",
            "b0de599f252947b3ab2636a3fb757a5a",
            "db064ed95c104ed78132946104a85adb",
            "3fa9855f02ca49a6b62cfbd26132f11d",
            "14de9443213346a2b1acc6c9a555be83",
            "006333234eba4b4da24226a01c5b2746"
          ]
        },
        "id": "9tnUVYfgSfiD",
        "outputId": "a8a0c468-7ed6-4755-c2c3-6c0c1f0b42fd"
      },
      "outputs": [],
      "source": [
        "from transformers import AutoTokenizer, AutoModelForCausalLM\n",
        "\n",
        "tokenizer = AutoTokenizer.from_pretrained(\"google/gemma-2b\")\n",
        "model = AutoModelForCausalLM.from_pretrained(\"google/gemma-2b\", device_map=\"auto\")"
      ]
    },
    {
      "cell_type": "markdown",
      "metadata": {
        "id": "ODVS4wNyi_It"
      },
      "source": [
        "이번에는 Gemma-2B를 가지고 간단한 text 생성을 해봅시다.\n",
        "\"What is your name?\" 이라는 text를 넣었을 때 어떤 text가 생성되는지 살펴봅시다.\n"
      ]
    },
    {
      "cell_type": "code",
      "execution_count": null,
      "metadata": {},
      "outputs": [],
      "source": [
        "input_text = \"What is your name?\"\n",
        "input_ids = tokenizer(input_text, return_tensors=\"pt\").to(\"mps\")\n",
        "input_ids"
      ]
    },
    {
      "cell_type": "code",
      "execution_count": null,
      "metadata": {
        "colab": {
          "base_uri": "https://localhost:8080/"
        },
        "id": "bDV0owydSlve",
        "outputId": "c117571d-10ec-4dcc-adfc-62276e874ed2"
      },
      "outputs": [],
      "source": [
        "input_text = \"What is your name?\"\n",
        "input_ids = tokenizer(input_text, return_tensors=\"pt\").to(\"mps\")\n",
        "outputs = model.generate(**input_ids)\n",
        "print(tokenizer.decode(outputs[0]))"
      ]
    },
    {
      "cell_type": "code",
      "execution_count": null,
      "metadata": {},
      "outputs": [],
      "source": [
        "tokens = input_ids[\"input_ids\"]\n",
        "print(tokens)\n",
        "input_ids"
      ]
    },
    {
      "cell_type": "markdown",
      "metadata": {
        "id": "Prp1S51GjH2R"
      },
      "source": [
        "2B의 작은 LLM이라 질좋은 답변이 나오지 않는 것을 알 수 있습니다.\n",
        "이번에는 입력으로 넣어준 token들의 logit을 계산해봅시다.\n"
      ]
    },
    {
      "cell_type": "code",
      "execution_count": null,
      "metadata": {
        "colab": {
          "base_uri": "https://localhost:8080/"
        },
        "id": "BV23vDvvS95o",
        "outputId": "2cb41bae-534f-486c-f39e-eede1dcc475e"
      },
      "outputs": [],
      "source": [
        "tokens = input_ids[\"input_ids\"]\n",
        "print(tokens)\n",
        "\n",
        "logits = model(**input_ids).logits\n",
        "for i in range(tokens.shape[-1]):\n",
        "    token = tokens[0, i].item()\n",
        "    print(logits[0, i, token])"
      ]
    },
    {
      "cell_type": "markdown",
      "metadata": {
        "id": "Lc_Wu4g-jW-M"
      },
      "source": [
        "위와 같이 모델 출력의 `.logits`을 통해 token들의 logit을 알 수 있습니다.\n",
        "Logit은 높을 수록 token이 나올 확률이 높다는 뜻입니다.\n",
        "\n",
        "이번에는 logit 계산을 통해 zero-shot classification을 구현해보도록 하겠습니다.\n"
      ]
    },
    {
      "cell_type": "code",
      "execution_count": 8,
      "metadata": {
        "id": "80DYDWX_TGW4"
      },
      "outputs": [],
      "source": [
        "import torch\n",
        "\n",
        "\n",
        "def zero_shot_classification(\n",
        "    text, task_description, labels\n",
        "):  # text는 주어진 입력, task_description은 task에 대한 설명, labels은 class들을 text로 변환한 결과입니다.\n",
        "    text_ids = tokenizer(task_description + text, return_tensors=\"pt\").to(\n",
        "        \"mps\"\n",
        "    )  # 먼저 task_description과 text를 이어붙인 후, tokenize합니다.\n",
        "\n",
        "    probs = []\n",
        "\n",
        "    for label in labels:\n",
        "        # 그 다음 각 text화된 label들을 tokenize하고 입력에 이어붙인 후, Gemma-2B에 넣어줍니다.\n",
        "        label_ids = tokenizer(label, return_tensors=\"pt\").to(\"mps\")\n",
        "        n_label_tokens = label_ids[\"input_ids\"].shape[-1] - 1\n",
        "        # text로 변환한 label의 token 수를 계산합니다.\n",
        "        input_ids = {\n",
        "            \"input_ids\": torch.concatenate(\n",
        "                [text_ids[\"input_ids\"], label_ids[\"input_ids\"][:, 1:]], axis=-1\n",
        "            ),  # concatenate 명령어를 통해 이어붙이는 모습입니다.\n",
        "            \"attention_mask\": torch.concatenate(\n",
        "                [text_ids[\"attention_mask\"], label_ids[\"attention_mask\"][:, 1:]],\n",
        "                axis=-1,\n",
        "            ),\n",
        "        }\n",
        "\n",
        "        logits = model(**input_ids).logits  # Logit을 계산한 모습입니다.\n",
        "        prob = 0\n",
        "        n_total = input_ids[\"input_ids\"].shape[-1]\n",
        "        for i in range(\n",
        "            n_label_tokens, 0, -1\n",
        "        ):  # 일반적으로 text로 변환한 label은 여러 token으로 이루어져있습니다. 이러한 label에 대한 logit은 구성하는 모든 token들의 logit들의 합으로 정의합니다.\n",
        "            token = label_ids[\"input_ids\"][0, i].item()\n",
        "            prob += logits[0, n_total - i, token].item()\n",
        "        probs.append(prob)\n",
        "\n",
        "        del input_ids\n",
        "        del logits\n",
        "        torch.cuda.empty_cache()  # 위의 del과 empty_cache() 명령어를 통해 GPU를 제때 할당해제 해줍니다. 만약 GPU가 여유롭다면 지워주시는게 속도적으로 이득입니다.\n",
        "\n",
        "    return probs"
      ]
    },
    {
      "cell_type": "markdown",
      "metadata": {
        "id": "59oGhRjXkwbD"
      },
      "source": [
        "아래는 실제로 zero-shot classification을 해본 결과입니다.\n"
      ]
    },
    {
      "cell_type": "code",
      "execution_count": null,
      "metadata": {
        "colab": {
          "base_uri": "https://localhost:8080/"
        },
        "id": "qmRrHyEJTPXC",
        "outputId": "e3a4dd1f-5c04-458e-d1a8-b2e88203136f"
      },
      "outputs": [],
      "source": [
        "probs = zero_shot_classification(\n",
        "    \"I am happy!\", \"Is the sentence positive or negative?: \", [\"positive\", \"negative\"]\n",
        ")\n",
        "print(probs)"
      ]
    },
    {
      "cell_type": "markdown",
      "metadata": {
        "id": "ORK2bdfjk71e"
      },
      "source": [
        "보시다시피 우리는 Gemma를 별도로 학습하지 않았음에도 불구하고 주어진 문장이 긍정적이라는 것을 정확하게 예측하고 있습니다.\n",
        "\n",
        "다음은 영화 리뷰 감정 분석 task에 적용해봅시다.\n",
        "먼저 data를 불러옵니다.\n"
      ]
    },
    {
      "cell_type": "code",
      "execution_count": null,
      "metadata": {
        "colab": {
          "base_uri": "https://localhost:8080/",
          "height": 49,
          "referenced_widgets": [
            "2379a0ef99054d73ab658e8dcf7a05af",
            "ea46f6de1fec4cd18ccd6659e37fa556",
            "f8dc077abc2b49aa9b67f7c6f77c42e0",
            "3bbd3adf58c248ea99587be77c306043",
            "fafd2f415b9a4c6799a431023d3689a9",
            "76e62808134346949ef3b047486beb6f",
            "e94ec0e1574a4a93ac885256005870b9",
            "f90fb938a7e84075a852b5419d983d34",
            "f6a8d4f6823e48f4a7eb5e1ea9db03ca",
            "5d04a65826e74808b09d55412c8a7be1",
            "a95543073c7242fd949ec78b03905494"
          ]
        },
        "id": "vJNWmHKGTRRK",
        "outputId": "fd222bb3-4529-4e99-dcf9-1244bf376295"
      },
      "outputs": [],
      "source": [
        "from datasets import load_dataset\n",
        "\n",
        "\n",
        "imdb = load_dataset(\"imdb\")\n",
        "\n",
        "\n",
        "def preprocess_function(examples):\n",
        "    return tokenizer(examples[\"text\"], max_length=200, truncation=True)\n",
        "\n",
        "\n",
        "tokenized_imdb = imdb.map(preprocess_function, batched=True)"
      ]
    },
    {
      "cell_type": "markdown",
      "metadata": {
        "id": "fctUKygElHtT"
      },
      "source": [
        "그리고 `test` data에서 50개의 영화 리뷰에 대해 예측하는 코드는 다음과 같습니다.\n"
      ]
    },
    {
      "cell_type": "code",
      "execution_count": null,
      "metadata": {
        "colab": {
          "base_uri": "https://localhost:8080/"
        },
        "id": "4-NY-YG4ToT9",
        "outputId": "59bf8581-13fb-4ee8-a7a5-a8cd2b1f0d75"
      },
      "outputs": [],
      "source": [
        "import numpy as np\n",
        "from tqdm import tqdm\n",
        "\n",
        "\n",
        "n_corrects = 0\n",
        "for i in tqdm(range(50)):\n",
        "    text = tokenized_imdb[\"test\"][i][\"text\"]\n",
        "    label = tokenized_imdb[\"test\"][i][\"label\"]\n",
        "    probs = zero_shot_classification(\n",
        "        text,\n",
        "        \"A movie review is given. Decide that the movie review is positive or negative: \",\n",
        "        labels=[\"Answer: negative.\", \"Answer: positive.\"],\n",
        "    )\n",
        "\n",
        "    pred = np.argmax(np.array(probs))\n",
        "    if pred == label:\n",
        "        n_corrects += 1\n",
        "\n",
        "print(n_corrects)"
      ]
    },
    {
      "cell_type": "code",
      "execution_count": null,
      "metadata": {},
      "outputs": [],
      "source": [
        "text = tokenized_imdb[\"test\"][i][\"text\"]\n",
        "text"
      ]
    },
    {
      "cell_type": "code",
      "execution_count": null,
      "metadata": {},
      "outputs": [],
      "source": [
        "label = tokenized_imdb[\"test\"][i][\"label\"]\n",
        "label"
      ]
    },
    {
      "cell_type": "markdown",
      "metadata": {
        "id": "U5Epj6CMlbeE"
      },
      "source": [
        "보시다시피 정확도 88%로, 매우 높은 성능을 보이는 것을 알 수 있습니다.\n"
      ]
    },
    {
      "cell_type": "code",
      "execution_count": null,
      "metadata": {
        "id": "4_AR-gf2UOTn"
      },
      "outputs": [],
      "source": []
    }
  ],
  "metadata": {
    "accelerator": "GPU",
    "colab": {
      "gpuType": "T4",
      "provenance": []
    },
    "kernelspec": {
      "display_name": "week5-szymwyO9-py3.12",
      "language": "python",
      "name": "python3"
    },
    "language_info": {
      "codemirror_mode": {
        "name": "ipython",
        "version": 3
      },
      "file_extension": ".py",
      "mimetype": "text/x-python",
      "name": "python",
      "nbconvert_exporter": "python",
      "pygments_lexer": "ipython3",
      "version": "3.12.6"
    },
    "widgets": {
      "application/vnd.jupyter.widget-state+json": {
        "006333234eba4b4da24226a01c5b2746": {
          "model_module": "@jupyter-widgets/controls",
          "model_module_version": "1.5.0",
          "model_name": "DescriptionStyleModel",
          "state": {
            "_model_module": "@jupyter-widgets/controls",
            "_model_module_version": "1.5.0",
            "_model_name": "DescriptionStyleModel",
            "_view_count": null,
            "_view_module": "@jupyter-widgets/base",
            "_view_module_version": "1.2.0",
            "_view_name": "StyleView",
            "description_width": ""
          }
        },
        "097145238cb44bb5b1ef8ee33780bca5": {
          "model_module": "@jupyter-widgets/controls",
          "model_module_version": "1.5.0",
          "model_name": "HTMLModel",
          "state": {
            "_dom_classes": [],
            "_model_module": "@jupyter-widgets/controls",
            "_model_module_version": "1.5.0",
            "_model_name": "HTMLModel",
            "_view_count": null,
            "_view_module": "@jupyter-widgets/controls",
            "_view_module_version": "1.5.0",
            "_view_name": "HTMLView",
            "description": "",
            "description_tooltip": null,
            "layout": "IPY_MODEL_14de9443213346a2b1acc6c9a555be83",
            "placeholder": "​",
            "style": "IPY_MODEL_006333234eba4b4da24226a01c5b2746",
            "value": " 2/2 [00:17&lt;00:00,  7.45s/it]"
          }
        },
        "0e3f7db5454b43df8378482ade8ae6cb": {
          "model_module": "@jupyter-widgets/controls",
          "model_module_version": "1.5.0",
          "model_name": "HTMLModel",
          "state": {
            "_dom_classes": [],
            "_model_module": "@jupyter-widgets/controls",
            "_model_module_version": "1.5.0",
            "_model_name": "HTMLModel",
            "_view_count": null,
            "_view_module": "@jupyter-widgets/controls",
            "_view_module_version": "1.5.0",
            "_view_name": "HTMLView",
            "description": "",
            "description_tooltip": null,
            "layout": "IPY_MODEL_3515005acafa4ba4bb31b3f4a140526c",
            "placeholder": "​",
            "style": "IPY_MODEL_b0de599f252947b3ab2636a3fb757a5a",
            "value": "Loading checkpoint shards: 100%"
          }
        },
        "14de9443213346a2b1acc6c9a555be83": {
          "model_module": "@jupyter-widgets/base",
          "model_module_version": "1.2.0",
          "model_name": "LayoutModel",
          "state": {
            "_model_module": "@jupyter-widgets/base",
            "_model_module_version": "1.2.0",
            "_model_name": "LayoutModel",
            "_view_count": null,
            "_view_module": "@jupyter-widgets/base",
            "_view_module_version": "1.2.0",
            "_view_name": "LayoutView",
            "align_content": null,
            "align_items": null,
            "align_self": null,
            "border": null,
            "bottom": null,
            "display": null,
            "flex": null,
            "flex_flow": null,
            "grid_area": null,
            "grid_auto_columns": null,
            "grid_auto_flow": null,
            "grid_auto_rows": null,
            "grid_column": null,
            "grid_gap": null,
            "grid_row": null,
            "grid_template_areas": null,
            "grid_template_columns": null,
            "grid_template_rows": null,
            "height": null,
            "justify_content": null,
            "justify_items": null,
            "left": null,
            "margin": null,
            "max_height": null,
            "max_width": null,
            "min_height": null,
            "min_width": null,
            "object_fit": null,
            "object_position": null,
            "order": null,
            "overflow": null,
            "overflow_x": null,
            "overflow_y": null,
            "padding": null,
            "right": null,
            "top": null,
            "visibility": null,
            "width": null
          }
        },
        "20ea22fbd6de4a85bcf95430dbab723a": {
          "model_module": "@jupyter-widgets/controls",
          "model_module_version": "1.5.0",
          "model_name": "FloatProgressModel",
          "state": {
            "_dom_classes": [],
            "_model_module": "@jupyter-widgets/controls",
            "_model_module_version": "1.5.0",
            "_model_name": "FloatProgressModel",
            "_view_count": null,
            "_view_module": "@jupyter-widgets/controls",
            "_view_module_version": "1.5.0",
            "_view_name": "ProgressView",
            "bar_style": "success",
            "description": "",
            "description_tooltip": null,
            "layout": "IPY_MODEL_db064ed95c104ed78132946104a85adb",
            "max": 2,
            "min": 0,
            "orientation": "horizontal",
            "style": "IPY_MODEL_3fa9855f02ca49a6b62cfbd26132f11d",
            "value": 2
          }
        },
        "2379a0ef99054d73ab658e8dcf7a05af": {
          "model_module": "@jupyter-widgets/controls",
          "model_module_version": "1.5.0",
          "model_name": "HBoxModel",
          "state": {
            "_dom_classes": [],
            "_model_module": "@jupyter-widgets/controls",
            "_model_module_version": "1.5.0",
            "_model_name": "HBoxModel",
            "_view_count": null,
            "_view_module": "@jupyter-widgets/controls",
            "_view_module_version": "1.5.0",
            "_view_name": "HBoxView",
            "box_style": "",
            "children": [
              "IPY_MODEL_ea46f6de1fec4cd18ccd6659e37fa556",
              "IPY_MODEL_f8dc077abc2b49aa9b67f7c6f77c42e0",
              "IPY_MODEL_3bbd3adf58c248ea99587be77c306043"
            ],
            "layout": "IPY_MODEL_fafd2f415b9a4c6799a431023d3689a9"
          }
        },
        "31c9f3bb8337443ba261f703deb60bee": {
          "model_module": "@jupyter-widgets/controls",
          "model_module_version": "1.5.0",
          "model_name": "HBoxModel",
          "state": {
            "_dom_classes": [],
            "_model_module": "@jupyter-widgets/controls",
            "_model_module_version": "1.5.0",
            "_model_name": "HBoxModel",
            "_view_count": null,
            "_view_module": "@jupyter-widgets/controls",
            "_view_module_version": "1.5.0",
            "_view_name": "HBoxView",
            "box_style": "",
            "children": [
              "IPY_MODEL_0e3f7db5454b43df8378482ade8ae6cb",
              "IPY_MODEL_20ea22fbd6de4a85bcf95430dbab723a",
              "IPY_MODEL_097145238cb44bb5b1ef8ee33780bca5"
            ],
            "layout": "IPY_MODEL_e13d437ed25f4fe1909438ab06b63430"
          }
        },
        "3515005acafa4ba4bb31b3f4a140526c": {
          "model_module": "@jupyter-widgets/base",
          "model_module_version": "1.2.0",
          "model_name": "LayoutModel",
          "state": {
            "_model_module": "@jupyter-widgets/base",
            "_model_module_version": "1.2.0",
            "_model_name": "LayoutModel",
            "_view_count": null,
            "_view_module": "@jupyter-widgets/base",
            "_view_module_version": "1.2.0",
            "_view_name": "LayoutView",
            "align_content": null,
            "align_items": null,
            "align_self": null,
            "border": null,
            "bottom": null,
            "display": null,
            "flex": null,
            "flex_flow": null,
            "grid_area": null,
            "grid_auto_columns": null,
            "grid_auto_flow": null,
            "grid_auto_rows": null,
            "grid_column": null,
            "grid_gap": null,
            "grid_row": null,
            "grid_template_areas": null,
            "grid_template_columns": null,
            "grid_template_rows": null,
            "height": null,
            "justify_content": null,
            "justify_items": null,
            "left": null,
            "margin": null,
            "max_height": null,
            "max_width": null,
            "min_height": null,
            "min_width": null,
            "object_fit": null,
            "object_position": null,
            "order": null,
            "overflow": null,
            "overflow_x": null,
            "overflow_y": null,
            "padding": null,
            "right": null,
            "top": null,
            "visibility": null,
            "width": null
          }
        },
        "3bbd3adf58c248ea99587be77c306043": {
          "model_module": "@jupyter-widgets/controls",
          "model_module_version": "1.5.0",
          "model_name": "HTMLModel",
          "state": {
            "_dom_classes": [],
            "_model_module": "@jupyter-widgets/controls",
            "_model_module_version": "1.5.0",
            "_model_name": "HTMLModel",
            "_view_count": null,
            "_view_module": "@jupyter-widgets/controls",
            "_view_module_version": "1.5.0",
            "_view_name": "HTMLView",
            "description": "",
            "description_tooltip": null,
            "layout": "IPY_MODEL_5d04a65826e74808b09d55412c8a7be1",
            "placeholder": "​",
            "style": "IPY_MODEL_a95543073c7242fd949ec78b03905494",
            "value": " 25000/25000 [00:20&lt;00:00, 939.01 examples/s]"
          }
        },
        "3fa9855f02ca49a6b62cfbd26132f11d": {
          "model_module": "@jupyter-widgets/controls",
          "model_module_version": "1.5.0",
          "model_name": "ProgressStyleModel",
          "state": {
            "_model_module": "@jupyter-widgets/controls",
            "_model_module_version": "1.5.0",
            "_model_name": "ProgressStyleModel",
            "_view_count": null,
            "_view_module": "@jupyter-widgets/base",
            "_view_module_version": "1.2.0",
            "_view_name": "StyleView",
            "bar_color": null,
            "description_width": ""
          }
        },
        "5d04a65826e74808b09d55412c8a7be1": {
          "model_module": "@jupyter-widgets/base",
          "model_module_version": "1.2.0",
          "model_name": "LayoutModel",
          "state": {
            "_model_module": "@jupyter-widgets/base",
            "_model_module_version": "1.2.0",
            "_model_name": "LayoutModel",
            "_view_count": null,
            "_view_module": "@jupyter-widgets/base",
            "_view_module_version": "1.2.0",
            "_view_name": "LayoutView",
            "align_content": null,
            "align_items": null,
            "align_self": null,
            "border": null,
            "bottom": null,
            "display": null,
            "flex": null,
            "flex_flow": null,
            "grid_area": null,
            "grid_auto_columns": null,
            "grid_auto_flow": null,
            "grid_auto_rows": null,
            "grid_column": null,
            "grid_gap": null,
            "grid_row": null,
            "grid_template_areas": null,
            "grid_template_columns": null,
            "grid_template_rows": null,
            "height": null,
            "justify_content": null,
            "justify_items": null,
            "left": null,
            "margin": null,
            "max_height": null,
            "max_width": null,
            "min_height": null,
            "min_width": null,
            "object_fit": null,
            "object_position": null,
            "order": null,
            "overflow": null,
            "overflow_x": null,
            "overflow_y": null,
            "padding": null,
            "right": null,
            "top": null,
            "visibility": null,
            "width": null
          }
        },
        "76e62808134346949ef3b047486beb6f": {
          "model_module": "@jupyter-widgets/base",
          "model_module_version": "1.2.0",
          "model_name": "LayoutModel",
          "state": {
            "_model_module": "@jupyter-widgets/base",
            "_model_module_version": "1.2.0",
            "_model_name": "LayoutModel",
            "_view_count": null,
            "_view_module": "@jupyter-widgets/base",
            "_view_module_version": "1.2.0",
            "_view_name": "LayoutView",
            "align_content": null,
            "align_items": null,
            "align_self": null,
            "border": null,
            "bottom": null,
            "display": null,
            "flex": null,
            "flex_flow": null,
            "grid_area": null,
            "grid_auto_columns": null,
            "grid_auto_flow": null,
            "grid_auto_rows": null,
            "grid_column": null,
            "grid_gap": null,
            "grid_row": null,
            "grid_template_areas": null,
            "grid_template_columns": null,
            "grid_template_rows": null,
            "height": null,
            "justify_content": null,
            "justify_items": null,
            "left": null,
            "margin": null,
            "max_height": null,
            "max_width": null,
            "min_height": null,
            "min_width": null,
            "object_fit": null,
            "object_position": null,
            "order": null,
            "overflow": null,
            "overflow_x": null,
            "overflow_y": null,
            "padding": null,
            "right": null,
            "top": null,
            "visibility": null,
            "width": null
          }
        },
        "a95543073c7242fd949ec78b03905494": {
          "model_module": "@jupyter-widgets/controls",
          "model_module_version": "1.5.0",
          "model_name": "DescriptionStyleModel",
          "state": {
            "_model_module": "@jupyter-widgets/controls",
            "_model_module_version": "1.5.0",
            "_model_name": "DescriptionStyleModel",
            "_view_count": null,
            "_view_module": "@jupyter-widgets/base",
            "_view_module_version": "1.2.0",
            "_view_name": "StyleView",
            "description_width": ""
          }
        },
        "b0de599f252947b3ab2636a3fb757a5a": {
          "model_module": "@jupyter-widgets/controls",
          "model_module_version": "1.5.0",
          "model_name": "DescriptionStyleModel",
          "state": {
            "_model_module": "@jupyter-widgets/controls",
            "_model_module_version": "1.5.0",
            "_model_name": "DescriptionStyleModel",
            "_view_count": null,
            "_view_module": "@jupyter-widgets/base",
            "_view_module_version": "1.2.0",
            "_view_name": "StyleView",
            "description_width": ""
          }
        },
        "db064ed95c104ed78132946104a85adb": {
          "model_module": "@jupyter-widgets/base",
          "model_module_version": "1.2.0",
          "model_name": "LayoutModel",
          "state": {
            "_model_module": "@jupyter-widgets/base",
            "_model_module_version": "1.2.0",
            "_model_name": "LayoutModel",
            "_view_count": null,
            "_view_module": "@jupyter-widgets/base",
            "_view_module_version": "1.2.0",
            "_view_name": "LayoutView",
            "align_content": null,
            "align_items": null,
            "align_self": null,
            "border": null,
            "bottom": null,
            "display": null,
            "flex": null,
            "flex_flow": null,
            "grid_area": null,
            "grid_auto_columns": null,
            "grid_auto_flow": null,
            "grid_auto_rows": null,
            "grid_column": null,
            "grid_gap": null,
            "grid_row": null,
            "grid_template_areas": null,
            "grid_template_columns": null,
            "grid_template_rows": null,
            "height": null,
            "justify_content": null,
            "justify_items": null,
            "left": null,
            "margin": null,
            "max_height": null,
            "max_width": null,
            "min_height": null,
            "min_width": null,
            "object_fit": null,
            "object_position": null,
            "order": null,
            "overflow": null,
            "overflow_x": null,
            "overflow_y": null,
            "padding": null,
            "right": null,
            "top": null,
            "visibility": null,
            "width": null
          }
        },
        "e13d437ed25f4fe1909438ab06b63430": {
          "model_module": "@jupyter-widgets/base",
          "model_module_version": "1.2.0",
          "model_name": "LayoutModel",
          "state": {
            "_model_module": "@jupyter-widgets/base",
            "_model_module_version": "1.2.0",
            "_model_name": "LayoutModel",
            "_view_count": null,
            "_view_module": "@jupyter-widgets/base",
            "_view_module_version": "1.2.0",
            "_view_name": "LayoutView",
            "align_content": null,
            "align_items": null,
            "align_self": null,
            "border": null,
            "bottom": null,
            "display": null,
            "flex": null,
            "flex_flow": null,
            "grid_area": null,
            "grid_auto_columns": null,
            "grid_auto_flow": null,
            "grid_auto_rows": null,
            "grid_column": null,
            "grid_gap": null,
            "grid_row": null,
            "grid_template_areas": null,
            "grid_template_columns": null,
            "grid_template_rows": null,
            "height": null,
            "justify_content": null,
            "justify_items": null,
            "left": null,
            "margin": null,
            "max_height": null,
            "max_width": null,
            "min_height": null,
            "min_width": null,
            "object_fit": null,
            "object_position": null,
            "order": null,
            "overflow": null,
            "overflow_x": null,
            "overflow_y": null,
            "padding": null,
            "right": null,
            "top": null,
            "visibility": null,
            "width": null
          }
        },
        "e94ec0e1574a4a93ac885256005870b9": {
          "model_module": "@jupyter-widgets/controls",
          "model_module_version": "1.5.0",
          "model_name": "DescriptionStyleModel",
          "state": {
            "_model_module": "@jupyter-widgets/controls",
            "_model_module_version": "1.5.0",
            "_model_name": "DescriptionStyleModel",
            "_view_count": null,
            "_view_module": "@jupyter-widgets/base",
            "_view_module_version": "1.2.0",
            "_view_name": "StyleView",
            "description_width": ""
          }
        },
        "ea46f6de1fec4cd18ccd6659e37fa556": {
          "model_module": "@jupyter-widgets/controls",
          "model_module_version": "1.5.0",
          "model_name": "HTMLModel",
          "state": {
            "_dom_classes": [],
            "_model_module": "@jupyter-widgets/controls",
            "_model_module_version": "1.5.0",
            "_model_name": "HTMLModel",
            "_view_count": null,
            "_view_module": "@jupyter-widgets/controls",
            "_view_module_version": "1.5.0",
            "_view_name": "HTMLView",
            "description": "",
            "description_tooltip": null,
            "layout": "IPY_MODEL_76e62808134346949ef3b047486beb6f",
            "placeholder": "​",
            "style": "IPY_MODEL_e94ec0e1574a4a93ac885256005870b9",
            "value": "Map: 100%"
          }
        },
        "f6a8d4f6823e48f4a7eb5e1ea9db03ca": {
          "model_module": "@jupyter-widgets/controls",
          "model_module_version": "1.5.0",
          "model_name": "ProgressStyleModel",
          "state": {
            "_model_module": "@jupyter-widgets/controls",
            "_model_module_version": "1.5.0",
            "_model_name": "ProgressStyleModel",
            "_view_count": null,
            "_view_module": "@jupyter-widgets/base",
            "_view_module_version": "1.2.0",
            "_view_name": "StyleView",
            "bar_color": null,
            "description_width": ""
          }
        },
        "f8dc077abc2b49aa9b67f7c6f77c42e0": {
          "model_module": "@jupyter-widgets/controls",
          "model_module_version": "1.5.0",
          "model_name": "FloatProgressModel",
          "state": {
            "_dom_classes": [],
            "_model_module": "@jupyter-widgets/controls",
            "_model_module_version": "1.5.0",
            "_model_name": "FloatProgressModel",
            "_view_count": null,
            "_view_module": "@jupyter-widgets/controls",
            "_view_module_version": "1.5.0",
            "_view_name": "ProgressView",
            "bar_style": "success",
            "description": "",
            "description_tooltip": null,
            "layout": "IPY_MODEL_f90fb938a7e84075a852b5419d983d34",
            "max": 25000,
            "min": 0,
            "orientation": "horizontal",
            "style": "IPY_MODEL_f6a8d4f6823e48f4a7eb5e1ea9db03ca",
            "value": 25000
          }
        },
        "f90fb938a7e84075a852b5419d983d34": {
          "model_module": "@jupyter-widgets/base",
          "model_module_version": "1.2.0",
          "model_name": "LayoutModel",
          "state": {
            "_model_module": "@jupyter-widgets/base",
            "_model_module_version": "1.2.0",
            "_model_name": "LayoutModel",
            "_view_count": null,
            "_view_module": "@jupyter-widgets/base",
            "_view_module_version": "1.2.0",
            "_view_name": "LayoutView",
            "align_content": null,
            "align_items": null,
            "align_self": null,
            "border": null,
            "bottom": null,
            "display": null,
            "flex": null,
            "flex_flow": null,
            "grid_area": null,
            "grid_auto_columns": null,
            "grid_auto_flow": null,
            "grid_auto_rows": null,
            "grid_column": null,
            "grid_gap": null,
            "grid_row": null,
            "grid_template_areas": null,
            "grid_template_columns": null,
            "grid_template_rows": null,
            "height": null,
            "justify_content": null,
            "justify_items": null,
            "left": null,
            "margin": null,
            "max_height": null,
            "max_width": null,
            "min_height": null,
            "min_width": null,
            "object_fit": null,
            "object_position": null,
            "order": null,
            "overflow": null,
            "overflow_x": null,
            "overflow_y": null,
            "padding": null,
            "right": null,
            "top": null,
            "visibility": null,
            "width": null
          }
        },
        "fafd2f415b9a4c6799a431023d3689a9": {
          "model_module": "@jupyter-widgets/base",
          "model_module_version": "1.2.0",
          "model_name": "LayoutModel",
          "state": {
            "_model_module": "@jupyter-widgets/base",
            "_model_module_version": "1.2.0",
            "_model_name": "LayoutModel",
            "_view_count": null,
            "_view_module": "@jupyter-widgets/base",
            "_view_module_version": "1.2.0",
            "_view_name": "LayoutView",
            "align_content": null,
            "align_items": null,
            "align_self": null,
            "border": null,
            "bottom": null,
            "display": null,
            "flex": null,
            "flex_flow": null,
            "grid_area": null,
            "grid_auto_columns": null,
            "grid_auto_flow": null,
            "grid_auto_rows": null,
            "grid_column": null,
            "grid_gap": null,
            "grid_row": null,
            "grid_template_areas": null,
            "grid_template_columns": null,
            "grid_template_rows": null,
            "height": null,
            "justify_content": null,
            "justify_items": null,
            "left": null,
            "margin": null,
            "max_height": null,
            "max_width": null,
            "min_height": null,
            "min_width": null,
            "object_fit": null,
            "object_position": null,
            "order": null,
            "overflow": null,
            "overflow_x": null,
            "overflow_y": null,
            "padding": null,
            "right": null,
            "top": null,
            "visibility": null,
            "width": null
          }
        }
      }
    }
  },
  "nbformat": 4,
  "nbformat_minor": 0
}
