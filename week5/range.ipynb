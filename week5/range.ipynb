{
 "cells": [
  {
   "cell_type": "code",
   "execution_count": 3,
   "metadata": {},
   "outputs": [
    {
     "name": "stdout",
     "output_type": "stream",
     "text": [
      "20\n",
      "13\n",
      "6\n"
     ]
    }
   ],
   "source": [
    "for i in range(20, 0, -7):\n",
    "    print(i)"
   ]
  },
  {
   "cell_type": "code",
   "execution_count": 4,
   "metadata": {},
   "outputs": [
    {
     "name": "stdout",
     "output_type": "stream",
     "text": [
      "3976\n",
      "3449\n",
      "2523\n",
      "5872\n",
      "5425\n",
      "2679\n",
      "4701\n",
      "5039\n",
      "2024\n",
      "6890\n",
      "3193\n",
      "500\n",
      "959\n",
      "5975\n",
      "5957\n",
      "6109\n",
      "5104\n",
      "1910\n",
      "1629\n",
      "2048\n",
      "7335\n",
      "4826\n",
      "3570\n",
      "5925\n",
      "3357\n",
      "6719\n",
      "6912\n",
      "5575\n",
      "6153\n",
      "7494\n",
      "3147\n",
      "5484\n",
      "2267\n",
      "1432\n",
      "423\n",
      "7208\n",
      "3575\n",
      "1455\n",
      "380\n",
      "5536\n",
      "3553\n",
      "6994\n",
      "235\n",
      "2859\n",
      "7395\n",
      "4641\n",
      "630\n",
      "6481\n",
      "2335\n",
      "7516\n"
     ]
    }
   ],
   "source": [
    "import random\n",
    "\n",
    "# 0부터 7600 사이에서 겹치지 않게 50개의 숫자 뽑기\n",
    "random_numbers = random.sample(range(7601), 50)\n",
    "\n",
    "# for문을 돌리기\n",
    "for num in random_numbers:\n",
    "    print(num)  # 각 숫자에 대해 원하는 작업을 수행"
   ]
  }
 ],
 "metadata": {
  "kernelspec": {
   "display_name": "week5-szymwyO9-py3.12",
   "language": "python",
   "name": "python3"
  },
  "language_info": {
   "codemirror_mode": {
    "name": "ipython",
    "version": 3
   },
   "file_extension": ".py",
   "mimetype": "text/x-python",
   "name": "python",
   "nbconvert_exporter": "python",
   "pygments_lexer": "ipython3",
   "version": "3.12.6"
  }
 },
 "nbformat": 4,
 "nbformat_minor": 2
}
