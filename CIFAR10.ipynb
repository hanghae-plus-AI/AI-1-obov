{
  "cells": [
    {
      "cell_type": "markdown",
      "metadata": {
        "colab_type": "text",
        "id": "view-in-github"
      },
      "source": [
        "<a href=\"https://colab.research.google.com/github/obov/mnist/blob/main/1_3_MNIST.ipynb\" target=\"_parent\"><img src=\"https://colab.research.google.com/assets/colab-badge.svg\" alt=\"Open In Colab\"/></a>"
      ]
    },
    {
      "cell_type": "markdown",
      "metadata": {
        "id": "OPJenlrhihrh"
      },
      "source": [
        "# MNIST 실습\n",
        "\n",
        "이번에는 28x28 흑백 손글씨 이미지를 보고 0~9 사이의 숫자 중 어떤 숫자를 쓴 것인지 예측하는 문제를 실습합니다.\n",
        "이번 실습에서는 GPU를 활용할 것이기 때문에, 이전 챕터에서 Colab에서 GPU를 설정하는 방법을 따라해주시길 바랍니다.\n",
        "\n",
        "GPU를 설정했으면 library들을 import합니다."
      ]
    },
    {
      "cell_type": "code",
      "execution_count": 1,
      "metadata": {},
      "outputs": [],
      "source": [
        "'''\n",
        "HYPER PARAMETERS\n",
        "'''\n",
        "LEARNING_RATE = 0.001\n",
        "NUMBER_OF_EPOCHS = 50\n",
        "BATCH_SIZE = 256\n",
        "DATA_SET_NAME = 'CIFAR10'\n",
        "ACTIVATION_FUNCTION = 'LeakyReLU'\n"
      ]
    },
    {
      "cell_type": "code",
      "execution_count": 2,
      "metadata": {
        "id": "6lXVfXoDtoQh"
      },
      "outputs": [],
      "source": [
        "import torch\n",
        "import torchvision\n",
        "import torchvision.transforms as transforms"
      ]
    },
    {
      "cell_type": "markdown",
      "metadata": {
        "id": "pF-1zQvmiult"
      },
      "source": [
        "다음은 dataset을 준비합니다. 손글씨 dataset은 MNIST라는 유명한 dataset이 있습니다. 이 dataset은 `torchvision`에서 제공하고 있으며, 다음과 같이 다운로드 받을 수 있습니다."
      ]
    },
    {
      "cell_type": "code",
      "execution_count": 3,
      "metadata": {
        "colab": {
          "base_uri": "https://localhost:8080/"
        },
        "id": "KAYlqPaRt6ti",
        "outputId": "67e51d96-85b4-4129-efc8-7938006afdd4"
      },
      "outputs": [
        {
          "name": "stdout",
          "output_type": "stream",
          "text": [
            "Files already downloaded and verified\n"
          ]
        }
      ],
      "source": [
        "transform = transforms.ToTensor()\n",
        "\n",
        "trainset = getattr(torchvision.datasets, DATA_SET_NAME)(\n",
        "    root='./data',\n",
        "    train=True,\n",
        "    download=True,\n",
        "    transform=transform\n",
        ")"
      ]
    },
    {
      "cell_type": "markdown",
      "metadata": {
        "id": "p-GqH7_ZjVMs"
      },
      "source": [
        "MNIST는 손글씨 사진과 어떤 숫자를 의미하는지에 대한 label의 pair들로 구성되어있습니다.\n",
        "이 때, 우리는 PyTorch model을 사용할 것이기 때문에 손글씨 사진들을 모두 tensor로 변환해야합니다.\n",
        "이러한 부가적인 변환들은 `torchvision.transforms`에서 제공하고 있으며, `torchvision.datasets.MNIST`에서 `transform` 인자로 받을 수 있습니다.\n",
        "우리는 단순히 사진을 tensor로 바꾸고 싶기 때문에 `transforms.ToTensor()` transformation을 넘겨줍니다.\n",
        "\n",
        "다음은 전체 data의 개수와 첫 번째 data를 출력한 결과입니다."
      ]
    },
    {
      "cell_type": "code",
      "execution_count": 4,
      "metadata": {
        "colab": {
          "base_uri": "https://localhost:8080/",
          "height": 481
        },
        "id": "Zsp3sHmojyhT",
        "outputId": "3511bb75-e677-4fb8-894b-69e22c80f4bc"
      },
      "outputs": [
        {
          "name": "stdout",
          "output_type": "stream",
          "text": [
            "50000\n",
            "torch.Size([3, 32, 32]) 6\n"
          ]
        },
        {
          "data": {
            "text/plain": [
              "<matplotlib.image.AxesImage at 0x14dcc8950>"
            ]
          },
          "execution_count": 4,
          "metadata": {},
          "output_type": "execute_result"
        },
        {
          "data": {
            "image/png": "[encoded data removed]",
            "text/plain": [
              "<Figure size 640x480 with 1 Axes>"
            ]
          },
          "metadata": {},
          "output_type": "display_data"
        }
      ],
      "source": [
        "from matplotlib import pyplot as plt\n",
        "\n",
        "\n",
        "print(len(trainset))\n",
        "print(trainset[0][0].shape, trainset[0][1])\n",
        "plt.imshow(trainset[0][0][0], cmap='gray')"
      ]
    },
    {
      "cell_type": "markdown",
      "metadata": {
        "id": "udm8wDBsi301"
      },
      "source": [
        "첫 번째 출력결과를 통해 우리는 6만장의 손글씨 data가 있는 것을 알 수 있습니다.\n",
        "그리고 두 번째 출력결과를 통해 첫 번째 data의 shape은 (1, 28, 28)이고 5라는 숫자를 쓴 사진이라는 것을 알 수 있습니다.\n",
        "마지막으로 `plt.imshow`를 통해 visualize 했을 때 5라는 숫자가 나오는 것을 알 수 있습니다.\n",
        "\n",
        "다음은 SGD를 위해 dataset을 여러 개의 batch로 나누는 과정을 PyTorch로 구현한 모습입니다."
      ]
    },
    {
      "cell_type": "code",
      "execution_count": 5,
      "metadata": {
        "id": "UxKu3kA2i5WH"
      },
      "outputs": [],
      "source": [
        "from torch.utils.data import Subset\n",
        "\n",
        "\n",
        "batch_size = BATCH_SIZE\n",
        "# 0부터 47999까지는 훈련용, 48000부터 59999까지는 검증용으로 설정\n",
        "train_indices = list(range(40000))\n",
        "val_indices = list(range(40000, 50000))\n",
        "\n",
        "train_dataset = Subset(trainset, train_indices)\n",
        "val_dataset = Subset(trainset, val_indices)\n",
        "\n",
        "train_loader = torch.utils.data.DataLoader(\n",
        "    train_dataset, \n",
        "    batch_size=batch_size,\n",
        "    shuffle=True\n",
        ")\n",
        "val_loader = torch.utils.data.DataLoader(\n",
        "    val_dataset,\n",
        "    batch_size=batch_size, \n",
        "    shuffle=False\n",
        ")"
      ]
    },
    {
      "cell_type": "markdown",
      "metadata": {
        "id": "z4Qyrm4WlzWt"
      },
      "source": [
        "PyTorch에서는 `DataLoader`가 dataset을 인자로 받아 batch로 나눠줍니다.\n",
        "부가적으로 `batch_size`라는 인자를 통해 batch size를 받고 있으며, `shuffle`이라는 인자를 통해 data들을 섞을지 결정해줍니다.\n",
        "우리는 SGD가 완전 랜덤으로 batch를 구성해야 잘 동작하는 것을 알고 있기 때문에 `shuffle`에 `True`를 넘겨주고 있습니다.\n",
        "\n",
        "다음은 첫 번째 batch를 출력한 모습입니다."
      ]
    },
    {
      "cell_type": "code",
      "execution_count": 6,
      "metadata": {
        "colab": {
          "base_uri": "https://localhost:8080/"
        },
        "id": "_Hd7XxyAvVNz",
        "outputId": "185acb61-2ed7-4110-b325-c0e016ca60b0"
      },
      "outputs": [
        {
          "name": "stdout",
          "output_type": "stream",
          "text": [
            "torch.Size([256, 3, 32, 32]) torch.Size([256])\n"
          ]
        }
      ],
      "source": [
        "dataiter = iter(train_loader)\n",
        "images, labels = next(dataiter)\n",
        "print(images.shape, labels.shape)"
      ]
    },
    {
      "cell_type": "markdown",
      "metadata": {
        "id": "h0ZY5mDimRUK"
      },
      "source": [
        "`images`는 첫 번째 batch의 image들이고 `labels`는 첫 번째 batch의 label들입니다.\n",
        "위에서 batch size를 64로 설정했기 때문에 총 64개의 image와 label들이 있어야 합니다.\n",
        "실제 shape 출력 결과를 보면 그렇다는 것을 알 수 있습니다.\n",
        "\n",
        "다음은 (n, 1, 28, 28) shape의 image를 입력받아 0~9 사이의 정수 하나를 출력하는 3-layer MLP를 구현합니다."
      ]
    },
    {
      "cell_type": "code",
      "execution_count": 7,
      "metadata": {
        "id": "OLOA-ZGTuVVG"
      },
      "outputs": [],
      "source": [
        "from torch import nn\n",
        "\n",
        "output_dim = 10\n",
        "\n",
        "class Model(nn.Module):\n",
        "    def __init__(self, input_dim, n_dim, output_dim, activation_function='LeakyReLU', dropout_prob=0.0):\n",
        "        super().__init__()\n",
        "        \n",
        "        # 레이어 정의\n",
        "        self.layer1 = nn.Linear(input_dim, n_dim)\n",
        "        self.layer2 = nn.Linear(n_dim, n_dim)\n",
        "        self.layer3 = nn.Linear(n_dim, output_dim)\n",
        "\n",
        "        # 활성화 함수 설정\n",
        "        self.act = getattr(nn, activation_function)()\n",
        "        \n",
        "        # 드롭아웃 레이어 (dropout_prob이 0이면 드롭아웃이 적용되지 않음)\n",
        "        self.dropout = nn.Dropout(dropout_prob)\n",
        "\n",
        "    def forward(self, x):\n",
        "        x = torch.flatten(x, start_dim=1)  # 입력을 1D 벡터로 Flatten\n",
        "        \n",
        "        # 레이어 1 -> 활성화 함수 -> 드롭아웃\n",
        "        x = self.act(self.layer1(x))\n",
        "        x = self.dropout(x)\n",
        "        \n",
        "        # 레이어 2 -> 활성화 함수 -> 드롭아웃\n",
        "        x = self.act(self.layer2(x))\n",
        "        x = self.dropout(x)\n",
        "        \n",
        "        # 마지막 레이어 (출력 레이어)\n",
        "        x = self.layer3(x)  # 마지막 레이어에서는 활성화 함수 필요 없음\n",
        "        return x\n",
        "    \n",
        "input_dim = 3 * 32 * 32  # 32x32 크기의 3채널(RGB) 이미지를 Flatten한 크기\n",
        "\n",
        "device = torch.device(\"mps\")\n",
        "\n",
        "model_leaky_ReLU = Model(input_dim, 1024, output_dim).to(device) # plot1, plot2\n",
        "model_sigmoid = Model(input_dim, 1024, output_dim, 'Sigmoid').to(device) # plot2\n",
        "model_leaky_ReLU_dropout = Model(input_dim, 1024, output_dim, 'LeakyReLU', 0.1).to(device) # plot3"
      ]
    },
    {
      "cell_type": "markdown",
      "metadata": {
        "id": "tag1rNcwmnAr"
      },
      "source": [
        "이전의 2-layer MLP와 유사한 형태임을 알 수 있습니다.\n",
        "여기서 특이사항은 `forward`의 첫 번째 줄에 `torch.flatten`을 사용한다는 것입니다.\n",
        "`Linear`는 이전에도 봤다시피 (n, d) 형태의 shape을 입력받습니다.\n",
        "이미지는 (n, 1, 28, 28)이기 때문에 (n, 1 * 28 * 28)로 shape을 변환해야 선형 함수에 입력으로 주어줄 수 있게 됩니다.\n",
        "이 역할을 수행하는 것이 바로 `torch.flatten`입니다.\n",
        "우리는 첫 번째 shape인 n을 보존할 것이기 때문에 flatten할 차원은 `start_dim=1`로 넘겨주게 됩니다.\n",
        "\n",
        "다음은 gradient descent를 수행해줄 optimizer를 구현하는 모습입니다."
      ]
    },
    {
      "cell_type": "code",
      "execution_count": 8,
      "metadata": {
        "id": "ypS0TcOlvBhZ"
      },
      "outputs": [],
      "source": [
        "from torch.optim import SGD,Adam\n",
        "\n",
        "lr = LEARNING_RATE\n",
        "\n",
        "optimizer_sgd = SGD(model_leaky_ReLU.parameters(), lr=lr) # plot1\n",
        "optimizer_adam = Adam(model_leaky_ReLU.parameters(), lr=lr) # plot1, plot2\n",
        "optimizer_adam_sigmoid = Adam(model_sigmoid.parameters(), lr=lr) # plot2\n",
        "optimizer_dropout = Adam(model_leaky_ReLU_dropout.parameters(), lr=lr) # plot3\n"
      ]
    },
    {
      "cell_type": "markdown",
      "metadata": {
        "id": "5PooeOKMnRfZ"
      },
      "source": [
        "이전 코드와 거의 똑같습니다. 다른 점은 `model.to('cuda')` 코드를 통해 우리가 구현한 model을 GPU로 옮긴 것입니다.\n",
        "MNIST 부터는 모델과 data가 커지면서 훨씬 많은 행렬 연산이 이루어지기 때문에 GPU를 활용하는 것이 빠릅니다.\n",
        "\n",
        "다음은 model을 MNIST에 학습하는 코드입니다."
      ]
    },
    {
      "cell_type": "code",
      "execution_count": 9,
      "metadata": {
        "colab": {
          "base_uri": "https://localhost:8080/"
        },
        "id": "TryX1hewvNiB",
        "outputId": "4e4a9282-d49a-40ff-c26c-d00fb7c0af79"
      },
      "outputs": [],
      "source": [
        "n_epochs = NUMBER_OF_EPOCHS\n",
        "\n",
        "import matplotlib.pyplot as plt\n",
        "CEL = nn.CrossEntropyLoss()\n",
        "train_accuracies = []\n",
        "val_accuracies = []\n",
        "\n",
        "device='mps'\n",
        "\n",
        "def train_and_validate(model, optimizer):\n",
        "    CEL = nn.CrossEntropyLoss()\n",
        "    train_accuracies = []\n",
        "    val_accuracies = []\n",
        "\n",
        "    def accuracy(model, dataloader):\n",
        "        cnt = 0\n",
        "        acc = 0\n",
        "        for data in dataloader:\n",
        "            inputs, labels = data\n",
        "            inputs, labels = inputs.to(device), labels.to(device)\n",
        "            \n",
        "            preds = model(inputs)\n",
        "            preds = torch.argmax(preds, dim=-1)\n",
        "            \n",
        "            cnt += labels.shape[0]\n",
        "            acc += (labels == preds).sum().item()\n",
        "\n",
        "        return acc / cnt\n",
        "\n",
        "    for epoch in range(n_epochs):\n",
        "        model.train()  # 훈련 모드로 전환\n",
        "        total_loss = 0.0\n",
        "        \n",
        "        # 훈련 루프\n",
        "        for data in train_loader:\n",
        "            model.zero_grad()\n",
        "            inputs, labels = data\n",
        "            inputs, labels = inputs.to(device), labels.to(device)\n",
        "            \n",
        "            preds = model(inputs)\n",
        "            loss = CEL(preds, labels)\n",
        "            loss.backward()\n",
        "            optimizer.step()\n",
        "            \n",
        "            total_loss += loss.item()\n",
        "\n",
        "        # 훈련 정확도\n",
        "        train_accuracy = accuracy(model, train_loader)\n",
        "        train_accuracies.append(train_accuracy)\n",
        "        print(f\"Epoch {epoch:3d} | Training Loss: {total_loss:.4f} | Accuracy : {train_accuracy:.2%}\")\n",
        "        \n",
        "        # 검증 루프\n",
        "        model.eval()  # 검증 모드로 전환\n",
        "        val_loss = 0.0\n",
        "        with torch.no_grad():  # 검증할 때는 no_grad()를 사용하여 파라미터 업데이트를 하지 않음\n",
        "            for data in val_loader:\n",
        "                inputs, labels = data\n",
        "                inputs, labels = inputs.to(device), labels.to(device)\n",
        "                \n",
        "                preds = model(inputs)\n",
        "                loss = CEL(preds, labels)\n",
        "                val_loss += loss.item()\n",
        "\n",
        "        # 검증 정확도\n",
        "        val_accuracy = accuracy(model, val_loader)\n",
        "        val_accuracies.append(val_accuracy)\n",
        "        print(f\"Epoch {epoch:3d} | Validation Loss: {val_loss:.4f} | Accuracy : {val_accuracy:.2%}\")\n",
        "    \n",
        "    return train_accuracies, val_accuracies"
      ]
    },
    {
      "cell_type": "code",
      "execution_count": 10,
      "metadata": {},
      "outputs": [],
      "source": [
        "import numpy as np\n",
        "def plot_acc(train_accs, test_accs, label1='train', label2='validate'):\n",
        "  x = np.arange(len(train_accs))\n",
        "\n",
        "  plt.plot(x, train_accs, label=label1)\n",
        "  plt.plot(x, test_accs, label=label2)\n",
        "  plt.legend()\n",
        "  plt.show()"
      ]
    },
    {
      "cell_type": "code",
      "execution_count": 11,
      "metadata": {},
      "outputs": [
        {
          "name": "stdout",
          "output_type": "stream",
          "text": [
            "Epoch   0 | Training Loss: 360.9733 | Accuracy : 12.12%\n",
            "Epoch   0 | Validation Loss: 91.7794 | Accuracy : 12.43%\n",
            "Epoch   1 | Training Loss: 359.5974 | Accuracy : 11.73%\n",
            "Epoch   1 | Validation Loss: 91.4481 | Accuracy : 12.01%\n",
            "Epoch   2 | Training Loss: 358.3523 | Accuracy : 12.34%\n",
            "Epoch   2 | Validation Loss: 91.1369 | Accuracy : 12.74%\n",
            "Epoch   3 | Training Loss: 357.1360 | Accuracy : 12.85%\n",
            "Epoch   3 | Validation Loss: 90.8231 | Accuracy : 13.19%\n",
            "Epoch   4 | Training Loss: 355.8923 | Accuracy : 14.29%\n",
            "Epoch   4 | Validation Loss: 90.4987 | Accuracy : 14.69%\n",
            "Epoch   5 | Training Loss: 354.6016 | Accuracy : 16.86%\n",
            "Epoch   5 | Validation Loss: 90.1630 | Accuracy : 17.00%\n",
            "Epoch   6 | Training Loss: 353.2459 | Accuracy : 18.81%\n",
            "Epoch   6 | Validation Loss: 89.8083 | Accuracy : 18.65%\n",
            "Epoch   7 | Training Loss: 351.7877 | Accuracy : 21.04%\n",
            "Epoch   7 | Validation Loss: 89.4352 | Accuracy : 20.83%\n",
            "Epoch   8 | Training Loss: 350.2544 | Accuracy : 22.50%\n",
            "Epoch   8 | Validation Loss: 89.0405 | Accuracy : 22.33%\n",
            "Epoch   9 | Training Loss: 348.6846 | Accuracy : 23.92%\n",
            "Epoch   9 | Validation Loss: 88.6213 | Accuracy : 23.99%\n",
            "Epoch  10 | Training Loss: 346.9341 | Accuracy : 25.11%\n",
            "Epoch  10 | Validation Loss: 88.1802 | Accuracy : 24.99%\n",
            "Epoch  11 | Training Loss: 345.1596 | Accuracy : 26.06%\n",
            "Epoch  11 | Validation Loss: 87.7186 | Accuracy : 25.66%\n",
            "Epoch  12 | Training Loss: 343.2460 | Accuracy : 26.41%\n",
            "Epoch  12 | Validation Loss: 87.2320 | Accuracy : 25.90%\n",
            "Epoch  13 | Training Loss: 341.3213 | Accuracy : 26.62%\n",
            "Epoch  13 | Validation Loss: 86.7390 | Accuracy : 26.13%\n",
            "Epoch  14 | Training Loss: 339.3312 | Accuracy : 26.98%\n",
            "Epoch  14 | Validation Loss: 86.2440 | Accuracy : 26.63%\n",
            "Epoch  15 | Training Loss: 337.3438 | Accuracy : 27.43%\n",
            "Epoch  15 | Validation Loss: 85.7527 | Accuracy : 26.98%\n",
            "Epoch  16 | Training Loss: 335.3918 | Accuracy : 27.48%\n",
            "Epoch  16 | Validation Loss: 85.2752 | Accuracy : 26.98%\n",
            "Epoch  17 | Training Loss: 333.4935 | Accuracy : 27.79%\n",
            "Epoch  17 | Validation Loss: 84.8115 | Accuracy : 27.27%\n",
            "Epoch  18 | Training Loss: 331.6244 | Accuracy : 27.82%\n",
            "Epoch  18 | Validation Loss: 84.3686 | Accuracy : 27.57%\n",
            "Epoch  19 | Training Loss: 329.8777 | Accuracy : 28.06%\n",
            "Epoch  19 | Validation Loss: 83.9460 | Accuracy : 27.57%\n",
            "Epoch  20 | Training Loss: 328.2802 | Accuracy : 28.08%\n",
            "Epoch  20 | Validation Loss: 83.5471 | Accuracy : 27.99%\n",
            "Epoch  21 | Training Loss: 326.6454 | Accuracy : 28.58%\n",
            "Epoch  21 | Validation Loss: 83.1772 | Accuracy : 28.17%\n",
            "Epoch  22 | Training Loss: 325.1397 | Accuracy : 28.49%\n",
            "Epoch  22 | Validation Loss: 82.8186 | Accuracy : 28.17%\n",
            "Epoch  23 | Training Loss: 323.6820 | Accuracy : 28.58%\n",
            "Epoch  23 | Validation Loss: 82.4898 | Accuracy : 28.31%\n",
            "Epoch  24 | Training Loss: 322.3303 | Accuracy : 28.82%\n",
            "Epoch  24 | Validation Loss: 82.1686 | Accuracy : 28.45%\n",
            "Epoch  25 | Training Loss: 321.0753 | Accuracy : 29.03%\n",
            "Epoch  25 | Validation Loss: 81.8662 | Accuracy : 28.75%\n",
            "Epoch  26 | Training Loss: 319.7382 | Accuracy : 29.36%\n",
            "Epoch  26 | Validation Loss: 81.5834 | Accuracy : 28.91%\n",
            "Epoch  27 | Training Loss: 318.6858 | Accuracy : 29.40%\n",
            "Epoch  27 | Validation Loss: 81.3139 | Accuracy : 29.06%\n",
            "Epoch  28 | Training Loss: 317.4440 | Accuracy : 29.64%\n",
            "Epoch  28 | Validation Loss: 81.0488 | Accuracy : 29.38%\n",
            "Epoch  29 | Training Loss: 316.3201 | Accuracy : 29.84%\n",
            "Epoch  29 | Validation Loss: 80.8057 | Accuracy : 29.39%\n",
            "Epoch  30 | Training Loss: 315.3118 | Accuracy : 29.74%\n",
            "Epoch  30 | Validation Loss: 80.5627 | Accuracy : 29.52%\n",
            "Epoch  31 | Training Loss: 314.2441 | Accuracy : 29.68%\n",
            "Epoch  31 | Validation Loss: 80.3324 | Accuracy : 29.40%\n",
            "Epoch  32 | Training Loss: 313.3254 | Accuracy : 30.10%\n",
            "Epoch  32 | Validation Loss: 80.1036 | Accuracy : 29.67%\n",
            "Epoch  33 | Training Loss: 312.3894 | Accuracy : 30.23%\n",
            "Epoch  33 | Validation Loss: 79.8922 | Accuracy : 29.68%\n",
            "Epoch  34 | Training Loss: 311.5199 | Accuracy : 30.40%\n",
            "Epoch  34 | Validation Loss: 79.6902 | Accuracy : 29.80%\n",
            "Epoch  35 | Training Loss: 310.6437 | Accuracy : 30.68%\n",
            "Epoch  35 | Validation Loss: 79.4995 | Accuracy : 30.16%\n",
            "Epoch  36 | Training Loss: 309.7275 | Accuracy : 30.65%\n",
            "Epoch  36 | Validation Loss: 79.3100 | Accuracy : 29.89%\n",
            "Epoch  37 | Training Loss: 309.0824 | Accuracy : 31.05%\n",
            "Epoch  37 | Validation Loss: 79.1301 | Accuracy : 30.50%\n",
            "Epoch  38 | Training Loss: 308.1903 | Accuracy : 30.98%\n",
            "Epoch  38 | Validation Loss: 78.9522 | Accuracy : 30.31%\n",
            "Epoch  39 | Training Loss: 307.4237 | Accuracy : 31.29%\n",
            "Epoch  39 | Validation Loss: 78.7750 | Accuracy : 30.72%\n",
            "Epoch  40 | Training Loss: 306.7800 | Accuracy : 31.41%\n",
            "Epoch  40 | Validation Loss: 78.6269 | Accuracy : 30.83%\n",
            "Epoch  41 | Training Loss: 306.1097 | Accuracy : 31.53%\n",
            "Epoch  41 | Validation Loss: 78.4709 | Accuracy : 31.08%\n",
            "Epoch  42 | Training Loss: 305.4217 | Accuracy : 31.75%\n",
            "Epoch  42 | Validation Loss: 78.3084 | Accuracy : 31.23%\n",
            "Epoch  43 | Training Loss: 304.8463 | Accuracy : 31.76%\n",
            "Epoch  43 | Validation Loss: 78.1734 | Accuracy : 31.02%\n",
            "Epoch  44 | Training Loss: 304.2044 | Accuracy : 31.96%\n",
            "Epoch  44 | Validation Loss: 78.0412 | Accuracy : 31.38%\n",
            "Epoch  45 | Training Loss: 303.5735 | Accuracy : 32.02%\n",
            "Epoch  45 | Validation Loss: 77.8955 | Accuracy : 31.38%\n",
            "Epoch  46 | Training Loss: 303.0649 | Accuracy : 32.30%\n",
            "Epoch  46 | Validation Loss: 77.7706 | Accuracy : 31.58%\n",
            "Epoch  47 | Training Loss: 302.3696 | Accuracy : 32.46%\n",
            "Epoch  47 | Validation Loss: 77.6289 | Accuracy : 31.81%\n",
            "Epoch  48 | Training Loss: 301.8562 | Accuracy : 32.55%\n",
            "Epoch  48 | Validation Loss: 77.5073 | Accuracy : 31.87%\n",
            "Epoch  49 | Training Loss: 301.2373 | Accuracy : 32.60%\n",
            "Epoch  49 | Validation Loss: 77.3855 | Accuracy : 31.92%\n",
            "Epoch   0 | Training Loss: 307.8851 | Accuracy : 35.38%\n",
            "Epoch   0 | Validation Loss: 73.2930 | Accuracy : 34.76%\n",
            "Epoch   1 | Training Loss: 267.7207 | Accuracy : 41.29%\n",
            "Epoch   1 | Validation Loss: 67.0794 | Accuracy : 40.00%\n",
            "Epoch   2 | Training Loss: 254.7103 | Accuracy : 44.82%\n",
            "Epoch   2 | Validation Loss: 64.9219 | Accuracy : 43.30%\n",
            "Epoch   3 | Training Loss: 242.3378 | Accuracy : 45.88%\n",
            "Epoch   3 | Validation Loss: 64.0739 | Accuracy : 43.87%\n",
            "Epoch   4 | Training Loss: 235.6963 | Accuracy : 47.78%\n",
            "Epoch   4 | Validation Loss: 62.1099 | Accuracy : 44.76%\n",
            "Epoch   5 | Training Loss: 229.1112 | Accuracy : 48.28%\n",
            "Epoch   5 | Validation Loss: 62.1770 | Accuracy : 44.86%\n",
            "Epoch   6 | Training Loss: 224.0448 | Accuracy : 50.67%\n",
            "Epoch   6 | Validation Loss: 60.0863 | Accuracy : 47.06%\n",
            "Epoch   7 | Training Loss: 219.3636 | Accuracy : 49.69%\n",
            "Epoch   7 | Validation Loss: 61.2637 | Accuracy : 46.34%\n",
            "Epoch   8 | Training Loss: 214.3934 | Accuracy : 51.15%\n",
            "Epoch   8 | Validation Loss: 60.3265 | Accuracy : 47.06%\n",
            "Epoch   9 | Training Loss: 210.0301 | Accuracy : 51.41%\n",
            "Epoch   9 | Validation Loss: 60.5404 | Accuracy : 47.22%\n",
            "Epoch  10 | Training Loss: 205.0463 | Accuracy : 53.07%\n",
            "Epoch  10 | Validation Loss: 59.2179 | Accuracy : 47.97%\n",
            "Epoch  11 | Training Loss: 201.5041 | Accuracy : 55.49%\n",
            "Epoch  11 | Validation Loss: 57.5329 | Accuracy : 49.55%\n",
            "Epoch  12 | Training Loss: 195.7108 | Accuracy : 58.02%\n",
            "Epoch  12 | Validation Loss: 56.1207 | Accuracy : 50.97%\n",
            "Epoch  13 | Training Loss: 191.3120 | Accuracy : 58.60%\n",
            "Epoch  13 | Validation Loss: 56.2620 | Accuracy : 50.73%\n",
            "Epoch  14 | Training Loss: 188.7518 | Accuracy : 58.91%\n",
            "Epoch  14 | Validation Loss: 57.0202 | Accuracy : 50.34%\n",
            "Epoch  15 | Training Loss: 185.8889 | Accuracy : 58.67%\n",
            "Epoch  15 | Validation Loss: 56.7981 | Accuracy : 50.47%\n",
            "Epoch  16 | Training Loss: 179.3507 | Accuracy : 59.96%\n",
            "Epoch  16 | Validation Loss: 57.3747 | Accuracy : 50.98%\n",
            "Epoch  17 | Training Loss: 176.4349 | Accuracy : 63.35%\n",
            "Epoch  17 | Validation Loss: 55.6546 | Accuracy : 52.24%\n",
            "Epoch  18 | Training Loss: 171.8760 | Accuracy : 63.22%\n",
            "Epoch  18 | Validation Loss: 55.6189 | Accuracy : 51.91%\n",
            "Epoch  19 | Training Loss: 167.2948 | Accuracy : 63.60%\n",
            "Epoch  19 | Validation Loss: 56.9490 | Accuracy : 50.81%\n",
            "Epoch  20 | Training Loss: 162.7692 | Accuracy : 62.33%\n",
            "Epoch  20 | Validation Loss: 59.3719 | Accuracy : 51.09%\n",
            "Epoch  21 | Training Loss: 160.6841 | Accuracy : 65.94%\n",
            "Epoch  21 | Validation Loss: 57.4340 | Accuracy : 52.11%\n",
            "Epoch  22 | Training Loss: 156.0089 | Accuracy : 66.30%\n",
            "Epoch  22 | Validation Loss: 57.9609 | Accuracy : 51.99%\n",
            "Epoch  23 | Training Loss: 151.9421 | Accuracy : 66.27%\n",
            "Epoch  23 | Validation Loss: 59.4754 | Accuracy : 51.10%\n",
            "Epoch  24 | Training Loss: 147.8602 | Accuracy : 67.51%\n",
            "Epoch  24 | Validation Loss: 59.0723 | Accuracy : 51.85%\n",
            "Epoch  25 | Training Loss: 145.1433 | Accuracy : 66.84%\n",
            "Epoch  25 | Validation Loss: 61.8456 | Accuracy : 50.69%\n",
            "Epoch  26 | Training Loss: 139.8931 | Accuracy : 67.92%\n",
            "Epoch  26 | Validation Loss: 62.6912 | Accuracy : 50.75%\n",
            "Epoch  27 | Training Loss: 138.8989 | Accuracy : 68.88%\n",
            "Epoch  27 | Validation Loss: 61.6314 | Accuracy : 51.18%\n",
            "Epoch  28 | Training Loss: 131.7249 | Accuracy : 67.29%\n",
            "Epoch  28 | Validation Loss: 67.6419 | Accuracy : 49.65%\n",
            "Epoch  29 | Training Loss: 126.7982 | Accuracy : 72.51%\n",
            "Epoch  29 | Validation Loss: 63.0701 | Accuracy : 52.26%\n",
            "Epoch  30 | Training Loss: 122.8030 | Accuracy : 73.68%\n",
            "Epoch  30 | Validation Loss: 63.8822 | Accuracy : 52.27%\n",
            "Epoch  31 | Training Loss: 117.8621 | Accuracy : 75.20%\n",
            "Epoch  31 | Validation Loss: 63.7445 | Accuracy : 53.02%\n",
            "Epoch  32 | Training Loss: 115.8341 | Accuracy : 75.83%\n",
            "Epoch  32 | Validation Loss: 64.5359 | Accuracy : 52.25%\n",
            "Epoch  33 | Training Loss: 113.1235 | Accuracy : 75.69%\n",
            "Epoch  33 | Validation Loss: 67.3009 | Accuracy : 51.72%\n",
            "Epoch  34 | Training Loss: 108.0744 | Accuracy : 78.09%\n",
            "Epoch  34 | Validation Loss: 66.4903 | Accuracy : 52.63%\n",
            "Epoch  35 | Training Loss: 102.8490 | Accuracy : 80.04%\n",
            "Epoch  35 | Validation Loss: 67.1343 | Accuracy : 52.82%\n",
            "Epoch  36 | Training Loss: 98.2497 | Accuracy : 80.10%\n",
            "Epoch  36 | Validation Loss: 68.4332 | Accuracy : 53.17%\n",
            "Epoch  37 | Training Loss: 96.0002 | Accuracy : 78.80%\n",
            "Epoch  37 | Validation Loss: 71.2443 | Accuracy : 51.78%\n",
            "Epoch  38 | Training Loss: 95.9328 | Accuracy : 80.79%\n",
            "Epoch  38 | Validation Loss: 71.4901 | Accuracy : 52.17%\n",
            "Epoch  39 | Training Loss: 89.4218 | Accuracy : 79.73%\n",
            "Epoch  39 | Validation Loss: 74.9474 | Accuracy : 51.92%\n",
            "Epoch  40 | Training Loss: 85.9058 | Accuracy : 81.63%\n",
            "Epoch  40 | Validation Loss: 75.9825 | Accuracy : 51.39%\n",
            "Epoch  41 | Training Loss: 82.5312 | Accuracy : 82.83%\n",
            "Epoch  41 | Validation Loss: 77.2844 | Accuracy : 52.11%\n",
            "Epoch  42 | Training Loss: 79.1807 | Accuracy : 82.75%\n",
            "Epoch  42 | Validation Loss: 79.8470 | Accuracy : 52.35%\n",
            "Epoch  43 | Training Loss: 75.8701 | Accuracy : 81.85%\n",
            "Epoch  43 | Validation Loss: 83.8605 | Accuracy : 51.21%\n",
            "Epoch  44 | Training Loss: 73.1872 | Accuracy : 85.67%\n",
            "Epoch  44 | Validation Loss: 80.6735 | Accuracy : 52.29%\n",
            "Epoch  45 | Training Loss: 71.2169 | Accuracy : 85.67%\n",
            "Epoch  45 | Validation Loss: 83.3157 | Accuracy : 51.39%\n",
            "Epoch  46 | Training Loss: 69.3920 | Accuracy : 86.08%\n",
            "Epoch  46 | Validation Loss: 85.9866 | Accuracy : 51.88%\n",
            "Epoch  47 | Training Loss: 64.5399 | Accuracy : 85.50%\n",
            "Epoch  47 | Validation Loss: 90.9267 | Accuracy : 51.93%\n",
            "Epoch  48 | Training Loss: 63.8304 | Accuracy : 87.26%\n",
            "Epoch  48 | Validation Loss: 90.0584 | Accuracy : 52.18%\n",
            "Epoch  49 | Training Loss: 59.4573 | Accuracy : 87.72%\n",
            "Epoch  49 | Validation Loss: 90.9449 | Accuracy : 52.55%\n"
          ]
        }
      ],
      "source": [
        "# PLOT1\n",
        "sgd_train_accuracies, _ = train_and_validate(model_leaky_ReLU, optimizer_sgd)\n",
        "adam_train_accuracies, _ = train_and_validate(model_leaky_ReLU, optimizer_adam)"
      ]
    },
    {
      "cell_type": "code",
      "execution_count": 12,
      "metadata": {
        "colab": {
          "base_uri": "https://localhost:8080/"
        },
        "id": "Zct0ssSKwjt1",
        "outputId": "4a8d7062-1a43-4522-895e-cfebb9c02cdb"
      },
      "outputs": [
        {
          "data": {
            "image/png": "[encoded data removed]",
            "text/plain": [
              "<Figure size 640x480 with 1 Axes>"
            ]
          },
          "metadata": {},
          "output_type": "display_data"
        }
      ],
      "source": [
        "# PLOT1\n",
        "plot_acc(sgd_train_accuracies,adam_train_accuracies,'sgd','adam')"
      ]
    },
    {
      "cell_type": "code",
      "execution_count": 13,
      "metadata": {
        "id": "d6M4SpWQoML9"
      },
      "outputs": [
        {
          "name": "stdout",
          "output_type": "stream",
          "text": [
            "Epoch   0 | Training Loss: 59.1784 | Accuracy : 88.19%\n",
            "Epoch   0 | Validation Loss: 92.9613 | Accuracy : 52.37%\n",
            "Epoch   1 | Training Loss: 56.5554 | Accuracy : 85.88%\n",
            "Epoch   1 | Validation Loss: 101.2891 | Accuracy : 50.51%\n",
            "Epoch   2 | Training Loss: 51.7861 | Accuracy : 89.48%\n",
            "Epoch   2 | Validation Loss: 97.5222 | Accuracy : 51.24%\n",
            "Epoch   3 | Training Loss: 52.0079 | Accuracy : 89.76%\n",
            "Epoch   3 | Validation Loss: 98.0090 | Accuracy : 52.02%\n",
            "Epoch   4 | Training Loss: 48.5132 | Accuracy : 89.90%\n",
            "Epoch   4 | Validation Loss: 102.0778 | Accuracy : 51.96%\n",
            "Epoch   5 | Training Loss: 48.1573 | Accuracy : 90.41%\n",
            "Epoch   5 | Validation Loss: 103.2126 | Accuracy : 51.50%\n",
            "Epoch   6 | Training Loss: 48.7224 | Accuracy : 89.49%\n",
            "Epoch   6 | Validation Loss: 103.0099 | Accuracy : 51.54%\n",
            "Epoch   7 | Training Loss: 41.5268 | Accuracy : 91.95%\n",
            "Epoch   7 | Validation Loss: 104.6484 | Accuracy : 52.50%\n",
            "Epoch   8 | Training Loss: 41.2910 | Accuracy : 91.01%\n",
            "Epoch   8 | Validation Loss: 109.3677 | Accuracy : 51.64%\n",
            "Epoch   9 | Training Loss: 40.1689 | Accuracy : 91.00%\n",
            "Epoch   9 | Validation Loss: 113.3196 | Accuracy : 51.44%\n",
            "Epoch  10 | Training Loss: 42.6672 | Accuracy : 89.58%\n",
            "Epoch  10 | Validation Loss: 116.8224 | Accuracy : 51.54%\n",
            "Epoch  11 | Training Loss: 42.0335 | Accuracy : 90.13%\n",
            "Epoch  11 | Validation Loss: 113.9831 | Accuracy : 51.73%\n",
            "Epoch  12 | Training Loss: 38.2631 | Accuracy : 91.42%\n",
            "Epoch  12 | Validation Loss: 118.3714 | Accuracy : 51.72%\n",
            "Epoch  13 | Training Loss: 34.9137 | Accuracy : 94.08%\n",
            "Epoch  13 | Validation Loss: 116.2449 | Accuracy : 52.26%\n",
            "Epoch  14 | Training Loss: 32.6439 | Accuracy : 92.30%\n",
            "Epoch  14 | Validation Loss: 122.0944 | Accuracy : 51.45%\n",
            "Epoch  15 | Training Loss: 34.9210 | Accuracy : 92.85%\n",
            "Epoch  15 | Validation Loss: 121.9607 | Accuracy : 50.84%\n",
            "Epoch  16 | Training Loss: 33.4699 | Accuracy : 91.81%\n",
            "Epoch  16 | Validation Loss: 129.2283 | Accuracy : 51.20%\n",
            "Epoch  17 | Training Loss: 33.6731 | Accuracy : 91.90%\n",
            "Epoch  17 | Validation Loss: 129.6487 | Accuracy : 50.74%\n",
            "Epoch  18 | Training Loss: 34.7133 | Accuracy : 94.14%\n",
            "Epoch  18 | Validation Loss: 129.3864 | Accuracy : 51.43%\n",
            "Epoch  19 | Training Loss: 28.3677 | Accuracy : 93.46%\n",
            "Epoch  19 | Validation Loss: 134.5646 | Accuracy : 51.58%\n",
            "Epoch  20 | Training Loss: 33.3208 | Accuracy : 94.98%\n",
            "Epoch  20 | Validation Loss: 130.0470 | Accuracy : 51.77%\n",
            "Epoch  21 | Training Loss: 33.2869 | Accuracy : 92.97%\n",
            "Epoch  21 | Validation Loss: 133.9188 | Accuracy : 51.59%\n",
            "Epoch  22 | Training Loss: 32.7856 | Accuracy : 94.45%\n",
            "Epoch  22 | Validation Loss: 134.2480 | Accuracy : 51.67%\n",
            "Epoch  23 | Training Loss: 27.4280 | Accuracy : 94.12%\n",
            "Epoch  23 | Validation Loss: 137.7680 | Accuracy : 51.60%\n",
            "Epoch  24 | Training Loss: 24.3630 | Accuracy : 95.28%\n",
            "Epoch  24 | Validation Loss: 143.9975 | Accuracy : 51.30%\n",
            "Epoch  25 | Training Loss: 23.5573 | Accuracy : 93.53%\n",
            "Epoch  25 | Validation Loss: 146.9686 | Accuracy : 51.06%\n",
            "Epoch  26 | Training Loss: 31.2845 | Accuracy : 94.14%\n",
            "Epoch  26 | Validation Loss: 141.6634 | Accuracy : 51.32%\n",
            "Epoch  27 | Training Loss: 28.0612 | Accuracy : 95.87%\n",
            "Epoch  27 | Validation Loss: 142.6339 | Accuracy : 51.98%\n",
            "Epoch  28 | Training Loss: 26.9191 | Accuracy : 94.84%\n",
            "Epoch  28 | Validation Loss: 146.6232 | Accuracy : 51.36%\n",
            "Epoch  29 | Training Loss: 28.3907 | Accuracy : 92.04%\n",
            "Epoch  29 | Validation Loss: 152.2552 | Accuracy : 50.45%\n",
            "Epoch  30 | Training Loss: 27.4196 | Accuracy : 94.21%\n",
            "Epoch  30 | Validation Loss: 157.2624 | Accuracy : 51.18%\n",
            "Epoch  31 | Training Loss: 26.5352 | Accuracy : 95.16%\n",
            "Epoch  31 | Validation Loss: 151.7960 | Accuracy : 51.59%\n",
            "Epoch  32 | Training Loss: 22.4492 | Accuracy : 96.10%\n",
            "Epoch  32 | Validation Loss: 152.2167 | Accuracy : 51.53%\n",
            "Epoch  33 | Training Loss: 17.6008 | Accuracy : 96.37%\n",
            "Epoch  33 | Validation Loss: 156.9458 | Accuracy : 50.84%\n",
            "Epoch  34 | Training Loss: 15.2671 | Accuracy : 97.04%\n",
            "Epoch  34 | Validation Loss: 158.4923 | Accuracy : 51.58%\n",
            "Epoch  35 | Training Loss: 17.3321 | Accuracy : 93.84%\n",
            "Epoch  35 | Validation Loss: 165.0408 | Accuracy : 51.29%\n",
            "Epoch  36 | Training Loss: 36.1011 | Accuracy : 93.64%\n",
            "Epoch  36 | Validation Loss: 157.4025 | Accuracy : 51.17%\n",
            "Epoch  37 | Training Loss: 31.5791 | Accuracy : 91.52%\n",
            "Epoch  37 | Validation Loss: 165.5775 | Accuracy : 50.03%\n",
            "Epoch  38 | Training Loss: 26.2942 | Accuracy : 95.16%\n",
            "Epoch  38 | Validation Loss: 167.0887 | Accuracy : 50.60%\n",
            "Epoch  39 | Training Loss: 21.5155 | Accuracy : 95.41%\n",
            "Epoch  39 | Validation Loss: 168.0243 | Accuracy : 51.30%\n",
            "Epoch  40 | Training Loss: 19.9451 | Accuracy : 97.17%\n",
            "Epoch  40 | Validation Loss: 169.7768 | Accuracy : 51.82%\n",
            "Epoch  41 | Training Loss: 14.8837 | Accuracy : 97.55%\n",
            "Epoch  41 | Validation Loss: 168.3143 | Accuracy : 51.71%\n",
            "Epoch  42 | Training Loss: 12.7146 | Accuracy : 97.75%\n",
            "Epoch  42 | Validation Loss: 170.7407 | Accuracy : 50.85%\n",
            "Epoch  43 | Training Loss: 11.2302 | Accuracy : 98.40%\n",
            "Epoch  43 | Validation Loss: 171.0656 | Accuracy : 51.94%\n",
            "Epoch  44 | Training Loss: 14.9698 | Accuracy : 96.82%\n",
            "Epoch  44 | Validation Loss: 177.0993 | Accuracy : 51.06%\n",
            "Epoch  45 | Training Loss: 29.7274 | Accuracy : 88.31%\n",
            "Epoch  45 | Validation Loss: 187.0361 | Accuracy : 49.56%\n",
            "Epoch  46 | Training Loss: 44.1759 | Accuracy : 91.93%\n",
            "Epoch  46 | Validation Loss: 179.0429 | Accuracy : 49.97%\n",
            "Epoch  47 | Training Loss: 30.0032 | Accuracy : 95.59%\n",
            "Epoch  47 | Validation Loss: 181.2598 | Accuracy : 50.93%\n",
            "Epoch  48 | Training Loss: 18.8132 | Accuracy : 97.08%\n",
            "Epoch  48 | Validation Loss: 178.2245 | Accuracy : 50.66%\n",
            "Epoch  49 | Training Loss: 17.3243 | Accuracy : 95.90%\n",
            "Epoch  49 | Validation Loss: 186.6021 | Accuracy : 51.00%\n",
            "Epoch   0 | Training Loss: 314.0798 | Accuracy : 33.92%\n",
            "Epoch   0 | Validation Loss: 74.5004 | Accuracy : 33.50%\n",
            "Epoch   1 | Training Loss: 278.1251 | Accuracy : 39.30%\n",
            "Epoch   1 | Validation Loss: 68.8168 | Accuracy : 38.32%\n",
            "Epoch   2 | Training Loss: 261.0724 | Accuracy : 41.40%\n",
            "Epoch   2 | Validation Loss: 67.2694 | Accuracy : 40.32%\n",
            "Epoch   3 | Training Loss: 251.5193 | Accuracy : 44.91%\n",
            "Epoch   3 | Validation Loss: 64.5310 | Accuracy : 42.77%\n",
            "Epoch   4 | Training Loss: 243.9937 | Accuracy : 45.63%\n",
            "Epoch   4 | Validation Loss: 63.9981 | Accuracy : 42.96%\n",
            "Epoch   5 | Training Loss: 239.0059 | Accuracy : 46.79%\n",
            "Epoch   5 | Validation Loss: 62.7695 | Accuracy : 43.71%\n",
            "Epoch   6 | Training Loss: 232.9022 | Accuracy : 45.41%\n",
            "Epoch   6 | Validation Loss: 64.8947 | Accuracy : 42.81%\n",
            "Epoch   7 | Training Loss: 228.4006 | Accuracy : 48.84%\n",
            "Epoch   7 | Validation Loss: 61.5744 | Accuracy : 46.21%\n",
            "Epoch   8 | Training Loss: 224.5819 | Accuracy : 50.56%\n",
            "Epoch   8 | Validation Loss: 59.8343 | Accuracy : 47.04%\n",
            "Epoch   9 | Training Loss: 219.8022 | Accuracy : 50.13%\n",
            "Epoch   9 | Validation Loss: 60.7804 | Accuracy : 46.34%\n",
            "Epoch  10 | Training Loss: 214.9271 | Accuracy : 49.77%\n",
            "Epoch  10 | Validation Loss: 62.3171 | Accuracy : 45.71%\n",
            "Epoch  11 | Training Loss: 212.5209 | Accuracy : 53.41%\n",
            "Epoch  11 | Validation Loss: 58.7507 | Accuracy : 48.27%\n",
            "Epoch  12 | Training Loss: 207.3114 | Accuracy : 53.44%\n",
            "Epoch  12 | Validation Loss: 58.6260 | Accuracy : 48.25%\n",
            "Epoch  13 | Training Loss: 206.4474 | Accuracy : 53.47%\n",
            "Epoch  13 | Validation Loss: 59.1479 | Accuracy : 48.12%\n",
            "Epoch  14 | Training Loss: 200.9755 | Accuracy : 54.88%\n",
            "Epoch  14 | Validation Loss: 57.9333 | Accuracy : 49.32%\n",
            "Epoch  15 | Training Loss: 198.2481 | Accuracy : 56.81%\n",
            "Epoch  15 | Validation Loss: 57.1354 | Accuracy : 49.90%\n",
            "Epoch  16 | Training Loss: 195.8947 | Accuracy : 56.89%\n",
            "Epoch  16 | Validation Loss: 56.7682 | Accuracy : 50.59%\n",
            "Epoch  17 | Training Loss: 191.0851 | Accuracy : 55.50%\n",
            "Epoch  17 | Validation Loss: 59.7330 | Accuracy : 48.17%\n",
            "Epoch  18 | Training Loss: 189.5552 | Accuracy : 57.98%\n",
            "Epoch  18 | Validation Loss: 57.0419 | Accuracy : 50.13%\n",
            "Epoch  19 | Training Loss: 187.2098 | Accuracy : 57.91%\n",
            "Epoch  19 | Validation Loss: 58.4612 | Accuracy : 49.49%\n",
            "Epoch  20 | Training Loss: 184.7677 | Accuracy : 57.45%\n",
            "Epoch  20 | Validation Loss: 58.2099 | Accuracy : 49.23%\n",
            "Epoch  21 | Training Loss: 182.0974 | Accuracy : 60.05%\n",
            "Epoch  21 | Validation Loss: 56.5564 | Accuracy : 51.20%\n",
            "Epoch  22 | Training Loss: 178.6430 | Accuracy : 57.89%\n",
            "Epoch  22 | Validation Loss: 59.4292 | Accuracy : 49.57%\n",
            "Epoch  23 | Training Loss: 174.9032 | Accuracy : 60.34%\n",
            "Epoch  23 | Validation Loss: 58.3189 | Accuracy : 50.72%\n",
            "Epoch  24 | Training Loss: 173.7293 | Accuracy : 61.37%\n",
            "Epoch  24 | Validation Loss: 57.6935 | Accuracy : 50.88%\n",
            "Epoch  25 | Training Loss: 169.0055 | Accuracy : 60.39%\n",
            "Epoch  25 | Validation Loss: 59.3215 | Accuracy : 49.63%\n",
            "Epoch  26 | Training Loss: 167.5556 | Accuracy : 63.04%\n",
            "Epoch  26 | Validation Loss: 57.8598 | Accuracy : 50.86%\n",
            "Epoch  27 | Training Loss: 162.1476 | Accuracy : 63.94%\n",
            "Epoch  27 | Validation Loss: 57.8726 | Accuracy : 50.76%\n",
            "Epoch  28 | Training Loss: 162.7382 | Accuracy : 61.74%\n",
            "Epoch  28 | Validation Loss: 60.2591 | Accuracy : 49.39%\n",
            "Epoch  29 | Training Loss: 156.9930 | Accuracy : 64.70%\n",
            "Epoch  29 | Validation Loss: 58.3947 | Accuracy : 51.18%\n",
            "Epoch  30 | Training Loss: 155.6324 | Accuracy : 64.57%\n",
            "Epoch  30 | Validation Loss: 60.3429 | Accuracy : 50.73%\n",
            "Epoch  31 | Training Loss: 153.3717 | Accuracy : 66.72%\n",
            "Epoch  31 | Validation Loss: 57.8585 | Accuracy : 52.09%\n",
            "Epoch  32 | Training Loss: 150.1247 | Accuracy : 67.20%\n",
            "Epoch  32 | Validation Loss: 59.3902 | Accuracy : 52.15%\n",
            "Epoch  33 | Training Loss: 149.6216 | Accuracy : 66.74%\n",
            "Epoch  33 | Validation Loss: 60.2272 | Accuracy : 52.11%\n",
            "Epoch  34 | Training Loss: 146.7195 | Accuracy : 68.57%\n",
            "Epoch  34 | Validation Loss: 58.2396 | Accuracy : 51.96%\n",
            "Epoch  35 | Training Loss: 142.1801 | Accuracy : 66.50%\n",
            "Epoch  35 | Validation Loss: 61.7190 | Accuracy : 50.02%\n",
            "Epoch  36 | Training Loss: 141.5740 | Accuracy : 70.01%\n",
            "Epoch  36 | Validation Loss: 59.3097 | Accuracy : 52.32%\n",
            "Epoch  37 | Training Loss: 138.1800 | Accuracy : 70.05%\n",
            "Epoch  37 | Validation Loss: 60.6312 | Accuracy : 51.64%\n",
            "Epoch  38 | Training Loss: 136.3366 | Accuracy : 69.59%\n",
            "Epoch  38 | Validation Loss: 59.9252 | Accuracy : 52.11%\n",
            "Epoch  39 | Training Loss: 133.3623 | Accuracy : 68.97%\n",
            "Epoch  39 | Validation Loss: 63.9157 | Accuracy : 50.31%\n",
            "Epoch  40 | Training Loss: 130.1711 | Accuracy : 69.76%\n",
            "Epoch  40 | Validation Loss: 63.7211 | Accuracy : 50.38%\n",
            "Epoch  41 | Training Loss: 127.2394 | Accuracy : 73.57%\n",
            "Epoch  41 | Validation Loss: 61.2015 | Accuracy : 52.16%\n",
            "Epoch  42 | Training Loss: 124.8264 | Accuracy : 71.47%\n",
            "Epoch  42 | Validation Loss: 64.2813 | Accuracy : 51.37%\n",
            "Epoch  43 | Training Loss: 124.3456 | Accuracy : 71.68%\n",
            "Epoch  43 | Validation Loss: 64.5535 | Accuracy : 50.30%\n",
            "Epoch  44 | Training Loss: 122.4980 | Accuracy : 75.13%\n",
            "Epoch  44 | Validation Loss: 62.5838 | Accuracy : 52.82%\n",
            "Epoch  45 | Training Loss: 118.6493 | Accuracy : 72.75%\n",
            "Epoch  45 | Validation Loss: 66.3417 | Accuracy : 50.82%\n",
            "Epoch  46 | Training Loss: 115.7501 | Accuracy : 73.56%\n",
            "Epoch  46 | Validation Loss: 65.7784 | Accuracy : 51.22%\n",
            "Epoch  47 | Training Loss: 114.2649 | Accuracy : 75.06%\n",
            "Epoch  47 | Validation Loss: 65.1499 | Accuracy : 51.72%\n",
            "Epoch  48 | Training Loss: 112.3064 | Accuracy : 76.67%\n",
            "Epoch  48 | Validation Loss: 65.5801 | Accuracy : 52.48%\n",
            "Epoch  49 | Training Loss: 109.8314 | Accuracy : 74.56%\n",
            "Epoch  49 | Validation Loss: 69.5854 | Accuracy : 51.26%\n"
          ]
        }
      ],
      "source": [
        "# PLOT2\n",
        "leaky_ReLU_train_accuracies, _ = train_and_validate(model_leaky_ReLU, optimizer_adam)\n",
        "sigmoid_train_accuracies, _ = train_and_validate(model_sigmoid, optimizer_adam_sigmoid)"
      ]
    },
    {
      "cell_type": "code",
      "execution_count": 14,
      "metadata": {},
      "outputs": [
        {
          "data": {
            "image/png": "[encoded data removed]",
            "text/plain": [
              "<Figure size 640x480 with 1 Axes>"
            ]
          },
          "metadata": {},
          "output_type": "display_data"
        }
      ],
      "source": [
        "# PLOT2\n",
        "plot_acc(leaky_ReLU_train_accuracies,sigmoid_train_accuracies,'leaky_ReLU','sigmoid')"
      ]
    },
    {
      "cell_type": "code",
      "execution_count": 15,
      "metadata": {},
      "outputs": [
        {
          "name": "stdout",
          "output_type": "stream",
          "text": [
            "Epoch   0 | Training Loss: 302.0485 | Accuracy : 34.80%\n",
            "Epoch   0 | Validation Loss: 72.2186 | Accuracy : 34.29%\n",
            "Epoch   1 | Training Loss: 268.0507 | Accuracy : 39.69%\n",
            "Epoch   1 | Validation Loss: 69.0974 | Accuracy : 39.04%\n",
            "Epoch   2 | Training Loss: 256.6968 | Accuracy : 42.97%\n",
            "Epoch   2 | Validation Loss: 64.7300 | Accuracy : 42.65%\n",
            "Epoch   3 | Training Loss: 245.8957 | Accuracy : 41.74%\n",
            "Epoch   3 | Validation Loss: 66.0438 | Accuracy : 41.21%\n",
            "Epoch   4 | Training Loss: 241.0470 | Accuracy : 45.11%\n",
            "Epoch   4 | Validation Loss: 62.9415 | Accuracy : 44.22%\n",
            "Epoch   5 | Training Loss: 235.9455 | Accuracy : 45.37%\n",
            "Epoch   5 | Validation Loss: 62.9243 | Accuracy : 44.15%\n",
            "Epoch   6 | Training Loss: 231.7098 | Accuracy : 49.36%\n",
            "Epoch   6 | Validation Loss: 59.6147 | Accuracy : 47.67%\n",
            "Epoch   7 | Training Loss: 227.2476 | Accuracy : 47.55%\n",
            "Epoch   7 | Validation Loss: 61.4049 | Accuracy : 45.49%\n",
            "Epoch   8 | Training Loss: 224.0357 | Accuracy : 46.88%\n",
            "Epoch   8 | Validation Loss: 63.0784 | Accuracy : 44.54%\n",
            "Epoch   9 | Training Loss: 220.3781 | Accuracy : 49.21%\n",
            "Epoch   9 | Validation Loss: 60.2949 | Accuracy : 47.08%\n",
            "Epoch  10 | Training Loss: 217.1689 | Accuracy : 51.74%\n",
            "Epoch  10 | Validation Loss: 58.2233 | Accuracy : 49.21%\n",
            "Epoch  11 | Training Loss: 212.8304 | Accuracy : 48.23%\n",
            "Epoch  11 | Validation Loss: 63.3829 | Accuracy : 46.01%\n",
            "Epoch  12 | Training Loss: 210.5342 | Accuracy : 53.66%\n",
            "Epoch  12 | Validation Loss: 56.2548 | Accuracy : 51.06%\n",
            "Epoch  13 | Training Loss: 207.2119 | Accuracy : 54.12%\n",
            "Epoch  13 | Validation Loss: 56.7541 | Accuracy : 50.91%\n",
            "Epoch  14 | Training Loss: 203.9339 | Accuracy : 54.87%\n",
            "Epoch  14 | Validation Loss: 56.3879 | Accuracy : 50.57%\n",
            "Epoch  15 | Training Loss: 200.8132 | Accuracy : 54.33%\n",
            "Epoch  15 | Validation Loss: 57.0257 | Accuracy : 50.50%\n",
            "Epoch  16 | Training Loss: 197.9043 | Accuracy : 55.43%\n",
            "Epoch  16 | Validation Loss: 56.4516 | Accuracy : 50.38%\n",
            "Epoch  17 | Training Loss: 195.4909 | Accuracy : 55.95%\n",
            "Epoch  17 | Validation Loss: 57.2798 | Accuracy : 50.76%\n",
            "Epoch  18 | Training Loss: 191.1436 | Accuracy : 56.88%\n",
            "Epoch  18 | Validation Loss: 55.7630 | Accuracy : 51.81%\n",
            "Epoch  19 | Training Loss: 189.8089 | Accuracy : 58.32%\n",
            "Epoch  19 | Validation Loss: 55.2543 | Accuracy : 51.87%\n",
            "Epoch  20 | Training Loss: 187.3797 | Accuracy : 58.81%\n",
            "Epoch  20 | Validation Loss: 54.3712 | Accuracy : 52.62%\n",
            "Epoch  21 | Training Loss: 184.6751 | Accuracy : 58.31%\n",
            "Epoch  21 | Validation Loss: 55.7902 | Accuracy : 51.81%\n",
            "Epoch  22 | Training Loss: 181.8602 | Accuracy : 58.94%\n",
            "Epoch  22 | Validation Loss: 55.8595 | Accuracy : 51.86%\n",
            "Epoch  23 | Training Loss: 179.1734 | Accuracy : 59.23%\n",
            "Epoch  23 | Validation Loss: 56.6171 | Accuracy : 51.93%\n",
            "Epoch  24 | Training Loss: 176.2078 | Accuracy : 60.33%\n",
            "Epoch  24 | Validation Loss: 56.8960 | Accuracy : 51.74%\n",
            "Epoch  25 | Training Loss: 174.8406 | Accuracy : 61.41%\n",
            "Epoch  25 | Validation Loss: 55.3789 | Accuracy : 52.44%\n",
            "Epoch  26 | Training Loss: 170.5776 | Accuracy : 61.02%\n",
            "Epoch  26 | Validation Loss: 56.4799 | Accuracy : 52.59%\n",
            "Epoch  27 | Training Loss: 169.9226 | Accuracy : 62.34%\n",
            "Epoch  27 | Validation Loss: 56.3198 | Accuracy : 52.16%\n",
            "Epoch  28 | Training Loss: 167.4284 | Accuracy : 63.22%\n",
            "Epoch  28 | Validation Loss: 56.1939 | Accuracy : 53.34%\n",
            "Epoch  29 | Training Loss: 165.1542 | Accuracy : 63.45%\n",
            "Epoch  29 | Validation Loss: 56.1850 | Accuracy : 52.91%\n",
            "Epoch  30 | Training Loss: 162.8334 | Accuracy : 63.38%\n",
            "Epoch  30 | Validation Loss: 56.9769 | Accuracy : 52.39%\n",
            "Epoch  31 | Training Loss: 159.3952 | Accuracy : 63.34%\n",
            "Epoch  31 | Validation Loss: 57.6456 | Accuracy : 51.67%\n",
            "Epoch  32 | Training Loss: 158.0236 | Accuracy : 65.05%\n",
            "Epoch  32 | Validation Loss: 56.5072 | Accuracy : 52.77%\n",
            "Epoch  33 | Training Loss: 154.8820 | Accuracy : 65.66%\n",
            "Epoch  33 | Validation Loss: 57.2245 | Accuracy : 52.99%\n",
            "Epoch  34 | Training Loss: 151.9527 | Accuracy : 64.94%\n",
            "Epoch  34 | Validation Loss: 58.2960 | Accuracy : 52.77%\n",
            "Epoch  35 | Training Loss: 150.9666 | Accuracy : 65.72%\n",
            "Epoch  35 | Validation Loss: 57.4367 | Accuracy : 53.16%\n",
            "Epoch  36 | Training Loss: 147.8595 | Accuracy : 66.72%\n",
            "Epoch  36 | Validation Loss: 58.0793 | Accuracy : 53.21%\n",
            "Epoch  37 | Training Loss: 146.4130 | Accuracy : 68.04%\n",
            "Epoch  37 | Validation Loss: 57.9268 | Accuracy : 53.63%\n",
            "Epoch  38 | Training Loss: 144.6132 | Accuracy : 69.93%\n",
            "Epoch  38 | Validation Loss: 56.8506 | Accuracy : 54.36%\n",
            "Epoch  39 | Training Loss: 143.5646 | Accuracy : 67.08%\n",
            "Epoch  39 | Validation Loss: 60.2479 | Accuracy : 52.92%\n",
            "Epoch  40 | Training Loss: 140.6725 | Accuracy : 69.39%\n",
            "Epoch  40 | Validation Loss: 58.5263 | Accuracy : 53.61%\n",
            "Epoch  41 | Training Loss: 137.6394 | Accuracy : 70.05%\n",
            "Epoch  41 | Validation Loss: 58.6131 | Accuracy : 53.55%\n",
            "Epoch  42 | Training Loss: 134.5837 | Accuracy : 68.42%\n",
            "Epoch  42 | Validation Loss: 60.7849 | Accuracy : 52.47%\n",
            "Epoch  43 | Training Loss: 135.3600 | Accuracy : 70.05%\n",
            "Epoch  43 | Validation Loss: 59.9386 | Accuracy : 53.03%\n",
            "Epoch  44 | Training Loss: 133.5447 | Accuracy : 69.69%\n",
            "Epoch  44 | Validation Loss: 62.4986 | Accuracy : 52.98%\n",
            "Epoch  45 | Training Loss: 132.5191 | Accuracy : 69.90%\n",
            "Epoch  45 | Validation Loss: 62.5501 | Accuracy : 53.10%\n",
            "Epoch  46 | Training Loss: 129.2710 | Accuracy : 72.27%\n",
            "Epoch  46 | Validation Loss: 61.3839 | Accuracy : 54.04%\n",
            "Epoch  47 | Training Loss: 127.0024 | Accuracy : 72.31%\n",
            "Epoch  47 | Validation Loss: 60.4823 | Accuracy : 53.42%\n",
            "Epoch  48 | Training Loss: 125.6075 | Accuracy : 72.30%\n",
            "Epoch  48 | Validation Loss: 61.4401 | Accuracy : 54.15%\n",
            "Epoch  49 | Training Loss: 124.7645 | Accuracy : 72.93%\n",
            "Epoch  49 | Validation Loss: 62.8463 | Accuracy : 53.58%\n"
          ]
        }
      ],
      "source": [
        "# PLOT3\n",
        "dropout_train_accuracies,dropout_validate_accuracies = train_and_validate(model_leaky_ReLU_dropout, optimizer_dropout)"
      ]
    },
    {
      "cell_type": "code",
      "execution_count": 16,
      "metadata": {},
      "outputs": [
        {
          "data": {
            "image/png": "[encoded data removed]",
            "text/plain": [
              "<Figure size 640x480 with 1 Axes>"
            ]
          },
          "metadata": {},
          "output_type": "display_data"
        }
      ],
      "source": [
        "# PLOT3\n",
        "plot_acc(dropout_train_accuracies,dropout_validate_accuracies,'train','validate ')"
      ]
    }
  ],
  "metadata": {
    "accelerator": "GPU",
    "colab": {
      "gpuType": "T4",
      "include_colab_link": true,
      "provenance": []
    },
    "kernelspec": {
      "display_name": "Python 3",
      "name": "python3"
    },
    "language_info": {
      "codemirror_mode": {
        "name": "ipython",
        "version": 3
      },
      "file_extension": ".py",
      "mimetype": "text/x-python",
      "name": "python",
      "nbconvert_exporter": "python",
      "pygments_lexer": "ipython3",
      "version": "3.12.4"
    }
  },
  "nbformat": 4,
  "nbformat_minor": 0
}
